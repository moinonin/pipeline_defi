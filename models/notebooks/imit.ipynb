{
 "cells": [
  {
   "cell_type": "code",
   "execution_count": 1,
   "id": "4370ea80-39ed-4ed1-8f97-72b9f4f18e94",
   "metadata": {
    "execution": {
     "iopub.execute_input": "2024-11-25T11:00:35.229388Z",
     "iopub.status.busy": "2024-11-25T11:00:35.229088Z",
     "iopub.status.idle": "2024-11-25T11:00:35.758138Z",
     "shell.execute_reply": "2024-11-25T11:00:35.757584Z"
    }
   },
   "outputs": [],
   "source": [
    "import pandas as pd\n",
    "import numpy as np\n",
    "#from sklearn.multiclass import OneVsRestClassifier\n",
    "from sklearn.model_selection import GridSearchCV, train_test_split\n",
    "from sklearn.preprocessing import LabelEncoder\n",
    "from sklearn.ensemble import RandomForestClassifier\n",
    "from sklearn.metrics import classification_report, accuracy_score\n",
    "#from sklearn.metrics import make_scorer, f1_score\n",
    "import joblib\n",
    "#from sklearn.datasets import make_classification\n",
    "#from sklearn.neighbors import VALID_METRICS\n",
    "#import warnings"
   ]
  },
  {
   "cell_type": "code",
   "execution_count": null,
   "id": "3a6e6960-2ee8-453f-975f-bbebad794f22",
   "metadata": {},
   "outputs": [],
   "source": []
  },
  {
   "cell_type": "code",
   "execution_count": null,
   "id": "a859b0ed-1106-447c-ada4-e803ff5fe57e",
   "metadata": {},
   "outputs": [],
   "source": []
  },
  {
   "cell_type": "code",
   "execution_count": 2,
   "id": "e2538d78-088e-4d75-afd5-c5ddf7de4d41",
   "metadata": {
    "execution": {
     "iopub.execute_input": "2024-11-25T11:00:35.760050Z",
     "iopub.status.busy": "2024-11-25T11:00:35.759620Z",
     "iopub.status.idle": "2024-11-25T11:00:35.778490Z",
     "shell.execute_reply": "2024-11-25T11:00:35.777989Z"
    }
   },
   "outputs": [],
   "source": [
    "#df = pd.read_csv('clean_data/imitate_06.csv')\n",
    "df_2 = pd.read_csv('/home/defi/Desktop/portfolio/projects/python/pipeline_defi/clean_data/imitate_01.csv')"
   ]
  },
  {
   "cell_type": "code",
   "execution_count": null,
   "id": "b522334e-4a89-4d16-a0a3-f9885328f0cb",
   "metadata": {},
   "outputs": [],
   "source": []
  },
  {
   "cell_type": "code",
   "execution_count": 3,
   "id": "0083852f-5f07-4be2-b9bb-c6f12b9a78e0",
   "metadata": {
    "execution": {
     "iopub.execute_input": "2024-11-25T11:00:35.779950Z",
     "iopub.status.busy": "2024-11-25T11:00:35.779626Z",
     "iopub.status.idle": "2024-11-25T11:00:35.781975Z",
     "shell.execute_reply": "2024-11-25T11:00:35.781531Z"
    }
   },
   "outputs": [],
   "source": [
    "#df_2[pd.isna(df_2['action']) == True]"
   ]
  },
  {
   "cell_type": "code",
   "execution_count": 4,
   "id": "ffa208fc-e0ff-4dfc-a2b8-66fd2b0d1f70",
   "metadata": {
    "execution": {
     "iopub.execute_input": "2024-11-25T11:00:35.783148Z",
     "iopub.status.busy": "2024-11-25T11:00:35.782885Z",
     "iopub.status.idle": "2024-11-25T11:00:35.785067Z",
     "shell.execute_reply": "2024-11-25T11:00:35.784624Z"
    }
   },
   "outputs": [],
   "source": [
    "#df_2.head()"
   ]
  },
  {
   "cell_type": "code",
   "execution_count": 5,
   "id": "4d70cc60-e190-4971-8648-fa78e65029e0",
   "metadata": {
    "execution": {
     "iopub.execute_input": "2024-11-25T11:00:35.786227Z",
     "iopub.status.busy": "2024-11-25T11:00:35.785961Z",
     "iopub.status.idle": "2024-11-25T11:00:35.794763Z",
     "shell.execute_reply": "2024-11-25T11:00:35.794300Z"
    }
   },
   "outputs": [
    {
     "name": "stdout",
     "output_type": "stream",
     "text": [
      "   Unnamed:       open       high       ema-26       ema-12        low  \\\n",
      "0         0     0.1053     0.1082     0.111020     0.114582     0.1036   \n",
      "1         1     0.5626     0.5628     0.565415     0.569044     0.5560   \n",
      "2         2     3.8980     3.9170     3.941866     4.104236     3.5840   \n",
      "3         3     1.6557     1.6564     1.669565     1.684939     1.6070   \n",
      "4         4  2208.6400  2213.7500  2228.503599  2258.054308  2185.0000   \n",
      "\n",
      "   mean-grad-hist      close        volume       sma-25  long_jcrosk  \\\n",
      "0               1     0.1053  1.447283e+07     0.113416            0   \n",
      "1               1     0.5580  1.370656e+07     0.571264            0   \n",
      "2               1     3.6900  7.128372e+06     4.084040            0   \n",
      "3               1     1.6121  5.048200e+05     1.679948            0   \n",
      "4               1  2208.9900  2.032304e+05  2257.192400            0   \n",
      "\n",
      "   short_kdj      action  \n",
      "0          0  do_nothing  \n",
      "1          0  do_nothing  \n",
      "2          0  do_nothing  \n",
      "3          0  do_nothing  \n",
      "4          0  do_nothing  \n"
     ]
    }
   ],
   "source": [
    "train_data = pd.DataFrame()\n",
    "for col in df_2.columns:\n",
    "    col_name = col.split(' ')[0]\n",
    "    train_data[f'{col_name}'] = df_2[col]\n",
    "print(train_data.head())\n",
    "\n",
    "train = train_data"
   ]
  },
  {
   "cell_type": "code",
   "execution_count": 6,
   "id": "0fd7eef4-4d71-436c-8c27-39b0c6e517e7",
   "metadata": {
    "execution": {
     "iopub.execute_input": "2024-11-25T11:00:35.796003Z",
     "iopub.status.busy": "2024-11-25T11:00:35.795722Z",
     "iopub.status.idle": "2024-11-25T11:00:35.797925Z",
     "shell.execute_reply": "2024-11-25T11:00:35.797477Z"
    }
   },
   "outputs": [],
   "source": [
    "#train.columns"
   ]
  },
  {
   "cell_type": "code",
   "execution_count": 7,
   "id": "0b47b415-afaa-4b37-a2db-0c88662f8f56",
   "metadata": {
    "execution": {
     "iopub.execute_input": "2024-11-25T11:00:35.799068Z",
     "iopub.status.busy": "2024-11-25T11:00:35.798813Z",
     "iopub.status.idle": "2024-11-25T11:00:35.801001Z",
     "shell.execute_reply": "2024-11-25T11:00:35.800553Z"
    }
   },
   "outputs": [],
   "source": [
    "#train.drop(['Unnamed:'], axis=1, inplace=True)"
   ]
  },
  {
   "cell_type": "code",
   "execution_count": 8,
   "id": "b39cba5b-d4e9-450a-bca7-58c3b5cb3584",
   "metadata": {
    "execution": {
     "iopub.execute_input": "2024-11-25T11:00:35.802125Z",
     "iopub.status.busy": "2024-11-25T11:00:35.801872Z",
     "iopub.status.idle": "2024-11-25T11:00:35.805485Z",
     "shell.execute_reply": "2024-11-25T11:00:35.805020Z"
    }
   },
   "outputs": [
    {
     "name": "stdout",
     "output_type": "stream",
     "text": [
      "Action value counts:\n",
      " action\n",
      "go_short      15020\n",
      "go_long         697\n",
      "do_nothing      639\n",
      "Name: count, dtype: int64\n"
     ]
    }
   ],
   "source": [
    "print(f\"Action value counts:\\n {train['action'].value_counts()}\")"
   ]
  },
  {
   "cell_type": "code",
   "execution_count": 9,
   "id": "76a8d625-0be6-4a19-b505-091fc181ae17",
   "metadata": {
    "execution": {
     "iopub.execute_input": "2024-11-25T11:00:35.806695Z",
     "iopub.status.busy": "2024-11-25T11:00:35.806439Z",
     "iopub.status.idle": "2024-11-25T11:00:35.895479Z",
     "shell.execute_reply": "2024-11-25T11:00:35.894905Z"
    }
   },
   "outputs": [],
   "source": [
    "train.to_csv('/home/defi/Desktop/portfolio/projects/python/pipeline_defi/clean_data/imitate_07.csv')\n",
    "#!pwd"
   ]
  },
  {
   "cell_type": "code",
   "execution_count": 10,
   "id": "b2dc24b4-97da-46a2-8f7e-407963743d8f",
   "metadata": {
    "execution": {
     "iopub.execute_input": "2024-11-25T11:00:35.897138Z",
     "iopub.status.busy": "2024-11-25T11:00:35.896904Z",
     "iopub.status.idle": "2024-11-25T11:00:35.903124Z",
     "shell.execute_reply": "2024-11-25T11:00:35.902667Z"
    }
   },
   "outputs": [
    {
     "data": {
      "text/plain": [
       "action\n",
       "go_short      False\n",
       "go_long       False\n",
       "do_nothing    False\n",
       "Name: count, dtype: bool"
      ]
     },
     "execution_count": 10,
     "metadata": {},
     "output_type": "execute_result"
    }
   ],
   "source": [
    "pd.isna(train['action'].value_counts())"
   ]
  },
  {
   "cell_type": "code",
   "execution_count": 11,
   "id": "8e896b27-8313-4a71-8498-16de43b4031c",
   "metadata": {
    "execution": {
     "iopub.execute_input": "2024-11-25T11:00:35.904287Z",
     "iopub.status.busy": "2024-11-25T11:00:35.904164Z",
     "iopub.status.idle": "2024-11-25T11:00:35.929799Z",
     "shell.execute_reply": "2024-11-25T11:00:35.929322Z"
    }
   },
   "outputs": [],
   "source": [
    "# import the remaining ml libs\n",
    "'''\n",
    "from sklearn.linear_model import LogisticRegression, LinearRegression, SGDClassifier, SGDRegressor\n",
    "from sklearn.calibration import CalibratedClassifierCV, calibration_curve\n",
    "from sklearn.svm import SVR\n",
    "from sklearn.neighbors import KNeighborsClassifier\n",
    "#from sklearn.tree import DecisionTreeClassifier\n",
    "from sklearn.tree import DecisionTreeClassifier\n",
    "from sklearn.naive_bayes import GaussianNB, MultinomialNB, ComplementNB\n",
    "from sklearn.neural_network import MLPClassifier\n",
    "from sklearn.multiclass import OneVsRestClassifier\n",
    "from sklearn.multioutput import MultiOutputClassifier\n",
    "from sklearn.svm import LinearSVC\n",
    "from sklearn.svm import SVC\n",
    "from sklearn.gaussian_process import GaussianProcessClassifier\n",
    "from sklearn.gaussian_process.kernels import RBF\n",
    "from sklearn.tree import DecisionTreeClassifier\n",
    "#from sklearn.ensemble import RandomForestClassifier, AdaBoostClassifier\n",
    "from sklearn.discriminant_analysis import QuadraticDiscriminantAnalysis\n",
    "import lightgbm as ltb\n",
    "from imblearn.ensemble import BalancedRandomForestClassifier\n",
    "'''\n",
    "from sklearn.ensemble import RandomForestClassifier\n",
    "from imblearn.ensemble import BalancedBaggingClassifier"
   ]
  },
  {
   "cell_type": "code",
   "execution_count": 12,
   "id": "8c0872ca-cc9a-4e6a-a6e7-82cf1b3dbe0d",
   "metadata": {
    "execution": {
     "iopub.execute_input": "2024-11-25T11:00:35.931158Z",
     "iopub.status.busy": "2024-11-25T11:00:35.930835Z",
     "iopub.status.idle": "2024-11-25T11:00:35.935039Z",
     "shell.execute_reply": "2024-11-25T11:00:35.934598Z"
    }
   },
   "outputs": [
    {
     "data": {
      "text/plain": [
       "'\\nmodel = MLPClassifier(alpha=1, max_iter=1000)\\nmodel = RandomForestClassifier(max_depth=5, n_estimators=10, max_features=1)\\nmodel = DecisionTreeClassifier(max_depth=5)\\nmodel = SVC(kernel=\"linear\", C=0.025)\\nmodel = SVC(gamma=2, C=1)\\nmodel = AdaBoostClassifier() # best\\nmodel = GaussianNB() # best\\n'"
      ]
     },
     "execution_count": 12,
     "metadata": {},
     "output_type": "execute_result"
    }
   ],
   "source": [
    "# Sellect model\n",
    "#model = KNeighborsClassifier(n_neighbors=18) # best, 2, 18, 87\n",
    "#model = KNeighborsClassifier(leaf_size=10, n_neighbors=10, p=1)\n",
    "#model = DecisionTreeClassifier(max_depth=100, random_state=42) # best\n",
    "#model = RandomForestClassifier(n_estimators=100, max_features='sqrt', random_state=42, class_weight = 'balanced', bootstrap= True)\n",
    "#model = RandomForestClassifier(bootstrap=False, max_depth=10, max_features='sqrt',\n",
    "#                       min_samples_leaf=4, n_estimators=50, random_state=42, class_weight='balanced')\n",
    "#model = LogisticRegression(max_iter=1500) # next best\n",
    "#model = MLPClassifier(alpha=1, max_iter=1000)\n",
    "#model = SGDClassifier()\n",
    "#model = OneVsRestClassifier(RandomForestClassifier(max_features='sqrt', random_state=42)) # dual=\"auto\", \n",
    "#model = MultiOutputClassifier(RandomForestClassifier(n_estimators=100, max_features='sqrt', random_state=42)) # dual=\"auto\", \n",
    "#model = QuadraticDiscriminantAnalysis()\n",
    "#model = ltb.LGBMClassifier(objective=\"multiclass\", n_estimators=3000, learning_rate=0.05, random_state=1121218) # objective=\"binary\", n_estimators=10000\n",
    "#model = ltb.LGBMRegressor(objective=\"binary\", learning_rate=0.1, random_state=1121218)\n",
    "#model = AdaBoostClassifier(algorithm='SAMME', n_estimators=118, random_state=42, learning_rate=0.09) # best\n",
    "#model = AdaBoostClassifier(\n",
    "#    estimator=DecisionTreeClassifier(max_depth=2),\n",
    "#    algorithm='SAMME', n_estimators=118, random_state=42, learning_rate=0.09\n",
    "#)\n",
    "#model = SVC(kernel=\"sigmoid\", C=0.025, random_state = 42) # C=0.025, random_state = 0\n",
    "#model = SVC(gamma=2, C=1)\n",
    "#model = GaussianNB() # best\n",
    "#model = BalancedRandomForestClassifier(sampling_strategy='not majority', replacement=True, max_depth=2, random_state=0, bootstrap=False)\n",
    "model = BalancedBaggingClassifier(RandomForestClassifier(n_estimators=100, max_features='sqrt', random_state=42, class_weight = 'balanced', bootstrap= True),\n",
    "                                sampling_strategy='not majority',\n",
    "                                replacement=False,\n",
    "                                random_state=42)\n",
    "#model = MultinomialNB(alpha=0.01, class_prior=[0.1, 0.03, 0.87])\n",
    "'''\n",
    "model = MLPClassifier(alpha=1, max_iter=1000)\n",
    "model = RandomForestClassifier(max_depth=5, n_estimators=10, max_features=1)\n",
    "model = DecisionTreeClassifier(max_depth=5)\n",
    "model = SVC(kernel=\"linear\", C=0.025)\n",
    "model = SVC(gamma=2, C=1)\n",
    "model = AdaBoostClassifier() # best\n",
    "model = GaussianNB() # best\n",
    "'''"
   ]
  },
  {
   "cell_type": "code",
   "execution_count": 13,
   "id": "3a37a98e-7aa2-4bc7-bac4-5d887419d90a",
   "metadata": {
    "execution": {
     "iopub.execute_input": "2024-11-25T11:00:35.936285Z",
     "iopub.status.busy": "2024-11-25T11:00:35.936026Z",
     "iopub.status.idle": "2024-11-25T11:00:35.939202Z",
     "shell.execute_reply": "2024-11-25T11:00:35.938756Z"
    }
   },
   "outputs": [
    {
     "data": {
      "text/plain": [
       "Index(['Unnamed:', 'open', 'high', 'ema-26', 'ema-12', 'low', 'mean-grad-hist',\n",
       "       'close', 'volume', 'sma-25', 'long_jcrosk', 'short_kdj', 'action'],\n",
       "      dtype='object')"
      ]
     },
     "execution_count": 13,
     "metadata": {},
     "output_type": "execute_result"
    }
   ],
   "source": [
    "train.columns"
   ]
  },
  {
   "cell_type": "code",
   "execution_count": 14,
   "id": "15b659b0-e31b-4abd-b5ec-35c9110f0a5a",
   "metadata": {
    "execution": {
     "iopub.execute_input": "2024-11-25T11:00:35.940431Z",
     "iopub.status.busy": "2024-11-25T11:00:35.940175Z",
     "iopub.status.idle": "2024-11-25T11:00:35.948331Z",
     "shell.execute_reply": "2024-11-25T11:00:35.947882Z"
    }
   },
   "outputs": [
    {
     "data": {
      "text/html": [
       "<div>\n",
       "<style scoped>\n",
       "    .dataframe tbody tr th:only-of-type {\n",
       "        vertical-align: middle;\n",
       "    }\n",
       "\n",
       "    .dataframe tbody tr th {\n",
       "        vertical-align: top;\n",
       "    }\n",
       "\n",
       "    .dataframe thead th {\n",
       "        text-align: right;\n",
       "    }\n",
       "</style>\n",
       "<table border=\"1\" class=\"dataframe\">\n",
       "  <thead>\n",
       "    <tr style=\"text-align: right;\">\n",
       "      <th></th>\n",
       "      <th>Unnamed:</th>\n",
       "      <th>open</th>\n",
       "      <th>high</th>\n",
       "      <th>ema-26</th>\n",
       "      <th>ema-12</th>\n",
       "      <th>low</th>\n",
       "      <th>mean-grad-hist</th>\n",
       "      <th>close</th>\n",
       "      <th>volume</th>\n",
       "      <th>sma-25</th>\n",
       "      <th>long_jcrosk</th>\n",
       "      <th>short_kdj</th>\n",
       "      <th>action</th>\n",
       "    </tr>\n",
       "  </thead>\n",
       "  <tbody>\n",
       "    <tr>\n",
       "      <th>0</th>\n",
       "      <td>0</td>\n",
       "      <td>0.1053</td>\n",
       "      <td>0.1082</td>\n",
       "      <td>0.111020</td>\n",
       "      <td>0.114582</td>\n",
       "      <td>0.1036</td>\n",
       "      <td>1</td>\n",
       "      <td>0.1053</td>\n",
       "      <td>1.447283e+07</td>\n",
       "      <td>0.113416</td>\n",
       "      <td>0</td>\n",
       "      <td>0</td>\n",
       "      <td>do_nothing</td>\n",
       "    </tr>\n",
       "    <tr>\n",
       "      <th>1</th>\n",
       "      <td>1</td>\n",
       "      <td>0.5626</td>\n",
       "      <td>0.5628</td>\n",
       "      <td>0.565415</td>\n",
       "      <td>0.569044</td>\n",
       "      <td>0.5560</td>\n",
       "      <td>1</td>\n",
       "      <td>0.5580</td>\n",
       "      <td>1.370656e+07</td>\n",
       "      <td>0.571264</td>\n",
       "      <td>0</td>\n",
       "      <td>0</td>\n",
       "      <td>do_nothing</td>\n",
       "    </tr>\n",
       "    <tr>\n",
       "      <th>2</th>\n",
       "      <td>2</td>\n",
       "      <td>3.8980</td>\n",
       "      <td>3.9170</td>\n",
       "      <td>3.941866</td>\n",
       "      <td>4.104236</td>\n",
       "      <td>3.5840</td>\n",
       "      <td>1</td>\n",
       "      <td>3.6900</td>\n",
       "      <td>7.128372e+06</td>\n",
       "      <td>4.084040</td>\n",
       "      <td>0</td>\n",
       "      <td>0</td>\n",
       "      <td>do_nothing</td>\n",
       "    </tr>\n",
       "    <tr>\n",
       "      <th>3</th>\n",
       "      <td>3</td>\n",
       "      <td>1.6557</td>\n",
       "      <td>1.6564</td>\n",
       "      <td>1.669565</td>\n",
       "      <td>1.684939</td>\n",
       "      <td>1.6070</td>\n",
       "      <td>1</td>\n",
       "      <td>1.6121</td>\n",
       "      <td>5.048200e+05</td>\n",
       "      <td>1.679948</td>\n",
       "      <td>0</td>\n",
       "      <td>0</td>\n",
       "      <td>do_nothing</td>\n",
       "    </tr>\n",
       "    <tr>\n",
       "      <th>4</th>\n",
       "      <td>4</td>\n",
       "      <td>2208.6400</td>\n",
       "      <td>2213.7500</td>\n",
       "      <td>2228.503599</td>\n",
       "      <td>2258.054308</td>\n",
       "      <td>2185.0000</td>\n",
       "      <td>1</td>\n",
       "      <td>2208.9900</td>\n",
       "      <td>2.032304e+05</td>\n",
       "      <td>2257.192400</td>\n",
       "      <td>0</td>\n",
       "      <td>0</td>\n",
       "      <td>do_nothing</td>\n",
       "    </tr>\n",
       "  </tbody>\n",
       "</table>\n",
       "</div>"
      ],
      "text/plain": [
       "   Unnamed:       open       high       ema-26       ema-12        low  \\\n",
       "0         0     0.1053     0.1082     0.111020     0.114582     0.1036   \n",
       "1         1     0.5626     0.5628     0.565415     0.569044     0.5560   \n",
       "2         2     3.8980     3.9170     3.941866     4.104236     3.5840   \n",
       "3         3     1.6557     1.6564     1.669565     1.684939     1.6070   \n",
       "4         4  2208.6400  2213.7500  2228.503599  2258.054308  2185.0000   \n",
       "\n",
       "   mean-grad-hist      close        volume       sma-25  long_jcrosk  \\\n",
       "0               1     0.1053  1.447283e+07     0.113416            0   \n",
       "1               1     0.5580  1.370656e+07     0.571264            0   \n",
       "2               1     3.6900  7.128372e+06     4.084040            0   \n",
       "3               1     1.6121  5.048200e+05     1.679948            0   \n",
       "4               1  2208.9900  2.032304e+05  2257.192400            0   \n",
       "\n",
       "   short_kdj      action  \n",
       "0          0  do_nothing  \n",
       "1          0  do_nothing  \n",
       "2          0  do_nothing  \n",
       "3          0  do_nothing  \n",
       "4          0  do_nothing  "
      ]
     },
     "execution_count": 14,
     "metadata": {},
     "output_type": "execute_result"
    }
   ],
   "source": [
    "train.head()"
   ]
  },
  {
   "cell_type": "code",
   "execution_count": 15,
   "id": "59ec239b-09b9-492b-b480-6d4198d219af",
   "metadata": {
    "execution": {
     "iopub.execute_input": "2024-11-25T11:00:35.949586Z",
     "iopub.status.busy": "2024-11-25T11:00:35.949318Z",
     "iopub.status.idle": "2024-11-25T11:00:35.951502Z",
     "shell.execute_reply": "2024-11-25T11:00:35.951054Z"
    }
   },
   "outputs": [],
   "source": [
    "#df.dropna(axis=1, inplace=True)"
   ]
  },
  {
   "cell_type": "code",
   "execution_count": 16,
   "id": "f23a5324-0e6e-44aa-bee5-9b107ca53f46",
   "metadata": {
    "execution": {
     "iopub.execute_input": "2024-11-25T11:00:35.952567Z",
     "iopub.status.busy": "2024-11-25T11:00:35.952447Z",
     "iopub.status.idle": "2024-11-25T11:00:35.954625Z",
     "shell.execute_reply": "2024-11-25T11:00:35.954164Z"
    }
   },
   "outputs": [],
   "source": [
    "#from pycaret.classification import *"
   ]
  },
  {
   "cell_type": "code",
   "execution_count": 17,
   "id": "cbeaeef5-2f4d-4119-8551-286f7789e313",
   "metadata": {
    "execution": {
     "iopub.execute_input": "2024-11-25T11:00:35.955962Z",
     "iopub.status.busy": "2024-11-25T11:00:35.955680Z",
     "iopub.status.idle": "2024-11-25T11:00:46.712948Z",
     "shell.execute_reply": "2024-11-25T11:00:46.712292Z"
    }
   },
   "outputs": [
    {
     "name": "stdout",
     "output_type": "stream",
     "text": [
      "Classification Report:\n",
      "              precision    recall  f1-score   support\n",
      "\n",
      "  do_nothing       1.00      0.94      0.97       212\n",
      "     go_long       0.99      0.99      0.99       218\n",
      "    go_short       1.00      1.00      1.00      4968\n",
      "\n",
      "    accuracy                           1.00      5398\n",
      "   macro avg       0.99      0.98      0.99      5398\n",
      "weighted avg       1.00      1.00      1.00      5398\n",
      "\n",
      "Accuracy Score:\n",
      "0.9972211930344572\n"
     ]
    }
   ],
   "source": [
    "df = train\n",
    "# Separate features and target\n",
    "#new_cols = ['open (entry)', 'high (entry)', 'ema-26 (entry)', 'ema-12 (entry)', 'low (entry)', 'mean-grad-hist (entry)', 'close (entry)', 'volume (entry)', 'sma-25 (entry)', 'long_jcrosk (entry)', 'short_kdj (entry)']\n",
    "X = df.drop(['action'], axis=1)\n",
    "y = df['action']\n",
    "\n",
    "# Encode target labels\n",
    "label_encoder = LabelEncoder()\n",
    "y_encoded = label_encoder.fit_transform(y)\n",
    "\n",
    "# Split the data into training and testing sets\n",
    "X_train, X_test, y_train, y_test = train_test_split(X, y_encoded, test_size=0.33, shuffle=True, random_state=42)\n",
    "\n",
    "# Compare models\n",
    "#new_y = pd.Series(y_encoded)\n",
    "\n",
    "#data = pd.concat([X, new_y], axis=1)\n",
    "#clf_setup = setup(data=data, target=new_y)\n",
    "#best_model = compare_models()\n",
    "#print(best_model)\n",
    "# Train the model\n",
    "model.fit(X_train, y_train)\n",
    "\n",
    "# Make predictions\n",
    "y_pred = model.predict(X_test)\n",
    "# Extract Prediction probabilities\n",
    "#y_proba = model.predict_proba(X_test)\n",
    "# Assume threshold of 0.5 for the positive class (class 1)\n",
    "threshold = 0.5\n",
    "\n",
    "# Predict class labels based on the threshold\n",
    "#y_pred = (y_proba[:, 1] >= threshold).astype(int)\n",
    "\n",
    "# Predict class labels based on the threshold\n",
    "#y_pred = (y_proba[:, 1] >= threshold).astype(int)\n",
    "# Decode the predicted labels back to the original action labels\n",
    "y_pred_labels = label_encoder.inverse_transform(y_pred)\n",
    "y_test_labels = label_encoder.inverse_transform(y_test)\n",
    "\n",
    "# Print the classification report and accuracy score\n",
    "print(\"Classification Report:\")\n",
    "print(classification_report(y_test_labels, y_pred_labels, zero_division=True))\n",
    "\n",
    "print(\"Accuracy Score:\")\n",
    "print(accuracy_score(y_test_labels, y_pred_labels))\n"
   ]
  },
  {
   "cell_type": "code",
   "execution_count": 18,
   "id": "a04b9448-7f36-46ff-b078-cf716f20d1ec",
   "metadata": {
    "execution": {
     "iopub.execute_input": "2024-11-25T11:00:46.714618Z",
     "iopub.status.busy": "2024-11-25T11:00:46.714343Z",
     "iopub.status.idle": "2024-11-25T11:00:46.716878Z",
     "shell.execute_reply": "2024-11-25T11:00:46.716350Z"
    }
   },
   "outputs": [],
   "source": [
    "#print(X[-1:].sample)"
   ]
  },
  {
   "cell_type": "code",
   "execution_count": null,
   "id": "020e2cbe-b4f0-4eb8-b6aa-6efdd9bb35ef",
   "metadata": {
    "editable": true,
    "slideshow": {
     "slide_type": ""
    },
    "tags": []
   },
   "outputs": [],
   "source": []
  },
  {
   "cell_type": "code",
   "execution_count": 19,
   "id": "f1ce5c78-d22a-425a-b45c-110c340cbb63",
   "metadata": {
    "execution": {
     "iopub.execute_input": "2024-11-25T11:00:46.718258Z",
     "iopub.status.busy": "2024-11-25T11:00:46.718009Z",
     "iopub.status.idle": "2024-11-25T11:00:46.720311Z",
     "shell.execute_reply": "2024-11-25T11:00:46.719778Z"
    }
   },
   "outputs": [],
   "source": [
    "#print(y_pred)"
   ]
  },
  {
   "cell_type": "code",
   "execution_count": 20,
   "id": "212c6322-d819-43d4-aefb-943bb7c38700",
   "metadata": {
    "execution": {
     "iopub.execute_input": "2024-11-25T11:00:46.721560Z",
     "iopub.status.busy": "2024-11-25T11:00:46.721338Z",
     "iopub.status.idle": "2024-11-25T11:00:46.723634Z",
     "shell.execute_reply": "2024-11-25T11:00:46.723111Z"
    }
   },
   "outputs": [],
   "source": [
    "#print(y_pred_labels)"
   ]
  },
  {
   "cell_type": "code",
   "execution_count": 21,
   "id": "76479ab1-8b6f-49f4-9191-08e841dc9d17",
   "metadata": {
    "editable": true,
    "execution": {
     "iopub.execute_input": "2024-11-25T11:00:46.724818Z",
     "iopub.status.busy": "2024-11-25T11:00:46.724590Z",
     "iopub.status.idle": "2024-11-25T11:00:46.726865Z",
     "shell.execute_reply": "2024-11-25T11:00:46.726361Z"
    },
    "slideshow": {
     "slide_type": ""
    },
    "tags": []
   },
   "outputs": [],
   "source": [
    "#X_test.columns"
   ]
  },
  {
   "cell_type": "code",
   "execution_count": 22,
   "id": "675fbef2-1e1d-412b-9f89-6129227081cf",
   "metadata": {
    "editable": true,
    "execution": {
     "iopub.execute_input": "2024-11-25T11:00:46.728107Z",
     "iopub.status.busy": "2024-11-25T11:00:46.727881Z",
     "iopub.status.idle": "2024-11-25T11:00:47.064293Z",
     "shell.execute_reply": "2024-11-25T11:00:47.063627Z"
    },
    "slideshow": {
     "slide_type": ""
    },
    "tags": []
   },
   "outputs": [
    {
     "name": "stdout",
     "output_type": "stream",
     "text": [
      "imitation model saved!\n"
     ]
    }
   ],
   "source": [
    "try:\n",
    "    joblib.dump(model,'/home/defi/Desktop/portfolio/projects/python/pipeline_defi/models/imit_model.pkl')\n",
    "    print('imitation model saved!')\n",
    "except Exception as e:\n",
    "    print(e)"
   ]
  },
  {
   "cell_type": "code",
   "execution_count": 23,
   "id": "92187432-bb53-47af-b93b-03d0324abcc5",
   "metadata": {
    "execution": {
     "iopub.execute_input": "2024-11-25T11:00:47.065915Z",
     "iopub.status.busy": "2024-11-25T11:00:47.065658Z",
     "iopub.status.idle": "2024-11-25T11:00:47.069156Z",
     "shell.execute_reply": "2024-11-25T11:00:47.068619Z"
    }
   },
   "outputs": [
    {
     "name": "stdout",
     "output_type": "stream",
     "text": [
      "imitation label ecorder saved\n"
     ]
    }
   ],
   "source": [
    "try:\n",
    "    joblib.dump(label_encoder, '/home/defi/Desktop/portfolio/projects/python/pipeline_defi/models/imit_label_encoder.pkl')\n",
    "    print('imitation label ecorder saved')\n",
    "except Exception as e:\n",
    "    print(e)"
   ]
  }
 ],
 "metadata": {
  "kernelspec": {
   "display_name": ".venv",
   "language": "python",
   "name": "python3"
  },
  "language_info": {
   "codemirror_mode": {
    "name": "ipython",
    "version": 3
   },
   "file_extension": ".py",
   "mimetype": "text/x-python",
   "name": "python",
   "nbconvert_exporter": "python",
   "pygments_lexer": "ipython3",
   "version": "3.10.4"
  }
 },
 "nbformat": 4,
 "nbformat_minor": 5
}
