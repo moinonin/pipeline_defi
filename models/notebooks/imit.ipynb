{
 "cells": [
  {
   "cell_type": "code",
   "execution_count": 198,
   "id": "4370ea80-39ed-4ed1-8f97-72b9f4f18e94",
   "metadata": {
    "execution": {
     "iopub.execute_input": "2024-11-25T21:26:15.225857Z",
     "iopub.status.busy": "2024-11-25T21:26:15.225588Z",
     "iopub.status.idle": "2024-11-25T21:26:15.748209Z",
     "shell.execute_reply": "2024-11-25T21:26:15.747694Z"
    }
   },
   "outputs": [],
   "source": [
    "import pandas as pd\n",
    "import numpy as np\n",
    "#from sklearn.multiclass import OneVsRestClassifier\n",
    "from sklearn.model_selection import GridSearchCV, train_test_split\n",
    "from sklearn.preprocessing import LabelEncoder\n",
    "from sklearn.ensemble import RandomForestClassifier\n",
    "from sklearn.metrics import classification_report, accuracy_score\n",
    "#from sklearn.metrics import make_scorer, f1_score\n",
    "import joblib\n",
    "#from sklearn.datasets import make_classification\n",
    "#from sklearn.neighbors import VALID_METRICS\n",
    "#import warnings"
   ]
  },
  {
   "cell_type": "code",
   "execution_count": null,
   "id": "3a6e6960-2ee8-453f-975f-bbebad794f22",
   "metadata": {},
   "outputs": [],
   "source": []
  },
  {
   "cell_type": "code",
   "execution_count": null,
   "id": "a859b0ed-1106-447c-ada4-e803ff5fe57e",
   "metadata": {},
   "outputs": [],
   "source": []
  },
  {
   "cell_type": "code",
   "execution_count": 199,
   "id": "e2538d78-088e-4d75-afd5-c5ddf7de4d41",
   "metadata": {
    "execution": {
     "iopub.execute_input": "2024-11-25T21:26:15.750162Z",
     "iopub.status.busy": "2024-11-25T21:26:15.749773Z",
     "iopub.status.idle": "2024-11-25T21:26:15.754108Z",
     "shell.execute_reply": "2024-11-25T21:26:15.753719Z"
    }
   },
   "outputs": [],
   "source": [
    "#df = pd.read_csv('clean_data/imitate_06.csv')\n",
    "df_2 = pd.read_csv('/home/defi/Desktop/portfolio/projects/python/pipeline_defi/clean_data/imitate_01.csv')"
   ]
  },
  {
   "cell_type": "code",
   "execution_count": null,
   "id": "b522334e-4a89-4d16-a0a3-f9885328f0cb",
   "metadata": {},
   "outputs": [],
   "source": []
  },
  {
   "cell_type": "code",
   "execution_count": 200,
   "id": "0083852f-5f07-4be2-b9bb-c6f12b9a78e0",
   "metadata": {
    "execution": {
     "iopub.execute_input": "2024-11-25T21:26:15.755384Z",
     "iopub.status.busy": "2024-11-25T21:26:15.755098Z",
     "iopub.status.idle": "2024-11-25T21:26:15.757152Z",
     "shell.execute_reply": "2024-11-25T21:26:15.756784Z"
    }
   },
   "outputs": [],
   "source": [
    "#df_2[pd.isna(df_2['action']) == True]"
   ]
  },
  {
   "cell_type": "code",
   "execution_count": 201,
   "id": "ffa208fc-e0ff-4dfc-a2b8-66fd2b0d1f70",
   "metadata": {
    "execution": {
     "iopub.execute_input": "2024-11-25T21:26:15.758389Z",
     "iopub.status.busy": "2024-11-25T21:26:15.758087Z",
     "iopub.status.idle": "2024-11-25T21:26:15.760041Z",
     "shell.execute_reply": "2024-11-25T21:26:15.759653Z"
    }
   },
   "outputs": [],
   "source": [
    "#df_2.head()"
   ]
  },
  {
   "cell_type": "code",
   "execution_count": 202,
   "id": "4d70cc60-e190-4971-8648-fa78e65029e0",
   "metadata": {
    "execution": {
     "iopub.execute_input": "2024-11-25T21:26:15.761293Z",
     "iopub.status.busy": "2024-11-25T21:26:15.760996Z",
     "iopub.status.idle": "2024-11-25T21:26:15.770293Z",
     "shell.execute_reply": "2024-11-25T21:26:15.769898Z"
    }
   },
   "outputs": [
    {
     "name": "stdout",
     "output_type": "stream",
     "text": [
      "   Unnamed:     open     high     ema-26     ema-12      low  mean-grad-hist  \\\n",
      "0         0   0.1053   0.1082   0.111020   0.114582   0.1036               1   \n",
      "1         1   0.2625   0.2625   0.262812   0.264955   0.2603               0   \n",
      "2         2  53.9360  53.9800  54.365010  55.102421  52.2720               1   \n",
      "3         3   0.9150   0.9190   0.927930   0.948033   0.9080               1   \n",
      "4         4  16.7700  16.8560  16.903557  17.294680  15.6040               1   \n",
      "\n",
      "     close       volume     sma-25  long_jcrosk  short_kdj buy_imit_short  \\\n",
      "0   0.1053  14472834.80   0.113416            0          0       go_short   \n",
      "1   0.2607    230683.50   0.265268            0          0       go_short   \n",
      "2  52.3830     91637.80  55.293040            1          0       go_short   \n",
      "3   0.9150   2090728.30   0.946320            0          0       go_short   \n",
      "4  16.0000    988398.34  17.135600            0          0       go_short   \n",
      "\n",
      "  buy_imit_long      action  \n",
      "0      go_short  do_nothing  \n",
      "1      go_short  do_nothing  \n",
      "2      go_short  do_nothing  \n",
      "3      go_short    go_short  \n",
      "4      go_short  do_nothing  \n"
     ]
    }
   ],
   "source": [
    "train_data = pd.DataFrame()\n",
    "for col in df_2.columns:\n",
    "    col_name = col.split(' ')[0]\n",
    "    train_data[f'{col_name}'] = df_2[col]\n",
    "print(train_data.head())\n",
    "\n",
    "train = train_data"
   ]
  },
  {
   "cell_type": "code",
   "execution_count": 203,
   "id": "0fd7eef4-4d71-436c-8c27-39b0c6e517e7",
   "metadata": {
    "execution": {
     "iopub.execute_input": "2024-11-25T21:26:15.771548Z",
     "iopub.status.busy": "2024-11-25T21:26:15.771277Z",
     "iopub.status.idle": "2024-11-25T21:26:15.773473Z",
     "shell.execute_reply": "2024-11-25T21:26:15.772916Z"
    }
   },
   "outputs": [],
   "source": [
    "#train.columns"
   ]
  },
  {
   "cell_type": "code",
   "execution_count": 204,
   "id": "0b47b415-afaa-4b37-a2db-0c88662f8f56",
   "metadata": {
    "execution": {
     "iopub.execute_input": "2024-11-25T21:26:15.774676Z",
     "iopub.status.busy": "2024-11-25T21:26:15.774385Z",
     "iopub.status.idle": "2024-11-25T21:26:15.776320Z",
     "shell.execute_reply": "2024-11-25T21:26:15.775933Z"
    }
   },
   "outputs": [],
   "source": [
    "#train.drop(['Unnamed:'], axis=1, inplace=True)"
   ]
  },
  {
   "cell_type": "code",
   "execution_count": 205,
   "id": "b39cba5b-d4e9-450a-bca7-58c3b5cb3584",
   "metadata": {
    "execution": {
     "iopub.execute_input": "2024-11-25T21:26:15.777538Z",
     "iopub.status.busy": "2024-11-25T21:26:15.777256Z",
     "iopub.status.idle": "2024-11-25T21:26:15.780174Z",
     "shell.execute_reply": "2024-11-25T21:26:15.779780Z"
    }
   },
   "outputs": [
    {
     "name": "stdout",
     "output_type": "stream",
     "text": [
      "Action value counts:\n",
      " action\n",
      "go_short      2511\n",
      "do_nothing     136\n",
      "go_long         85\n",
      "Name: count, dtype: int64\n"
     ]
    }
   ],
   "source": [
    "print(f\"Action value counts:\\n {train['action'].value_counts()}\")"
   ]
  },
  {
   "cell_type": "code",
   "execution_count": 206,
   "id": "76a8d625-0be6-4a19-b505-091fc181ae17",
   "metadata": {
    "execution": {
     "iopub.execute_input": "2024-11-25T21:26:15.781589Z",
     "iopub.status.busy": "2024-11-25T21:26:15.781335Z",
     "iopub.status.idle": "2024-11-25T21:26:15.784533Z",
     "shell.execute_reply": "2024-11-25T21:26:15.784165Z"
    }
   },
   "outputs": [],
   "source": [
    "train.to_csv('/home/defi/Desktop/portfolio/projects/python/pipeline_defi/clean_data/imitate_07.csv')\n",
    "#!pwd"
   ]
  },
  {
   "cell_type": "code",
   "execution_count": 207,
   "id": "b2dc24b4-97da-46a2-8f7e-407963743d8f",
   "metadata": {
    "execution": {
     "iopub.execute_input": "2024-11-25T21:26:15.785776Z",
     "iopub.status.busy": "2024-11-25T21:26:15.785492Z",
     "iopub.status.idle": "2024-11-25T21:26:15.790569Z",
     "shell.execute_reply": "2024-11-25T21:26:15.790201Z"
    }
   },
   "outputs": [
    {
     "data": {
      "text/plain": [
       "action\n",
       "go_short      False\n",
       "do_nothing    False\n",
       "go_long       False\n",
       "Name: count, dtype: bool"
      ]
     },
     "execution_count": 207,
     "metadata": {},
     "output_type": "execute_result"
    }
   ],
   "source": [
    "pd.isna(train['action'].value_counts())"
   ]
  },
  {
   "cell_type": "code",
   "execution_count": 208,
   "id": "8e896b27-8313-4a71-8498-16de43b4031c",
   "metadata": {
    "execution": {
     "iopub.execute_input": "2024-11-25T21:26:15.791857Z",
     "iopub.status.busy": "2024-11-25T21:26:15.791561Z",
     "iopub.status.idle": "2024-11-25T21:26:15.818639Z",
     "shell.execute_reply": "2024-11-25T21:26:15.818241Z"
    }
   },
   "outputs": [],
   "source": [
    "# import the remaining ml libs\n",
    "'''\n",
    "from sklearn.linear_model import LogisticRegression, LinearRegression, SGDClassifier, SGDRegressor\n",
    "from sklearn.calibration import CalibratedClassifierCV, calibration_curve\n",
    "from sklearn.svm import SVR\n",
    "from sklearn.neighbors import KNeighborsClassifier\n",
    "#from sklearn.tree import DecisionTreeClassifier\n",
    "from sklearn.tree import DecisionTreeClassifier\n",
    "from sklearn.naive_bayes import GaussianNB, MultinomialNB, ComplementNB\n",
    "from sklearn.neural_network import MLPClassifier\n",
    "from sklearn.multiclass import OneVsRestClassifier\n",
    "from sklearn.multioutput import MultiOutputClassifier\n",
    "from sklearn.svm import LinearSVC\n",
    "from sklearn.svm import SVC\n",
    "from sklearn.gaussian_process import GaussianProcessClassifier\n",
    "from sklearn.gaussian_process.kernels import RBF\n",
    "from sklearn.tree import DecisionTreeClassifier\n",
    "#from sklearn.ensemble import RandomForestClassifier, AdaBoostClassifier\n",
    "from sklearn.discriminant_analysis import QuadraticDiscriminantAnalysis\n",
    "import lightgbm as ltb\n",
    "from imblearn.ensemble import BalancedRandomForestClassifier\n",
    "'''\n",
    "from sklearn.ensemble import RandomForestClassifier\n",
    "from imblearn.ensemble import BalancedBaggingClassifier"
   ]
  },
  {
   "cell_type": "code",
   "execution_count": 209,
   "id": "8c0872ca-cc9a-4e6a-a6e7-82cf1b3dbe0d",
   "metadata": {
    "execution": {
     "iopub.execute_input": "2024-11-25T21:26:15.820001Z",
     "iopub.status.busy": "2024-11-25T21:26:15.819687Z",
     "iopub.status.idle": "2024-11-25T21:26:15.823521Z",
     "shell.execute_reply": "2024-11-25T21:26:15.823166Z"
    }
   },
   "outputs": [
    {
     "data": {
      "text/plain": [
       "'\\nmodel = MLPClassifier(alpha=1, max_iter=1000)\\nmodel = RandomForestClassifier(max_depth=5, n_estimators=10, max_features=1)\\nmodel = DecisionTreeClassifier(max_depth=5)\\nmodel = SVC(kernel=\"linear\", C=0.025)\\nmodel = SVC(gamma=2, C=1)\\nmodel = AdaBoostClassifier() # best\\nmodel = GaussianNB() # best\\n'"
      ]
     },
     "execution_count": 209,
     "metadata": {},
     "output_type": "execute_result"
    }
   ],
   "source": [
    "# Sellect model\n",
    "#model = KNeighborsClassifier(n_neighbors=18) # best, 2, 18, 87\n",
    "#model = KNeighborsClassifier(leaf_size=10, n_neighbors=10, p=1)\n",
    "#model = DecisionTreeClassifier(max_depth=100, random_state=42) # best\n",
    "#model = RandomForestClassifier(n_estimators=100, max_features='sqrt', random_state=42, class_weight = 'balanced', bootstrap= True)\n",
    "#model = RandomForestClassifier(bootstrap=False, max_depth=10, max_features='sqrt',\n",
    "#                       min_samples_leaf=4, n_estimators=50, random_state=42, class_weight='balanced')\n",
    "#model = LogisticRegression(max_iter=1500) # next best\n",
    "#model = MLPClassifier(alpha=1, max_iter=1000)\n",
    "#model = SGDClassifier()\n",
    "#model = OneVsRestClassifier(RandomForestClassifier(max_features='sqrt', random_state=42)) # dual=\"auto\", \n",
    "#model = MultiOutputClassifier(RandomForestClassifier(n_estimators=100, max_features='sqrt', random_state=42)) # dual=\"auto\", \n",
    "#model = QuadraticDiscriminantAnalysis()\n",
    "#model = ltb.LGBMClassifier(objective=\"multiclass\", n_estimators=3000, learning_rate=0.05, random_state=1121218) # objective=\"binary\", n_estimators=10000\n",
    "#model = ltb.LGBMRegressor(objective=\"binary\", learning_rate=0.1, random_state=1121218)\n",
    "#model = AdaBoostClassifier(algorithm='SAMME', n_estimators=118, random_state=42, learning_rate=0.09) # best\n",
    "#model = AdaBoostClassifier(\n",
    "#    estimator=DecisionTreeClassifier(max_depth=2),\n",
    "#    algorithm='SAMME', n_estimators=118, random_state=42, learning_rate=0.09\n",
    "#)\n",
    "#model = SVC(kernel=\"sigmoid\", C=0.025, random_state = 42) # C=0.025, random_state = 0\n",
    "#model = SVC(gamma=2, C=1)\n",
    "#model = GaussianNB() # best\n",
    "#model = BalancedRandomForestClassifier(sampling_strategy='not majority', replacement=True, max_depth=2, random_state=0, bootstrap=False)\n",
    "model = BalancedBaggingClassifier(RandomForestClassifier(n_estimators=100, max_features='sqrt', random_state=42, class_weight = 'balanced', bootstrap= True),\n",
    "                                sampling_strategy='not majority',\n",
    "                                replacement=False,\n",
    "                                random_state=42)\n",
    "#model = MultinomialNB(alpha=0.01, class_prior=[0.1, 0.03, 0.87])\n",
    "'''\n",
    "model = MLPClassifier(alpha=1, max_iter=1000)\n",
    "model = RandomForestClassifier(max_depth=5, n_estimators=10, max_features=1)\n",
    "model = DecisionTreeClassifier(max_depth=5)\n",
    "model = SVC(kernel=\"linear\", C=0.025)\n",
    "model = SVC(gamma=2, C=1)\n",
    "model = AdaBoostClassifier() # best\n",
    "model = GaussianNB() # best\n",
    "'''"
   ]
  },
  {
   "cell_type": "code",
   "execution_count": 210,
   "id": "3a37a98e-7aa2-4bc7-bac4-5d887419d90a",
   "metadata": {
    "execution": {
     "iopub.execute_input": "2024-11-25T21:26:15.824808Z",
     "iopub.status.busy": "2024-11-25T21:26:15.824512Z",
     "iopub.status.idle": "2024-11-25T21:26:15.827275Z",
     "shell.execute_reply": "2024-11-25T21:26:15.826922Z"
    }
   },
   "outputs": [
    {
     "data": {
      "text/plain": [
       "Index(['Unnamed:', 'open', 'high', 'ema-26', 'ema-12', 'low', 'mean-grad-hist',\n",
       "       'close', 'volume', 'sma-25', 'long_jcrosk', 'short_kdj',\n",
       "       'buy_imit_short', 'buy_imit_long', 'action'],\n",
       "      dtype='object')"
      ]
     },
     "execution_count": 210,
     "metadata": {},
     "output_type": "execute_result"
    }
   ],
   "source": [
    "train.columns"
   ]
  },
  {
   "cell_type": "code",
   "execution_count": 211,
   "id": "15b659b0-e31b-4abd-b5ec-35c9110f0a5a",
   "metadata": {
    "execution": {
     "iopub.execute_input": "2024-11-25T21:26:15.828506Z",
     "iopub.status.busy": "2024-11-25T21:26:15.828254Z",
     "iopub.status.idle": "2024-11-25T21:26:15.836567Z",
     "shell.execute_reply": "2024-11-25T21:26:15.836207Z"
    }
   },
   "outputs": [
    {
     "data": {
      "text/html": [
       "<div>\n",
       "<style scoped>\n",
       "    .dataframe tbody tr th:only-of-type {\n",
       "        vertical-align: middle;\n",
       "    }\n",
       "\n",
       "    .dataframe tbody tr th {\n",
       "        vertical-align: top;\n",
       "    }\n",
       "\n",
       "    .dataframe thead th {\n",
       "        text-align: right;\n",
       "    }\n",
       "</style>\n",
       "<table border=\"1\" class=\"dataframe\">\n",
       "  <thead>\n",
       "    <tr style=\"text-align: right;\">\n",
       "      <th></th>\n",
       "      <th>Unnamed:</th>\n",
       "      <th>open</th>\n",
       "      <th>high</th>\n",
       "      <th>ema-26</th>\n",
       "      <th>ema-12</th>\n",
       "      <th>low</th>\n",
       "      <th>mean-grad-hist</th>\n",
       "      <th>close</th>\n",
       "      <th>volume</th>\n",
       "      <th>sma-25</th>\n",
       "      <th>long_jcrosk</th>\n",
       "      <th>short_kdj</th>\n",
       "      <th>buy_imit_short</th>\n",
       "      <th>buy_imit_long</th>\n",
       "      <th>action</th>\n",
       "    </tr>\n",
       "  </thead>\n",
       "  <tbody>\n",
       "    <tr>\n",
       "      <th>0</th>\n",
       "      <td>0</td>\n",
       "      <td>0.1053</td>\n",
       "      <td>0.1082</td>\n",
       "      <td>0.111020</td>\n",
       "      <td>0.114582</td>\n",
       "      <td>0.1036</td>\n",
       "      <td>1</td>\n",
       "      <td>0.1053</td>\n",
       "      <td>14472834.80</td>\n",
       "      <td>0.113416</td>\n",
       "      <td>0</td>\n",
       "      <td>0</td>\n",
       "      <td>go_short</td>\n",
       "      <td>go_short</td>\n",
       "      <td>do_nothing</td>\n",
       "    </tr>\n",
       "    <tr>\n",
       "      <th>1</th>\n",
       "      <td>1</td>\n",
       "      <td>0.2625</td>\n",
       "      <td>0.2625</td>\n",
       "      <td>0.262812</td>\n",
       "      <td>0.264955</td>\n",
       "      <td>0.2603</td>\n",
       "      <td>0</td>\n",
       "      <td>0.2607</td>\n",
       "      <td>230683.50</td>\n",
       "      <td>0.265268</td>\n",
       "      <td>0</td>\n",
       "      <td>0</td>\n",
       "      <td>go_short</td>\n",
       "      <td>go_short</td>\n",
       "      <td>do_nothing</td>\n",
       "    </tr>\n",
       "    <tr>\n",
       "      <th>2</th>\n",
       "      <td>2</td>\n",
       "      <td>53.9360</td>\n",
       "      <td>53.9800</td>\n",
       "      <td>54.365010</td>\n",
       "      <td>55.102421</td>\n",
       "      <td>52.2720</td>\n",
       "      <td>1</td>\n",
       "      <td>52.3830</td>\n",
       "      <td>91637.80</td>\n",
       "      <td>55.293040</td>\n",
       "      <td>1</td>\n",
       "      <td>0</td>\n",
       "      <td>go_short</td>\n",
       "      <td>go_short</td>\n",
       "      <td>do_nothing</td>\n",
       "    </tr>\n",
       "    <tr>\n",
       "      <th>3</th>\n",
       "      <td>3</td>\n",
       "      <td>0.9150</td>\n",
       "      <td>0.9190</td>\n",
       "      <td>0.927930</td>\n",
       "      <td>0.948033</td>\n",
       "      <td>0.9080</td>\n",
       "      <td>1</td>\n",
       "      <td>0.9150</td>\n",
       "      <td>2090728.30</td>\n",
       "      <td>0.946320</td>\n",
       "      <td>0</td>\n",
       "      <td>0</td>\n",
       "      <td>go_short</td>\n",
       "      <td>go_short</td>\n",
       "      <td>go_short</td>\n",
       "    </tr>\n",
       "    <tr>\n",
       "      <th>4</th>\n",
       "      <td>4</td>\n",
       "      <td>16.7700</td>\n",
       "      <td>16.8560</td>\n",
       "      <td>16.903557</td>\n",
       "      <td>17.294680</td>\n",
       "      <td>15.6040</td>\n",
       "      <td>1</td>\n",
       "      <td>16.0000</td>\n",
       "      <td>988398.34</td>\n",
       "      <td>17.135600</td>\n",
       "      <td>0</td>\n",
       "      <td>0</td>\n",
       "      <td>go_short</td>\n",
       "      <td>go_short</td>\n",
       "      <td>do_nothing</td>\n",
       "    </tr>\n",
       "  </tbody>\n",
       "</table>\n",
       "</div>"
      ],
      "text/plain": [
       "   Unnamed:     open     high     ema-26     ema-12      low  mean-grad-hist  \\\n",
       "0         0   0.1053   0.1082   0.111020   0.114582   0.1036               1   \n",
       "1         1   0.2625   0.2625   0.262812   0.264955   0.2603               0   \n",
       "2         2  53.9360  53.9800  54.365010  55.102421  52.2720               1   \n",
       "3         3   0.9150   0.9190   0.927930   0.948033   0.9080               1   \n",
       "4         4  16.7700  16.8560  16.903557  17.294680  15.6040               1   \n",
       "\n",
       "     close       volume     sma-25  long_jcrosk  short_kdj buy_imit_short  \\\n",
       "0   0.1053  14472834.80   0.113416            0          0       go_short   \n",
       "1   0.2607    230683.50   0.265268            0          0       go_short   \n",
       "2  52.3830     91637.80  55.293040            1          0       go_short   \n",
       "3   0.9150   2090728.30   0.946320            0          0       go_short   \n",
       "4  16.0000    988398.34  17.135600            0          0       go_short   \n",
       "\n",
       "  buy_imit_long      action  \n",
       "0      go_short  do_nothing  \n",
       "1      go_short  do_nothing  \n",
       "2      go_short  do_nothing  \n",
       "3      go_short    go_short  \n",
       "4      go_short  do_nothing  "
      ]
     },
     "execution_count": 211,
     "metadata": {},
     "output_type": "execute_result"
    }
   ],
   "source": [
    "train.head()"
   ]
  },
  {
   "cell_type": "code",
   "execution_count": 212,
   "id": "59ec239b-09b9-492b-b480-6d4198d219af",
   "metadata": {
    "execution": {
     "iopub.execute_input": "2024-11-25T21:26:15.837918Z",
     "iopub.status.busy": "2024-11-25T21:26:15.837592Z",
     "iopub.status.idle": "2024-11-25T21:26:15.839523Z",
     "shell.execute_reply": "2024-11-25T21:26:15.839162Z"
    }
   },
   "outputs": [],
   "source": [
    "#df.dropna(axis=1, inplace=True)"
   ]
  },
  {
   "cell_type": "code",
   "execution_count": 213,
   "id": "f23a5324-0e6e-44aa-bee5-9b107ca53f46",
   "metadata": {
    "execution": {
     "iopub.execute_input": "2024-11-25T21:26:15.840766Z",
     "iopub.status.busy": "2024-11-25T21:26:15.840483Z",
     "iopub.status.idle": "2024-11-25T21:26:15.842372Z",
     "shell.execute_reply": "2024-11-25T21:26:15.842002Z"
    }
   },
   "outputs": [],
   "source": [
    "#from pycaret.classification import *"
   ]
  },
  {
   "cell_type": "code",
   "execution_count": 214,
   "id": "cbeaeef5-2f4d-4119-8551-286f7789e313",
   "metadata": {
    "execution": {
     "iopub.execute_input": "2024-11-25T21:26:15.843647Z",
     "iopub.status.busy": "2024-11-25T21:26:15.843343Z",
     "iopub.status.idle": "2024-11-25T21:26:16.558610Z",
     "shell.execute_reply": "2024-11-25T21:26:16.558122Z"
    }
   },
   "outputs": [
    {
     "name": "stdout",
     "output_type": "stream",
     "text": [
      "Classification Report:\n",
      "              precision    recall  f1-score   support\n",
      "\n",
      "  do_nothing       1.00      0.00      0.00        32\n",
      "     go_long       0.94      1.00      0.97        33\n",
      "    go_short       0.97      1.00      0.98       837\n",
      "\n",
      "    accuracy                           0.96       902\n",
      "   macro avg       0.97      0.67      0.65       902\n",
      "weighted avg       0.97      0.96      0.95       902\n",
      "\n",
      "Accuracy Score:\n",
      "0.9645232815964523\n"
     ]
    }
   ],
   "source": [
    "df = train\n",
    "# Separate features and target\n",
    "#new_cols = ['open (entry)', 'high (entry)', 'ema-26 (entry)', 'ema-12 (entry)', 'low (entry)', 'mean-grad-hist (entry)', 'close (entry)', 'volume (entry)', 'sma-25 (entry)', 'long_jcrosk (entry)', 'short_kdj (entry)']\n",
    "X = df.drop(['action','buy_imit_short','buy_imit_long','Unnamed:'], axis=1)\n",
    "y = df['action']\n",
    "\n",
    "# Encode target labels\n",
    "label_encoder = LabelEncoder()\n",
    "y_encoded = label_encoder.fit_transform(y)\n",
    "\n",
    "# Split the data into training and testing sets\n",
    "X_train, X_test, y_train, y_test = train_test_split(X, y_encoded, test_size=0.33, shuffle=True, random_state=42)\n",
    "\n",
    "# Compare models\n",
    "#new_y = pd.Series(y_encoded)\n",
    "\n",
    "#data = pd.concat([X, new_y], axis=1)\n",
    "#clf_setup = setup(data=data, target=new_y)\n",
    "#best_model = compare_models()\n",
    "#print(best_model)\n",
    "# Train the model\n",
    "model.fit(X_train, y_train)\n",
    "\n",
    "# Make predictions\n",
    "y_pred = model.predict(X_test)\n",
    "# Extract Prediction probabilities\n",
    "#y_proba = model.predict_proba(X_test)\n",
    "# Assume threshold of 0.5 for the positive class (class 1)\n",
    "threshold = 0.5\n",
    "\n",
    "# Predict class labels based on the threshold\n",
    "#y_pred = (y_proba[:, 1] >= threshold).astype(int)\n",
    "\n",
    "# Predict class labels based on the threshold\n",
    "#y_pred = (y_proba[:, 1] >= threshold).astype(int)\n",
    "# Decode the predicted labels back to the original action labels\n",
    "y_pred_labels = label_encoder.inverse_transform(y_pred)\n",
    "y_test_labels = label_encoder.inverse_transform(y_test)\n",
    "\n",
    "# Print the classification report and accuracy score\n",
    "print(\"Classification Report:\")\n",
    "print(classification_report(y_test_labels, y_pred_labels, zero_division=True))\n",
    "\n",
    "print(\"Accuracy Score:\")\n",
    "print(accuracy_score(y_test_labels, y_pred_labels))\n"
   ]
  },
  {
   "cell_type": "code",
   "execution_count": 215,
   "id": "a04b9448-7f36-46ff-b078-cf716f20d1ec",
   "metadata": {
    "execution": {
     "iopub.execute_input": "2024-11-25T21:26:16.560157Z",
     "iopub.status.busy": "2024-11-25T21:26:16.559845Z",
     "iopub.status.idle": "2024-11-25T21:26:16.561973Z",
     "shell.execute_reply": "2024-11-25T21:26:16.561606Z"
    }
   },
   "outputs": [],
   "source": [
    "#print(X[-1:].sample)"
   ]
  },
  {
   "cell_type": "code",
   "execution_count": null,
   "id": "020e2cbe-b4f0-4eb8-b6aa-6efdd9bb35ef",
   "metadata": {
    "editable": true,
    "slideshow": {
     "slide_type": ""
    },
    "tags": []
   },
   "outputs": [],
   "source": []
  },
  {
   "cell_type": "code",
   "execution_count": 216,
   "id": "f1ce5c78-d22a-425a-b45c-110c340cbb63",
   "metadata": {
    "execution": {
     "iopub.execute_input": "2024-11-25T21:26:16.563213Z",
     "iopub.status.busy": "2024-11-25T21:26:16.562967Z",
     "iopub.status.idle": "2024-11-25T21:26:16.564846Z",
     "shell.execute_reply": "2024-11-25T21:26:16.564497Z"
    }
   },
   "outputs": [],
   "source": [
    "#print(y_pred)"
   ]
  },
  {
   "cell_type": "code",
   "execution_count": 217,
   "id": "212c6322-d819-43d4-aefb-943bb7c38700",
   "metadata": {
    "execution": {
     "iopub.execute_input": "2024-11-25T21:26:16.566026Z",
     "iopub.status.busy": "2024-11-25T21:26:16.565792Z",
     "iopub.status.idle": "2024-11-25T21:26:16.567666Z",
     "shell.execute_reply": "2024-11-25T21:26:16.567311Z"
    }
   },
   "outputs": [],
   "source": [
    "#print(y_pred_labels)"
   ]
  },
  {
   "cell_type": "code",
   "execution_count": 218,
   "id": "76479ab1-8b6f-49f4-9191-08e841dc9d17",
   "metadata": {
    "editable": true,
    "execution": {
     "iopub.execute_input": "2024-11-25T21:26:16.568906Z",
     "iopub.status.busy": "2024-11-25T21:26:16.568612Z",
     "iopub.status.idle": "2024-11-25T21:26:16.570472Z",
     "shell.execute_reply": "2024-11-25T21:26:16.570123Z"
    },
    "slideshow": {
     "slide_type": ""
    },
    "tags": []
   },
   "outputs": [],
   "source": [
    "#X_test.columns"
   ]
  },
  {
   "cell_type": "code",
   "execution_count": 219,
   "id": "675fbef2-1e1d-412b-9f89-6129227081cf",
   "metadata": {
    "editable": true,
    "execution": {
     "iopub.execute_input": "2024-11-25T21:26:16.571629Z",
     "iopub.status.busy": "2024-11-25T21:26:16.571399Z",
     "iopub.status.idle": "2024-11-25T21:26:16.835266Z",
     "shell.execute_reply": "2024-11-25T21:26:16.834735Z"
    },
    "slideshow": {
     "slide_type": ""
    },
    "tags": []
   },
   "outputs": [
    {
     "name": "stdout",
     "output_type": "stream",
     "text": [
      "imitation model saved!\n"
     ]
    }
   ],
   "source": [
    "try:\n",
    "    joblib.dump(model,'/home/defi/Desktop/portfolio/projects/python/pipeline_defi/models/imit_model.pkl')\n",
    "    print('imitation model saved!')\n",
    "except Exception as e:\n",
    "    print(e)"
   ]
  },
  {
   "cell_type": "code",
   "execution_count": 220,
   "id": "92187432-bb53-47af-b93b-03d0324abcc5",
   "metadata": {
    "execution": {
     "iopub.execute_input": "2024-11-25T21:26:16.836779Z",
     "iopub.status.busy": "2024-11-25T21:26:16.836467Z",
     "iopub.status.idle": "2024-11-25T21:26:16.839512Z",
     "shell.execute_reply": "2024-11-25T21:26:16.839126Z"
    }
   },
   "outputs": [
    {
     "name": "stdout",
     "output_type": "stream",
     "text": [
      "imitation label ecorder saved\n"
     ]
    }
   ],
   "source": [
    "try:\n",
    "    joblib.dump(label_encoder, '/home/defi/Desktop/portfolio/projects/python/pipeline_defi/models/imit_label_encoder.pkl')\n",
    "    print('imitation label ecorder saved')\n",
    "except Exception as e:\n",
    "    print(e)"
   ]
  }
 ],
 "metadata": {
  "kernelspec": {
   "display_name": ".venv",
   "language": "python",
   "name": "python3"
  },
  "language_info": {
   "codemirror_mode": {
    "name": "ipython",
    "version": 3
   },
   "file_extension": ".py",
   "mimetype": "text/x-python",
   "name": "python",
   "nbconvert_exporter": "python",
   "pygments_lexer": "ipython3",
   "version": "3.10.4"
  }
 },
 "nbformat": 4,
 "nbformat_minor": 5
}
