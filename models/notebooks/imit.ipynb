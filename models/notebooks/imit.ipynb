{
 "cells": [
  {
   "cell_type": "code",
   "execution_count": 627,
   "id": "4370ea80-39ed-4ed1-8f97-72b9f4f18e94",
   "metadata": {
    "execution": {
     "iopub.execute_input": "2024-11-29T04:26:39.465857Z",
     "iopub.status.busy": "2024-11-29T04:26:39.465646Z",
     "iopub.status.idle": "2024-11-29T04:26:39.950992Z",
     "shell.execute_reply": "2024-11-29T04:26:39.950523Z"
    }
   },
   "outputs": [],
   "source": [
    "import pandas as pd\n",
    "import numpy as np\n",
    "#from sklearn.multiclass import OneVsRestClassifier\n",
    "from sklearn.model_selection import GridSearchCV, train_test_split\n",
    "from sklearn.preprocessing import LabelEncoder\n",
    "from sklearn.ensemble import RandomForestClassifier\n",
    "from sklearn.metrics import classification_report, accuracy_score\n",
    "from sklearn.tree import DecisionTreeClassifier\n",
    "from sklearn.svm import SVC\n",
    "#from sklearn.metrics import make_scorer, f1_score\n",
    "import joblib\n",
    "#from sklearn.datasets import make_classification\n",
    "from sklearn.neighbors import KNeighborsClassifier\n",
    "#import warnings\n",
    "#from ns_gradient.nsgrads import calculator as calc"
   ]
  },
  {
   "cell_type": "code",
   "execution_count": null,
   "id": "3a6e6960-2ee8-453f-975f-bbebad794f22",
   "metadata": {},
   "outputs": [],
   "source": []
  },
  {
   "cell_type": "code",
   "execution_count": null,
   "id": "a859b0ed-1106-447c-ada4-e803ff5fe57e",
   "metadata": {},
   "outputs": [],
   "source": []
  },
  {
   "cell_type": "code",
   "execution_count": 628,
   "id": "e2538d78-088e-4d75-afd5-c5ddf7de4d41",
   "metadata": {
    "execution": {
     "iopub.execute_input": "2024-11-29T04:26:39.952783Z",
     "iopub.status.busy": "2024-11-29T04:26:39.952418Z",
     "iopub.status.idle": "2024-11-29T04:26:39.961083Z",
     "shell.execute_reply": "2024-11-29T04:26:39.960709Z"
    }
   },
   "outputs": [],
   "source": [
    "#df = pd.read_csv('clean_data/imitate_06.csv')\n",
    "df_2 = pd.read_csv('/home/defi/Desktop/portfolio/projects/python/pipeline_defi/clean_data/imitate_01.csv')"
   ]
  },
  {
   "cell_type": "code",
   "execution_count": 629,
   "id": "b522334e-4a89-4d16-a0a3-f9885328f0cb",
   "metadata": {},
   "outputs": [
    {
     "data": {
      "text/plain": [
       "1067"
      ]
     },
     "execution_count": 629,
     "metadata": {},
     "output_type": "execute_result"
    }
   ],
   "source": [
    "len(df_2)"
   ]
  },
  {
   "cell_type": "code",
   "execution_count": 630,
   "id": "0083852f-5f07-4be2-b9bb-c6f12b9a78e0",
   "metadata": {
    "execution": {
     "iopub.execute_input": "2024-11-29T04:26:39.962274Z",
     "iopub.status.busy": "2024-11-29T04:26:39.962058Z",
     "iopub.status.idle": "2024-11-29T04:26:39.974453Z",
     "shell.execute_reply": "2024-11-29T04:26:39.974089Z"
    }
   },
   "outputs": [
    {
     "data": {
      "text/plain": [
       "Series([], Name: count, dtype: int64)"
      ]
     },
     "execution_count": 630,
     "metadata": {},
     "output_type": "execute_result"
    }
   ],
   "source": [
    "df_2[pd.isna(df_2['action']) == True].value_counts()"
   ]
  },
  {
   "cell_type": "code",
   "execution_count": 631,
   "id": "ffa208fc-e0ff-4dfc-a2b8-66fd2b0d1f70",
   "metadata": {
    "execution": {
     "iopub.execute_input": "2024-11-29T04:26:39.975610Z",
     "iopub.status.busy": "2024-11-29T04:26:39.975400Z",
     "iopub.status.idle": "2024-11-29T04:26:39.977251Z",
     "shell.execute_reply": "2024-11-29T04:26:39.976908Z"
    }
   },
   "outputs": [],
   "source": [
    "#df_2.head()"
   ]
  },
  {
   "cell_type": "code",
   "execution_count": 632,
   "id": "4d70cc60-e190-4971-8648-fa78e65029e0",
   "metadata": {
    "execution": {
     "iopub.execute_input": "2024-11-29T04:26:39.978386Z",
     "iopub.status.busy": "2024-11-29T04:26:39.978188Z",
     "iopub.status.idle": "2024-11-29T04:26:39.986277Z",
     "shell.execute_reply": "2024-11-29T04:26:39.985889Z"
    }
   },
   "outputs": [
    {
     "name": "stdout",
     "output_type": "stream",
     "text": [
      "      Unnamed:     open     high     ema-26     ema-12      low  \\\n",
      "1062      1062   4.1530   4.1800   4.198623   4.207469   4.1240   \n",
      "1063      1063   0.6165   0.6188   0.664253   0.695871   0.5855   \n",
      "1064      1064  14.0100  14.0790  14.037543  14.202454  13.9720   \n",
      "1065      1065  10.0310  10.0570  10.691175  11.297403   9.6110   \n",
      "1066      1066   2.1352   2.1989   2.144955   2.151060   2.1349   \n",
      "\n",
      "      mean-grad-hist    close      volume     sma-25  long_jcrosk  short_kdj  \\\n",
      "1062               1   4.1620    340635.0   4.228320            0          0   \n",
      "1063               1   0.5890  27505224.0   0.711084            0          0   \n",
      "1064               0  14.0680     50978.0  14.109600            0          0   \n",
      "1065               0   9.7140    212967.3  11.536760            0          0   \n",
      "1066               0   2.1951   1386908.1   2.135556            0          0   \n",
      "\n",
      "     imit-enter-short    sma-05     sma-07 imit-exit-short  \\\n",
      "1062         go_short   4.17300   4.189857        go_short   \n",
      "1063         go_short   0.61912   0.648114        go_short   \n",
      "1064         go_short  14.00380  13.996714        go_short   \n",
      "1065         go_short   9.97420  10.404429        go_short   \n",
      "1066         go_short   2.14584   2.142686        go_short   \n",
      "\n",
      "             exit_reason      action  \n",
      "1062  trailing_stop_loss  do_nothing  \n",
      "1063  trailing_stop_loss  do_nothing  \n",
      "1064  trailing_stop_loss  do_nothing  \n",
      "1065  trailing_stop_loss  do_nothing  \n",
      "1066  trailing_stop_loss  do_nothing  \n"
     ]
    }
   ],
   "source": [
    "train_data = pd.DataFrame()\n",
    "for col in df_2.columns:\n",
    "    col_name = col.split(' ')[0]\n",
    "    train_data[f'{col_name}'] = df_2[col]\n",
    "#train_data['sma-05-grad'] = calc(train_data, periods=2, column='sma-05').get('gradients_mean')\n",
    "#train_data['sma-07-grad'] = calc(train_data, periods=2, column='sma-07').get('gradients_mean')\n",
    "#train_data['sma-25-grad'] = calc(train_data, periods=2, column='sma-25').get('gradients_mean')\n",
    "print(train_data.tail())\n",
    "train = train_data"
   ]
  },
  {
   "cell_type": "code",
   "execution_count": 633,
   "id": "c6acb449",
   "metadata": {},
   "outputs": [],
   "source": [
    "#train['sma-05-grad'].value_counts()"
   ]
  },
  {
   "cell_type": "code",
   "execution_count": 634,
   "id": "0fd7eef4-4d71-436c-8c27-39b0c6e517e7",
   "metadata": {
    "execution": {
     "iopub.execute_input": "2024-11-29T04:26:39.987660Z",
     "iopub.status.busy": "2024-11-29T04:26:39.987354Z",
     "iopub.status.idle": "2024-11-29T04:26:39.990439Z",
     "shell.execute_reply": "2024-11-29T04:26:39.990108Z"
    }
   },
   "outputs": [
    {
     "name": "stdout",
     "output_type": "stream",
     "text": [
      "1067 Index(['Unnamed:', 'open', 'high', 'ema-26', 'ema-12', 'low', 'mean-grad-hist',\n",
      "       'close', 'volume', 'sma-25', 'long_jcrosk', 'short_kdj',\n",
      "       'imit-enter-short', 'sma-05', 'sma-07', 'imit-exit-short',\n",
      "       'exit_reason', 'action'],\n",
      "      dtype='object')\n"
     ]
    }
   ],
   "source": [
    "print(len(train), train.columns)"
   ]
  },
  {
   "cell_type": "code",
   "execution_count": 635,
   "id": "0b47b415-afaa-4b37-a2db-0c88662f8f56",
   "metadata": {
    "execution": {
     "iopub.execute_input": "2024-11-29T04:26:39.991634Z",
     "iopub.status.busy": "2024-11-29T04:26:39.991389Z",
     "iopub.status.idle": "2024-11-29T04:26:39.993323Z",
     "shell.execute_reply": "2024-11-29T04:26:39.992933Z"
    }
   },
   "outputs": [],
   "source": [
    "#train.drop(['Unnamed:'], axis=1, inplace=True)"
   ]
  },
  {
   "cell_type": "code",
   "execution_count": 636,
   "id": "b39cba5b-d4e9-450a-bca7-58c3b5cb3584",
   "metadata": {
    "execution": {
     "iopub.execute_input": "2024-11-29T04:26:39.994667Z",
     "iopub.status.busy": "2024-11-29T04:26:39.994349Z",
     "iopub.status.idle": "2024-11-29T04:26:39.997943Z",
     "shell.execute_reply": "2024-11-29T04:26:39.997494Z"
    }
   },
   "outputs": [
    {
     "name": "stdout",
     "output_type": "stream",
     "text": [
      "Action value counts:\n",
      " action\n",
      "go_short      940\n",
      "go_long        84\n",
      "do_nothing     43\n",
      "Name: count, dtype: int64\n"
     ]
    }
   ],
   "source": [
    "print(f\"Action value counts:\\n {train['action'].value_counts()}\")"
   ]
  },
  {
   "cell_type": "code",
   "execution_count": 637,
   "id": "76a8d625-0be6-4a19-b505-091fc181ae17",
   "metadata": {
    "execution": {
     "iopub.execute_input": "2024-11-29T04:26:39.999288Z",
     "iopub.status.busy": "2024-11-29T04:26:39.998977Z",
     "iopub.status.idle": "2024-11-29T04:26:40.000871Z",
     "shell.execute_reply": "2024-11-29T04:26:40.000518Z"
    }
   },
   "outputs": [],
   "source": [
    "#train.to_csv('/home/defi/Desktop/portfolio/projects/python/pipeline_defi/clean_data/imitate_07.csv')\n",
    "#!pwd"
   ]
  },
  {
   "cell_type": "code",
   "execution_count": 638,
   "id": "b2dc24b4-97da-46a2-8f7e-407963743d8f",
   "metadata": {
    "execution": {
     "iopub.execute_input": "2024-11-29T04:26:40.002204Z",
     "iopub.status.busy": "2024-11-29T04:26:40.001880Z",
     "iopub.status.idle": "2024-11-29T04:26:40.005304Z",
     "shell.execute_reply": "2024-11-29T04:26:40.004999Z"
    }
   },
   "outputs": [
    {
     "data": {
      "text/plain": [
       "action\n",
       "go_short      False\n",
       "go_long       False\n",
       "do_nothing    False\n",
       "Name: count, dtype: bool"
      ]
     },
     "execution_count": 638,
     "metadata": {},
     "output_type": "execute_result"
    }
   ],
   "source": [
    "pd.isna(train['action'].value_counts())"
   ]
  },
  {
   "cell_type": "code",
   "execution_count": 639,
   "id": "8e896b27-8313-4a71-8498-16de43b4031c",
   "metadata": {
    "execution": {
     "iopub.execute_input": "2024-11-29T04:26:40.006469Z",
     "iopub.status.busy": "2024-11-29T04:26:40.006232Z",
     "iopub.status.idle": "2024-11-29T04:26:40.033437Z",
     "shell.execute_reply": "2024-11-29T04:26:40.033106Z"
    }
   },
   "outputs": [],
   "source": [
    "# import the remaining ml libs\n",
    "'''\n",
    "from sklearn.linear_model import LogisticRegression, LinearRegression, SGDClassifier, SGDRegressor\n",
    "from sklearn.calibration import CalibratedClassifierCV, calibration_curve\n",
    "from sklearn.svm import SVR\n",
    "from sklearn.neighbors import KNeighborsClassifier\n",
    "#from sklearn.tree import DecisionTreeClassifier\n",
    "from sklearn.tree import DecisionTreeClassifier\n",
    "from sklearn.naive_bayes import GaussianNB, MultinomialNB, ComplementNB\n",
    "from sklearn.neural_network import MLPClassifier\n",
    "from sklearn.multiclass import OneVsRestClassifier\n",
    "from sklearn.multioutput import MultiOutputClassifier\n",
    "from sklearn.svm import LinearSVC\n",
    "from sklearn.svm import SVC\n",
    "from sklearn.gaussian_process import GaussianProcessClassifier\n",
    "from sklearn.gaussian_process.kernels import RBF\n",
    "from sklearn.tree import DecisionTreeClassifier\n",
    "#from sklearn.ensemble import RandomForestClassifier, AdaBoostClassifier\n",
    "from sklearn.discriminant_analysis import QuadraticDiscriminantAnalysis\n",
    "import lightgbm as ltb\n",
    "from imblearn.ensemble import BalancedRandomForestClassifier\n",
    "'''\n",
    "from sklearn.ensemble import RandomForestClassifier\n",
    "from imblearn.ensemble import BalancedBaggingClassifier"
   ]
  },
  {
   "cell_type": "code",
   "execution_count": 640,
   "id": "8c0872ca-cc9a-4e6a-a6e7-82cf1b3dbe0d",
   "metadata": {
    "execution": {
     "iopub.execute_input": "2024-11-29T04:26:40.034812Z",
     "iopub.status.busy": "2024-11-29T04:26:40.034486Z",
     "iopub.status.idle": "2024-11-29T04:26:40.038213Z",
     "shell.execute_reply": "2024-11-29T04:26:40.037920Z"
    }
   },
   "outputs": [
    {
     "data": {
      "text/plain": [
       "'\\nmodel = MLPClassifier(alpha=1, max_iter=1000)\\nmodel = RandomForestClassifier(max_depth=5, n_estimators=10, max_features=1)\\nmodel = DecisionTreeClassifier(max_depth=5)\\nmodel = SVC(kernel=\"linear\", C=0.025)\\nmodel = SVC(gamma=2, C=1)\\nmodel = AdaBoostClassifier() # best\\nmodel = GaussianNB() # best\\n'"
      ]
     },
     "execution_count": 640,
     "metadata": {},
     "output_type": "execute_result"
    }
   ],
   "source": [
    "# Sellect model\n",
    "#model = KNeighborsClassifier(n_neighbors=18) # best, 2, 18, 87\n",
    "#model = KNeighborsClassifier(leaf_size=10, n_neighbors=10, p=1)\n",
    "#model = DecisionTreeClassifier(max_depth=100, random_state=42) # best\n",
    "#model = RandomForestClassifier(n_estimators=100, max_features='sqrt', random_state=42, class_weight = 'balanced', bootstrap= True)\n",
    "#model = RandomForestClassifier(bootstrap=False, max_depth=10, max_features='sqrt',\n",
    "#                       min_samples_leaf=4, n_estimators=50, random_state=42, class_weight='balanced')\n",
    "#model = LogisticRegression(max_iter=1500) # next best\n",
    "#model = MLPClassifier(alpha=1, max_iter=1000)\n",
    "#model = SGDClassifier()\n",
    "#model = OneVsRestClassifier(RandomForestClassifier(max_features='sqrt', random_state=42)) # dual=\"auto\", \n",
    "#model = MultiOutputClassifier(RandomForestClassifier(n_estimators=100, max_features='sqrt', random_state=42)) # dual=\"auto\", \n",
    "#model = QuadraticDiscriminantAnalysis()\n",
    "#model = ltb.LGBMClassifier(objective=\"multiclass\", n_estimators=3000, learning_rate=0.05, random_state=1121218) # objective=\"binary\", n_estimators=10000\n",
    "#model = ltb.LGBMRegressor(objective=\"binary\", learning_rate=0.1, random_state=1121218)\n",
    "#model = AdaBoostClassifier(algorithm='SAMME', n_estimators=118, random_state=42, learning_rate=0.09) # best\n",
    "#model = AdaBoostClassifier(\n",
    "#    estimator=DecisionTreeClassifier(max_depth=2),\n",
    "#    algorithm='SAMME', n_estimators=118, random_state=42, learning_rate=0.09\n",
    "#)\n",
    "#model = SVC(kernel=\"sigmoid\", C=0.025, random_state = 42) # C=0.025, random_state = 0\n",
    "#model = SVC(gamma=2, C=1)\n",
    "#model = GaussianNB() # best\n",
    "#model = BalancedRandomForestClassifier(sampling_strategy='not majority', replacement=True, max_depth=2, random_state=0, bootstrap=False)\n",
    "model = BalancedBaggingClassifier(RandomForestClassifier(n_estimators=100, max_features='sqrt', random_state=42, class_weight = 'balanced', bootstrap= True),\n",
    "                                sampling_strategy='not majority',\n",
    "                                replacement=False,\n",
    "                                random_state=42)\n",
    "#model = MultinomialNB(alpha=0.01, class_prior=[0.1, 0.03, 0.87])\n",
    "'''\n",
    "model = MLPClassifier(alpha=1, max_iter=1000)\n",
    "model = RandomForestClassifier(max_depth=5, n_estimators=10, max_features=1)\n",
    "model = DecisionTreeClassifier(max_depth=5)\n",
    "model = SVC(kernel=\"linear\", C=0.025)\n",
    "model = SVC(gamma=2, C=1)\n",
    "model = AdaBoostClassifier() # best\n",
    "model = GaussianNB() # best\n",
    "'''"
   ]
  },
  {
   "cell_type": "code",
   "execution_count": 641,
   "id": "3a37a98e-7aa2-4bc7-bac4-5d887419d90a",
   "metadata": {
    "execution": {
     "iopub.execute_input": "2024-11-29T04:26:40.039357Z",
     "iopub.status.busy": "2024-11-29T04:26:40.039121Z",
     "iopub.status.idle": "2024-11-29T04:26:40.041671Z",
     "shell.execute_reply": "2024-11-29T04:26:40.041376Z"
    }
   },
   "outputs": [
    {
     "data": {
      "text/plain": [
       "Index(['Unnamed:', 'open', 'high', 'ema-26', 'ema-12', 'low', 'mean-grad-hist',\n",
       "       'close', 'volume', 'sma-25', 'long_jcrosk', 'short_kdj',\n",
       "       'imit-enter-short', 'sma-05', 'sma-07', 'imit-exit-short',\n",
       "       'exit_reason', 'action'],\n",
       "      dtype='object')"
      ]
     },
     "execution_count": 641,
     "metadata": {},
     "output_type": "execute_result"
    }
   ],
   "source": [
    "train.columns"
   ]
  },
  {
   "cell_type": "code",
   "execution_count": 642,
   "id": "15b659b0-e31b-4abd-b5ec-35c9110f0a5a",
   "metadata": {
    "execution": {
     "iopub.execute_input": "2024-11-29T04:26:40.042845Z",
     "iopub.status.busy": "2024-11-29T04:26:40.042551Z",
     "iopub.status.idle": "2024-11-29T04:26:40.050207Z",
     "shell.execute_reply": "2024-11-29T04:26:40.049912Z"
    }
   },
   "outputs": [
    {
     "data": {
      "text/html": [
       "<div>\n",
       "<style scoped>\n",
       "    .dataframe tbody tr th:only-of-type {\n",
       "        vertical-align: middle;\n",
       "    }\n",
       "\n",
       "    .dataframe tbody tr th {\n",
       "        vertical-align: top;\n",
       "    }\n",
       "\n",
       "    .dataframe thead th {\n",
       "        text-align: right;\n",
       "    }\n",
       "</style>\n",
       "<table border=\"1\" class=\"dataframe\">\n",
       "  <thead>\n",
       "    <tr style=\"text-align: right;\">\n",
       "      <th></th>\n",
       "      <th>Unnamed:</th>\n",
       "      <th>open</th>\n",
       "      <th>high</th>\n",
       "      <th>ema-26</th>\n",
       "      <th>ema-12</th>\n",
       "      <th>low</th>\n",
       "      <th>mean-grad-hist</th>\n",
       "      <th>close</th>\n",
       "      <th>volume</th>\n",
       "      <th>sma-25</th>\n",
       "      <th>long_jcrosk</th>\n",
       "      <th>short_kdj</th>\n",
       "      <th>imit-enter-short</th>\n",
       "      <th>sma-05</th>\n",
       "      <th>sma-07</th>\n",
       "      <th>imit-exit-short</th>\n",
       "      <th>exit_reason</th>\n",
       "      <th>action</th>\n",
       "    </tr>\n",
       "  </thead>\n",
       "  <tbody>\n",
       "    <tr>\n",
       "      <th>0</th>\n",
       "      <td>0</td>\n",
       "      <td>7.64500</td>\n",
       "      <td>7.67400</td>\n",
       "      <td>8.010006</td>\n",
       "      <td>8.347683</td>\n",
       "      <td>7.36500</td>\n",
       "      <td>1</td>\n",
       "      <td>7.43600</td>\n",
       "      <td>1319083.25</td>\n",
       "      <td>8.451480</td>\n",
       "      <td>1</td>\n",
       "      <td>0</td>\n",
       "      <td>go_short</td>\n",
       "      <td>7.621000</td>\n",
       "      <td>7.876714</td>\n",
       "      <td>go_short</td>\n",
       "      <td>force_exit</td>\n",
       "      <td>do_nothing</td>\n",
       "    </tr>\n",
       "    <tr>\n",
       "      <th>1</th>\n",
       "      <td>1</td>\n",
       "      <td>0.09728</td>\n",
       "      <td>0.09733</td>\n",
       "      <td>0.097378</td>\n",
       "      <td>0.097718</td>\n",
       "      <td>0.09703</td>\n",
       "      <td>0</td>\n",
       "      <td>0.09723</td>\n",
       "      <td>1657447.00</td>\n",
       "      <td>0.097572</td>\n",
       "      <td>0</td>\n",
       "      <td>0</td>\n",
       "      <td>go_short</td>\n",
       "      <td>0.097248</td>\n",
       "      <td>0.097311</td>\n",
       "      <td>go_short</td>\n",
       "      <td>force_exit</td>\n",
       "      <td>do_nothing</td>\n",
       "    </tr>\n",
       "    <tr>\n",
       "      <th>2</th>\n",
       "      <td>2</td>\n",
       "      <td>5.19300</td>\n",
       "      <td>5.20800</td>\n",
       "      <td>5.222816</td>\n",
       "      <td>5.237305</td>\n",
       "      <td>5.18900</td>\n",
       "      <td>0</td>\n",
       "      <td>5.20500</td>\n",
       "      <td>25717.00</td>\n",
       "      <td>5.258200</td>\n",
       "      <td>0</td>\n",
       "      <td>0</td>\n",
       "      <td>go_short</td>\n",
       "      <td>5.212200</td>\n",
       "      <td>5.205286</td>\n",
       "      <td>go_short</td>\n",
       "      <td>force_exit</td>\n",
       "      <td>do_nothing</td>\n",
       "    </tr>\n",
       "    <tr>\n",
       "      <th>3</th>\n",
       "      <td>3</td>\n",
       "      <td>2.06900</td>\n",
       "      <td>2.07200</td>\n",
       "      <td>2.060259</td>\n",
       "      <td>2.103434</td>\n",
       "      <td>1.74400</td>\n",
       "      <td>1</td>\n",
       "      <td>1.75000</td>\n",
       "      <td>17192782.70</td>\n",
       "      <td>2.118480</td>\n",
       "      <td>0</td>\n",
       "      <td>0</td>\n",
       "      <td>go_short</td>\n",
       "      <td>2.027600</td>\n",
       "      <td>2.055143</td>\n",
       "      <td>go_short</td>\n",
       "      <td>force_exit</td>\n",
       "      <td>do_nothing</td>\n",
       "    </tr>\n",
       "    <tr>\n",
       "      <th>4</th>\n",
       "      <td>4</td>\n",
       "      <td>20.62700</td>\n",
       "      <td>20.63300</td>\n",
       "      <td>20.759276</td>\n",
       "      <td>20.924264</td>\n",
       "      <td>20.15600</td>\n",
       "      <td>1</td>\n",
       "      <td>20.23500</td>\n",
       "      <td>64546.10</td>\n",
       "      <td>21.013880</td>\n",
       "      <td>0</td>\n",
       "      <td>0</td>\n",
       "      <td>go_short</td>\n",
       "      <td>20.591600</td>\n",
       "      <td>20.669143</td>\n",
       "      <td>go_short</td>\n",
       "      <td>force_exit</td>\n",
       "      <td>do_nothing</td>\n",
       "    </tr>\n",
       "  </tbody>\n",
       "</table>\n",
       "</div>"
      ],
      "text/plain": [
       "   Unnamed:      open      high     ema-26     ema-12       low  \\\n",
       "0         0   7.64500   7.67400   8.010006   8.347683   7.36500   \n",
       "1         1   0.09728   0.09733   0.097378   0.097718   0.09703   \n",
       "2         2   5.19300   5.20800   5.222816   5.237305   5.18900   \n",
       "3         3   2.06900   2.07200   2.060259   2.103434   1.74400   \n",
       "4         4  20.62700  20.63300  20.759276  20.924264  20.15600   \n",
       "\n",
       "   mean-grad-hist     close       volume     sma-25  long_jcrosk  short_kdj  \\\n",
       "0               1   7.43600   1319083.25   8.451480            1          0   \n",
       "1               0   0.09723   1657447.00   0.097572            0          0   \n",
       "2               0   5.20500     25717.00   5.258200            0          0   \n",
       "3               1   1.75000  17192782.70   2.118480            0          0   \n",
       "4               1  20.23500     64546.10  21.013880            0          0   \n",
       "\n",
       "  imit-enter-short     sma-05     sma-07 imit-exit-short exit_reason  \\\n",
       "0         go_short   7.621000   7.876714        go_short  force_exit   \n",
       "1         go_short   0.097248   0.097311        go_short  force_exit   \n",
       "2         go_short   5.212200   5.205286        go_short  force_exit   \n",
       "3         go_short   2.027600   2.055143        go_short  force_exit   \n",
       "4         go_short  20.591600  20.669143        go_short  force_exit   \n",
       "\n",
       "       action  \n",
       "0  do_nothing  \n",
       "1  do_nothing  \n",
       "2  do_nothing  \n",
       "3  do_nothing  \n",
       "4  do_nothing  "
      ]
     },
     "execution_count": 642,
     "metadata": {},
     "output_type": "execute_result"
    }
   ],
   "source": [
    "train.head()"
   ]
  },
  {
   "cell_type": "code",
   "execution_count": 643,
   "id": "59ec239b-09b9-492b-b480-6d4198d219af",
   "metadata": {
    "execution": {
     "iopub.execute_input": "2024-11-29T04:26:40.051355Z",
     "iopub.status.busy": "2024-11-29T04:26:40.051119Z",
     "iopub.status.idle": "2024-11-29T04:26:40.052880Z",
     "shell.execute_reply": "2024-11-29T04:26:40.052581Z"
    }
   },
   "outputs": [],
   "source": [
    "#df.dropna(axis=1, inplace=True)"
   ]
  },
  {
   "cell_type": "code",
   "execution_count": 644,
   "id": "f23a5324-0e6e-44aa-bee5-9b107ca53f46",
   "metadata": {
    "execution": {
     "iopub.execute_input": "2024-11-29T04:26:40.054004Z",
     "iopub.status.busy": "2024-11-29T04:26:40.053771Z",
     "iopub.status.idle": "2024-11-29T04:26:40.056194Z",
     "shell.execute_reply": "2024-11-29T04:26:40.055872Z"
    }
   },
   "outputs": [
    {
     "name": "stdout",
     "output_type": "stream",
     "text": [
      "action\n",
      "go_short      940\n",
      "go_long        84\n",
      "do_nothing     43\n",
      "Name: count, dtype: int64\n"
     ]
    }
   ],
   "source": [
    "#print(np.unique(df['action']))\n",
    "print(df_2['action'].value_counts())\n",
    "#train = df\n",
    "#train['action'] = np.where(pd.isna(df_2['action']) == True, 'go_long', df_2['action'])"
   ]
  },
  {
   "cell_type": "code",
   "execution_count": 645,
   "id": "fae0233b",
   "metadata": {
    "execution": {
     "iopub.execute_input": "2024-11-29T04:26:40.057316Z",
     "iopub.status.busy": "2024-11-29T04:26:40.057080Z",
     "iopub.status.idle": "2024-11-29T04:26:40.061610Z",
     "shell.execute_reply": "2024-11-29T04:26:40.061314Z"
    }
   },
   "outputs": [
    {
     "data": {
      "text/plain": [
       "action\n",
       "go_short      940\n",
       "go_long        84\n",
       "do_nothing     43\n",
       "Name: count, dtype: int64"
      ]
     },
     "execution_count": 645,
     "metadata": {},
     "output_type": "execute_result"
    }
   ],
   "source": [
    "train[pd.isna(train['action']) == False]['action'].value_counts()"
   ]
  },
  {
   "cell_type": "code",
   "execution_count": 646,
   "id": "2112ae4c",
   "metadata": {
    "execution": {
     "iopub.execute_input": "2024-11-29T04:26:40.062731Z",
     "iopub.status.busy": "2024-11-29T04:26:40.062495Z",
     "iopub.status.idle": "2024-11-29T04:26:40.095467Z",
     "shell.execute_reply": "2024-11-29T04:26:40.095143Z"
    }
   },
   "outputs": [],
   "source": [
    "train.to_csv('/home/defi/Desktop/portfolio/projects/python/pipeline_defi/clean_data/imitate_07.csv')"
   ]
  },
  {
   "cell_type": "code",
   "execution_count": 647,
   "id": "8f2aa9de",
   "metadata": {
    "execution": {
     "iopub.execute_input": "2024-11-29T04:26:40.096654Z",
     "iopub.status.busy": "2024-11-29T04:26:40.096402Z",
     "iopub.status.idle": "2024-11-29T04:26:40.101575Z",
     "shell.execute_reply": "2024-11-29T04:26:40.101275Z"
    }
   },
   "outputs": [
    {
     "data": {
      "text/html": [
       "<div>\n",
       "<style scoped>\n",
       "    .dataframe tbody tr th:only-of-type {\n",
       "        vertical-align: middle;\n",
       "    }\n",
       "\n",
       "    .dataframe tbody tr th {\n",
       "        vertical-align: top;\n",
       "    }\n",
       "\n",
       "    .dataframe thead th {\n",
       "        text-align: right;\n",
       "    }\n",
       "</style>\n",
       "<table border=\"1\" class=\"dataframe\">\n",
       "  <thead>\n",
       "    <tr style=\"text-align: right;\">\n",
       "      <th></th>\n",
       "      <th>Unnamed:</th>\n",
       "      <th>open</th>\n",
       "      <th>high</th>\n",
       "      <th>ema-26</th>\n",
       "      <th>ema-12</th>\n",
       "      <th>low</th>\n",
       "      <th>mean-grad-hist</th>\n",
       "      <th>close</th>\n",
       "      <th>volume</th>\n",
       "      <th>sma-25</th>\n",
       "      <th>long_jcrosk</th>\n",
       "      <th>short_kdj</th>\n",
       "      <th>imit-enter-short</th>\n",
       "      <th>sma-05</th>\n",
       "      <th>sma-07</th>\n",
       "      <th>imit-exit-short</th>\n",
       "      <th>exit_reason</th>\n",
       "      <th>action</th>\n",
       "    </tr>\n",
       "  </thead>\n",
       "  <tbody>\n",
       "  </tbody>\n",
       "</table>\n",
       "</div>"
      ],
      "text/plain": [
       "Empty DataFrame\n",
       "Columns: [Unnamed:, open, high, ema-26, ema-12, low, mean-grad-hist, close, volume, sma-25, long_jcrosk, short_kdj, imit-enter-short, sma-05, sma-07, imit-exit-short, exit_reason, action]\n",
       "Index: []"
      ]
     },
     "execution_count": 647,
     "metadata": {},
     "output_type": "execute_result"
    }
   ],
   "source": [
    "train[pd.isna(train['action']) == True]"
   ]
  },
  {
   "cell_type": "code",
   "execution_count": 648,
   "id": "9e31e117",
   "metadata": {
    "execution": {
     "iopub.execute_input": "2024-11-29T04:26:40.102749Z",
     "iopub.status.busy": "2024-11-29T04:26:40.102463Z",
     "iopub.status.idle": "2024-11-29T04:26:40.109789Z",
     "shell.execute_reply": "2024-11-29T04:26:40.109492Z"
    }
   },
   "outputs": [
    {
     "data": {
      "text/html": [
       "<div>\n",
       "<style scoped>\n",
       "    .dataframe tbody tr th:only-of-type {\n",
       "        vertical-align: middle;\n",
       "    }\n",
       "\n",
       "    .dataframe tbody tr th {\n",
       "        vertical-align: top;\n",
       "    }\n",
       "\n",
       "    .dataframe thead th {\n",
       "        text-align: right;\n",
       "    }\n",
       "</style>\n",
       "<table border=\"1\" class=\"dataframe\">\n",
       "  <thead>\n",
       "    <tr style=\"text-align: right;\">\n",
       "      <th></th>\n",
       "      <th>Unnamed:</th>\n",
       "      <th>open</th>\n",
       "      <th>high</th>\n",
       "      <th>ema-26</th>\n",
       "      <th>ema-12</th>\n",
       "      <th>low</th>\n",
       "      <th>mean-grad-hist</th>\n",
       "      <th>close</th>\n",
       "      <th>volume</th>\n",
       "      <th>sma-25</th>\n",
       "      <th>long_jcrosk</th>\n",
       "      <th>short_kdj</th>\n",
       "      <th>imit-enter-short</th>\n",
       "      <th>sma-05</th>\n",
       "      <th>sma-07</th>\n",
       "      <th>imit-exit-short</th>\n",
       "      <th>exit_reason</th>\n",
       "      <th>action</th>\n",
       "    </tr>\n",
       "  </thead>\n",
       "  <tbody>\n",
       "    <tr>\n",
       "      <th>0</th>\n",
       "      <td>0</td>\n",
       "      <td>7.64500</td>\n",
       "      <td>7.67400</td>\n",
       "      <td>8.010006</td>\n",
       "      <td>8.347683</td>\n",
       "      <td>7.36500</td>\n",
       "      <td>1</td>\n",
       "      <td>7.43600</td>\n",
       "      <td>1319083.25</td>\n",
       "      <td>8.451480</td>\n",
       "      <td>1</td>\n",
       "      <td>0</td>\n",
       "      <td>go_short</td>\n",
       "      <td>7.621000</td>\n",
       "      <td>7.876714</td>\n",
       "      <td>go_short</td>\n",
       "      <td>force_exit</td>\n",
       "      <td>do_nothing</td>\n",
       "    </tr>\n",
       "    <tr>\n",
       "      <th>1</th>\n",
       "      <td>1</td>\n",
       "      <td>0.09728</td>\n",
       "      <td>0.09733</td>\n",
       "      <td>0.097378</td>\n",
       "      <td>0.097718</td>\n",
       "      <td>0.09703</td>\n",
       "      <td>0</td>\n",
       "      <td>0.09723</td>\n",
       "      <td>1657447.00</td>\n",
       "      <td>0.097572</td>\n",
       "      <td>0</td>\n",
       "      <td>0</td>\n",
       "      <td>go_short</td>\n",
       "      <td>0.097248</td>\n",
       "      <td>0.097311</td>\n",
       "      <td>go_short</td>\n",
       "      <td>force_exit</td>\n",
       "      <td>do_nothing</td>\n",
       "    </tr>\n",
       "    <tr>\n",
       "      <th>2</th>\n",
       "      <td>2</td>\n",
       "      <td>5.19300</td>\n",
       "      <td>5.20800</td>\n",
       "      <td>5.222816</td>\n",
       "      <td>5.237305</td>\n",
       "      <td>5.18900</td>\n",
       "      <td>0</td>\n",
       "      <td>5.20500</td>\n",
       "      <td>25717.00</td>\n",
       "      <td>5.258200</td>\n",
       "      <td>0</td>\n",
       "      <td>0</td>\n",
       "      <td>go_short</td>\n",
       "      <td>5.212200</td>\n",
       "      <td>5.205286</td>\n",
       "      <td>go_short</td>\n",
       "      <td>force_exit</td>\n",
       "      <td>do_nothing</td>\n",
       "    </tr>\n",
       "    <tr>\n",
       "      <th>3</th>\n",
       "      <td>3</td>\n",
       "      <td>2.06900</td>\n",
       "      <td>2.07200</td>\n",
       "      <td>2.060259</td>\n",
       "      <td>2.103434</td>\n",
       "      <td>1.74400</td>\n",
       "      <td>1</td>\n",
       "      <td>1.75000</td>\n",
       "      <td>17192782.70</td>\n",
       "      <td>2.118480</td>\n",
       "      <td>0</td>\n",
       "      <td>0</td>\n",
       "      <td>go_short</td>\n",
       "      <td>2.027600</td>\n",
       "      <td>2.055143</td>\n",
       "      <td>go_short</td>\n",
       "      <td>force_exit</td>\n",
       "      <td>do_nothing</td>\n",
       "    </tr>\n",
       "    <tr>\n",
       "      <th>4</th>\n",
       "      <td>4</td>\n",
       "      <td>20.62700</td>\n",
       "      <td>20.63300</td>\n",
       "      <td>20.759276</td>\n",
       "      <td>20.924264</td>\n",
       "      <td>20.15600</td>\n",
       "      <td>1</td>\n",
       "      <td>20.23500</td>\n",
       "      <td>64546.10</td>\n",
       "      <td>21.013880</td>\n",
       "      <td>0</td>\n",
       "      <td>0</td>\n",
       "      <td>go_short</td>\n",
       "      <td>20.591600</td>\n",
       "      <td>20.669143</td>\n",
       "      <td>go_short</td>\n",
       "      <td>force_exit</td>\n",
       "      <td>do_nothing</td>\n",
       "    </tr>\n",
       "  </tbody>\n",
       "</table>\n",
       "</div>"
      ],
      "text/plain": [
       "   Unnamed:      open      high     ema-26     ema-12       low  \\\n",
       "0         0   7.64500   7.67400   8.010006   8.347683   7.36500   \n",
       "1         1   0.09728   0.09733   0.097378   0.097718   0.09703   \n",
       "2         2   5.19300   5.20800   5.222816   5.237305   5.18900   \n",
       "3         3   2.06900   2.07200   2.060259   2.103434   1.74400   \n",
       "4         4  20.62700  20.63300  20.759276  20.924264  20.15600   \n",
       "\n",
       "   mean-grad-hist     close       volume     sma-25  long_jcrosk  short_kdj  \\\n",
       "0               1   7.43600   1319083.25   8.451480            1          0   \n",
       "1               0   0.09723   1657447.00   0.097572            0          0   \n",
       "2               0   5.20500     25717.00   5.258200            0          0   \n",
       "3               1   1.75000  17192782.70   2.118480            0          0   \n",
       "4               1  20.23500     64546.10  21.013880            0          0   \n",
       "\n",
       "  imit-enter-short     sma-05     sma-07 imit-exit-short exit_reason  \\\n",
       "0         go_short   7.621000   7.876714        go_short  force_exit   \n",
       "1         go_short   0.097248   0.097311        go_short  force_exit   \n",
       "2         go_short   5.212200   5.205286        go_short  force_exit   \n",
       "3         go_short   2.027600   2.055143        go_short  force_exit   \n",
       "4         go_short  20.591600  20.669143        go_short  force_exit   \n",
       "\n",
       "       action  \n",
       "0  do_nothing  \n",
       "1  do_nothing  \n",
       "2  do_nothing  \n",
       "3  do_nothing  \n",
       "4  do_nothing  "
      ]
     },
     "execution_count": 648,
     "metadata": {},
     "output_type": "execute_result"
    }
   ],
   "source": [
    "train.head()"
   ]
  },
  {
   "cell_type": "code",
   "execution_count": 649,
   "id": "cbeaeef5-2f4d-4119-8551-286f7789e313",
   "metadata": {
    "execution": {
     "iopub.execute_input": "2024-11-29T04:26:40.110955Z",
     "iopub.status.busy": "2024-11-29T04:26:40.110717Z",
     "iopub.status.idle": "2024-11-29T04:26:43.899044Z",
     "shell.execute_reply": "2024-11-29T04:26:43.898579Z"
    }
   },
   "outputs": [
    {
     "name": "stdout",
     "output_type": "stream",
     "text": [
      "Index(['sma-05', 'sma-07', 'sma-25'], dtype='object')\n",
      "      sma-05     sma-07     sma-25\n",
      "0   7.621000   7.876714   8.451480\n",
      "1   0.097248   0.097311   0.097572\n",
      "2   5.212200   5.205286   5.258200\n",
      "3   2.027600   2.055143   2.118480\n",
      "4  20.591600  20.669143  21.013880\n",
      "Classification Report:\n",
      "              precision    recall  f1-score   support\n",
      "\n",
      "  do_nothing       0.00      0.00      0.00        11\n",
      "     go_long       0.96      1.00      0.98        26\n",
      "    go_short       0.97      1.00      0.98       316\n",
      "\n",
      "    accuracy                           0.97       353\n",
      "   macro avg       0.64      0.67      0.65       353\n",
      "weighted avg       0.94      0.97      0.95       353\n",
      "\n",
      "Accuracy Score:\n",
      "0.9660056657223796\n"
     ]
    }
   ],
   "source": [
    "df = train # [train['action'] != 'go_short']\n",
    "# Separate features and target\n",
    "#new_cols = ['open', 'high', 'ema-26', 'ema-12', 'low', 'mean-grad-hist', 'close', 'volume', 'sma-25', 'long_jcrosk', 'short_kdj', 'sma-05', 'sma-07', 'sma-25']\n",
    "new_cols = ['sma-05', 'sma-07', 'sma-25']\n",
    "X = df[new_cols]\n",
    "print(X.columns)\n",
    "print(X.head())\n",
    "y = df['action']\n",
    "\n",
    "# Encode target labels\n",
    "label_encoder = LabelEncoder()\n",
    "y_encoded = label_encoder.fit_transform(y)\n",
    "\n",
    "# Split the data into training and testing sets\n",
    "X_train, X_test, y_train, y_test = train_test_split(X, y_encoded, test_size=0.33, shuffle=True, random_state=42)\n",
    "\n",
    "# Compare models\n",
    "#new_y = pd.Series(y_encoded)\n",
    "\n",
    "#data = pd.concat([X, new_y], axis=1)\n",
    "#clf_setup = setup(data=data, target=new_y)\n",
    "#best_model = compare_models()\n",
    "#print(best_model)\n",
    "# Train the model\n",
    "model.fit(X_train, y_train)\n",
    "\n",
    "# Make predictions\n",
    "y_pred = model.predict(X_test)\n",
    "# Extract Prediction probabilities\n",
    "#y_proba = model.predict_proba(X_test)\n",
    "# Assume threshold of 0.5 for the positive class (class 1)\n",
    "threshold = 0.5\n",
    "\n",
    "# Predict class labels based on the threshold\n",
    "#y_pred = (y_proba[:, 1] >= threshold).astype(int)\n",
    "\n",
    "# Predict class labels based on the threshold\n",
    "#y_pred = (y_proba[:, 1] >= threshold).astype(int)\n",
    "# Decode the predicted labels back to the original action labels\n",
    "y_pred_labels = label_encoder.inverse_transform(y_pred)\n",
    "y_test_labels = label_encoder.inverse_transform(y_test)\n",
    "\n",
    "# Print the classification report and accuracy score\n",
    "print(\"Classification Report:\")\n",
    "print(classification_report(y_test_labels, y_pred_labels, zero_division=True))\n",
    "\n",
    "print(\"Accuracy Score:\")\n",
    "print(accuracy_score(y_test_labels, y_pred_labels))\n"
   ]
  },
  {
   "cell_type": "code",
   "execution_count": 650,
   "id": "a04b9448-7f36-46ff-b078-cf716f20d1ec",
   "metadata": {
    "execution": {
     "iopub.execute_input": "2024-11-29T04:26:43.900561Z",
     "iopub.status.busy": "2024-11-29T04:26:43.900207Z",
     "iopub.status.idle": "2024-11-29T04:26:43.902302Z",
     "shell.execute_reply": "2024-11-29T04:26:43.901942Z"
    }
   },
   "outputs": [],
   "source": [
    "#print(X[-1:].sample)"
   ]
  },
  {
   "cell_type": "code",
   "execution_count": null,
   "id": "020e2cbe-b4f0-4eb8-b6aa-6efdd9bb35ef",
   "metadata": {
    "editable": true,
    "slideshow": {
     "slide_type": ""
    },
    "tags": []
   },
   "outputs": [],
   "source": []
  },
  {
   "cell_type": "code",
   "execution_count": 651,
   "id": "f1ce5c78-d22a-425a-b45c-110c340cbb63",
   "metadata": {
    "execution": {
     "iopub.execute_input": "2024-11-29T04:26:43.903551Z",
     "iopub.status.busy": "2024-11-29T04:26:43.903269Z",
     "iopub.status.idle": "2024-11-29T04:26:43.905158Z",
     "shell.execute_reply": "2024-11-29T04:26:43.904805Z"
    }
   },
   "outputs": [],
   "source": [
    "#print(y_pred)"
   ]
  },
  {
   "cell_type": "code",
   "execution_count": 652,
   "id": "212c6322-d819-43d4-aefb-943bb7c38700",
   "metadata": {
    "execution": {
     "iopub.execute_input": "2024-11-29T04:26:43.906345Z",
     "iopub.status.busy": "2024-11-29T04:26:43.906070Z",
     "iopub.status.idle": "2024-11-29T04:26:43.907948Z",
     "shell.execute_reply": "2024-11-29T04:26:43.907578Z"
    }
   },
   "outputs": [],
   "source": [
    "#print(y_pred_labels)"
   ]
  },
  {
   "cell_type": "code",
   "execution_count": 653,
   "id": "76479ab1-8b6f-49f4-9191-08e841dc9d17",
   "metadata": {
    "editable": true,
    "execution": {
     "iopub.execute_input": "2024-11-29T04:26:43.909164Z",
     "iopub.status.busy": "2024-11-29T04:26:43.908891Z",
     "iopub.status.idle": "2024-11-29T04:26:43.910737Z",
     "shell.execute_reply": "2024-11-29T04:26:43.910386Z"
    },
    "slideshow": {
     "slide_type": ""
    },
    "tags": []
   },
   "outputs": [],
   "source": [
    "#X_test.columns"
   ]
  },
  {
   "cell_type": "code",
   "execution_count": 654,
   "id": "675fbef2-1e1d-412b-9f89-6129227081cf",
   "metadata": {
    "editable": true,
    "execution": {
     "iopub.execute_input": "2024-11-29T04:26:43.911894Z",
     "iopub.status.busy": "2024-11-29T04:26:43.911657Z",
     "iopub.status.idle": "2024-11-29T04:26:44.264266Z",
     "shell.execute_reply": "2024-11-29T04:26:44.263788Z"
    },
    "slideshow": {
     "slide_type": ""
    },
    "tags": []
   },
   "outputs": [
    {
     "name": "stdout",
     "output_type": "stream",
     "text": [
      "imitation model saved!\n"
     ]
    }
   ],
   "source": [
    "try:\n",
    "    joblib.dump(model,'/home/defi/Desktop/portfolio/projects/python/pipeline_defi/models/imit_model.pkl')\n",
    "    print('imitation model saved!')\n",
    "except Exception as e:\n",
    "    print(e)"
   ]
  },
  {
   "cell_type": "code",
   "execution_count": 655,
   "id": "92187432-bb53-47af-b93b-03d0324abcc5",
   "metadata": {
    "execution": {
     "iopub.execute_input": "2024-11-29T04:26:44.265764Z",
     "iopub.status.busy": "2024-11-29T04:26:44.265395Z",
     "iopub.status.idle": "2024-11-29T04:26:44.268329Z",
     "shell.execute_reply": "2024-11-29T04:26:44.267951Z"
    }
   },
   "outputs": [
    {
     "name": "stdout",
     "output_type": "stream",
     "text": [
      "imitation label ecorder saved\n"
     ]
    }
   ],
   "source": [
    "try:\n",
    "    joblib.dump(label_encoder, '/home/defi/Desktop/portfolio/projects/python/pipeline_defi/models/imit_label_encoder.pkl')\n",
    "    print('imitation label ecorder saved')\n",
    "except Exception as e:\n",
    "    print(e)"
   ]
  }
 ],
 "metadata": {
  "kernelspec": {
   "display_name": ".venv",
   "language": "python",
   "name": "python3"
  },
  "language_info": {
   "codemirror_mode": {
    "name": "ipython",
    "version": 3
   },
   "file_extension": ".py",
   "mimetype": "text/x-python",
   "name": "python",
   "nbconvert_exporter": "python",
   "pygments_lexer": "ipython3",
   "version": "3.10.4"
  }
 },
 "nbformat": 4,
 "nbformat_minor": 5
}
