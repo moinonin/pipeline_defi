{
 "cells": [
  {
   "cell_type": "code",
   "execution_count": 149,
   "id": "3e905445-d3bd-414e-b5bc-29a43acbe9ec",
   "metadata": {
    "editable": true,
    "execution": {
     "iopub.execute_input": "2024-11-30T21:22:44.057533Z",
     "iopub.status.busy": "2024-11-30T21:22:44.057269Z",
     "iopub.status.idle": "2024-11-30T21:22:44.550994Z",
     "shell.execute_reply": "2024-11-30T21:22:44.550559Z"
    },
    "slideshow": {
     "slide_type": ""
    },
    "tags": []
   },
   "outputs": [],
   "source": [
    "import numpy as np\n",
    "from sklearn.feature_extraction.text import CountVectorizer\n",
    "from sklearn.model_selection import train_test_split\n",
    "from sklearn.metrics import classification_report\n",
    "import pandas as pd\n",
    "import joblib "
   ]
  },
  {
   "cell_type": "code",
   "execution_count": 150,
   "id": "11afea1e-49dd-4cb3-a2ad-a931995497db",
   "metadata": {
    "execution": {
     "iopub.execute_input": "2024-11-30T21:22:44.553040Z",
     "iopub.status.busy": "2024-11-30T21:22:44.552705Z",
     "iopub.status.idle": "2024-11-30T21:22:44.558576Z",
     "shell.execute_reply": "2024-11-30T21:22:44.558275Z"
    }
   },
   "outputs": [
    {
     "data": {
      "text/plain": [
       "'\\nfrom sklearn.tree import DecisionTreeClassifier, ExtraTreeRegressor\\nfrom sklearn.ensemble import RandomForestClassifier, RandomForestRegressor\\nfrom sklearn.neural_network import MLPClassifier\\nfrom sklearn.discriminant_analysis import LinearDiscriminantAnalysis\\nfrom sklearn.linear_model import SGDClassifier\\nfrom sklearn.neighbors import KNeighborsClassifier\\nfrom sklearn.svm import SVC  # for classification\\nfrom sklearn.linear_model import LogisticRegression\\nfrom imblearn.over_sampling import SMOTE, ADASYN\\n'"
      ]
     },
     "execution_count": 150,
     "metadata": {},
     "output_type": "execute_result"
    }
   ],
   "source": [
    "# ml imports\n",
    "from sklearn.naive_bayes import MultinomialNB, ComplementNB\n",
    "'''\n",
    "from sklearn.tree import DecisionTreeClassifier, ExtraTreeRegressor\n",
    "from sklearn.ensemble import RandomForestClassifier, RandomForestRegressor\n",
    "from sklearn.neural_network import MLPClassifier\n",
    "from sklearn.discriminant_analysis import LinearDiscriminantAnalysis\n",
    "from sklearn.linear_model import SGDClassifier\n",
    "from sklearn.neighbors import KNeighborsClassifier\n",
    "from sklearn.svm import SVC  # for classification\n",
    "from sklearn.linear_model import LogisticRegression\n",
    "from imblearn.over_sampling import SMOTE, ADASYN\n",
    "'''"
   ]
  },
  {
   "cell_type": "code",
   "execution_count": 151,
   "id": "f5e374ee-e63a-4203-a9a8-551a1c560d84",
   "metadata": {
    "execution": {
     "iopub.execute_input": "2024-11-30T21:22:44.559729Z",
     "iopub.status.busy": "2024-11-30T21:22:44.559528Z",
     "iopub.status.idle": "2024-11-30T21:22:44.564799Z",
     "shell.execute_reply": "2024-11-30T21:22:44.564472Z"
    }
   },
   "outputs": [],
   "source": [
    "data = pd.read_csv('/home/defi/Desktop/portfolio/projects/python/pipeline_defi/clean_data/imitate_07.csv')\n",
    "df = data"
   ]
  },
  {
   "cell_type": "code",
   "execution_count": 134,
   "id": "3a64d3c3-3fac-4d6d-bb5c-786c83a2f4ed",
   "metadata": {
    "execution": {
     "iopub.execute_input": "2024-11-30T21:22:44.566128Z",
     "iopub.status.busy": "2024-11-30T21:22:44.565870Z",
     "iopub.status.idle": "2024-11-30T21:22:44.568821Z",
     "shell.execute_reply": "2024-11-30T21:22:44.568524Z"
    }
   },
   "outputs": [
    {
     "data": {
      "text/plain": [
       "Index(['Unnamed: 0', 'Unnamed:', 'open', 'high', 'ema-26', 'ema-12', 'low',\n",
       "       'mean-grad-hist', 'close', 'volume', 'sma-25', 'long_jcrosk',\n",
       "       'short_kdj', 'imit-enter-short', 'sma-05', 'sma-07', 'imit-exit-short',\n",
       "       'exit_reason', 'action'],\n",
       "      dtype='object')"
      ]
     },
     "execution_count": 134,
     "metadata": {},
     "output_type": "execute_result"
    }
   ],
   "source": [
    "df.columns"
   ]
  },
  {
   "cell_type": "code",
   "execution_count": null,
   "id": "7f719a1e-323b-46ad-8a96-b08d1f18e93b",
   "metadata": {},
   "outputs": [],
   "source": []
  },
  {
   "cell_type": "code",
   "execution_count": 152,
   "id": "fb962b5c-aac2-47ad-8b50-db190a51c3ac",
   "metadata": {
    "execution": {
     "iopub.execute_input": "2024-11-30T21:22:44.569997Z",
     "iopub.status.busy": "2024-11-30T21:22:44.569758Z",
     "iopub.status.idle": "2024-11-30T21:22:44.572259Z",
     "shell.execute_reply": "2024-11-30T21:22:44.571948Z"
    }
   },
   "outputs": [],
   "source": [
    "df.drop(['Unnamed: 0'], axis=1, inplace=True)"
   ]
  },
  {
   "cell_type": "code",
   "execution_count": 153,
   "id": "98c20f9a-606a-4213-8788-f70be071b939",
   "metadata": {
    "execution": {
     "iopub.execute_input": "2024-11-30T21:22:44.573374Z",
     "iopub.status.busy": "2024-11-30T21:22:44.573137Z",
     "iopub.status.idle": "2024-11-30T21:22:44.575367Z",
     "shell.execute_reply": "2024-11-30T21:22:44.575068Z"
    }
   },
   "outputs": [],
   "source": [
    "df.dropna(inplace=True)"
   ]
  },
  {
   "cell_type": "code",
   "execution_count": 154,
   "id": "6759e223-1663-4747-b3e7-b35b496491a2",
   "metadata": {
    "execution": {
     "iopub.execute_input": "2024-11-30T21:22:44.576456Z",
     "iopub.status.busy": "2024-11-30T21:22:44.576263Z",
     "iopub.status.idle": "2024-11-30T21:22:44.578765Z",
     "shell.execute_reply": "2024-11-30T21:22:44.578472Z"
    }
   },
   "outputs": [
    {
     "data": {
      "text/plain": [
       "Index(['Unnamed:', 'open', 'high', 'ema-26', 'ema-12', 'low', 'mean-grad-hist',\n",
       "       'close', 'volume', 'sma-25', 'long_jcrosk', 'short_kdj',\n",
       "       'imit-enter-short', 'sma-05', 'sma-07', 'imit-exit-short',\n",
       "       'exit_reason', 'action'],\n",
       "      dtype='object')"
      ]
     },
     "execution_count": 154,
     "metadata": {},
     "output_type": "execute_result"
    }
   ],
   "source": [
    "df.columns"
   ]
  },
  {
   "cell_type": "code",
   "execution_count": 155,
   "id": "9cf331a9-ca79-4da4-ac8d-fb384125d440",
   "metadata": {
    "execution": {
     "iopub.execute_input": "2024-11-30T21:22:44.579882Z",
     "iopub.status.busy": "2024-11-30T21:22:44.579645Z",
     "iopub.status.idle": "2024-11-30T21:22:44.582291Z",
     "shell.execute_reply": "2024-11-30T21:22:44.581998Z"
    }
   },
   "outputs": [
    {
     "data": {
      "text/plain": [
       "array([0])"
      ]
     },
     "execution_count": 155,
     "metadata": {},
     "output_type": "execute_result"
    }
   ],
   "source": [
    "np.unique(df['short_kdj'])"
   ]
  },
  {
   "cell_type": "code",
   "execution_count": null,
   "id": "924e5df9-d4c6-4870-92d2-622685b187a9",
   "metadata": {},
   "outputs": [],
   "source": []
  },
  {
   "cell_type": "code",
   "execution_count": 156,
   "id": "9ec6ea28-4d19-429f-8801-013407fc2d64",
   "metadata": {
    "editable": true,
    "execution": {
     "iopub.execute_input": "2024-11-30T21:22:44.583422Z",
     "iopub.status.busy": "2024-11-30T21:22:44.583233Z",
     "iopub.status.idle": "2024-11-30T21:22:44.623466Z",
     "shell.execute_reply": "2024-11-30T21:22:44.623151Z"
    },
    "slideshow": {
     "slide_type": ""
    },
    "tags": []
   },
   "outputs": [
    {
     "name": "stdout",
     "output_type": "stream",
     "text": [
      "0       do_nothing\n",
      "1       do_nothing\n",
      "2       do_nothing\n",
      "3       do_nothing\n",
      "4       do_nothing\n",
      "           ...    \n",
      "1062    do_nothing\n",
      "1063    do_nothing\n",
      "1064    do_nothing\n",
      "1065    do_nothing\n",
      "1066    do_nothing\n",
      "Name: action, Length: 1067, dtype: object\n",
      "classes: ['do_nothing' 'go_long' 'go_short']\n",
      "              precision    recall  f1-score   support\n",
      "\n",
      "  do_nothing       0.86      1.00      0.92         6\n",
      "     go_long       0.90      0.86      0.88        22\n",
      "    go_short       0.99      0.99      0.99       238\n",
      "\n",
      "    accuracy                           0.98       266\n",
      "   macro avg       0.92      0.95      0.93       266\n",
      "weighted avg       0.98      0.98      0.98       266\n",
      "\n",
      "\n",
      "Given the sequence: ['do_nothing', 'do_nothing', 'do_nothing']\n",
      "The model predicts the next action will be: do_nothing\n",
      "\n",
      "Top 5 features for predicting 'do_nothing':\n",
      "do_nothing: 0.464\n",
      "do_nothing do_nothing: 0.294\n",
      "go_short: 0.100\n",
      "go_short go_short: 0.053\n",
      "go_long: 0.035\n",
      "\n",
      "Top 5 features for predicting 'go_long':\n",
      "go_long: 0.575\n",
      "go_long go_long: 0.372\n",
      "go_short: 0.020\n",
      "do_nothing: 0.013\n",
      "go_short go_long: 0.010\n",
      "\n",
      "Top 5 features for predicting 'go_short':\n",
      "go_short: 0.593\n",
      "go_short go_short: 0.393\n",
      "do_nothing: 0.004\n",
      "go_long: 0.003\n",
      "do_nothing go_short: 0.002\n",
      "\n",
      "Normalized Feature Importances:\n",
      "\n",
      "Top 5 normalized features for predicting 'do_nothing':\n",
      "do_nothing: 0.464\n",
      "do_nothing do_nothing: 0.294\n",
      "go_short: 0.100\n",
      "go_short go_short: 0.053\n",
      "go_long: 0.035\n",
      "\n",
      "Top 5 normalized features for predicting 'go_long':\n",
      "go_long: 0.575\n",
      "go_long go_long: 0.372\n",
      "go_short: 0.020\n",
      "do_nothing: 0.013\n",
      "go_short go_long: 0.010\n",
      "\n",
      "Top 5 normalized features for predicting 'go_short':\n",
      "go_short: 0.593\n",
      "go_short go_short: 0.393\n",
      "do_nothing: 0.004\n",
      "go_long: 0.003\n",
      "do_nothing go_short: 0.002\n"
     ]
    }
   ],
   "source": [
    "# Function to create sequences\n",
    "def create_sequences(series, seq_length):\n",
    "    print(series)\n",
    "    documents = []\n",
    "    labels = []\n",
    "    for i in range(len(series) - seq_length):\n",
    "        doc = ' '.join(map(str, series.iloc[i:i+seq_length]))\n",
    "        documents.append(doc)\n",
    "        labels.append(series.iloc[i+seq_length])\n",
    "    return documents, labels\n",
    "\n",
    "# Create sequences\n",
    "seq_length = 3  # Length of each sequence 5 was used originally\n",
    "documents, labels = create_sequences(df['action'], seq_length)\n",
    "\n",
    "# Convert to DataFrame\n",
    "sequence_df = pd.DataFrame({'document': documents, 'next_action': labels})\n",
    "\n",
    "# Split the data\n",
    "X_train, X_test, y_train, y_test = train_test_split(\n",
    "    sequence_df['document'], sequence_df['next_action'], \n",
    "    test_size=0.25, shuffle=True, random_state=42\n",
    ")\n",
    "\n",
    "# Create a bag of words representation\n",
    "vectorizer = CountVectorizer(stop_words='english', ngram_range=(1, 2), min_df=3)\n",
    "X_train_vec = vectorizer.fit_transform(X_train)\n",
    "X_test_vec = vectorizer.transform(X_test)\n",
    "\n",
    "# Train a Naive Bayes classifier\n",
    "clf = MultinomialNB(alpha=0.01, class_prior=[0.03, 0.07, 0.90]) # alpha=0.1, class_prior=[0.2, 0.3, 0.4], alpha=0.01, fit_prior=False\n",
    "#clf = LogisticRegression(class_weight='balanced', max_iter=300)\n",
    "#clf = RandomForestClassifier(class_weight='balanced', random_state=42)\n",
    "#clf = DecisionTreeClassifier(class_weight='balanced', random_state=42)\n",
    "clf.fit(X_train_vec, y_train)\n",
    "\n",
    "print(f'classes: {clf.classes_}')\n",
    "\n",
    "# Make predictions\n",
    "#print(f'xtest: {X_test_vec}')\n",
    "y_pred = clf.predict(X_test_vec)\n",
    "\n",
    "# Evaluate the model\n",
    "print(classification_report(y_test, y_pred, zero_division=True))\n",
    "\n",
    "# Example of making a prediction\n",
    "if len(df) >= seq_length:\n",
    "    new_sequence = df['action'].iloc[-seq_length:].tolist()\n",
    "    new_document = ' '.join(new_sequence)\n",
    "    new_vector = vectorizer.transform([new_document])\n",
    "    prediction = clf.predict(new_vector)\n",
    "\n",
    "    print(f\"\\nGiven the sequence: {new_sequence}\")\n",
    "    print(f\"The model predicts the next action will be: {prediction[0]}\")\n",
    "else:\n",
    "    print(\"\\nNot enough data to make a prediction.\")\n",
    "\n",
    "\n",
    "# Fixed Feature importance calculation\n",
    "feature_names = vectorizer.get_feature_names_out()\n",
    "feature_importance = np.exp(clf.feature_log_prob_)\n",
    "\n",
    "for i, label in enumerate(clf.classes_):\n",
    "    print(f\"\\nTop 5 features for predicting '{label}':\")\n",
    "    top_features = feature_importance[i].argsort()[::-1][:5]\n",
    "    for idx in top_features:\n",
    "        print(f\"{feature_names[idx]}: {feature_importance[i][idx]:.3f}\")\n",
    "\n",
    "# Optional: Normalize feature importances\n",
    "normalized_importance = feature_importance / feature_importance.sum(axis=1, keepdims=True)\n",
    "\n",
    "print(\"\\nNormalized Feature Importances:\")\n",
    "for i, label in enumerate(clf.classes_):\n",
    "    print(f\"\\nTop 5 normalized features for predicting '{label}':\")\n",
    "    top_features = normalized_importance[i].argsort()[::-1][:5]\n",
    "    for idx in top_features:\n",
    "        print(f\"{feature_names[idx]}: {normalized_importance[i][idx]:.3f}\")\n"
   ]
  },
  {
   "cell_type": "code",
   "execution_count": 157,
   "id": "ee5fef4b-3488-4cb3-82a8-39215d72b990",
   "metadata": {
    "execution": {
     "iopub.execute_input": "2024-11-30T21:22:44.624611Z",
     "iopub.status.busy": "2024-11-30T21:22:44.624409Z",
     "iopub.status.idle": "2024-11-30T21:22:44.627199Z",
     "shell.execute_reply": "2024-11-30T21:22:44.626884Z"
    }
   },
   "outputs": [
    {
     "name": "stdout",
     "output_type": "stream",
     "text": [
      "nlp model saved sucesfully!\n"
     ]
    }
   ],
   "source": [
    "try:\n",
    "    joblib.dump(clf, '/home/defi/Desktop/portfolio/projects/python/pipeline_defi/models/nlpmodel.pkl')\n",
    "    print('nlp model saved sucesfully!')\n",
    "except Exception as e:\n",
    "    print(e)"
   ]
  },
  {
   "cell_type": "code",
   "execution_count": 158,
   "id": "cd31f7fa-ae78-40f4-a0c1-94a682d750f0",
   "metadata": {
    "execution": {
     "iopub.execute_input": "2024-11-30T21:22:44.628380Z",
     "iopub.status.busy": "2024-11-30T21:22:44.628129Z",
     "iopub.status.idle": "2024-11-30T21:22:44.630625Z",
     "shell.execute_reply": "2024-11-30T21:22:44.630270Z"
    }
   },
   "outputs": [
    {
     "name": "stdout",
     "output_type": "stream",
     "text": [
      "nlp vectorizer save!\n"
     ]
    }
   ],
   "source": [
    "try:\n",
    "    joblib.dump(vectorizer, '/home/defi/Desktop/portfolio/projects/python/pipeline_defi/models/nlpvectorizer.pkl')\n",
    "    print('nlp vectorizer save!')\n",
    "except Exception as e:\n",
    "    print(e)"
   ]
  },
  {
   "cell_type": "markdown",
   "id": "643e451c-6cc7-4cea-8100-aa053dcd001e",
   "metadata": {
    "editable": true,
    "slideshow": {
     "slide_type": ""
    },
    "tags": []
   },
   "source": [
    "### Testing model explanability"
   ]
  },
  {
   "cell_type": "code",
   "execution_count": 142,
   "id": "d4ed630f-5753-40f9-989c-34a96dfdafdf",
   "metadata": {
    "execution": {
     "iopub.execute_input": "2024-11-30T21:22:44.631804Z",
     "iopub.status.busy": "2024-11-30T21:22:44.631562Z",
     "iopub.status.idle": "2024-11-30T21:22:44.633305Z",
     "shell.execute_reply": "2024-11-30T21:22:44.633008Z"
    }
   },
   "outputs": [],
   "source": [
    "#!pip show scikit-learn"
   ]
  },
  {
   "cell_type": "markdown",
   "id": "8ac69156-2711-48fa-8090-17e9ac0b87b6",
   "metadata": {},
   "source": [
    "##### Import libs"
   ]
  },
  {
   "cell_type": "code",
   "execution_count": 143,
   "id": "83964d96-9307-4c00-b53e-467de4f62569",
   "metadata": {
    "execution": {
     "iopub.execute_input": "2024-11-30T21:22:44.634439Z",
     "iopub.status.busy": "2024-11-30T21:22:44.634202Z",
     "iopub.status.idle": "2024-11-30T21:22:44.635902Z",
     "shell.execute_reply": "2024-11-30T21:22:44.635598Z"
    }
   },
   "outputs": [],
   "source": [
    "#from interpret.glassbox import ExplainableBoostingClassifier\n",
    "#from interpret.blackbox import LimeTabular\n",
    "#from interpret import show"
   ]
  },
  {
   "cell_type": "code",
   "execution_count": 144,
   "id": "79abdbc0-d13a-4e03-8539-554836c447a8",
   "metadata": {
    "execution": {
     "iopub.execute_input": "2024-11-30T21:22:44.637009Z",
     "iopub.status.busy": "2024-11-30T21:22:44.636781Z",
     "iopub.status.idle": "2024-11-30T21:22:44.638487Z",
     "shell.execute_reply": "2024-11-30T21:22:44.638193Z"
    }
   },
   "outputs": [],
   "source": [
    "#test_vec = list(X_test_vec)[1]"
   ]
  },
  {
   "cell_type": "code",
   "execution_count": 145,
   "id": "e5fd9f96-53ff-4b4f-8ab5-dbceff35682e",
   "metadata": {
    "execution": {
     "iopub.execute_input": "2024-11-30T21:22:44.639533Z",
     "iopub.status.busy": "2024-11-30T21:22:44.639347Z",
     "iopub.status.idle": "2024-11-30T21:22:44.641709Z",
     "shell.execute_reply": "2024-11-30T21:22:44.641419Z"
    }
   },
   "outputs": [
    {
     "data": {
      "text/plain": [
       "\"\\nfor index, val in enumerate(list(X_test)):\\n    lst = list(val.split(' '))\\n    #if all(x == lst[0] for x in lst):\\n    if len(set(lst)) > 1:\\n        print(index, lst)\\n    #print()\\n    #    print(index, val)\\n\""
      ]
     },
     "execution_count": 145,
     "metadata": {},
     "output_type": "execute_result"
    }
   ],
   "source": [
    "'''\n",
    "for index, val in enumerate(list(X_test)):\n",
    "    lst = list(val.split(' '))\n",
    "    #if all(x == lst[0] for x in lst):\n",
    "    if len(set(lst)) > 1:\n",
    "        print(index, lst)\n",
    "    #print()\n",
    "    #    print(index, val)\n",
    "'''"
   ]
  },
  {
   "cell_type": "code",
   "execution_count": 146,
   "id": "6c89d5d5-c699-4593-8c1e-fd63cdb344b3",
   "metadata": {
    "execution": {
     "iopub.execute_input": "2024-11-30T21:22:44.642773Z",
     "iopub.status.busy": "2024-11-30T21:22:44.642587Z",
     "iopub.status.idle": "2024-11-30T21:22:44.644280Z",
     "shell.execute_reply": "2024-11-30T21:22:44.643987Z"
    }
   },
   "outputs": [],
   "source": [
    "#clf.predict(test_vec)[10]"
   ]
  },
  {
   "cell_type": "markdown",
   "id": "33e0e0a6-7d1e-4e99-a867-4d5d0baaf992",
   "metadata": {},
   "source": [
    "##### Explain result"
   ]
  },
  {
   "cell_type": "code",
   "execution_count": 147,
   "id": "e5f72cff-7f87-42f9-a239-0c704b221200",
   "metadata": {
    "execution": {
     "iopub.execute_input": "2024-11-30T21:22:44.645418Z",
     "iopub.status.busy": "2024-11-30T21:22:44.645194Z",
     "iopub.status.idle": "2024-11-30T21:22:44.647832Z",
     "shell.execute_reply": "2024-11-30T21:22:44.647525Z"
    }
   },
   "outputs": [
    {
     "data": {
      "text/plain": [
       "\"\\n# Step 1: Fit an Explainable Model (e.g., Explainable Boosting Machine)\\ndef explain_pred(index: int):\\n    feature_names = list(X_test)[index]\\n    test_vec = list(X_test_vec)[index]\\n    ebm = ExplainableBoostingClassifier(\\n                                        interactions=0,\\n                                        smoothing_rounds=5000,\\n                                        cyclic_progress=0.0,\\n                                        reg_alpha=10.0\\n                                       )\\n    ebm.fit(X_train_vec, y_train)\\n    \\n    # Global explanation (feature importances)\\n    ebm_global = ebm.explain_global()\\n    \\n    show(ebm_global, 0)  # Shows which features are most important globally\\n    \\n    # Step 2: Local explanation for a specific prediction\\n    sample_sequence = test_vec  # Example sequence to explain\\n    ebm_local = ebm.explain_local([sample_sequence], [list(y_test)[index]])\\n    res = {\\n        'X': feature_names,\\n        'next_pred': clf.predict(test_vec)[0]\\n    }\\n    print(res)\\n    return show(ebm_local)  # Shows explanation for a specific prediction\\n\""
      ]
     },
     "execution_count": 147,
     "metadata": {},
     "output_type": "execute_result"
    }
   ],
   "source": [
    "'''\n",
    "# Step 1: Fit an Explainable Model (e.g., Explainable Boosting Machine)\n",
    "def explain_pred(index: int):\n",
    "    feature_names = list(X_test)[index]\n",
    "    test_vec = list(X_test_vec)[index]\n",
    "    ebm = ExplainableBoostingClassifier(\n",
    "                                        interactions=0,\n",
    "                                        smoothing_rounds=5000,\n",
    "                                        cyclic_progress=0.0,\n",
    "                                        reg_alpha=10.0\n",
    "                                       )\n",
    "    ebm.fit(X_train_vec, y_train)\n",
    "    \n",
    "    # Global explanation (feature importances)\n",
    "    ebm_global = ebm.explain_global()\n",
    "    \n",
    "    show(ebm_global, 0)  # Shows which features are most important globally\n",
    "    \n",
    "    # Step 2: Local explanation for a specific prediction\n",
    "    sample_sequence = test_vec  # Example sequence to explain\n",
    "    ebm_local = ebm.explain_local([sample_sequence], [list(y_test)[index]])\n",
    "    res = {\n",
    "        'X': feature_names,\n",
    "        'next_pred': clf.predict(test_vec)[0]\n",
    "    }\n",
    "    print(res)\n",
    "    return show(ebm_local)  # Shows explanation for a specific prediction\n",
    "'''"
   ]
  },
  {
   "cell_type": "code",
   "execution_count": 148,
   "id": "20cb24b1-6bde-4663-9d93-d47ca5e02012",
   "metadata": {
    "execution": {
     "iopub.execute_input": "2024-11-30T21:22:44.648957Z",
     "iopub.status.busy": "2024-11-30T21:22:44.648732Z",
     "iopub.status.idle": "2024-11-30T21:22:44.650430Z",
     "shell.execute_reply": "2024-11-30T21:22:44.650137Z"
    },
    "scrolled": true
   },
   "outputs": [],
   "source": [
    "#explain_pred(41)"
   ]
  },
  {
   "cell_type": "code",
   "execution_count": null,
   "id": "57280594-5f27-43d1-988e-e8e360711742",
   "metadata": {},
   "outputs": [],
   "source": []
  }
 ],
 "metadata": {
  "kernelspec": {
   "display_name": ".venv",
   "language": "python",
   "name": "python3"
  },
  "language_info": {
   "codemirror_mode": {
    "name": "ipython",
    "version": 3
   },
   "file_extension": ".py",
   "mimetype": "text/x-python",
   "name": "python",
   "nbconvert_exporter": "python",
   "pygments_lexer": "ipython3",
   "version": "3.10.4"
  }
 },
 "nbformat": 4,
 "nbformat_minor": 5
}
