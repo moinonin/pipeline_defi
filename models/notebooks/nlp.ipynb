{
 "cells": [
  {
   "cell_type": "code",
   "execution_count": 128,
   "id": "3e905445-d3bd-414e-b5bc-29a43acbe9ec",
   "metadata": {
    "editable": true,
    "execution": {
     "iopub.execute_input": "2024-11-25T21:27:54.200666Z",
     "iopub.status.busy": "2024-11-25T21:27:54.200429Z",
     "iopub.status.idle": "2024-11-25T21:27:54.665630Z",
     "shell.execute_reply": "2024-11-25T21:27:54.665245Z"
    },
    "slideshow": {
     "slide_type": ""
    },
    "tags": []
   },
   "outputs": [],
   "source": [
    "import numpy as np\n",
    "from sklearn.feature_extraction.text import CountVectorizer\n",
    "from sklearn.model_selection import train_test_split\n",
    "from sklearn.metrics import classification_report\n",
    "import pandas as pd\n",
    "import joblib "
   ]
  },
  {
   "cell_type": "code",
   "execution_count": 129,
   "id": "11afea1e-49dd-4cb3-a2ad-a931995497db",
   "metadata": {
    "execution": {
     "iopub.execute_input": "2024-11-25T21:27:54.667280Z",
     "iopub.status.busy": "2024-11-25T21:27:54.667026Z",
     "iopub.status.idle": "2024-11-25T21:27:54.672672Z",
     "shell.execute_reply": "2024-11-25T21:27:54.672364Z"
    }
   },
   "outputs": [
    {
     "data": {
      "text/plain": [
       "'\\nfrom sklearn.tree import DecisionTreeClassifier, ExtraTreeRegressor\\nfrom sklearn.ensemble import RandomForestClassifier, RandomForestRegressor\\nfrom sklearn.neural_network import MLPClassifier\\nfrom sklearn.discriminant_analysis import LinearDiscriminantAnalysis\\nfrom sklearn.linear_model import SGDClassifier\\nfrom sklearn.neighbors import KNeighborsClassifier\\nfrom sklearn.svm import SVC  # for classification\\nfrom sklearn.linear_model import LogisticRegression\\nfrom imblearn.over_sampling import SMOTE, ADASYN\\n'"
      ]
     },
     "execution_count": 129,
     "metadata": {},
     "output_type": "execute_result"
    }
   ],
   "source": [
    "# ml imports\n",
    "from sklearn.naive_bayes import MultinomialNB, ComplementNB\n",
    "'''\n",
    "from sklearn.tree import DecisionTreeClassifier, ExtraTreeRegressor\n",
    "from sklearn.ensemble import RandomForestClassifier, RandomForestRegressor\n",
    "from sklearn.neural_network import MLPClassifier\n",
    "from sklearn.discriminant_analysis import LinearDiscriminantAnalysis\n",
    "from sklearn.linear_model import SGDClassifier\n",
    "from sklearn.neighbors import KNeighborsClassifier\n",
    "from sklearn.svm import SVC  # for classification\n",
    "from sklearn.linear_model import LogisticRegression\n",
    "from imblearn.over_sampling import SMOTE, ADASYN\n",
    "'''"
   ]
  },
  {
   "cell_type": "code",
   "execution_count": 130,
   "id": "f5e374ee-e63a-4203-a9a8-551a1c560d84",
   "metadata": {
    "execution": {
     "iopub.execute_input": "2024-11-25T21:27:54.673793Z",
     "iopub.status.busy": "2024-11-25T21:27:54.673605Z",
     "iopub.status.idle": "2024-11-25T21:27:54.676998Z",
     "shell.execute_reply": "2024-11-25T21:27:54.676677Z"
    }
   },
   "outputs": [],
   "source": [
    "data = pd.read_csv('/home/defi/Desktop/portfolio/projects/python/pipeline_defi/clean_data/imitate_07.csv')\n",
    "df = data"
   ]
  },
  {
   "cell_type": "code",
   "execution_count": 131,
   "id": "3a64d3c3-3fac-4d6d-bb5c-786c83a2f4ed",
   "metadata": {
    "execution": {
     "iopub.execute_input": "2024-11-25T21:27:54.678135Z",
     "iopub.status.busy": "2024-11-25T21:27:54.677940Z",
     "iopub.status.idle": "2024-11-25T21:27:54.680487Z",
     "shell.execute_reply": "2024-11-25T21:27:54.680188Z"
    }
   },
   "outputs": [
    {
     "data": {
      "text/plain": [
       "Index(['Unnamed: 0', 'Unnamed:', 'open', 'high', 'ema-26', 'ema-12', 'low',\n",
       "       'mean-grad-hist', 'close', 'volume', 'sma-25', 'long_jcrosk',\n",
       "       'short_kdj', 'buy_imit_short', 'buy_imit_long', 'action'],\n",
       "      dtype='object')"
      ]
     },
     "execution_count": 131,
     "metadata": {},
     "output_type": "execute_result"
    }
   ],
   "source": [
    "df.columns"
   ]
  },
  {
   "cell_type": "code",
   "execution_count": null,
   "id": "7f719a1e-323b-46ad-8a96-b08d1f18e93b",
   "metadata": {},
   "outputs": [],
   "source": []
  },
  {
   "cell_type": "code",
   "execution_count": 132,
   "id": "fb962b5c-aac2-47ad-8b50-db190a51c3ac",
   "metadata": {
    "execution": {
     "iopub.execute_input": "2024-11-25T21:27:54.681670Z",
     "iopub.status.busy": "2024-11-25T21:27:54.681437Z",
     "iopub.status.idle": "2024-11-25T21:27:54.683822Z",
     "shell.execute_reply": "2024-11-25T21:27:54.683511Z"
    }
   },
   "outputs": [],
   "source": [
    "df.drop(['Unnamed: 0'], axis=1, inplace=True)"
   ]
  },
  {
   "cell_type": "code",
   "execution_count": 133,
   "id": "98c20f9a-606a-4213-8788-f70be071b939",
   "metadata": {
    "execution": {
     "iopub.execute_input": "2024-11-25T21:27:54.684951Z",
     "iopub.status.busy": "2024-11-25T21:27:54.684724Z",
     "iopub.status.idle": "2024-11-25T21:27:54.686811Z",
     "shell.execute_reply": "2024-11-25T21:27:54.686508Z"
    }
   },
   "outputs": [],
   "source": [
    "df.dropna(inplace=True)"
   ]
  },
  {
   "cell_type": "code",
   "execution_count": 134,
   "id": "6759e223-1663-4747-b3e7-b35b496491a2",
   "metadata": {
    "execution": {
     "iopub.execute_input": "2024-11-25T21:27:54.687926Z",
     "iopub.status.busy": "2024-11-25T21:27:54.687690Z",
     "iopub.status.idle": "2024-11-25T21:27:54.690155Z",
     "shell.execute_reply": "2024-11-25T21:27:54.689842Z"
    }
   },
   "outputs": [
    {
     "data": {
      "text/plain": [
       "Index(['Unnamed:', 'open', 'high', 'ema-26', 'ema-12', 'low', 'mean-grad-hist',\n",
       "       'close', 'volume', 'sma-25', 'long_jcrosk', 'short_kdj',\n",
       "       'buy_imit_short', 'buy_imit_long', 'action'],\n",
       "      dtype='object')"
      ]
     },
     "execution_count": 134,
     "metadata": {},
     "output_type": "execute_result"
    }
   ],
   "source": [
    "df.columns"
   ]
  },
  {
   "cell_type": "code",
   "execution_count": 135,
   "id": "9cf331a9-ca79-4da4-ac8d-fb384125d440",
   "metadata": {
    "execution": {
     "iopub.execute_input": "2024-11-25T21:27:54.691271Z",
     "iopub.status.busy": "2024-11-25T21:27:54.691051Z",
     "iopub.status.idle": "2024-11-25T21:27:54.693648Z",
     "shell.execute_reply": "2024-11-25T21:27:54.693353Z"
    }
   },
   "outputs": [
    {
     "data": {
      "text/plain": [
       "array([0])"
      ]
     },
     "execution_count": 135,
     "metadata": {},
     "output_type": "execute_result"
    }
   ],
   "source": [
    "np.unique(df['short_kdj'])"
   ]
  },
  {
   "cell_type": "code",
   "execution_count": null,
   "id": "924e5df9-d4c6-4870-92d2-622685b187a9",
   "metadata": {},
   "outputs": [],
   "source": []
  },
  {
   "cell_type": "code",
   "execution_count": 136,
   "id": "9ec6ea28-4d19-429f-8801-013407fc2d64",
   "metadata": {
    "editable": true,
    "execution": {
     "iopub.execute_input": "2024-11-25T21:27:54.694795Z",
     "iopub.status.busy": "2024-11-25T21:27:54.694605Z",
     "iopub.status.idle": "2024-11-25T21:27:54.709212Z",
     "shell.execute_reply": "2024-11-25T21:27:54.708895Z"
    },
    "slideshow": {
     "slide_type": ""
    },
    "tags": []
   },
   "outputs": [
    {
     "name": "stdout",
     "output_type": "stream",
     "text": [
      "0       do_nothing\n",
      "1       do_nothing\n",
      "2       do_nothing\n",
      "3         go_short\n",
      "4       do_nothing\n",
      "           ...    \n",
      "2727    do_nothing\n",
      "2728    do_nothing\n",
      "2729    do_nothing\n",
      "2730    do_nothing\n",
      "2731    do_nothing\n",
      "Name: action, Length: 2732, dtype: object\n",
      "classes: ['do_nothing' 'go_long' 'go_short']\n",
      "              precision    recall  f1-score   support\n",
      "\n",
      "  do_nothing       0.97      0.97      0.97        33\n",
      "     go_long       0.81      0.91      0.86        23\n",
      "    go_short       1.00      0.99      0.99       627\n",
      "\n",
      "    accuracy                           0.99       683\n",
      "   macro avg       0.92      0.96      0.94       683\n",
      "weighted avg       0.99      0.99      0.99       683\n",
      "\n",
      "\n",
      "Given the sequence: ['do_nothing', 'do_nothing', 'do_nothing']\n",
      "The model predicts the next action will be: do_nothing\n",
      "\n",
      "Top 5 features for predicting 'do_nothing':\n",
      "do_nothing: 0.570\n",
      "do_nothing do_nothing: 0.366\n",
      "go_short: 0.030\n",
      "go_short do_nothing: 0.016\n",
      "do_nothing go_short: 0.012\n",
      "\n",
      "Top 5 features for predicting 'go_long':\n",
      "go_long: 0.474\n",
      "go_long go_long: 0.293\n",
      "go_short: 0.126\n",
      "go_short go_short: 0.061\n",
      "go_short go_long: 0.036\n",
      "\n",
      "Top 5 features for predicting 'go_short':\n",
      "go_short: 0.595\n",
      "go_short go_short: 0.395\n",
      "go_long: 0.004\n",
      "go_long go_long: 0.002\n",
      "do_nothing: 0.002\n",
      "\n",
      "Normalized Feature Importances:\n",
      "\n",
      "Top 5 normalized features for predicting 'do_nothing':\n",
      "do_nothing: 0.570\n",
      "do_nothing do_nothing: 0.366\n",
      "go_short: 0.030\n",
      "go_short do_nothing: 0.016\n",
      "do_nothing go_short: 0.012\n",
      "\n",
      "Top 5 normalized features for predicting 'go_long':\n",
      "go_long: 0.474\n",
      "go_long go_long: 0.293\n",
      "go_short: 0.126\n",
      "go_short go_short: 0.061\n",
      "go_short go_long: 0.036\n",
      "\n",
      "Top 5 normalized features for predicting 'go_short':\n",
      "go_short: 0.595\n",
      "go_short go_short: 0.395\n",
      "go_long: 0.004\n",
      "go_long go_long: 0.002\n",
      "do_nothing: 0.002\n"
     ]
    }
   ],
   "source": [
    "# Function to create sequences\n",
    "def create_sequences(series, seq_length):\n",
    "    print(series)\n",
    "    documents = []\n",
    "    labels = []\n",
    "    for i in range(len(series) - seq_length):\n",
    "        doc = ' '.join(map(str, series.iloc[i:i+seq_length]))\n",
    "        documents.append(doc)\n",
    "        labels.append(series.iloc[i+seq_length])\n",
    "    return documents, labels\n",
    "\n",
    "# Create sequences\n",
    "seq_length = 3  # Length of each sequence 5 was used originally\n",
    "documents, labels = create_sequences(df['action'], seq_length)\n",
    "\n",
    "# Convert to DataFrame\n",
    "sequence_df = pd.DataFrame({'document': documents, 'next_action': labels})\n",
    "\n",
    "# Split the data\n",
    "X_train, X_test, y_train, y_test = train_test_split(\n",
    "    sequence_df['document'], sequence_df['next_action'], \n",
    "    test_size=0.25, shuffle=True, random_state=42\n",
    ")\n",
    "\n",
    "# Create a bag of words representation\n",
    "vectorizer = CountVectorizer(stop_words='english', ngram_range=(1, 2), min_df=3)\n",
    "X_train_vec = vectorizer.fit_transform(X_train)\n",
    "X_test_vec = vectorizer.transform(X_test)\n",
    "\n",
    "# Train a Naive Bayes classifier\n",
    "clf = MultinomialNB(alpha=0.01, class_prior=[0.035, 0.035, 0.93]) # alpha=0.1, class_prior=[0.2, 0.3, 0.4], alpha=0.01, fit_prior=False\n",
    "#clf = LogisticRegression(class_weight='balanced', max_iter=300)\n",
    "#clf = RandomForestClassifier(class_weight='balanced', random_state=42)\n",
    "#clf = DecisionTreeClassifier(class_weight='balanced', random_state=42)\n",
    "clf.fit(X_train_vec, y_train)\n",
    "\n",
    "print(f'classes: {clf.classes_}')\n",
    "\n",
    "# Make predictions\n",
    "#print(f'xtest: {X_test_vec}')\n",
    "y_pred = clf.predict(X_test_vec)\n",
    "\n",
    "# Evaluate the model\n",
    "print(classification_report(y_test, y_pred, zero_division=True))\n",
    "\n",
    "# Example of making a prediction\n",
    "if len(df) >= seq_length:\n",
    "    new_sequence = df['action'].iloc[-seq_length:].tolist()\n",
    "    new_document = ' '.join(new_sequence)\n",
    "    new_vector = vectorizer.transform([new_document])\n",
    "    prediction = clf.predict(new_vector)\n",
    "\n",
    "    print(f\"\\nGiven the sequence: {new_sequence}\")\n",
    "    print(f\"The model predicts the next action will be: {prediction[0]}\")\n",
    "else:\n",
    "    print(\"\\nNot enough data to make a prediction.\")\n",
    "\n",
    "\n",
    "# Fixed Feature importance calculation\n",
    "feature_names = vectorizer.get_feature_names_out()\n",
    "feature_importance = np.exp(clf.feature_log_prob_)\n",
    "\n",
    "for i, label in enumerate(clf.classes_):\n",
    "    print(f\"\\nTop 5 features for predicting '{label}':\")\n",
    "    top_features = feature_importance[i].argsort()[::-1][:5]\n",
    "    for idx in top_features:\n",
    "        print(f\"{feature_names[idx]}: {feature_importance[i][idx]:.3f}\")\n",
    "\n",
    "# Optional: Normalize feature importances\n",
    "normalized_importance = feature_importance / feature_importance.sum(axis=1, keepdims=True)\n",
    "\n",
    "print(\"\\nNormalized Feature Importances:\")\n",
    "for i, label in enumerate(clf.classes_):\n",
    "    print(f\"\\nTop 5 normalized features for predicting '{label}':\")\n",
    "    top_features = normalized_importance[i].argsort()[::-1][:5]\n",
    "    for idx in top_features:\n",
    "        print(f\"{feature_names[idx]}: {normalized_importance[i][idx]:.3f}\")\n"
   ]
  },
  {
   "cell_type": "code",
   "execution_count": 137,
   "id": "ee5fef4b-3488-4cb3-82a8-39215d72b990",
   "metadata": {
    "execution": {
     "iopub.execute_input": "2024-11-25T21:27:54.710326Z",
     "iopub.status.busy": "2024-11-25T21:27:54.710132Z",
     "iopub.status.idle": "2024-11-25T21:27:54.712882Z",
     "shell.execute_reply": "2024-11-25T21:27:54.712573Z"
    }
   },
   "outputs": [
    {
     "name": "stdout",
     "output_type": "stream",
     "text": [
      "nlp model saved sucesfully!\n"
     ]
    }
   ],
   "source": [
    "try:\n",
    "    joblib.dump(clf, '/home/defi/Desktop/portfolio/projects/python/pipeline_defi/models/nlpmodel.pkl')\n",
    "    print('nlp model saved sucesfully!')\n",
    "except Exception as e:\n",
    "    print(e)"
   ]
  },
  {
   "cell_type": "code",
   "execution_count": 138,
   "id": "cd31f7fa-ae78-40f4-a0c1-94a682d750f0",
   "metadata": {
    "execution": {
     "iopub.execute_input": "2024-11-25T21:27:54.713981Z",
     "iopub.status.busy": "2024-11-25T21:27:54.713786Z",
     "iopub.status.idle": "2024-11-25T21:27:54.716247Z",
     "shell.execute_reply": "2024-11-25T21:27:54.715932Z"
    }
   },
   "outputs": [
    {
     "name": "stdout",
     "output_type": "stream",
     "text": [
      "nlp vectorizer save!\n"
     ]
    }
   ],
   "source": [
    "try:\n",
    "    joblib.dump(vectorizer, '/home/defi/Desktop/portfolio/projects/python/pipeline_defi/models/nlpvectorizer.pkl')\n",
    "    print('nlp vectorizer save!')\n",
    "except Exception as e:\n",
    "    print(e)"
   ]
  },
  {
   "cell_type": "markdown",
   "id": "643e451c-6cc7-4cea-8100-aa053dcd001e",
   "metadata": {
    "editable": true,
    "slideshow": {
     "slide_type": ""
    },
    "tags": []
   },
   "source": [
    "### Testing model explanability"
   ]
  },
  {
   "cell_type": "code",
   "execution_count": 139,
   "id": "d4ed630f-5753-40f9-989c-34a96dfdafdf",
   "metadata": {
    "execution": {
     "iopub.execute_input": "2024-11-25T21:27:54.717391Z",
     "iopub.status.busy": "2024-11-25T21:27:54.717196Z",
     "iopub.status.idle": "2024-11-25T21:27:54.718907Z",
     "shell.execute_reply": "2024-11-25T21:27:54.718605Z"
    }
   },
   "outputs": [],
   "source": [
    "#!pip show scikit-learn"
   ]
  },
  {
   "cell_type": "markdown",
   "id": "8ac69156-2711-48fa-8090-17e9ac0b87b6",
   "metadata": {},
   "source": [
    "##### Import libs"
   ]
  },
  {
   "cell_type": "code",
   "execution_count": 140,
   "id": "83964d96-9307-4c00-b53e-467de4f62569",
   "metadata": {
    "execution": {
     "iopub.execute_input": "2024-11-25T21:27:54.720029Z",
     "iopub.status.busy": "2024-11-25T21:27:54.719838Z",
     "iopub.status.idle": "2024-11-25T21:27:54.721528Z",
     "shell.execute_reply": "2024-11-25T21:27:54.721234Z"
    }
   },
   "outputs": [],
   "source": [
    "#from interpret.glassbox import ExplainableBoostingClassifier\n",
    "#from interpret.blackbox import LimeTabular\n",
    "#from interpret import show"
   ]
  },
  {
   "cell_type": "code",
   "execution_count": 141,
   "id": "79abdbc0-d13a-4e03-8539-554836c447a8",
   "metadata": {
    "execution": {
     "iopub.execute_input": "2024-11-25T21:27:54.722578Z",
     "iopub.status.busy": "2024-11-25T21:27:54.722390Z",
     "iopub.status.idle": "2024-11-25T21:27:54.724068Z",
     "shell.execute_reply": "2024-11-25T21:27:54.723772Z"
    }
   },
   "outputs": [],
   "source": [
    "#test_vec = list(X_test_vec)[1]"
   ]
  },
  {
   "cell_type": "code",
   "execution_count": 142,
   "id": "e5fd9f96-53ff-4b4f-8ab5-dbceff35682e",
   "metadata": {
    "execution": {
     "iopub.execute_input": "2024-11-25T21:27:54.725133Z",
     "iopub.status.busy": "2024-11-25T21:27:54.724946Z",
     "iopub.status.idle": "2024-11-25T21:27:54.727254Z",
     "shell.execute_reply": "2024-11-25T21:27:54.726959Z"
    }
   },
   "outputs": [
    {
     "data": {
      "text/plain": [
       "\"\\nfor index, val in enumerate(list(X_test)):\\n    lst = list(val.split(' '))\\n    #if all(x == lst[0] for x in lst):\\n    if len(set(lst)) > 1:\\n        print(index, lst)\\n    #print()\\n    #    print(index, val)\\n\""
      ]
     },
     "execution_count": 142,
     "metadata": {},
     "output_type": "execute_result"
    }
   ],
   "source": [
    "'''\n",
    "for index, val in enumerate(list(X_test)):\n",
    "    lst = list(val.split(' '))\n",
    "    #if all(x == lst[0] for x in lst):\n",
    "    if len(set(lst)) > 1:\n",
    "        print(index, lst)\n",
    "    #print()\n",
    "    #    print(index, val)\n",
    "'''"
   ]
  },
  {
   "cell_type": "code",
   "execution_count": 143,
   "id": "6c89d5d5-c699-4593-8c1e-fd63cdb344b3",
   "metadata": {
    "execution": {
     "iopub.execute_input": "2024-11-25T21:27:54.728357Z",
     "iopub.status.busy": "2024-11-25T21:27:54.728169Z",
     "iopub.status.idle": "2024-11-25T21:27:54.729844Z",
     "shell.execute_reply": "2024-11-25T21:27:54.729552Z"
    }
   },
   "outputs": [],
   "source": [
    "#clf.predict(test_vec)[10]"
   ]
  },
  {
   "cell_type": "markdown",
   "id": "33e0e0a6-7d1e-4e99-a867-4d5d0baaf992",
   "metadata": {},
   "source": [
    "##### Explain result"
   ]
  },
  {
   "cell_type": "code",
   "execution_count": 144,
   "id": "e5f72cff-7f87-42f9-a239-0c704b221200",
   "metadata": {
    "execution": {
     "iopub.execute_input": "2024-11-25T21:27:54.730945Z",
     "iopub.status.busy": "2024-11-25T21:27:54.730762Z",
     "iopub.status.idle": "2024-11-25T21:27:54.733385Z",
     "shell.execute_reply": "2024-11-25T21:27:54.733087Z"
    }
   },
   "outputs": [
    {
     "data": {
      "text/plain": [
       "\"\\n# Step 1: Fit an Explainable Model (e.g., Explainable Boosting Machine)\\ndef explain_pred(index: int):\\n    feature_names = list(X_test)[index]\\n    test_vec = list(X_test_vec)[index]\\n    ebm = ExplainableBoostingClassifier(\\n                                        interactions=0,\\n                                        smoothing_rounds=5000,\\n                                        cyclic_progress=0.0,\\n                                        reg_alpha=10.0\\n                                       )\\n    ebm.fit(X_train_vec, y_train)\\n    \\n    # Global explanation (feature importances)\\n    ebm_global = ebm.explain_global()\\n    \\n    show(ebm_global, 0)  # Shows which features are most important globally\\n    \\n    # Step 2: Local explanation for a specific prediction\\n    sample_sequence = test_vec  # Example sequence to explain\\n    ebm_local = ebm.explain_local([sample_sequence], [list(y_test)[index]])\\n    res = {\\n        'X': feature_names,\\n        'next_pred': clf.predict(test_vec)[0]\\n    }\\n    print(res)\\n    return show(ebm_local)  # Shows explanation for a specific prediction\\n\""
      ]
     },
     "execution_count": 144,
     "metadata": {},
     "output_type": "execute_result"
    }
   ],
   "source": [
    "'''\n",
    "# Step 1: Fit an Explainable Model (e.g., Explainable Boosting Machine)\n",
    "def explain_pred(index: int):\n",
    "    feature_names = list(X_test)[index]\n",
    "    test_vec = list(X_test_vec)[index]\n",
    "    ebm = ExplainableBoostingClassifier(\n",
    "                                        interactions=0,\n",
    "                                        smoothing_rounds=5000,\n",
    "                                        cyclic_progress=0.0,\n",
    "                                        reg_alpha=10.0\n",
    "                                       )\n",
    "    ebm.fit(X_train_vec, y_train)\n",
    "    \n",
    "    # Global explanation (feature importances)\n",
    "    ebm_global = ebm.explain_global()\n",
    "    \n",
    "    show(ebm_global, 0)  # Shows which features are most important globally\n",
    "    \n",
    "    # Step 2: Local explanation for a specific prediction\n",
    "    sample_sequence = test_vec  # Example sequence to explain\n",
    "    ebm_local = ebm.explain_local([sample_sequence], [list(y_test)[index]])\n",
    "    res = {\n",
    "        'X': feature_names,\n",
    "        'next_pred': clf.predict(test_vec)[0]\n",
    "    }\n",
    "    print(res)\n",
    "    return show(ebm_local)  # Shows explanation for a specific prediction\n",
    "'''"
   ]
  },
  {
   "cell_type": "code",
   "execution_count": 145,
   "id": "20cb24b1-6bde-4663-9d93-d47ca5e02012",
   "metadata": {
    "execution": {
     "iopub.execute_input": "2024-11-25T21:27:54.734553Z",
     "iopub.status.busy": "2024-11-25T21:27:54.734294Z",
     "iopub.status.idle": "2024-11-25T21:27:54.736339Z",
     "shell.execute_reply": "2024-11-25T21:27:54.735962Z"
    },
    "scrolled": true
   },
   "outputs": [],
   "source": [
    "#explain_pred(41)"
   ]
  },
  {
   "cell_type": "code",
   "execution_count": null,
   "id": "57280594-5f27-43d1-988e-e8e360711742",
   "metadata": {},
   "outputs": [],
   "source": []
  }
 ],
 "metadata": {
  "kernelspec": {
   "display_name": ".venv",
   "language": "python",
   "name": "python3"
  },
  "language_info": {
   "codemirror_mode": {
    "name": "ipython",
    "version": 3
   },
   "file_extension": ".py",
   "mimetype": "text/x-python",
   "name": "python",
   "nbconvert_exporter": "python",
   "pygments_lexer": "ipython3",
   "version": "3.10.4"
  }
 },
 "nbformat": 4,
 "nbformat_minor": 5
}
