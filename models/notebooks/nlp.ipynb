{
 "cells": [
  {
   "cell_type": "code",
   "execution_count": 1,
   "id": "3e905445-d3bd-414e-b5bc-29a43acbe9ec",
   "metadata": {
    "editable": true,
    "execution": {
     "iopub.execute_input": "2024-11-25T11:00:48.101374Z",
     "iopub.status.busy": "2024-11-25T11:00:48.101052Z",
     "iopub.status.idle": "2024-11-25T11:00:48.608422Z",
     "shell.execute_reply": "2024-11-25T11:00:48.607943Z"
    },
    "slideshow": {
     "slide_type": ""
    },
    "tags": []
   },
   "outputs": [],
   "source": [
    "import numpy as np\n",
    "from sklearn.feature_extraction.text import CountVectorizer\n",
    "from sklearn.model_selection import train_test_split\n",
    "from sklearn.metrics import classification_report\n",
    "import pandas as pd\n",
    "import joblib "
   ]
  },
  {
   "cell_type": "code",
   "execution_count": 2,
   "id": "11afea1e-49dd-4cb3-a2ad-a931995497db",
   "metadata": {
    "execution": {
     "iopub.execute_input": "2024-11-25T11:00:48.610244Z",
     "iopub.status.busy": "2024-11-25T11:00:48.609872Z",
     "iopub.status.idle": "2024-11-25T11:00:48.615947Z",
     "shell.execute_reply": "2024-11-25T11:00:48.615571Z"
    }
   },
   "outputs": [
    {
     "data": {
      "text/plain": [
       "'\\nfrom sklearn.tree import DecisionTreeClassifier, ExtraTreeRegressor\\nfrom sklearn.ensemble import RandomForestClassifier, RandomForestRegressor\\nfrom sklearn.neural_network import MLPClassifier\\nfrom sklearn.discriminant_analysis import LinearDiscriminantAnalysis\\nfrom sklearn.linear_model import SGDClassifier\\nfrom sklearn.neighbors import KNeighborsClassifier\\nfrom sklearn.svm import SVC  # for classification\\nfrom sklearn.linear_model import LogisticRegression\\nfrom imblearn.over_sampling import SMOTE, ADASYN\\n'"
      ]
     },
     "execution_count": 2,
     "metadata": {},
     "output_type": "execute_result"
    }
   ],
   "source": [
    "# ml imports\n",
    "from sklearn.naive_bayes import MultinomialNB, ComplementNB\n",
    "'''\n",
    "from sklearn.tree import DecisionTreeClassifier, ExtraTreeRegressor\n",
    "from sklearn.ensemble import RandomForestClassifier, RandomForestRegressor\n",
    "from sklearn.neural_network import MLPClassifier\n",
    "from sklearn.discriminant_analysis import LinearDiscriminantAnalysis\n",
    "from sklearn.linear_model import SGDClassifier\n",
    "from sklearn.neighbors import KNeighborsClassifier\n",
    "from sklearn.svm import SVC  # for classification\n",
    "from sklearn.linear_model import LogisticRegression\n",
    "from imblearn.over_sampling import SMOTE, ADASYN\n",
    "'''"
   ]
  },
  {
   "cell_type": "code",
   "execution_count": 3,
   "id": "f5e374ee-e63a-4203-a9a8-551a1c560d84",
   "metadata": {
    "execution": {
     "iopub.execute_input": "2024-11-25T11:00:48.617218Z",
     "iopub.status.busy": "2024-11-25T11:00:48.616905Z",
     "iopub.status.idle": "2024-11-25T11:00:48.635970Z",
     "shell.execute_reply": "2024-11-25T11:00:48.635542Z"
    }
   },
   "outputs": [],
   "source": [
    "data = pd.read_csv('/home/defi/Desktop/portfolio/projects/python/pipeline_defi/clean_data/imitate_07.csv')\n",
    "df = data"
   ]
  },
  {
   "cell_type": "code",
   "execution_count": 4,
   "id": "3a64d3c3-3fac-4d6d-bb5c-786c83a2f4ed",
   "metadata": {
    "execution": {
     "iopub.execute_input": "2024-11-25T11:00:48.637184Z",
     "iopub.status.busy": "2024-11-25T11:00:48.636967Z",
     "iopub.status.idle": "2024-11-25T11:00:48.639847Z",
     "shell.execute_reply": "2024-11-25T11:00:48.639484Z"
    }
   },
   "outputs": [
    {
     "data": {
      "text/plain": [
       "Index(['Unnamed: 0', 'Unnamed:', 'open', 'high', 'ema-26', 'ema-12', 'low',\n",
       "       'mean-grad-hist', 'close', 'volume', 'sma-25', 'long_jcrosk',\n",
       "       'short_kdj', 'action'],\n",
       "      dtype='object')"
      ]
     },
     "execution_count": 4,
     "metadata": {},
     "output_type": "execute_result"
    }
   ],
   "source": [
    "df.columns"
   ]
  },
  {
   "cell_type": "code",
   "execution_count": null,
   "id": "7f719a1e-323b-46ad-8a96-b08d1f18e93b",
   "metadata": {},
   "outputs": [],
   "source": []
  },
  {
   "cell_type": "code",
   "execution_count": 5,
   "id": "fb962b5c-aac2-47ad-8b50-db190a51c3ac",
   "metadata": {
    "execution": {
     "iopub.execute_input": "2024-11-25T11:00:48.641054Z",
     "iopub.status.busy": "2024-11-25T11:00:48.640853Z",
     "iopub.status.idle": "2024-11-25T11:00:48.643581Z",
     "shell.execute_reply": "2024-11-25T11:00:48.643216Z"
    }
   },
   "outputs": [],
   "source": [
    "df.drop(['Unnamed: 0'], axis=1, inplace=True)"
   ]
  },
  {
   "cell_type": "code",
   "execution_count": 6,
   "id": "98c20f9a-606a-4213-8788-f70be071b939",
   "metadata": {
    "execution": {
     "iopub.execute_input": "2024-11-25T11:00:48.644733Z",
     "iopub.status.busy": "2024-11-25T11:00:48.644531Z",
     "iopub.status.idle": "2024-11-25T11:00:48.647555Z",
     "shell.execute_reply": "2024-11-25T11:00:48.647191Z"
    }
   },
   "outputs": [],
   "source": [
    "df.dropna(inplace=True)"
   ]
  },
  {
   "cell_type": "code",
   "execution_count": 7,
   "id": "6759e223-1663-4747-b3e7-b35b496491a2",
   "metadata": {
    "execution": {
     "iopub.execute_input": "2024-11-25T11:00:48.648725Z",
     "iopub.status.busy": "2024-11-25T11:00:48.648518Z",
     "iopub.status.idle": "2024-11-25T11:00:48.651234Z",
     "shell.execute_reply": "2024-11-25T11:00:48.650877Z"
    }
   },
   "outputs": [
    {
     "data": {
      "text/plain": [
       "Index(['Unnamed:', 'open', 'high', 'ema-26', 'ema-12', 'low', 'mean-grad-hist',\n",
       "       'close', 'volume', 'sma-25', 'long_jcrosk', 'short_kdj', 'action'],\n",
       "      dtype='object')"
      ]
     },
     "execution_count": 7,
     "metadata": {},
     "output_type": "execute_result"
    }
   ],
   "source": [
    "df.columns"
   ]
  },
  {
   "cell_type": "code",
   "execution_count": 8,
   "id": "9cf331a9-ca79-4da4-ac8d-fb384125d440",
   "metadata": {
    "execution": {
     "iopub.execute_input": "2024-11-25T11:00:48.652358Z",
     "iopub.status.busy": "2024-11-25T11:00:48.652158Z",
     "iopub.status.idle": "2024-11-25T11:00:48.655043Z",
     "shell.execute_reply": "2024-11-25T11:00:48.654682Z"
    }
   },
   "outputs": [
    {
     "data": {
      "text/plain": [
       "array([0])"
      ]
     },
     "execution_count": 8,
     "metadata": {},
     "output_type": "execute_result"
    }
   ],
   "source": [
    "np.unique(df['short_kdj'])"
   ]
  },
  {
   "cell_type": "code",
   "execution_count": null,
   "id": "924e5df9-d4c6-4870-92d2-622685b187a9",
   "metadata": {},
   "outputs": [],
   "source": []
  },
  {
   "cell_type": "code",
   "execution_count": 9,
   "id": "9ec6ea28-4d19-429f-8801-013407fc2d64",
   "metadata": {
    "editable": true,
    "execution": {
     "iopub.execute_input": "2024-11-25T11:00:48.656284Z",
     "iopub.status.busy": "2024-11-25T11:00:48.656066Z",
     "iopub.status.idle": "2024-11-25T11:00:49.051083Z",
     "shell.execute_reply": "2024-11-25T11:00:49.050392Z"
    },
    "slideshow": {
     "slide_type": ""
    },
    "tags": []
   },
   "outputs": [
    {
     "name": "stdout",
     "output_type": "stream",
     "text": [
      "0        do_nothing\n",
      "1        do_nothing\n",
      "2        do_nothing\n",
      "3        do_nothing\n",
      "4        do_nothing\n",
      "            ...    \n",
      "16351    do_nothing\n",
      "16352    do_nothing\n",
      "16353    do_nothing\n",
      "16354    do_nothing\n",
      "16355    do_nothing\n",
      "Name: action, Length: 16356, dtype: object\n"
     ]
    },
    {
     "name": "stdout",
     "output_type": "stream",
     "text": [
      "classes: ['do_nothing' 'go_long' 'go_short']\n",
      "              precision    recall  f1-score   support\n",
      "\n",
      "  do_nothing       0.99      0.99      0.99       167\n",
      "     go_long       0.96      0.97      0.96       163\n",
      "    go_short       1.00      1.00      1.00      3759\n",
      "\n",
      "    accuracy                           1.00      4089\n",
      "   macro avg       0.98      0.99      0.99      4089\n",
      "weighted avg       1.00      1.00      1.00      4089\n",
      "\n",
      "\n",
      "Given the sequence: ['do_nothing', 'do_nothing', 'do_nothing']\n",
      "The model predicts the next action will be: do_nothing\n",
      "\n",
      "Top 5 features for predicting 'do_nothing':\n",
      "do_nothing: 0.594\n",
      "do_nothing do_nothing: 0.393\n",
      "go_short: 0.006\n",
      "go_short do_nothing: 0.003\n",
      "do_nothing go_short: 0.003\n",
      "\n",
      "Top 5 features for predicting 'go_long':\n",
      "go_long: 0.570\n",
      "go_long go_long: 0.375\n",
      "go_short: 0.030\n",
      "go_short go_short: 0.016\n",
      "go_short go_long: 0.008\n",
      "\n",
      "Top 5 features for predicting 'go_short':\n",
      "go_short: 0.598\n",
      "go_short go_short: 0.399\n",
      "go_long: 0.001\n",
      "go_long go_long: 0.001\n",
      "go_long go_short: 0.001\n",
      "\n",
      "Normalized Feature Importances:\n",
      "\n",
      "Top 5 normalized features for predicting 'do_nothing':\n",
      "do_nothing: 0.594\n",
      "do_nothing do_nothing: 0.393\n",
      "go_short: 0.006\n",
      "go_short do_nothing: 0.003\n",
      "do_nothing go_short: 0.003\n",
      "\n",
      "Top 5 normalized features for predicting 'go_long':\n",
      "go_long: 0.570\n",
      "go_long go_long: 0.375\n",
      "go_short: 0.030\n",
      "go_short go_short: 0.016\n",
      "go_short go_long: 0.008\n",
      "\n",
      "Top 5 normalized features for predicting 'go_short':\n",
      "go_short: 0.598\n",
      "go_short go_short: 0.399\n",
      "go_long: 0.001\n",
      "go_long go_long: 0.001\n",
      "go_long go_short: 0.001\n"
     ]
    }
   ],
   "source": [
    "# Function to create sequences\n",
    "def create_sequences(series, seq_length):\n",
    "    print(series)\n",
    "    documents = []\n",
    "    labels = []\n",
    "    for i in range(len(series) - seq_length):\n",
    "        doc = ' '.join(map(str, series.iloc[i:i+seq_length]))\n",
    "        documents.append(doc)\n",
    "        labels.append(series.iloc[i+seq_length])\n",
    "    return documents, labels\n",
    "\n",
    "# Create sequences\n",
    "seq_length = 3  # Length of each sequence 5 was used originally\n",
    "documents, labels = create_sequences(df['action'], seq_length)\n",
    "\n",
    "# Convert to DataFrame\n",
    "sequence_df = pd.DataFrame({'document': documents, 'next_action': labels})\n",
    "\n",
    "# Split the data\n",
    "X_train, X_test, y_train, y_test = train_test_split(\n",
    "    sequence_df['document'], sequence_df['next_action'], \n",
    "    test_size=0.25, shuffle=True, random_state=42\n",
    ")\n",
    "\n",
    "# Create a bag of words representation\n",
    "vectorizer = CountVectorizer(stop_words='english', ngram_range=(1, 2), min_df=3)\n",
    "X_train_vec = vectorizer.fit_transform(X_train)\n",
    "X_test_vec = vectorizer.transform(X_test)\n",
    "\n",
    "# Train a Naive Bayes classifier\n",
    "clf = MultinomialNB(alpha=0.01, class_prior=[0.04,0.04, 0.92]) # alpha=0.1, class_prior=[0.2, 0.3, 0.4], alpha=0.01, fit_prior=False\n",
    "#clf = LogisticRegression(class_weight='balanced', max_iter=300)\n",
    "#clf = RandomForestClassifier(class_weight='balanced', random_state=42)\n",
    "#clf = DecisionTreeClassifier(class_weight='balanced', random_state=42)\n",
    "clf.fit(X_train_vec, y_train)\n",
    "\n",
    "print(f'classes: {clf.classes_}')\n",
    "\n",
    "# Make predictions\n",
    "#print(f'xtest: {X_test_vec}')\n",
    "y_pred = clf.predict(X_test_vec)\n",
    "\n",
    "# Evaluate the model\n",
    "print(classification_report(y_test, y_pred, zero_division=True))\n",
    "\n",
    "# Example of making a prediction\n",
    "if len(df) >= seq_length:\n",
    "    new_sequence = df['action'].iloc[-seq_length:].tolist()\n",
    "    new_document = ' '.join(new_sequence)\n",
    "    new_vector = vectorizer.transform([new_document])\n",
    "    prediction = clf.predict(new_vector)\n",
    "\n",
    "    print(f\"\\nGiven the sequence: {new_sequence}\")\n",
    "    print(f\"The model predicts the next action will be: {prediction[0]}\")\n",
    "else:\n",
    "    print(\"\\nNot enough data to make a prediction.\")\n",
    "\n",
    "\n",
    "# Fixed Feature importance calculation\n",
    "feature_names = vectorizer.get_feature_names_out()\n",
    "feature_importance = np.exp(clf.feature_log_prob_)\n",
    "\n",
    "for i, label in enumerate(clf.classes_):\n",
    "    print(f\"\\nTop 5 features for predicting '{label}':\")\n",
    "    top_features = feature_importance[i].argsort()[::-1][:5]\n",
    "    for idx in top_features:\n",
    "        print(f\"{feature_names[idx]}: {feature_importance[i][idx]:.3f}\")\n",
    "\n",
    "# Optional: Normalize feature importances\n",
    "normalized_importance = feature_importance / feature_importance.sum(axis=1, keepdims=True)\n",
    "\n",
    "print(\"\\nNormalized Feature Importances:\")\n",
    "for i, label in enumerate(clf.classes_):\n",
    "    print(f\"\\nTop 5 normalized features for predicting '{label}':\")\n",
    "    top_features = normalized_importance[i].argsort()[::-1][:5]\n",
    "    for idx in top_features:\n",
    "        print(f\"{feature_names[idx]}: {normalized_importance[i][idx]:.3f}\")\n"
   ]
  },
  {
   "cell_type": "code",
   "execution_count": 10,
   "id": "ee5fef4b-3488-4cb3-82a8-39215d72b990",
   "metadata": {
    "execution": {
     "iopub.execute_input": "2024-11-25T11:00:49.052618Z",
     "iopub.status.busy": "2024-11-25T11:00:49.052309Z",
     "iopub.status.idle": "2024-11-25T11:00:49.055337Z",
     "shell.execute_reply": "2024-11-25T11:00:49.055021Z"
    }
   },
   "outputs": [
    {
     "name": "stdout",
     "output_type": "stream",
     "text": [
      "nlp model saved sucesfully!\n"
     ]
    }
   ],
   "source": [
    "try:\n",
    "    joblib.dump(clf, '/home/defi/Desktop/portfolio/projects/python/pipeline_defi/models/nlpmodel.pkl')\n",
    "    print('nlp model saved sucesfully!')\n",
    "except Exception as e:\n",
    "    print(e)"
   ]
  },
  {
   "cell_type": "code",
   "execution_count": 11,
   "id": "cd31f7fa-ae78-40f4-a0c1-94a682d750f0",
   "metadata": {
    "execution": {
     "iopub.execute_input": "2024-11-25T11:00:49.056510Z",
     "iopub.status.busy": "2024-11-25T11:00:49.056305Z",
     "iopub.status.idle": "2024-11-25T11:00:49.058883Z",
     "shell.execute_reply": "2024-11-25T11:00:49.058571Z"
    }
   },
   "outputs": [
    {
     "name": "stdout",
     "output_type": "stream",
     "text": [
      "nlp vectorizer save!\n"
     ]
    }
   ],
   "source": [
    "try:\n",
    "    joblib.dump(vectorizer, '/home/defi/Desktop/portfolio/projects/python/pipeline_defi/models/nlpvectorizer.pkl')\n",
    "    print('nlp vectorizer save!')\n",
    "except Exception as e:\n",
    "    print(e)"
   ]
  },
  {
   "cell_type": "markdown",
   "id": "643e451c-6cc7-4cea-8100-aa053dcd001e",
   "metadata": {
    "editable": true,
    "slideshow": {
     "slide_type": ""
    },
    "tags": []
   },
   "source": [
    "### Testing model explanability"
   ]
  },
  {
   "cell_type": "code",
   "execution_count": 12,
   "id": "d4ed630f-5753-40f9-989c-34a96dfdafdf",
   "metadata": {
    "execution": {
     "iopub.execute_input": "2024-11-25T11:00:49.060047Z",
     "iopub.status.busy": "2024-11-25T11:00:49.059846Z",
     "iopub.status.idle": "2024-11-25T11:00:49.061568Z",
     "shell.execute_reply": "2024-11-25T11:00:49.061270Z"
    }
   },
   "outputs": [],
   "source": [
    "#!pip show scikit-learn"
   ]
  },
  {
   "cell_type": "markdown",
   "id": "8ac69156-2711-48fa-8090-17e9ac0b87b6",
   "metadata": {},
   "source": [
    "##### Import libs"
   ]
  },
  {
   "cell_type": "code",
   "execution_count": 13,
   "id": "83964d96-9307-4c00-b53e-467de4f62569",
   "metadata": {
    "execution": {
     "iopub.execute_input": "2024-11-25T11:00:49.062727Z",
     "iopub.status.busy": "2024-11-25T11:00:49.062493Z",
     "iopub.status.idle": "2024-11-25T11:00:49.064174Z",
     "shell.execute_reply": "2024-11-25T11:00:49.063874Z"
    }
   },
   "outputs": [],
   "source": [
    "#from interpret.glassbox import ExplainableBoostingClassifier\n",
    "#from interpret.blackbox import LimeTabular\n",
    "#from interpret import show"
   ]
  },
  {
   "cell_type": "code",
   "execution_count": 14,
   "id": "79abdbc0-d13a-4e03-8539-554836c447a8",
   "metadata": {
    "execution": {
     "iopub.execute_input": "2024-11-25T11:00:49.065275Z",
     "iopub.status.busy": "2024-11-25T11:00:49.065085Z",
     "iopub.status.idle": "2024-11-25T11:00:49.066762Z",
     "shell.execute_reply": "2024-11-25T11:00:49.066465Z"
    }
   },
   "outputs": [],
   "source": [
    "#test_vec = list(X_test_vec)[1]"
   ]
  },
  {
   "cell_type": "code",
   "execution_count": 15,
   "id": "e5fd9f96-53ff-4b4f-8ab5-dbceff35682e",
   "metadata": {
    "execution": {
     "iopub.execute_input": "2024-11-25T11:00:49.067871Z",
     "iopub.status.busy": "2024-11-25T11:00:49.067639Z",
     "iopub.status.idle": "2024-11-25T11:00:49.070034Z",
     "shell.execute_reply": "2024-11-25T11:00:49.069739Z"
    }
   },
   "outputs": [
    {
     "data": {
      "text/plain": [
       "\"\\nfor index, val in enumerate(list(X_test)):\\n    lst = list(val.split(' '))\\n    #if all(x == lst[0] for x in lst):\\n    if len(set(lst)) > 1:\\n        print(index, lst)\\n    #print()\\n    #    print(index, val)\\n\""
      ]
     },
     "execution_count": 15,
     "metadata": {},
     "output_type": "execute_result"
    }
   ],
   "source": [
    "'''\n",
    "for index, val in enumerate(list(X_test)):\n",
    "    lst = list(val.split(' '))\n",
    "    #if all(x == lst[0] for x in lst):\n",
    "    if len(set(lst)) > 1:\n",
    "        print(index, lst)\n",
    "    #print()\n",
    "    #    print(index, val)\n",
    "'''"
   ]
  },
  {
   "cell_type": "code",
   "execution_count": 16,
   "id": "6c89d5d5-c699-4593-8c1e-fd63cdb344b3",
   "metadata": {
    "execution": {
     "iopub.execute_input": "2024-11-25T11:00:49.071159Z",
     "iopub.status.busy": "2024-11-25T11:00:49.070934Z",
     "iopub.status.idle": "2024-11-25T11:00:49.072756Z",
     "shell.execute_reply": "2024-11-25T11:00:49.072458Z"
    }
   },
   "outputs": [],
   "source": [
    "#clf.predict(test_vec)[10]"
   ]
  },
  {
   "cell_type": "markdown",
   "id": "33e0e0a6-7d1e-4e99-a867-4d5d0baaf992",
   "metadata": {},
   "source": [
    "##### Explain result"
   ]
  },
  {
   "cell_type": "code",
   "execution_count": 17,
   "id": "e5f72cff-7f87-42f9-a239-0c704b221200",
   "metadata": {
    "execution": {
     "iopub.execute_input": "2024-11-25T11:00:49.073895Z",
     "iopub.status.busy": "2024-11-25T11:00:49.073674Z",
     "iopub.status.idle": "2024-11-25T11:00:49.076317Z",
     "shell.execute_reply": "2024-11-25T11:00:49.076019Z"
    }
   },
   "outputs": [
    {
     "data": {
      "text/plain": [
       "\"\\n# Step 1: Fit an Explainable Model (e.g., Explainable Boosting Machine)\\ndef explain_pred(index: int):\\n    feature_names = list(X_test)[index]\\n    test_vec = list(X_test_vec)[index]\\n    ebm = ExplainableBoostingClassifier(\\n                                        interactions=0,\\n                                        smoothing_rounds=5000,\\n                                        cyclic_progress=0.0,\\n                                        reg_alpha=10.0\\n                                       )\\n    ebm.fit(X_train_vec, y_train)\\n    \\n    # Global explanation (feature importances)\\n    ebm_global = ebm.explain_global()\\n    \\n    show(ebm_global, 0)  # Shows which features are most important globally\\n    \\n    # Step 2: Local explanation for a specific prediction\\n    sample_sequence = test_vec  # Example sequence to explain\\n    ebm_local = ebm.explain_local([sample_sequence], [list(y_test)[index]])\\n    res = {\\n        'X': feature_names,\\n        'next_pred': clf.predict(test_vec)[0]\\n    }\\n    print(res)\\n    return show(ebm_local)  # Shows explanation for a specific prediction\\n\""
      ]
     },
     "execution_count": 17,
     "metadata": {},
     "output_type": "execute_result"
    }
   ],
   "source": [
    "'''\n",
    "# Step 1: Fit an Explainable Model (e.g., Explainable Boosting Machine)\n",
    "def explain_pred(index: int):\n",
    "    feature_names = list(X_test)[index]\n",
    "    test_vec = list(X_test_vec)[index]\n",
    "    ebm = ExplainableBoostingClassifier(\n",
    "                                        interactions=0,\n",
    "                                        smoothing_rounds=5000,\n",
    "                                        cyclic_progress=0.0,\n",
    "                                        reg_alpha=10.0\n",
    "                                       )\n",
    "    ebm.fit(X_train_vec, y_train)\n",
    "    \n",
    "    # Global explanation (feature importances)\n",
    "    ebm_global = ebm.explain_global()\n",
    "    \n",
    "    show(ebm_global, 0)  # Shows which features are most important globally\n",
    "    \n",
    "    # Step 2: Local explanation for a specific prediction\n",
    "    sample_sequence = test_vec  # Example sequence to explain\n",
    "    ebm_local = ebm.explain_local([sample_sequence], [list(y_test)[index]])\n",
    "    res = {\n",
    "        'X': feature_names,\n",
    "        'next_pred': clf.predict(test_vec)[0]\n",
    "    }\n",
    "    print(res)\n",
    "    return show(ebm_local)  # Shows explanation for a specific prediction\n",
    "'''"
   ]
  },
  {
   "cell_type": "code",
   "execution_count": 18,
   "id": "20cb24b1-6bde-4663-9d93-d47ca5e02012",
   "metadata": {
    "execution": {
     "iopub.execute_input": "2024-11-25T11:00:49.077420Z",
     "iopub.status.busy": "2024-11-25T11:00:49.077194Z",
     "iopub.status.idle": "2024-11-25T11:00:49.079014Z",
     "shell.execute_reply": "2024-11-25T11:00:49.078693Z"
    },
    "scrolled": true
   },
   "outputs": [],
   "source": [
    "#explain_pred(41)"
   ]
  },
  {
   "cell_type": "code",
   "execution_count": null,
   "id": "57280594-5f27-43d1-988e-e8e360711742",
   "metadata": {},
   "outputs": [],
   "source": []
  }
 ],
 "metadata": {
  "kernelspec": {
   "display_name": ".venv",
   "language": "python",
   "name": "python3"
  },
  "language_info": {
   "codemirror_mode": {
    "name": "ipython",
    "version": 3
   },
   "file_extension": ".py",
   "mimetype": "text/x-python",
   "name": "python",
   "nbconvert_exporter": "python",
   "pygments_lexer": "ipython3",
   "version": "3.10.4"
  }
 },
 "nbformat": 4,
 "nbformat_minor": 5
}
