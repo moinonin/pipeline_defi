{
 "cells": [
  {
   "cell_type": "code",
   "execution_count": 2384,
   "metadata": {},
   "outputs": [],
   "source": [
    "import pandas as pd\n",
    "import numpy as np\n",
    "from sklearn.metrics import confusion_matrix\n",
    "from pandas import DataFrame\n",
    "import pickle, random\n",
    "from tqdm import tqdm\n",
    "from scipy.spatial import KDTree\n",
    "import matplotlib.pyplot as plt"
   ]
  },
  {
   "cell_type": "code",
   "execution_count": 2385,
   "metadata": {},
   "outputs": [],
   "source": [
    "#!pwd"
   ]
  },
  {
   "cell_type": "code",
   "execution_count": 2386,
   "metadata": {},
   "outputs": [],
   "source": [
    "#df0 = pd.read_csv('../spreadsheets/rlhf_20250104_6.csv')\n",
    "#df0 = pd.read_csv('../spreadsheets/rlhf_159nlp.csv') # Best\n",
    "#df0 = pd.read_csv('../spreadsheets/rlhf_1064_2.csv')\n",
    "#df0 = pd.read_csv('../spreadsheets/rlhf_large_1072.csv') # 0.05, 0.95, 1.0, 0.999, 0.995, 12000\n",
    "#df0 = pd.read_csv('../spreadsheets/shufled_rlhf_11rl.csv')\n",
    "#df0 = pd.read_csv('../spreadsheets/rlhf_large_12rl.csv')\n",
    "#df0 = pd.read_csv('../spreadsheets/rlhf_large_15rl.csv')\n",
    "#df0 = pd.read_csv('../spreadsheets/rlhf_large_19rl.csv') # 0.005, 0.75, 0.1, 0.95, 0.999, 12000\n",
    "#df0 = pd.read_csv('../spreadsheets/rlhf_large_23rl.csv')\n",
    "#df0 = pd.read_csv('../spreadsheets/rlhf_large_24rl.csv')\n",
    "#df0 = pd.read_csv('../spreadsheets/rlhf_large_25rl.csv')\n",
    "#df0 = pd.read_csv('../spreadsheets/rlhf_large_26rl.csv')\n",
    "#df0 = pd.read_csv('../spreadsheets/rlhf_large_157nlp.csv') # 0.7, 0.95, 0.5, 0.999, 0.99, 16000\n",
    "#df0 = pd.read_csv('../spreadsheets/rlhf_large_29rl.csv') # 0.9, 0.9, 0.005, 0.95, 0.999, 10000, 0.9, 0.95, 1.0, 0.99, 0.99, 8000\n",
    "#df0 = pd.read_csv('../spreadsheets/rlhf_large_30rl.csv') # \n",
    "#df0 = pd.read_csv('../spreadsheets/rlhf_large_32rl.csv')\n",
    "#df0 = pd.read_csv('../spreadsheets/rlhf_large_33rl.csv')\n",
    "#df0 = pd.read_csv('../spreadsheets/rlhf_large_35rl.csv')\n",
    "#df0 = pd.read_csv('../spreadsheets/rlhf_large_37rl.csv')\n",
    "#df0 = pd.read_csv('../spreadsheets/rlhf_large_27rl2.csv')\n",
    "#df0 = pd.read_csv('../spreadsheets/rlhf_large_38rl.csv')\n",
    "#df0 = pd.read_csv('../spreadsheets/rlhf_large_42rl.csv') # 0.01, 0.99, 1.0, 0.95, 0.99, 16000\n",
    "#df0 = pd.read_csv('../spreadsheets/rlhf_large_50rl.csv')\n",
    "#df0 = pd.read_csv('../spreadsheets/rlhf_large_154nlp_balanced.csv')\n",
    "#df0 = pd.read_csv('../spreadsheets/rlhf_large_50rl_refined.csv')\n",
    "#df0 = pd.read_csv('../spreadsheets/rlhf_small_154nlp_refined.csv')\n",
    "#df0 = pd.read_csv('../spreadsheets/rlhf_small_12rl_refined.csv') # 0.001, 0.99, 1.0, 0.95, 0.99, 10000\n",
    "#df0 = pd.read_csv('../spreadsheets/rlhf_large_27rl_refined.csv') # 0.05, 0.95, 0.05, 0.99, 0.95, 8000\n",
    "#df0 = pd.read_csv('../spreadsheets/rlhf_large_65-66-68rl.csv') # 0.005, 0.85, 0.005, 0.99, 0.997, 6000\n",
    "df0 = pd.read_csv('../spreadsheets/rlhf_large_99rl.csv')"
   ]
  },
  {
   "cell_type": "code",
   "execution_count": 2387,
   "metadata": {},
   "outputs": [
    {
     "data": {
      "text/html": [
       "<div>\n",
       "<style scoped>\n",
       "    .dataframe tbody tr th:only-of-type {\n",
       "        vertical-align: middle;\n",
       "    }\n",
       "\n",
       "    .dataframe tbody tr th {\n",
       "        vertical-align: top;\n",
       "    }\n",
       "\n",
       "    .dataframe thead th {\n",
       "        text-align: right;\n",
       "    }\n",
       "</style>\n",
       "<table border=\"1\" class=\"dataframe\">\n",
       "  <thead>\n",
       "    <tr style=\"text-align: right;\">\n",
       "      <th></th>\n",
       "      <th>Unnamed: 0</th>\n",
       "      <th>open</th>\n",
       "      <th>high</th>\n",
       "      <th>ema-26</th>\n",
       "      <th>ema-12</th>\n",
       "      <th>low</th>\n",
       "      <th>mean-grad-hist</th>\n",
       "      <th>close</th>\n",
       "      <th>volume</th>\n",
       "      <th>sma-25</th>\n",
       "      <th>long_jcrosk</th>\n",
       "      <th>short_kdj</th>\n",
       "      <th>sma-05</th>\n",
       "      <th>sma-07</th>\n",
       "      <th>sma-compare</th>\n",
       "      <th>is_short</th>\n",
       "      <th>action</th>\n",
       "      <th>imit-action</th>\n",
       "      <th>nlpreds</th>\n",
       "      <th>reward</th>\n",
       "    </tr>\n",
       "  </thead>\n",
       "  <tbody>\n",
       "    <tr>\n",
       "      <th>0</th>\n",
       "      <td>0</td>\n",
       "      <td>138.970000</td>\n",
       "      <td>145.250000</td>\n",
       "      <td>136.447866</td>\n",
       "      <td>134.617469</td>\n",
       "      <td>138.440000</td>\n",
       "      <td>0</td>\n",
       "      <td>141.770000</td>\n",
       "      <td>4.958630e+03</td>\n",
       "      <td>133.971200</td>\n",
       "      <td>1</td>\n",
       "      <td>0</td>\n",
       "      <td>137.642000</td>\n",
       "      <td>137.210000</td>\n",
       "      <td>0</td>\n",
       "      <td>1</td>\n",
       "      <td>go_short</td>\n",
       "      <td>go_long</td>\n",
       "      <td>do_nothing</td>\n",
       "      <td>7.113071</td>\n",
       "    </tr>\n",
       "    <tr>\n",
       "      <th>1</th>\n",
       "      <td>1</td>\n",
       "      <td>0.011821</td>\n",
       "      <td>0.011891</td>\n",
       "      <td>0.012238</td>\n",
       "      <td>0.012116</td>\n",
       "      <td>0.011135</td>\n",
       "      <td>1</td>\n",
       "      <td>0.011482</td>\n",
       "      <td>2.062242e+08</td>\n",
       "      <td>0.012127</td>\n",
       "      <td>0</td>\n",
       "      <td>0</td>\n",
       "      <td>0.012085</td>\n",
       "      <td>0.012307</td>\n",
       "      <td>0</td>\n",
       "      <td>0</td>\n",
       "      <td>do_nothing</td>\n",
       "      <td>go_short</td>\n",
       "      <td>do_nothing</td>\n",
       "      <td>-35.788772</td>\n",
       "    </tr>\n",
       "    <tr>\n",
       "      <th>2</th>\n",
       "      <td>2</td>\n",
       "      <td>0.089250</td>\n",
       "      <td>0.089320</td>\n",
       "      <td>0.089056</td>\n",
       "      <td>0.088819</td>\n",
       "      <td>0.089250</td>\n",
       "      <td>1</td>\n",
       "      <td>0.089260</td>\n",
       "      <td>2.076000e+03</td>\n",
       "      <td>0.088642</td>\n",
       "      <td>1</td>\n",
       "      <td>0</td>\n",
       "      <td>0.089262</td>\n",
       "      <td>0.089227</td>\n",
       "      <td>0</td>\n",
       "      <td>0</td>\n",
       "      <td>go_long</td>\n",
       "      <td>go_short</td>\n",
       "      <td>do_nothing</td>\n",
       "      <td>30.299614</td>\n",
       "    </tr>\n",
       "    <tr>\n",
       "      <th>3</th>\n",
       "      <td>3</td>\n",
       "      <td>0.147040</td>\n",
       "      <td>0.150210</td>\n",
       "      <td>0.147727</td>\n",
       "      <td>0.143828</td>\n",
       "      <td>0.147030</td>\n",
       "      <td>0</td>\n",
       "      <td>0.149020</td>\n",
       "      <td>6.329608e+06</td>\n",
       "      <td>0.144634</td>\n",
       "      <td>0</td>\n",
       "      <td>0</td>\n",
       "      <td>0.150122</td>\n",
       "      <td>0.150167</td>\n",
       "      <td>0</td>\n",
       "      <td>1</td>\n",
       "      <td>go_short</td>\n",
       "      <td>go_short</td>\n",
       "      <td>do_nothing</td>\n",
       "      <td>64.003147</td>\n",
       "    </tr>\n",
       "    <tr>\n",
       "      <th>4</th>\n",
       "      <td>4</td>\n",
       "      <td>49.385000</td>\n",
       "      <td>50.595000</td>\n",
       "      <td>49.302116</td>\n",
       "      <td>48.528804</td>\n",
       "      <td>49.325000</td>\n",
       "      <td>0</td>\n",
       "      <td>50.375000</td>\n",
       "      <td>6.648470e+03</td>\n",
       "      <td>48.248200</td>\n",
       "      <td>0</td>\n",
       "      <td>0</td>\n",
       "      <td>49.787000</td>\n",
       "      <td>49.646429</td>\n",
       "      <td>0</td>\n",
       "      <td>1</td>\n",
       "      <td>do_nothing</td>\n",
       "      <td>go_long</td>\n",
       "      <td>do_nothing</td>\n",
       "      <td>-7.181780</td>\n",
       "    </tr>\n",
       "  </tbody>\n",
       "</table>\n",
       "</div>"
      ],
      "text/plain": [
       "   Unnamed: 0        open        high      ema-26      ema-12         low  \\\n",
       "0           0  138.970000  145.250000  136.447866  134.617469  138.440000   \n",
       "1           1    0.011821    0.011891    0.012238    0.012116    0.011135   \n",
       "2           2    0.089250    0.089320    0.089056    0.088819    0.089250   \n",
       "3           3    0.147040    0.150210    0.147727    0.143828    0.147030   \n",
       "4           4   49.385000   50.595000   49.302116   48.528804   49.325000   \n",
       "\n",
       "   mean-grad-hist       close        volume      sma-25  long_jcrosk  \\\n",
       "0               0  141.770000  4.958630e+03  133.971200            1   \n",
       "1               1    0.011482  2.062242e+08    0.012127            0   \n",
       "2               1    0.089260  2.076000e+03    0.088642            1   \n",
       "3               0    0.149020  6.329608e+06    0.144634            0   \n",
       "4               0   50.375000  6.648470e+03   48.248200            0   \n",
       "\n",
       "   short_kdj      sma-05      sma-07  sma-compare  is_short      action  \\\n",
       "0          0  137.642000  137.210000            0         1    go_short   \n",
       "1          0    0.012085    0.012307            0         0  do_nothing   \n",
       "2          0    0.089262    0.089227            0         0     go_long   \n",
       "3          0    0.150122    0.150167            0         1    go_short   \n",
       "4          0   49.787000   49.646429            0         1  do_nothing   \n",
       "\n",
       "  imit-action     nlpreds     reward  \n",
       "0     go_long  do_nothing   7.113071  \n",
       "1    go_short  do_nothing -35.788772  \n",
       "2    go_short  do_nothing  30.299614  \n",
       "3    go_short  do_nothing  64.003147  \n",
       "4     go_long  do_nothing  -7.181780  "
      ]
     },
     "execution_count": 2387,
     "metadata": {},
     "output_type": "execute_result"
    }
   ],
   "source": [
    "df0.head()"
   ]
  },
  {
   "cell_type": "code",
   "execution_count": 2388,
   "metadata": {},
   "outputs": [],
   "source": [
    "df0['ask'] = df0['close'] * df0['volume']/(df0['close'] + df0['open'])"
   ]
  },
  {
   "cell_type": "code",
   "execution_count": 2389,
   "metadata": {},
   "outputs": [],
   "source": [
    "df0['bid'] = df0['open'] * df0['volume']/(df0['close'] + df0['open'])"
   ]
  },
  {
   "cell_type": "code",
   "execution_count": 2390,
   "metadata": {},
   "outputs": [
    {
     "data": {
      "text/plain": [
       "Index(['Unnamed: 0', 'open', 'high', 'ema-26', 'ema-12', 'low',\n",
       "       'mean-grad-hist', 'close', 'volume', 'sma-25', 'long_jcrosk',\n",
       "       'short_kdj', 'sma-05', 'sma-07', 'sma-compare', 'is_short', 'action',\n",
       "       'imit-action', 'nlpreds', 'reward', 'ask', 'bid'],\n",
       "      dtype='object')"
      ]
     },
     "execution_count": 2390,
     "metadata": {},
     "output_type": "execute_result"
    }
   ],
   "source": [
    "df0.columns"
   ]
  },
  {
   "cell_type": "code",
   "execution_count": 2391,
   "metadata": {},
   "outputs": [
    {
     "data": {
      "text/html": [
       "<div>\n",
       "<style scoped>\n",
       "    .dataframe tbody tr th:only-of-type {\n",
       "        vertical-align: middle;\n",
       "    }\n",
       "\n",
       "    .dataframe tbody tr th {\n",
       "        vertical-align: top;\n",
       "    }\n",
       "\n",
       "    .dataframe thead th {\n",
       "        text-align: right;\n",
       "    }\n",
       "</style>\n",
       "<table border=\"1\" class=\"dataframe\">\n",
       "  <thead>\n",
       "    <tr style=\"text-align: right;\">\n",
       "      <th></th>\n",
       "      <th>Unnamed: 0</th>\n",
       "      <th>open</th>\n",
       "      <th>high</th>\n",
       "      <th>ema-26</th>\n",
       "      <th>ema-12</th>\n",
       "      <th>low</th>\n",
       "      <th>mean-grad-hist</th>\n",
       "      <th>close</th>\n",
       "      <th>volume</th>\n",
       "      <th>sma-25</th>\n",
       "      <th>...</th>\n",
       "      <th>sma-05</th>\n",
       "      <th>sma-07</th>\n",
       "      <th>sma-compare</th>\n",
       "      <th>is_short</th>\n",
       "      <th>action</th>\n",
       "      <th>imit-action</th>\n",
       "      <th>nlpreds</th>\n",
       "      <th>reward</th>\n",
       "      <th>ask</th>\n",
       "      <th>bid</th>\n",
       "    </tr>\n",
       "  </thead>\n",
       "  <tbody>\n",
       "    <tr>\n",
       "      <th>0</th>\n",
       "      <td>0</td>\n",
       "      <td>138.970000</td>\n",
       "      <td>145.250000</td>\n",
       "      <td>136.447866</td>\n",
       "      <td>134.617469</td>\n",
       "      <td>138.440000</td>\n",
       "      <td>0</td>\n",
       "      <td>141.770000</td>\n",
       "      <td>4.958630e+03</td>\n",
       "      <td>133.971200</td>\n",
       "      <td>...</td>\n",
       "      <td>137.642000</td>\n",
       "      <td>137.210000</td>\n",
       "      <td>0</td>\n",
       "      <td>1</td>\n",
       "      <td>go_short</td>\n",
       "      <td>go_long</td>\n",
       "      <td>do_nothing</td>\n",
       "      <td>7.113071</td>\n",
       "      <td>2.504043e+03</td>\n",
       "      <td>2.454587e+03</td>\n",
       "    </tr>\n",
       "    <tr>\n",
       "      <th>1</th>\n",
       "      <td>1</td>\n",
       "      <td>0.011821</td>\n",
       "      <td>0.011891</td>\n",
       "      <td>0.012238</td>\n",
       "      <td>0.012116</td>\n",
       "      <td>0.011135</td>\n",
       "      <td>1</td>\n",
       "      <td>0.011482</td>\n",
       "      <td>2.062242e+08</td>\n",
       "      <td>0.012127</td>\n",
       "      <td>...</td>\n",
       "      <td>0.012085</td>\n",
       "      <td>0.012307</td>\n",
       "      <td>0</td>\n",
       "      <td>0</td>\n",
       "      <td>do_nothing</td>\n",
       "      <td>go_short</td>\n",
       "      <td>do_nothing</td>\n",
       "      <td>-35.788772</td>\n",
       "      <td>1.016121e+08</td>\n",
       "      <td>1.046121e+08</td>\n",
       "    </tr>\n",
       "    <tr>\n",
       "      <th>2</th>\n",
       "      <td>2</td>\n",
       "      <td>0.089250</td>\n",
       "      <td>0.089320</td>\n",
       "      <td>0.089056</td>\n",
       "      <td>0.088819</td>\n",
       "      <td>0.089250</td>\n",
       "      <td>1</td>\n",
       "      <td>0.089260</td>\n",
       "      <td>2.076000e+03</td>\n",
       "      <td>0.088642</td>\n",
       "      <td>...</td>\n",
       "      <td>0.089262</td>\n",
       "      <td>0.089227</td>\n",
       "      <td>0</td>\n",
       "      <td>0</td>\n",
       "      <td>go_long</td>\n",
       "      <td>go_short</td>\n",
       "      <td>do_nothing</td>\n",
       "      <td>30.299614</td>\n",
       "      <td>1.038058e+03</td>\n",
       "      <td>1.037942e+03</td>\n",
       "    </tr>\n",
       "    <tr>\n",
       "      <th>3</th>\n",
       "      <td>3</td>\n",
       "      <td>0.147040</td>\n",
       "      <td>0.150210</td>\n",
       "      <td>0.147727</td>\n",
       "      <td>0.143828</td>\n",
       "      <td>0.147030</td>\n",
       "      <td>0</td>\n",
       "      <td>0.149020</td>\n",
       "      <td>6.329608e+06</td>\n",
       "      <td>0.144634</td>\n",
       "      <td>...</td>\n",
       "      <td>0.150122</td>\n",
       "      <td>0.150167</td>\n",
       "      <td>0</td>\n",
       "      <td>1</td>\n",
       "      <td>go_short</td>\n",
       "      <td>go_short</td>\n",
       "      <td>do_nothing</td>\n",
       "      <td>64.003147</td>\n",
       "      <td>3.185970e+06</td>\n",
       "      <td>3.143638e+06</td>\n",
       "    </tr>\n",
       "    <tr>\n",
       "      <th>4</th>\n",
       "      <td>4</td>\n",
       "      <td>49.385000</td>\n",
       "      <td>50.595000</td>\n",
       "      <td>49.302116</td>\n",
       "      <td>48.528804</td>\n",
       "      <td>49.325000</td>\n",
       "      <td>0</td>\n",
       "      <td>50.375000</td>\n",
       "      <td>6.648470e+03</td>\n",
       "      <td>48.248200</td>\n",
       "      <td>...</td>\n",
       "      <td>49.787000</td>\n",
       "      <td>49.646429</td>\n",
       "      <td>0</td>\n",
       "      <td>1</td>\n",
       "      <td>do_nothing</td>\n",
       "      <td>go_long</td>\n",
       "      <td>do_nothing</td>\n",
       "      <td>-7.181780</td>\n",
       "      <td>3.357224e+03</td>\n",
       "      <td>3.291246e+03</td>\n",
       "    </tr>\n",
       "  </tbody>\n",
       "</table>\n",
       "<p>5 rows × 22 columns</p>\n",
       "</div>"
      ],
      "text/plain": [
       "   Unnamed: 0        open        high      ema-26      ema-12         low  \\\n",
       "0           0  138.970000  145.250000  136.447866  134.617469  138.440000   \n",
       "1           1    0.011821    0.011891    0.012238    0.012116    0.011135   \n",
       "2           2    0.089250    0.089320    0.089056    0.088819    0.089250   \n",
       "3           3    0.147040    0.150210    0.147727    0.143828    0.147030   \n",
       "4           4   49.385000   50.595000   49.302116   48.528804   49.325000   \n",
       "\n",
       "   mean-grad-hist       close        volume      sma-25  ...      sma-05  \\\n",
       "0               0  141.770000  4.958630e+03  133.971200  ...  137.642000   \n",
       "1               1    0.011482  2.062242e+08    0.012127  ...    0.012085   \n",
       "2               1    0.089260  2.076000e+03    0.088642  ...    0.089262   \n",
       "3               0    0.149020  6.329608e+06    0.144634  ...    0.150122   \n",
       "4               0   50.375000  6.648470e+03   48.248200  ...   49.787000   \n",
       "\n",
       "       sma-07  sma-compare  is_short      action  imit-action     nlpreds  \\\n",
       "0  137.210000            0         1    go_short      go_long  do_nothing   \n",
       "1    0.012307            0         0  do_nothing     go_short  do_nothing   \n",
       "2    0.089227            0         0     go_long     go_short  do_nothing   \n",
       "3    0.150167            0         1    go_short     go_short  do_nothing   \n",
       "4   49.646429            0         1  do_nothing      go_long  do_nothing   \n",
       "\n",
       "      reward           ask           bid  \n",
       "0   7.113071  2.504043e+03  2.454587e+03  \n",
       "1 -35.788772  1.016121e+08  1.046121e+08  \n",
       "2  30.299614  1.038058e+03  1.037942e+03  \n",
       "3  64.003147  3.185970e+06  3.143638e+06  \n",
       "4  -7.181780  3.357224e+03  3.291246e+03  \n",
       "\n",
       "[5 rows x 22 columns]"
      ]
     },
     "execution_count": 2391,
     "metadata": {},
     "output_type": "execute_result"
    }
   ],
   "source": [
    "df0.head()"
   ]
  },
  {
   "cell_type": "code",
   "execution_count": 2392,
   "metadata": {},
   "outputs": [
    {
     "data": {
      "text/plain": [
       "Index(['Unnamed: 0', 'open', 'high', 'ema-26', 'ema-12', 'low',\n",
       "       'mean-grad-hist', 'close', 'volume', 'sma-25', 'long_jcrosk',\n",
       "       'short_kdj', 'sma-05', 'sma-07', 'sma-compare', 'is_short', 'action',\n",
       "       'imit-action', 'nlpreds', 'reward', 'ask', 'bid'],\n",
       "      dtype='object')"
      ]
     },
     "execution_count": 2392,
     "metadata": {},
     "output_type": "execute_result"
    }
   ],
   "source": [
    "df0.columns"
   ]
  },
  {
   "cell_type": "code",
   "execution_count": 2393,
   "metadata": {},
   "outputs": [],
   "source": [
    "#df0.drop(['Unnamed: 0'], axis=1, inplace=True)"
   ]
  },
  {
   "cell_type": "code",
   "execution_count": 2394,
   "metadata": {},
   "outputs": [],
   "source": [
    "#df0['nlpreds'].value_counts()"
   ]
  },
  {
   "cell_type": "code",
   "execution_count": 2395,
   "metadata": {},
   "outputs": [],
   "source": [
    "#action_mapping = {\"go_long\": 0, \"go_short\": 1}"
   ]
  },
  {
   "cell_type": "code",
   "execution_count": 2396,
   "metadata": {},
   "outputs": [],
   "source": [
    "def prep_data(df: DataFrame) -> DataFrame:\n",
    "    train_data = pd.DataFrame()\n",
    "    for col in df.columns:\n",
    "        col_name = col.split(' ')[0]\n",
    "        train_data[f'{col_name}'] = df[col]\n",
    "\n",
    "    return train_data"
   ]
  },
  {
   "cell_type": "code",
   "execution_count": 2397,
   "metadata": {},
   "outputs": [],
   "source": [
    "train_data = df0 #prep_data(df0)"
   ]
  },
  {
   "cell_type": "code",
   "execution_count": 2398,
   "metadata": {},
   "outputs": [
    {
     "data": {
      "text/html": [
       "<div>\n",
       "<style scoped>\n",
       "    .dataframe tbody tr th:only-of-type {\n",
       "        vertical-align: middle;\n",
       "    }\n",
       "\n",
       "    .dataframe tbody tr th {\n",
       "        vertical-align: top;\n",
       "    }\n",
       "\n",
       "    .dataframe thead th {\n",
       "        text-align: right;\n",
       "    }\n",
       "</style>\n",
       "<table border=\"1\" class=\"dataframe\">\n",
       "  <thead>\n",
       "    <tr style=\"text-align: right;\">\n",
       "      <th></th>\n",
       "      <th>Unnamed: 0</th>\n",
       "      <th>open</th>\n",
       "      <th>high</th>\n",
       "      <th>ema-26</th>\n",
       "      <th>ema-12</th>\n",
       "      <th>low</th>\n",
       "      <th>mean-grad-hist</th>\n",
       "      <th>close</th>\n",
       "      <th>volume</th>\n",
       "      <th>sma-25</th>\n",
       "      <th>...</th>\n",
       "      <th>sma-05</th>\n",
       "      <th>sma-07</th>\n",
       "      <th>sma-compare</th>\n",
       "      <th>is_short</th>\n",
       "      <th>action</th>\n",
       "      <th>imit-action</th>\n",
       "      <th>nlpreds</th>\n",
       "      <th>reward</th>\n",
       "      <th>ask</th>\n",
       "      <th>bid</th>\n",
       "    </tr>\n",
       "  </thead>\n",
       "  <tbody>\n",
       "    <tr>\n",
       "      <th>0</th>\n",
       "      <td>0</td>\n",
       "      <td>138.970000</td>\n",
       "      <td>145.250000</td>\n",
       "      <td>136.447866</td>\n",
       "      <td>134.617469</td>\n",
       "      <td>138.440000</td>\n",
       "      <td>0</td>\n",
       "      <td>141.770000</td>\n",
       "      <td>4.958630e+03</td>\n",
       "      <td>133.971200</td>\n",
       "      <td>...</td>\n",
       "      <td>137.642000</td>\n",
       "      <td>137.210000</td>\n",
       "      <td>0</td>\n",
       "      <td>1</td>\n",
       "      <td>go_short</td>\n",
       "      <td>go_long</td>\n",
       "      <td>do_nothing</td>\n",
       "      <td>7.113071</td>\n",
       "      <td>2.504043e+03</td>\n",
       "      <td>2.454587e+03</td>\n",
       "    </tr>\n",
       "    <tr>\n",
       "      <th>1</th>\n",
       "      <td>1</td>\n",
       "      <td>0.011821</td>\n",
       "      <td>0.011891</td>\n",
       "      <td>0.012238</td>\n",
       "      <td>0.012116</td>\n",
       "      <td>0.011135</td>\n",
       "      <td>1</td>\n",
       "      <td>0.011482</td>\n",
       "      <td>2.062242e+08</td>\n",
       "      <td>0.012127</td>\n",
       "      <td>...</td>\n",
       "      <td>0.012085</td>\n",
       "      <td>0.012307</td>\n",
       "      <td>0</td>\n",
       "      <td>0</td>\n",
       "      <td>do_nothing</td>\n",
       "      <td>go_short</td>\n",
       "      <td>do_nothing</td>\n",
       "      <td>-35.788772</td>\n",
       "      <td>1.016121e+08</td>\n",
       "      <td>1.046121e+08</td>\n",
       "    </tr>\n",
       "  </tbody>\n",
       "</table>\n",
       "<p>2 rows × 22 columns</p>\n",
       "</div>"
      ],
      "text/plain": [
       "   Unnamed: 0        open        high      ema-26      ema-12         low  \\\n",
       "0           0  138.970000  145.250000  136.447866  134.617469  138.440000   \n",
       "1           1    0.011821    0.011891    0.012238    0.012116    0.011135   \n",
       "\n",
       "   mean-grad-hist       close        volume      sma-25  ...      sma-05  \\\n",
       "0               0  141.770000  4.958630e+03  133.971200  ...  137.642000   \n",
       "1               1    0.011482  2.062242e+08    0.012127  ...    0.012085   \n",
       "\n",
       "       sma-07  sma-compare  is_short      action  imit-action     nlpreds  \\\n",
       "0  137.210000            0         1    go_short      go_long  do_nothing   \n",
       "1    0.012307            0         0  do_nothing     go_short  do_nothing   \n",
       "\n",
       "      reward           ask           bid  \n",
       "0   7.113071  2.504043e+03  2.454587e+03  \n",
       "1 -35.788772  1.016121e+08  1.046121e+08  \n",
       "\n",
       "[2 rows x 22 columns]"
      ]
     },
     "execution_count": 2398,
     "metadata": {},
     "output_type": "execute_result"
    }
   ],
   "source": [
    "train_data.head(2)"
   ]
  },
  {
   "cell_type": "code",
   "execution_count": 2399,
   "metadata": {},
   "outputs": [
    {
     "data": {
      "text/plain": [
       "Index(['Unnamed: 0', 'open', 'high', 'ema-26', 'ema-12', 'low',\n",
       "       'mean-grad-hist', 'close', 'volume', 'sma-25', 'long_jcrosk',\n",
       "       'short_kdj', 'sma-05', 'sma-07', 'sma-compare', 'is_short', 'action',\n",
       "       'imit-action', 'nlpreds', 'reward', 'ask', 'bid'],\n",
       "      dtype='object')"
      ]
     },
     "execution_count": 2399,
     "metadata": {},
     "output_type": "execute_result"
    }
   ],
   "source": [
    "train_data.columns"
   ]
  },
  {
   "cell_type": "code",
   "execution_count": 2400,
   "metadata": {},
   "outputs": [],
   "source": [
    "new_cols = ['ask','bid','sma-compare','is_short']"
   ]
  },
  {
   "cell_type": "code",
   "execution_count": 2401,
   "metadata": {},
   "outputs": [],
   "source": [
    "# Encode actions into numerical values\n",
    "action_mapping = {\"go_long\": 0, \"go_short\": 1, \"do_nothing\": 2}\n",
    "train_data[\"action_num\"] = train_data[\"action\"].map(action_mapping)"
   ]
  },
  {
   "cell_type": "code",
   "execution_count": 2402,
   "metadata": {},
   "outputs": [
    {
     "data": {
      "text/html": [
       "<div>\n",
       "<style scoped>\n",
       "    .dataframe tbody tr th:only-of-type {\n",
       "        vertical-align: middle;\n",
       "    }\n",
       "\n",
       "    .dataframe tbody tr th {\n",
       "        vertical-align: top;\n",
       "    }\n",
       "\n",
       "    .dataframe thead th {\n",
       "        text-align: right;\n",
       "    }\n",
       "</style>\n",
       "<table border=\"1\" class=\"dataframe\">\n",
       "  <thead>\n",
       "    <tr style=\"text-align: right;\">\n",
       "      <th></th>\n",
       "      <th>Unnamed: 0</th>\n",
       "      <th>open</th>\n",
       "      <th>high</th>\n",
       "      <th>ema-26</th>\n",
       "      <th>ema-12</th>\n",
       "      <th>low</th>\n",
       "      <th>mean-grad-hist</th>\n",
       "      <th>close</th>\n",
       "      <th>volume</th>\n",
       "      <th>sma-25</th>\n",
       "      <th>...</th>\n",
       "      <th>sma-07</th>\n",
       "      <th>sma-compare</th>\n",
       "      <th>is_short</th>\n",
       "      <th>action</th>\n",
       "      <th>imit-action</th>\n",
       "      <th>nlpreds</th>\n",
       "      <th>reward</th>\n",
       "      <th>ask</th>\n",
       "      <th>bid</th>\n",
       "      <th>action_num</th>\n",
       "    </tr>\n",
       "  </thead>\n",
       "  <tbody>\n",
       "    <tr>\n",
       "      <th>0</th>\n",
       "      <td>0</td>\n",
       "      <td>138.970000</td>\n",
       "      <td>145.250000</td>\n",
       "      <td>136.447866</td>\n",
       "      <td>134.617469</td>\n",
       "      <td>138.440000</td>\n",
       "      <td>0</td>\n",
       "      <td>141.770000</td>\n",
       "      <td>4.958630e+03</td>\n",
       "      <td>133.971200</td>\n",
       "      <td>...</td>\n",
       "      <td>137.210000</td>\n",
       "      <td>0</td>\n",
       "      <td>1</td>\n",
       "      <td>go_short</td>\n",
       "      <td>go_long</td>\n",
       "      <td>do_nothing</td>\n",
       "      <td>7.113071</td>\n",
       "      <td>2.504043e+03</td>\n",
       "      <td>2.454587e+03</td>\n",
       "      <td>1</td>\n",
       "    </tr>\n",
       "    <tr>\n",
       "      <th>1</th>\n",
       "      <td>1</td>\n",
       "      <td>0.011821</td>\n",
       "      <td>0.011891</td>\n",
       "      <td>0.012238</td>\n",
       "      <td>0.012116</td>\n",
       "      <td>0.011135</td>\n",
       "      <td>1</td>\n",
       "      <td>0.011482</td>\n",
       "      <td>2.062242e+08</td>\n",
       "      <td>0.012127</td>\n",
       "      <td>...</td>\n",
       "      <td>0.012307</td>\n",
       "      <td>0</td>\n",
       "      <td>0</td>\n",
       "      <td>do_nothing</td>\n",
       "      <td>go_short</td>\n",
       "      <td>do_nothing</td>\n",
       "      <td>-35.788772</td>\n",
       "      <td>1.016121e+08</td>\n",
       "      <td>1.046121e+08</td>\n",
       "      <td>2</td>\n",
       "    </tr>\n",
       "  </tbody>\n",
       "</table>\n",
       "<p>2 rows × 23 columns</p>\n",
       "</div>"
      ],
      "text/plain": [
       "   Unnamed: 0        open        high      ema-26      ema-12         low  \\\n",
       "0           0  138.970000  145.250000  136.447866  134.617469  138.440000   \n",
       "1           1    0.011821    0.011891    0.012238    0.012116    0.011135   \n",
       "\n",
       "   mean-grad-hist       close        volume      sma-25  ...      sma-07  \\\n",
       "0               0  141.770000  4.958630e+03  133.971200  ...  137.210000   \n",
       "1               1    0.011482  2.062242e+08    0.012127  ...    0.012307   \n",
       "\n",
       "   sma-compare  is_short      action  imit-action     nlpreds     reward  \\\n",
       "0            0         1    go_short      go_long  do_nothing   7.113071   \n",
       "1            0         0  do_nothing     go_short  do_nothing -35.788772   \n",
       "\n",
       "            ask           bid  action_num  \n",
       "0  2.504043e+03  2.454587e+03           1  \n",
       "1  1.016121e+08  1.046121e+08           2  \n",
       "\n",
       "[2 rows x 23 columns]"
      ]
     },
     "execution_count": 2402,
     "metadata": {},
     "output_type": "execute_result"
    }
   ],
   "source": [
    "train_data.head(2)"
   ]
  },
  {
   "cell_type": "code",
   "execution_count": 2403,
   "metadata": {},
   "outputs": [],
   "source": [
    "# Define RL parameters\n",
    "#states = train_data[[\"sma-05\", \"sma-07\", \"sma-25\", \"sma-compare\", \"is_short\"]].values  # Include binary_state\n",
    "states = train_data[new_cols].values\n",
    "actions = list(action_mapping.values())  # Action space\n",
    "rewards = train_data[\"reward\"].values  # Rewards\n",
    "n_states = states.shape[0]\n",
    "n_actions = len(actions)"
   ]
  },
  {
   "cell_type": "code",
   "execution_count": 2404,
   "metadata": {},
   "outputs": [],
   "source": [
    "# Initialize Q-table\n",
    "q_table = np.zeros((n_states, n_actions))"
   ]
  },
  {
   "cell_type": "code",
   "execution_count": 2405,
   "metadata": {},
   "outputs": [],
   "source": [
    "Hyperparameters = [\n",
    "    [0.01, 0.95, 0.997, 0.997, 0.995, 26000],\n",
    "    [0.005,0.85,0.99,0.99,0.997,6000],\n",
    "    [0.2, 0.99, 0.01, 0.99, 0.997, 9000],\n",
    "    [0.005, 0.85, 0.005, 0.99, 0.997, 6000],\n",
    "    [0.05, 0.95, 0.05, 0.99, 0.95, 8000],\n",
    "    [0.001, 0.99, 1.0, 0.95, 0.99, 10000],\n",
    "    [0.1, 0.9, 0.99, 0.99, 0.995, 4000],\n",
    "    [0.005, 0.75, 0.1, 0.95, 0.999, 12000],\n",
    "    [0.001, 0.75, 0.99, 0.99, 0.99, 30000],\n",
    "    [1, 0.75, 0.005, 0.95, 0.95, 22000],\n",
    "    [0.01, 0.99, 1.0, 0.95, 0.99, 16000],\n",
    "    [0.7, 0.99, 1.0, 0.95, 0.997, 8000],\n",
    "    [0.01, 0.95, 1.0, 0.997, 0.995, 26000],\n",
    "    [0.25, 0.95, 0.01, 0.997, 0.999, 14000],\n",
    "    [0.5, 0.85, 0.5, 0.997, 0.997, 14000],\n",
    "    [0.01, 0.85, 0.01, 0.95, 0.95, 12000],\n",
    "    [0.9, 0.99, 0.5, 0.995, 0.95, 12000],\n",
    "    [0.05, 0.9, 0.5, 0.95, 0.999, 4000],\n",
    "    [0.05, 0.99, 0.5, 0.99, 0.997, 6000],\n",
    "    [1, 0.75, 0.05, 0.999, 0.999, 10000],\n",
    "    [0.9, 0.95, 1.0, 0.99, 0.99, 8000],\n",
    "    [0.25, 0.75, 0.01, 0.995, 0.999, 20000],\n",
    "    [0.3, 0.75, 1.0, 0.995, 0.99, 10000],\n",
    "    [1, 0.9, 1.0, 0.999, 0.999, 10000],\n",
    "    [0.7, 0.75, 1.0, 0.97, 0.999, 28000],\n",
    "    [0.05, 0.95, 1.0, 0.999, 0.995, 12000],\n",
    "    [0.7, 0.95, 0.5, 0.999, 0.99, 16000],\n",
    "    [0.25, 0.95, 1.0, 0.99, 0.99, 10000],\n",
    "    [0.25, 0.99, 0.01, 0.997, 0.99, 8000],\n",
    "    [1, 0.95, 0.1, 0.96, 0.96, 12000],\n",
    "    [0.9, 0.9, 0.005, 0.95, 0.999, 10000],\n",
    "    [1, 0.9, 1.0, 0.99, 0.99, 11000],\n",
    "    [0.01, 0.9, 0.5, 0.999, 0.999, 1500]\n",
    "\n",
    "]\n",
    "\n",
    "#print(*Hyperparameters[0])\n",
    "'''\n",
    "alpha = 1\n",
    "gamma = 0.95\n",
    "epsilon = 0.1\n",
    "min_epsilon = 0.96\n",
    "decay_rate = 0.96\n",
    "n_episodes = 12000\n",
    "'''\n",
    "\n",
    "alpha, gamma, epsilon, min_epsilon, decay_rate, n_episodes = Hyperparameters[6] # Hyperparameters[9] # Hyperparameters[22] #Hyperparameters[6]\n",
    "\n"
   ]
  },
  {
   "cell_type": "code",
   "execution_count": 2406,
   "metadata": {},
   "outputs": [],
   "source": [
    "def create_state_index_mapping(df):\n",
    "    state_to_index = {}\n",
    "    for idx, row in df.iterrows():\n",
    "        state = (row['ask'], row['bid'], row['sma-compare'], row['is_short'])\n",
    "        state_to_index[state] = idx\n",
    "    return state_to_index\n",
    "\n",
    "# Assuming 'df' is your dataframe used during training\n",
    "state_to_index = create_state_index_mapping(train_data)\n",
    "\n",
    "# Save the state_to_index dictionary for later use\n",
    "np.save('bids_state_to_index.npy', state_to_index)\n"
   ]
  },
  {
   "cell_type": "code",
   "execution_count": 2407,
   "metadata": {},
   "outputs": [],
   "source": [
    "# Helper function to choose an action using epsilon-greedy\n",
    "def choose_action(state, epsilon):\n",
    "    if np.random.uniform(0, 1) < epsilon:\n",
    "        return np.random.randint(0, n_actions)  # Explore: random action\n",
    "    else:\n",
    "        return np.argmax(q_table[state])  # Exploit: best known action"
   ]
  },
  {
   "cell_type": "code",
   "execution_count": null,
   "metadata": {},
   "outputs": [
    {
     "ename": "IndexError",
     "evalue": "index 632 is out of bounds for axis 0 with size 632",
     "output_type": "error",
     "traceback": [
      "\u001b[0;31m---------------------------------------------------------------------------\u001b[0m",
      "\u001b[0;31mIndexError\u001b[0m                                Traceback (most recent call last)",
      "Cell \u001b[0;32mIn[2408], line 6\u001b[0m\n\u001b[1;32m      4\u001b[0m \u001b[38;5;66;03m# Optionally, pre-train the Q-table using the best episode\u001b[39;00m\n\u001b[1;32m      5\u001b[0m \u001b[38;5;28;01mfor\u001b[39;00m state, action, reward, next_state \u001b[38;5;129;01min\u001b[39;00m best_episode_transitions:\n\u001b[0;32m----> 6\u001b[0m     best_next_action \u001b[38;5;241m=\u001b[39m np\u001b[38;5;241m.\u001b[39margmax(\u001b[43mq_table\u001b[49m\u001b[43m[\u001b[49m\u001b[43mnext_state\u001b[49m\u001b[43m]\u001b[49m)\n\u001b[1;32m      7\u001b[0m     q_table[state, action] \u001b[38;5;241m+\u001b[39m\u001b[38;5;241m=\u001b[39m alpha \u001b[38;5;241m*\u001b[39m (reward \u001b[38;5;241m+\u001b[39m gamma \u001b[38;5;241m*\u001b[39m q_table[next_state, best_next_action] \u001b[38;5;241m-\u001b[39m q_table[state, action])\n\u001b[1;32m      9\u001b[0m \u001b[38;5;66;03m# Load the previously saved Q-table and best episode transitions\u001b[39;00m\n",
      "\u001b[0;31mIndexError\u001b[0m: index 632 is out of bounds for axis 0 with size 632"
     ]
    }
   ],
   "source": [
    "'''\n",
    "# Load the best episode transitions\n",
    "best_episode_transitions = np.load(\"best_bids_episode_trasitions.npy\", allow_pickle=True)\n",
    "\n",
    "# Optionally, pre-train the Q-table using the best episode\n",
    "for state, action, reward, next_state in best_episode_transitions:\n",
    "    best_next_action = np.argmax(q_table[next_state])\n",
    "    q_table[state, action] += alpha * (reward + gamma * q_table[next_state, best_next_action] - q_table[state, action])\n",
    "\n",
    "# Load the previously saved Q-table and best episode transitions\n",
    "best_q_table = np.load(\"best_bids_q_table.npy\")  # Load the best Q-table\n",
    "best_episode_transitions = np.load(\"best_bids_episode_trasitions.npy\", allow_pickle=True).tolist()  # Load best transitions\n",
    "'''"
   ]
  },
  {
   "cell_type": "code",
   "execution_count": null,
   "metadata": {},
   "outputs": [],
   "source": []
  },
  {
   "cell_type": "code",
   "execution_count": null,
   "metadata": {},
   "outputs": [
    {
     "name": "stderr",
     "output_type": "stream",
     "text": [
      "Evaluating results per episode...:   1%|          | 37/4000 [00:00<00:10, 364.76it/s]"
     ]
    },
    {
     "name": "stdout",
     "output_type": "stream",
     "text": [
      "Episode 0/4000 - Total Reward: 10847.303968579998, Epsilon: 0.99\n"
     ]
    },
    {
     "name": "stderr",
     "output_type": "stream",
     "text": [
      "Evaluating results per episode...:  11%|█         | 448/4000 [00:01<00:10, 343.19it/s]"
     ]
    },
    {
     "name": "stdout",
     "output_type": "stream",
     "text": [
      "Episode 400/4000 - Total Reward: 3487.979298549999, Epsilon: 0.99\n"
     ]
    },
    {
     "name": "stderr",
     "output_type": "stream",
     "text": [
      "Evaluating results per episode...:  22%|██▏       | 867/4000 [00:02<00:09, 344.95it/s]"
     ]
    },
    {
     "name": "stdout",
     "output_type": "stream",
     "text": [
      "Episode 800/4000 - Total Reward: 10796.17870944, Epsilon: 0.99\n"
     ]
    },
    {
     "name": "stderr",
     "output_type": "stream",
     "text": [
      "Evaluating results per episode...:  32%|███▏      | 1271/4000 [00:03<00:07, 344.50it/s]"
     ]
    },
    {
     "name": "stdout",
     "output_type": "stream",
     "text": [
      "Episode 1200/4000 - Total Reward: 6359.390306120003, Epsilon: 0.99\n"
     ]
    },
    {
     "name": "stderr",
     "output_type": "stream",
     "text": [
      "Evaluating results per episode...:  41%|████      | 1635/4000 [00:04<00:06, 341.18it/s]"
     ]
    },
    {
     "name": "stdout",
     "output_type": "stream",
     "text": [
      "Episode 1600/4000 - Total Reward: 3231.351781999999, Epsilon: 0.99\n"
     ]
    },
    {
     "name": "stderr",
     "output_type": "stream",
     "text": [
      "Evaluating results per episode...:  51%|█████▏    | 2054/4000 [00:05<00:05, 380.44it/s]"
     ]
    },
    {
     "name": "stdout",
     "output_type": "stream",
     "text": [
      "Episode 2000/4000 - Total Reward: 3478.135701089999, Epsilon: 0.99\n"
     ]
    },
    {
     "name": "stderr",
     "output_type": "stream",
     "text": [
      "Evaluating results per episode...:  62%|██████▏   | 2466/4000 [00:07<00:04, 365.93it/s]"
     ]
    },
    {
     "name": "stdout",
     "output_type": "stream",
     "text": [
      "Episode 2400/4000 - Total Reward: 11097.578227940003, Epsilon: 0.99\n"
     ]
    },
    {
     "name": "stderr",
     "output_type": "stream",
     "text": [
      "Evaluating results per episode...:  71%|███████   | 2844/4000 [00:08<00:03, 370.67it/s]"
     ]
    },
    {
     "name": "stdout",
     "output_type": "stream",
     "text": [
      "Episode 2800/4000 - Total Reward: 4326.3281855299965, Epsilon: 0.99\n"
     ]
    },
    {
     "name": "stderr",
     "output_type": "stream",
     "text": [
      "Evaluating results per episode...:  82%|████████▏ | 3277/4000 [00:09<00:02, 339.17it/s]"
     ]
    },
    {
     "name": "stdout",
     "output_type": "stream",
     "text": [
      "Episode 3200/4000 - Total Reward: 1941.78848607, Epsilon: 0.99\n"
     ]
    },
    {
     "name": "stderr",
     "output_type": "stream",
     "text": [
      "Evaluating results per episode...:  91%|█████████ | 3638/4000 [00:10<00:01, 342.13it/s]"
     ]
    },
    {
     "name": "stdout",
     "output_type": "stream",
     "text": [
      "Episode 3600/4000 - Total Reward: 2578.1618250600004, Epsilon: 0.99\n"
     ]
    },
    {
     "name": "stderr",
     "output_type": "stream",
     "text": [
      "Evaluating results per episode...: 100%|██████████| 4000/4000 [00:11<00:00, 347.97it/s]\n"
     ]
    },
    {
     "data": {
      "image/png": "[encoded data removed]",
      "text/plain": [
       "<Figure size 640x480 with 1 Axes>"
      ]
     },
     "metadata": {},
     "output_type": "display_data"
    },
    {
     "name": "stdout",
     "output_type": "stream",
     "text": [
      "Best Episode Reward: 13283.816152519996\n",
      "Best Episode Transitions: [(0, 2, 10.00895541, 1), (1, 0, 17.80269532, 2), (2, 1, 58.85809089, 3), (3, 1, 38.54910181, 4), (4, 2, 10.14014471, 5)] ...\n",
      "Best Episode Hyperparameters: {'alpha': 0.1, 'gamma': 0.9, 'epsilon': 0.99, 'min_epsilon': 0.99, 'decay_rate': 0.995, 'n_episodes': 4000}\n"
     ]
    }
   ],
   "source": [
    "# Set random seed for reproducibility\n",
    "np.random.seed(42)\n",
    "random.seed(42)\n",
    "\n",
    "# Define hyperparameters\n",
    "\n",
    "# Initialize lists to store rewards and transitions per episode\n",
    "rewards_per_episode = []\n",
    "best_episode_transitions = [] # Uncomment this if you have previous episode trasitions\n",
    "best_q_table = None\n",
    "best_total_reward = float('-inf')  # Initialize with negative infinity\n",
    "best_hyperparameters = {}  # Dictionary to store hyperparameters of best episode\n",
    "\n",
    "for episode in tqdm(range(n_episodes), desc=\"Evaluating results per episode...\"):\n",
    "    current_state = np.random.randint(0, n_states)  # Random initial state\n",
    "    total_reward = 0  # Initialize total reward for the current episode\n",
    "    episode_transitions = []  # Store (state, action, reward, next_state) tuples for this episode\n",
    "\n",
    "    while current_state < n_states - 1:\n",
    "        action = choose_action(current_state, epsilon)\n",
    "        next_state = current_state + 1  # This depends on your environment logic\n",
    "        reward = rewards[next_state]\n",
    "\n",
    "        best_next_action = np.argmax(q_table[next_state])\n",
    "        q_table[current_state, action] += alpha * (\n",
    "            reward + gamma * q_table[next_state, best_next_action] - q_table[current_state, action]\n",
    "        )\n",
    "\n",
    "        total_reward += reward  # Accumulate reward\n",
    "        episode_transitions.append((current_state, action, reward, next_state))\n",
    "        current_state = next_state  # Move to next state\n",
    "\n",
    "    rewards_per_episode.append(total_reward)  # Store total reward for the current episode\n",
    "\n",
    "    # Check if this is the best episode so far\n",
    "    if total_reward > best_total_reward:\n",
    "        best_total_reward = total_reward\n",
    "        best_episode_transitions = episode_transitions.copy()\n",
    "        best_q_table = q_table.copy()\n",
    "\n",
    "        # Store the hyperparameters at the best episode\n",
    "        best_hyperparameters = {\n",
    "            \"alpha\": alpha,\n",
    "            \"gamma\": gamma,\n",
    "            \"epsilon\": epsilon,\n",
    "            \"min_epsilon\": min_epsilon,\n",
    "            \"decay_rate\": decay_rate,\n",
    "            \"n_episodes\": n_episodes\n",
    "        }\n",
    "\n",
    "    # Decay epsilon\n",
    "    epsilon = max(min_epsilon, epsilon * decay_rate)\n",
    "\n",
    "    # Optional: Log progress\n",
    "    if episode % 400 == 0:  \n",
    "        print(f\"Episode {episode}/{n_episodes} - Total Reward: {total_reward}, Epsilon: {epsilon}\")\n",
    "\n",
    "# Save the best episode's Q-table\n",
    "np.save(\"best_bids_q_table.npy\", q_table)\n",
    "# Save the best episode's transitions\n",
    "np.save(\"best_bids_episode_trasitions.npy\", np.array(best_episode_transitions, dtype=object))\n",
    "\n",
    "# Plot the rewards per episode\n",
    "plt.plot(rewards_per_episode)\n",
    "plt.xlabel('Episode')\n",
    "plt.ylabel('Reward')\n",
    "plt.title('Rewards per Episode')\n",
    "plt.show()\n",
    "\n",
    "# Print best episode results\n",
    "print(f\"Best Episode Reward: {best_total_reward}\")\n",
    "print(f\"Best Episode Transitions: {best_episode_transitions[:5]} ...\")  # Show first 5 transitions\n",
    "print(f\"Best Episode Hyperparameters: {best_hyperparameters}\")"
   ]
  },
  {
   "cell_type": "code",
   "execution_count": null,
   "metadata": {},
   "outputs": [],
   "source": [
    "def load_q_table(file_path):\n",
    "    return np.load(file_path)\n",
    "\n",
    "def load_state_index_mapping(file_path):\n",
    "    return np.load(file_path, allow_pickle=True).item()\n",
    "\n",
    "loaded_mapping = load_state_index_mapping(file_path=\"bids_state_to_index.npy\")\n",
    "loaded_qtable = load_q_table(file_path=\"bids_q_table.npy\")"
   ]
  },
  {
   "cell_type": "code",
   "execution_count": null,
   "metadata": {},
   "outputs": [],
   "source": [
    "#state = (row['open'], row['high'], row['ema-26'], row['ema-12'], row['low'], \\\n",
    "#                 row['mean-grad-hist'], row['close'], row['volume'], row['sma-25'], \\\n",
    "#                 row['long_jcrosk'], row['short_kdj'], row['sma-compare'], row['is_short'])\n",
    "\n",
    "def prep_state(\n",
    "                ask: float, bid: float, sma_compare: int, is_short: int\n",
    "            ):\n",
    "    state = np.array([[ask, bid, sma_compare, is_short]])\n",
    "    if not np.all(np.isfinite(state)):\n",
    "        state = np.nan_to_num(state, nan=0.0, posinf=0.0, neginf=0.0)\n",
    "    return state\n"
   ]
  },
  {
   "cell_type": "code",
   "execution_count": null,
   "metadata": {},
   "outputs": [],
   "source": [
    "\n",
    "def predict_action(state, q_table, state_to_index, action_mapping, default_action: str = None):\n",
    "    state_tuple = tuple(state.flatten())\n",
    "\n",
    "    state_index = state_to_index.get(state_tuple, -1)\n",
    "\n",
    "    if not state_index == -1:\n",
    "        try:\n",
    "            q_values = q_table[state_index]\n",
    "        except ValueError as e:\n",
    "            print(e)\n",
    "            #return default_action\n",
    "    else:\n",
    "        state_tuples = list(state_to_index.keys())\n",
    "        kdtree = KDTree(state_tuples)\n",
    "        distance, index = kdtree.query(state.flatten())\n",
    "        nearest_state_tuple = state_tuples[index]\n",
    "        new_state_index = state_to_index[nearest_state_tuple]\n",
    "        q_values = loaded_qtable[new_state_index]\n",
    "    \n",
    "    #q_values = q_table[state_index]\n",
    "    best_action_index = np.argmax(q_values)\n",
    "    action = [action for action, index in action_mapping.items() if index == best_action_index][0]\n",
    "    return action"
   ]
  },
  {
   "cell_type": "code",
   "execution_count": null,
   "metadata": {},
   "outputs": [],
   "source": [
    "# Predict an entire range\n",
    "def predict_range(df: DataFrame = train_data) -> DataFrame:\n",
    "    for idx, row in df.iterrows():\n",
    "        state = row[['ask','bid','sma-compare', 'is_short']].values\n",
    "        action = predict_action(state, q_table, state_to_index, action_mapping)\n",
    "        df.loc[idx, \"predicted_action\"] = action\n",
    "    if (df['predicted_action'].nunique() < 2):\n",
    "        print(\"Only one action predicted, please check the Q-table\")\n",
    "    return df"
   ]
  },
  {
   "cell_type": "code",
   "execution_count": null,
   "metadata": {},
   "outputs": [],
   "source": [
    "train_data = predict_range(train_data)"
   ]
  },
  {
   "cell_type": "code",
   "execution_count": null,
   "metadata": {},
   "outputs": [],
   "source": [
    "if (train_data['predicted_action'].nunique() < 2):\n",
    "    raise ValueError(\"Model predictions are invalid\")"
   ]
  },
  {
   "cell_type": "code",
   "execution_count": null,
   "metadata": {},
   "outputs": [
    {
     "data": {
      "text/plain": [
       "predicted_action\n",
       "go_long       413\n",
       "go_short      282\n",
       "do_nothing    187\n",
       "Name: count, dtype: int64"
      ]
     },
     "execution_count": 2359,
     "metadata": {},
     "output_type": "execute_result"
    }
   ],
   "source": [
    "train_data['predicted_action'].value_counts()"
   ]
  },
  {
   "cell_type": "code",
   "execution_count": null,
   "metadata": {},
   "outputs": [
    {
     "data": {
      "text/plain": [
       "is_short\n",
       "0    220\n",
       "1     70\n",
       "Name: count, dtype: int64"
      ]
     },
     "execution_count": 2360,
     "metadata": {},
     "output_type": "execute_result"
    }
   ],
   "source": [
    "m = train_data[(train_data['predicted_action'] == 'go_long') & (train_data['reward'] > 0)]\n",
    "m['is_short'].value_counts()"
   ]
  },
  {
   "cell_type": "code",
   "execution_count": null,
   "metadata": {},
   "outputs": [
    {
     "name": "stdout",
     "output_type": "stream",
     "text": [
      "220\n",
      "70\n"
     ]
    }
   ],
   "source": [
    "longs = dict(m['is_short'].value_counts().items()).get(0)\n",
    "print(longs)\n",
    "shorts = dict(m['is_short'].value_counts().items()).get(1)\n",
    "print(shorts)"
   ]
  },
  {
   "cell_type": "code",
   "execution_count": null,
   "metadata": {},
   "outputs": [
    {
     "name": "stdout",
     "output_type": "stream",
     "text": [
      "Processed state 0/881\n",
      "Current Predicted Reward: 0\n",
      "Current Actual Reward: 10.00895541\n",
      "Processed state 100/881\n",
      "Current Predicted Reward: 254.5386666800001\n",
      "Current Actual Reward: 2335.1118273500006\n",
      "Processed state 200/881\n",
      "Current Predicted Reward: 675.5334374500002\n",
      "Current Actual Reward: 3352.692738069999\n",
      "Processed state 300/881\n",
      "Current Predicted Reward: 1047.8715859200001\n",
      "Current Actual Reward: 5062.91212276\n",
      "Processed state 400/881\n",
      "Current Predicted Reward: 1456.1212339999995\n",
      "Current Actual Reward: 7861.499513030003\n",
      "Processed state 500/881\n",
      "Current Predicted Reward: 2011.4356584000002\n",
      "Current Actual Reward: 9706.235351229994\n",
      "Processed state 600/881\n",
      "Current Predicted Reward: 1984.8981875700006\n",
      "Current Actual Reward: 9859.951298639997\n",
      "Processed state 700/881\n",
      "Current Predicted Reward: 1551.7063812100005\n",
      "Current Actual Reward: 9725.654615669997\n",
      "Processed state 800/881\n",
      "Current Predicted Reward: 2498.82325669\n",
      "Current Actual Reward: 11522.324187689994\n",
      "Cumulative Predicted Reward: 2250.8301151100004\n",
      "Cumulative Actual Reward: 13283.816152519996\n",
      "Prediction Efficiency: -83.06%\n"
     ]
    }
   ],
   "source": [
    "# Performance measures\n",
    "# Initialize cumulative rewards\n",
    "cumulative_predicted_reward = 0\n",
    "cumulative_actual_reward = 0\n",
    "\n",
    "# Iterate through states to calculate rewards\n",
    "for state_index in range(n_states - 1):\n",
    "    # Predicted action from Q-table\n",
    "    predicted_action = np.argmax(q_table[state_index])  # Best action for the current state\n",
    "    # Actual action from the ground truth\n",
    "    actual_action = train_data[\"action_num\"].iloc[state_index]\n",
    "\n",
    "    # Get reward for predicted action only if it matches the actual action\n",
    "    if predicted_action == actual_action:\n",
    "        predicted_reward = rewards[state_index + 1]  # Reward for the correct prediction\n",
    "        cumulative_predicted_reward += predicted_reward\n",
    "\n",
    "    # Get actual reward for the ground truth action\n",
    "    actual_reward = rewards[state_index + 1]\n",
    "    cumulative_actual_reward += actual_reward\n",
    "\n",
    "    # Optional: Log progress\n",
    "    if state_index % 100 == 0:  # Adjust logging frequency as needed\n",
    "        print(f\"Processed state {state_index}/{n_states - 1}\")\n",
    "        print(f\"Current Predicted Reward: {cumulative_predicted_reward}\")\n",
    "        print(f\"Current Actual Reward: {cumulative_actual_reward}\")\n",
    "\n",
    "# Print results\n",
    "print(f\"Cumulative Predicted Reward: {cumulative_predicted_reward}\")\n",
    "print(f\"Cumulative Actual Reward: {cumulative_actual_reward}\")\n",
    "\n",
    "# Optionally calculate efficiency\n",
    "efficiency = (\n",
    "    ((cumulative_predicted_reward - cumulative_actual_reward) / abs(cumulative_actual_reward)) * 100\n",
    "    if cumulative_actual_reward != 0\n",
    "    else 0\n",
    ")\n",
    "print(f\"Prediction Efficiency: {efficiency:.2f}%\")\n",
    "\n"
   ]
  },
  {
   "cell_type": "code",
   "execution_count": null,
   "metadata": {},
   "outputs": [
    {
     "name": "stdout",
     "output_type": "stream",
     "text": [
      "Accuracy: 36.28%\n"
     ]
    }
   ],
   "source": [
    "# Accuracy\n",
    "correct_predictions = 0\n",
    "for state_index in range(n_states):\n",
    "    predicted_action = np.argmax(q_table[state_index])  # Predicted action\n",
    "    actual_action = train_data[\"action_num\"].iloc[state_index]  # Actual action\n",
    "    if predicted_action == actual_action:\n",
    "        correct_predictions += 1\n",
    "\n",
    "accuracy = correct_predictions / n_states\n",
    "print(f\"Accuracy: {accuracy * 100:.2f}%\")"
   ]
  },
  {
   "cell_type": "code",
   "execution_count": null,
   "metadata": {},
   "outputs": [
    {
     "name": "stdout",
     "output_type": "stream",
     "text": [
      "Confusion Matrix:\n",
      "[[199 137  90]\n",
      " [ 79  66  53]\n",
      " [114  89  55]]\n"
     ]
    }
   ],
   "source": [
    "# Confusion matrix\n",
    "y_true = train_data[\"action_num\"]  # Actual actions\n",
    "y_pred = [np.argmax(q_table[state_index]) for state_index in range(n_states)]  # Predicted actions\n",
    "\n",
    "cm = confusion_matrix(y_true, y_pred)\n",
    "print(\"Confusion Matrix:\")\n",
    "print(cm)"
   ]
  },
  {
   "cell_type": "code",
   "execution_count": null,
   "metadata": {},
   "outputs": [],
   "source": [
    "def confusion_accuracy(conf_matrix, n_states):\n",
    "    # True Positives (TP): Diagonal elements of the confusion matrix\n",
    "    TP = conf_matrix[0][0] + conf_matrix[1][1] + conf_matrix[2][2]\n",
    "    # **True Positives**: 16 (class 0), 0 (class 1), 0 (class 2)\n",
    "    return TP*100/n_states"
   ]
  },
  {
   "cell_type": "code",
   "execution_count": null,
   "metadata": {},
   "outputs": [],
   "source": [
    "#con_acc = confusion_accuracy(cm, n_states=n_states)\n",
    "#print(f\"confusion accuracy: {con_acc:.2f}%\")"
   ]
  },
  {
   "cell_type": "code",
   "execution_count": null,
   "metadata": {},
   "outputs": [
    {
     "data": {
      "text/plain": [
       "predicted_action\n",
       "go_long       413\n",
       "go_short      282\n",
       "do_nothing    187\n",
       "Name: count, dtype: int64"
      ]
     },
     "execution_count": 2367,
     "metadata": {},
     "output_type": "execute_result"
    }
   ],
   "source": [
    "df0['predicted_action'].value_counts()"
   ]
  },
  {
   "cell_type": "code",
   "execution_count": null,
   "metadata": {},
   "outputs": [],
   "source": [
    "def action_reward(action: str, is_short: int):\n",
    "    m = train_data[(train_data['predicted_action'] == f'{action}') & (train_data['is_short'] == is_short)]\n",
    "    counts = m['is_short'].value_counts()\n",
    "    total_reward = m['reward'].cumsum()[-1:].values[0]\n",
    "    wins = len(m[m['reward'] > 0])\n",
    "    losses = len(m[m['reward'] <= 0])\n",
    "    return {\n",
    "        'counts': counts.get(is_short),\n",
    "        'total reward': total_reward,\n",
    "        'winrate': f'{wins * 100 / (losses + wins):.2f}%',\n",
    "        'per trade profit': m[m['reward'] > 0]['reward'].sum() / wins,\n",
    "        'per trade loss': m[m['reward'] <= 0]['reward'].sum() / losses\n",
    "    }"
   ]
  },
  {
   "cell_type": "code",
   "execution_count": null,
   "metadata": {},
   "outputs": [
    {
     "name": "stdout",
     "output_type": "stream",
     "text": [
      "{'counts': 147, 'total reward': 100.78274780000066, 'winrate': '47.62%', 'per trade profit': 50.470235958857145, 'per trade loss': -44.57316583532468}\n"
     ]
    }
   ],
   "source": [
    "print(action_reward('go_long', 1)) # go_short 1"
   ]
  },
  {
   "cell_type": "code",
   "execution_count": null,
   "metadata": {},
   "outputs": [
    {
     "name": "stdout",
     "output_type": "stream",
     "text": [
      "go_long 0: {'counts': 266, 'total reward': 7167.777708260003, 'winrate': '82.71%', 'per trade profit': 43.573779676136375, 'per trade loss': -52.575083054130424}\n",
      "go_long 1: {'counts': 147, 'total reward': 100.78274780000066, 'winrate': '47.62%', 'per trade profit': 50.470235958857145, 'per trade loss': -44.57316583532468}\n",
      "go_short 0: {'counts': 140, 'total reward': 2377.94125736, 'winrate': '70.71%', 'per trade profit': 43.50055089434343, 'per trade loss': -47.039348321463414}\n",
      "go_short 1: {'counts': 142, 'total reward': 2368.199397900001, 'winrate': '57.75%', 'per trade profit': 63.884153657804866, 'per trade loss': -47.838353367333326}\n",
      "do_nothing 0: {'counts': 103, 'total reward': 1811.2712294699995, 'winrate': '78.64%', 'per trade profit': 37.25376836345679, 'per trade loss': -54.83109127136363}\n",
      "do_nothing 1: {'counts': 84, 'total reward': -482.12106751000016, 'winrate': '42.86%', 'per trade profit': 47.62610971944444, 'per trade loss': -45.76377119604166}\n"
     ]
    }
   ],
   "source": [
    "dirs = [0,1]\n",
    "for action in action_mapping.keys():\n",
    "    for is_short in dirs:\n",
    "        try:\n",
    "            print(f'{action} {is_short}: {action_reward(action, is_short)}')\n",
    "        except IndexError as e:\n",
    "            print(e)"
   ]
  },
  {
   "cell_type": "code",
   "execution_count": null,
   "metadata": {},
   "outputs": [
    {
     "data": {
      "image/png": "[encoded data removed]",
      "text/plain": [
       "<Figure size 640x480 with 1 Axes>"
      ]
     },
     "metadata": {},
     "output_type": "display_data"
    }
   ],
   "source": [
    "import matplotlib.pyplot as plt\n",
    "\n",
    "# Assuming you have a list of rewards for each episode\n",
    "#rewards_per_episode = [...]  # Populate this with your actual data\n",
    "\n",
    "plt.plot(rewards_per_episode)\n",
    "plt.xlabel('Episode')\n",
    "plt.ylabel('Reward')\n",
    "plt.title('Rewards per Episode')\n",
    "plt.show()\n"
   ]
  },
  {
   "cell_type": "code",
   "execution_count": null,
   "metadata": {},
   "outputs": [],
   "source": [
    "# Tuning\n",
    "\n",
    "def train_q_learning(alpha, gamma, epsilon, min_epsilon, decay_rate, n_episodes, n_states, n_actions, rewards):\n",
    "    q_table = np.zeros((n_states, n_actions))\n",
    "    rewards_per_episode = []\n",
    "\n",
    "    for episode in range(n_episodes):\n",
    "        current_state = np.random.randint(0, n_states)\n",
    "        total_reward = 0\n",
    "\n",
    "        while current_state < n_states - 1:\n",
    "            if np.random.uniform(0, 1) < epsilon:\n",
    "                action = np.random.randint(0, n_actions)\n",
    "            else:\n",
    "                action = np.argmax(q_table[current_state])\n",
    "\n",
    "            next_state = current_state + 1  # Adjust based on environment logic\n",
    "            reward = rewards[next_state]\n",
    "\n",
    "            best_next_action = np.argmax(q_table[next_state])\n",
    "            q_table[current_state, action] += alpha * (\n",
    "                reward + gamma * q_table[next_state, best_next_action] - q_table[current_state, action]\n",
    "            )\n",
    "\n",
    "            total_reward += reward\n",
    "            current_state = next_state\n",
    "\n",
    "        rewards_per_episode.append(total_reward)\n",
    "        epsilon = max(min_epsilon, epsilon * decay_rate) # default min_epsilon = 0.01\n",
    "\n",
    "    return q_table, rewards_per_episode\n"
   ]
  },
  {
   "cell_type": "code",
   "execution_count": null,
   "metadata": {},
   "outputs": [],
   "source": [
    "\n",
    "def evaluate_q_learning_reward_weighted(q_table, n_states, train_data, rewards):\n",
    "    correct_predictions = 0\n",
    "    total_reward = 0\n",
    "    reward_weighted_accuracy = []\n",
    "\n",
    "    # Add tqdm for progress visualization\n",
    "    for state_index in tqdm(range(n_states), desc=\"Evaluating States\"):\n",
    "        predicted_action = np.argmax(q_table[state_index])  # Predicted action\n",
    "        actual_action = train_data[\"action_num\"].iloc[state_index]  # Actual action\n",
    "        reward = rewards[state_index]  # Reward for the action\n",
    "\n",
    "        if predicted_action == actual_action:\n",
    "            correct_predictions += 1\n",
    "            total_reward += reward\n",
    "\n",
    "        accuracy = correct_predictions / (state_index + 1)\n",
    "        reward_weighted_accuracy.append(total_reward / (state_index + 1))\n",
    "\n",
    "        # Optional: Log progress\n",
    "        if state_index % 100 == 0:\n",
    "            print(f\"Processed state {state_index}/{n_states} - Accuracy: {accuracy * 100:.2f}%, Reward-weighted Accuracy: {reward_weighted_accuracy[-1]}\")\n",
    "\n",
    "    final_reward_weighted_accuracy = total_reward / n_states\n",
    "    return final_reward_weighted_accuracy * 100\n",
    "\n"
   ]
  },
  {
   "cell_type": "code",
   "execution_count": null,
   "metadata": {},
   "outputs": [
    {
     "data": {
      "text/plain": [
       "'\\ndef random_search_reward_weighted(n_iter, param_grid, n_states, n_actions, rewards, train_data):\\n    best_params = None\\n    best_reward_weighted_accuracy = float(\\'-inf\\')\\n\\n    for _ in tqdm(range(n_iter), desc=\"Searching for params ...\"):\\n        alpha = random.choice(param_grid[\\'alpha\\'])\\n        gamma = random.choice(param_grid[\\'gamma\\'])\\n        epsilon = random.choice(param_grid[\\'epsilon\\'])\\n        min_epsilon = random.choice(param_grid[\\'decay_rate\\'])\\n        decay_rate = random.choice(param_grid[\\'decay_rate\\'])\\n        n_episodes = random.choice(param_grid[\\'n_episodes\\'])\\n\\n        q_table, _ = train_q_learning(alpha, gamma, epsilon, min_epsilon, decay_rate, n_episodes, n_states, n_actions, rewards)\\n        reward_weighted_accuracy = evaluate_q_learning_reward_weighted(q_table, n_states, train_data, rewards)\\n\\n        if reward_weighted_accuracy > best_reward_weighted_accuracy:\\n            best_reward_weighted_accuracy = reward_weighted_accuracy\\n            best_params = (alpha, gamma, epsilon, min_epsilon, decay_rate, n_episodes)\\n\\n        print(f\"Iteration Reward-weighted Accuracy: {reward_weighted_accuracy:.2f}%, Best Reward-weighted Accuracy: {best_reward_weighted_accuracy:.2f}%\")\\n\\n    return best_params, best_reward_weighted_accuracy\\n\\n# Define the parameter grid\\nparam_grid = {\\n    \\'alpha\\': [0.01, 0.05, 0.1, 0.2, 0.25, 0.3, 0.5, 0.7, 0.9, 1],\\n    \\'gamma\\': [0.75, 0.85, 0.9, 0.95, 0.99],\\n    \\'epsilon\\': [1.0, 0.5, 0.1, 0.05, 0.01, 0.005],\\n    \\'min_epsilon\\': [0.05, 0.01, 0.005, 0.001, 0.001],\\n    \\'decay_rate\\': [0.95, 0.99, 0.995, 0.997, 0.999],\\n    \\'n_episodes\\': [1500, 4000,6000, 8000, 9000, 10000, 11000, 12000]\\n}\\n\\n# Perform Random Search\\nbest_params, best_reward_weighted_accuracy = random_search_reward_weighted(50, param_grid, n_states, n_actions, rewards, train_data)\\nprint(f\"Best Hyperparameters: {best_params}\")\\nprint(f\"Best Reward-weighted Accuracy: {best_reward_weighted_accuracy:.2f}%\")\\n\\n'"
      ]
     },
     "execution_count": 2374,
     "metadata": {},
     "output_type": "execute_result"
    }
   ],
   "source": [
    "'''\n",
    "def random_search_reward_weighted(n_iter, param_grid, n_states, n_actions, rewards, train_data):\n",
    "    best_params = None\n",
    "    best_reward_weighted_accuracy = float('-inf')\n",
    "\n",
    "    for _ in tqdm(range(n_iter), desc=\"Searching for params ...\"):\n",
    "        alpha = random.choice(param_grid['alpha'])\n",
    "        gamma = random.choice(param_grid['gamma'])\n",
    "        epsilon = random.choice(param_grid['epsilon'])\n",
    "        min_epsilon = random.choice(param_grid['decay_rate'])\n",
    "        decay_rate = random.choice(param_grid['decay_rate'])\n",
    "        n_episodes = random.choice(param_grid['n_episodes'])\n",
    "\n",
    "        q_table, _ = train_q_learning(alpha, gamma, epsilon, min_epsilon, decay_rate, n_episodes, n_states, n_actions, rewards)\n",
    "        reward_weighted_accuracy = evaluate_q_learning_reward_weighted(q_table, n_states, train_data, rewards)\n",
    "\n",
    "        if reward_weighted_accuracy > best_reward_weighted_accuracy:\n",
    "            best_reward_weighted_accuracy = reward_weighted_accuracy\n",
    "            best_params = (alpha, gamma, epsilon, min_epsilon, decay_rate, n_episodes)\n",
    "\n",
    "        print(f\"Iteration Reward-weighted Accuracy: {reward_weighted_accuracy:.2f}%, Best Reward-weighted Accuracy: {best_reward_weighted_accuracy:.2f}%\")\n",
    "\n",
    "    return best_params, best_reward_weighted_accuracy\n",
    "\n",
    "# Define the parameter grid\n",
    "param_grid = {\n",
    "    'alpha': [0.01, 0.05, 0.1, 0.2, 0.25, 0.3, 0.5, 0.7, 0.9, 1],\n",
    "    'gamma': [0.75, 0.85, 0.9, 0.95, 0.99],\n",
    "    'epsilon': [1.0, 0.5, 0.1, 0.05, 0.01, 0.005],\n",
    "    'min_epsilon': [0.05, 0.01, 0.005, 0.001, 0.001],\n",
    "    'decay_rate': [0.95, 0.99, 0.995, 0.997, 0.999],\n",
    "    'n_episodes': [1500, 4000,6000, 8000, 9000, 10000, 11000, 12000]\n",
    "}\n",
    "\n",
    "# Perform Random Search\n",
    "best_params, best_reward_weighted_accuracy = random_search_reward_weighted(50, param_grid, n_states, n_actions, rewards, train_data)\n",
    "print(f\"Best Hyperparameters: {best_params}\")\n",
    "print(f\"Best Reward-weighted Accuracy: {best_reward_weighted_accuracy:.2f}%\")\n",
    "\n",
    "'''"
   ]
  },
  {
   "cell_type": "code",
   "execution_count": null,
   "metadata": {},
   "outputs": [],
   "source": [
    "def evaluate_q_learning_prediction_efficiency(q_table, n_states, train_data, rewards):\n",
    "    # Initialize cumulative rewards\n",
    "    cumulative_predicted_reward = 0\n",
    "    cumulative_actual_reward = 0\n",
    "\n",
    "    # Iterate through states to calculate rewards\n",
    "    for state_index in range(n_states - 1):\n",
    "        # Predicted action from Q-table\n",
    "        predicted_action = np.argmax(q_table[state_index])  # Best action for the current state\n",
    "        # Actual action from the ground truth\n",
    "        actual_action = train_data[\"action_num\"].iloc[state_index]\n",
    "\n",
    "        # Get reward for predicted action only if it matches the actual action\n",
    "        if predicted_action == actual_action:\n",
    "            predicted_reward = rewards[state_index + 1]  # Reward for the correct prediction\n",
    "            cumulative_predicted_reward += predicted_reward\n",
    "\n",
    "        # Get actual reward for the ground truth action\n",
    "        actual_reward = rewards[state_index + 1]\n",
    "        cumulative_actual_reward += actual_reward\n",
    "    return cumulative_predicted_reward"
   ]
  },
  {
   "cell_type": "code",
   "execution_count": null,
   "metadata": {},
   "outputs": [
    {
     "data": {
      "text/plain": [
       "Index(['open', 'high', 'ema-26', 'ema-12', 'low', 'mean-grad-hist', 'close',\n",
       "       'volume', 'sma-05', 'sma-07', 'sma-25', 'long_jcrosk', 'short_kdj',\n",
       "       'sma-compare', 'ask', 'bid', 'is_short', 'nlpreds', 'action',\n",
       "       'predicted_action', 'reward', 'refined-action', 'action_num'],\n",
       "      dtype='object')"
      ]
     },
     "execution_count": 2376,
     "metadata": {},
     "output_type": "execute_result"
    }
   ],
   "source": [
    "train_data.columns"
   ]
  },
  {
   "cell_type": "code",
   "execution_count": null,
   "metadata": {},
   "outputs": [
    {
     "data": {
      "text/plain": [
       "'\\ndef random_search_prediction_efficiency(n_iter, param_grid, n_states, n_actions, rewards, train_data):\\n    best_params = None\\n    best_cumulative_pred_reward = float(\\'-inf\\')\\n\\n    for _ in tqdm(range(n_iter), desc=\"Searching for params ...\"):\\n        alpha = random.choice(param_grid[\\'alpha\\'])\\n        gamma = random.choice(param_grid[\\'gamma\\'])\\n        epsilon = random.choice(param_grid[\\'epsilon\\'])\\n        min_epsilon = random.choice(param_grid[\\'decay_rate\\'])\\n        decay_rate = random.choice(param_grid[\\'decay_rate\\'])\\n        n_episodes = random.choice(param_grid[\\'n_episodes\\'])\\n\\n        q_table, _ = train_q_learning(alpha, gamma, epsilon, min_epsilon, decay_rate, n_episodes, n_states, n_actions, rewards)\\n        cumulative_pred_reward = evaluate_q_learning_prediction_efficiency(q_table, n_states, train_data, rewards)\\n\\n        if cumulative_pred_reward > best_cumulative_pred_reward:\\n            best_cumulative_pred_reward = cumulative_pred_reward\\n            best_params = (alpha, gamma, epsilon, min_epsilon, decay_rate, n_episodes)\\n\\n        print(f\"Iteration cumulative predicted reward: {cumulative_pred_reward:.2f}%, Best cumulative predicted reward: {best_cumulative_pred_reward:.2f}%\")\\n\\n    return best_params, best_cumulative_pred_reward\\n\\n# Define the parameter grid\\nparam_grid = {\\n    \\'alpha\\': [0.001, 0.005, 0.01, 0.05, 0.1, 0.2, 0.25, 0.3, 0.5, 0.7, 0.9, 1],\\n    \\'gamma\\': [0.75, 0.85, 0.9, 0.95, 0.99],\\n    \\'epsilon\\': [1.0, 0.5, 0.1, 0.05, 0.01, 0.005],\\n    \\'min_epsilon\\': [0.05, 0.01, 0.005, 0.001, 0.001],\\n    \\'decay_rate\\': [0.95, 0.99, 0.995, 0.997, 0.999],\\n    \\'n_episodes\\': [1500, 4000,6000, 8000, 9000, 10000, 11000, 12000, 14000, 16000, 18000, 20000, 22000, 24000, 26000, 28000, 30000]\\n}\\n# 1500, 4000,6000, 8000, 9000, 10000, 11000, \\n# Perform Random Search\\nbest_params, best_cumulative_pred_reward = random_search_prediction_efficiency(50, param_grid, n_states, n_actions, rewards, train_data)\\nprint(f\"Best Hyperparameters: {best_params}\")\\nprint(f\"Best cumulative predicted reward: {best_cumulative_pred_reward:.2f}%\")\\n'"
      ]
     },
     "execution_count": 2377,
     "metadata": {},
     "output_type": "execute_result"
    }
   ],
   "source": [
    "'''\n",
    "def random_search_prediction_efficiency(n_iter, param_grid, n_states, n_actions, rewards, train_data):\n",
    "    best_params = None\n",
    "    best_cumulative_pred_reward = float('-inf')\n",
    "\n",
    "    for _ in tqdm(range(n_iter), desc=\"Searching for params ...\"):\n",
    "        alpha = random.choice(param_grid['alpha'])\n",
    "        gamma = random.choice(param_grid['gamma'])\n",
    "        epsilon = random.choice(param_grid['epsilon'])\n",
    "        min_epsilon = random.choice(param_grid['decay_rate'])\n",
    "        decay_rate = random.choice(param_grid['decay_rate'])\n",
    "        n_episodes = random.choice(param_grid['n_episodes'])\n",
    "\n",
    "        q_table, _ = train_q_learning(alpha, gamma, epsilon, min_epsilon, decay_rate, n_episodes, n_states, n_actions, rewards)\n",
    "        cumulative_pred_reward = evaluate_q_learning_prediction_efficiency(q_table, n_states, train_data, rewards)\n",
    "\n",
    "        if cumulative_pred_reward > best_cumulative_pred_reward:\n",
    "            best_cumulative_pred_reward = cumulative_pred_reward\n",
    "            best_params = (alpha, gamma, epsilon, min_epsilon, decay_rate, n_episodes)\n",
    "\n",
    "        print(f\"Iteration cumulative predicted reward: {cumulative_pred_reward:.2f}%, Best cumulative predicted reward: {best_cumulative_pred_reward:.2f}%\")\n",
    "\n",
    "    return best_params, best_cumulative_pred_reward\n",
    "\n",
    "# Define the parameter grid\n",
    "param_grid = {\n",
    "    'alpha': [0.001, 0.005, 0.01, 0.05, 0.1, 0.2, 0.25, 0.3, 0.5, 0.7, 0.9, 1],\n",
    "    'gamma': [0.75, 0.85, 0.9, 0.95, 0.99],\n",
    "    'epsilon': [1.0, 0.5, 0.1, 0.05, 0.01, 0.005],\n",
    "    'min_epsilon': [0.05, 0.01, 0.005, 0.001, 0.001],\n",
    "    'decay_rate': [0.95, 0.99, 0.995, 0.997, 0.999],\n",
    "    'n_episodes': [1500, 4000,6000, 8000, 9000, 10000, 11000, 12000, 14000, 16000, 18000, 20000, 22000, 24000, 26000, 28000, 30000]\n",
    "}\n",
    "# 1500, 4000,6000, 8000, 9000, 10000, 11000, \n",
    "# Perform Random Search\n",
    "best_params, best_cumulative_pred_reward = random_search_prediction_efficiency(50, param_grid, n_states, n_actions, rewards, train_data)\n",
    "print(f\"Best Hyperparameters: {best_params}\")\n",
    "print(f\"Best cumulative predicted reward: {best_cumulative_pred_reward:.2f}%\")\n",
    "'''"
   ]
  },
  {
   "cell_type": "code",
   "execution_count": null,
   "metadata": {},
   "outputs": [],
   "source": [
    "#colsa = ['ask','bid','sma-05', 'sma-07', 'sma-25','sma-compare','is_short', 'action', 'nlpreds', 'predicted_action','reward']\n",
    "colsa = ['open', 'high', 'ema-26', 'ema-12', 'low', \\\n",
    "            'mean-grad-hist', 'close', 'volume', 'sma-05', 'sma-07', 'sma-25', 'long_jcrosk', 'short_kdj', \\\n",
    "            'sma-compare', 'ask', 'bid', 'is_short', 'nlpreds', 'action', 'predicted_action', 'reward'\n",
    "        ]\n",
    "learn_df = train_data[colsa]"
   ]
  },
  {
   "cell_type": "code",
   "execution_count": null,
   "metadata": {},
   "outputs": [],
   "source": [
    "def split_action(action: str):\n",
    "    return ' '.join(action.split('_'))"
   ]
  },
  {
   "cell_type": "code",
   "execution_count": null,
   "metadata": {},
   "outputs": [],
   "source": [
    "#learn_df.loc[:,['predicted_action']] = learn_df['predicted_action'] #.apply(split_action)"
   ]
  },
  {
   "cell_type": "code",
   "execution_count": null,
   "metadata": {},
   "outputs": [
    {
     "data": {
      "text/html": [
       "<div>\n",
       "<style scoped>\n",
       "    .dataframe tbody tr th:only-of-type {\n",
       "        vertical-align: middle;\n",
       "    }\n",
       "\n",
       "    .dataframe tbody tr th {\n",
       "        vertical-align: top;\n",
       "    }\n",
       "\n",
       "    .dataframe thead th {\n",
       "        text-align: right;\n",
       "    }\n",
       "</style>\n",
       "<table border=\"1\" class=\"dataframe\">\n",
       "  <thead>\n",
       "    <tr style=\"text-align: right;\">\n",
       "      <th></th>\n",
       "      <th>open</th>\n",
       "      <th>high</th>\n",
       "      <th>ema-26</th>\n",
       "      <th>ema-12</th>\n",
       "      <th>low</th>\n",
       "      <th>mean-grad-hist</th>\n",
       "      <th>close</th>\n",
       "      <th>volume</th>\n",
       "      <th>sma-05</th>\n",
       "      <th>sma-07</th>\n",
       "      <th>...</th>\n",
       "      <th>long_jcrosk</th>\n",
       "      <th>short_kdj</th>\n",
       "      <th>sma-compare</th>\n",
       "      <th>ask</th>\n",
       "      <th>bid</th>\n",
       "      <th>is_short</th>\n",
       "      <th>nlpreds</th>\n",
       "      <th>action</th>\n",
       "      <th>predicted_action</th>\n",
       "      <th>reward</th>\n",
       "    </tr>\n",
       "  </thead>\n",
       "  <tbody>\n",
       "    <tr>\n",
       "      <th>0</th>\n",
       "      <td>274.0000</td>\n",
       "      <td>328.00000</td>\n",
       "      <td>266.507920</td>\n",
       "      <td>258.173616</td>\n",
       "      <td>272.0500</td>\n",
       "      <td>0</td>\n",
       "      <td>290.55000</td>\n",
       "      <td>351222.06</td>\n",
       "      <td>273.19000</td>\n",
       "      <td>269.764286</td>\n",
       "      <td>...</td>\n",
       "      <td>1</td>\n",
       "      <td>0</td>\n",
       "      <td>0</td>\n",
       "      <td>1.807591e+05</td>\n",
       "      <td>1.704629e+05</td>\n",
       "      <td>0</td>\n",
       "      <td>do_nothing</td>\n",
       "      <td>go_short</td>\n",
       "      <td>go_long</td>\n",
       "      <td>60.035121</td>\n",
       "    </tr>\n",
       "    <tr>\n",
       "      <th>1</th>\n",
       "      <td>0.0521</td>\n",
       "      <td>0.05235</td>\n",
       "      <td>0.054865</td>\n",
       "      <td>0.055860</td>\n",
       "      <td>0.0508</td>\n",
       "      <td>1</td>\n",
       "      <td>0.05225</td>\n",
       "      <td>3619710.00</td>\n",
       "      <td>0.05416</td>\n",
       "      <td>0.054593</td>\n",
       "      <td>...</td>\n",
       "      <td>0</td>\n",
       "      <td>0</td>\n",
       "      <td>1</td>\n",
       "      <td>1.812457e+06</td>\n",
       "      <td>1.807253e+06</td>\n",
       "      <td>0</td>\n",
       "      <td>go_long</td>\n",
       "      <td>go_long</td>\n",
       "      <td>go_short</td>\n",
       "      <td>10.008955</td>\n",
       "    </tr>\n",
       "    <tr>\n",
       "      <th>2</th>\n",
       "      <td>2.0264</td>\n",
       "      <td>2.05090</td>\n",
       "      <td>1.997018</td>\n",
       "      <td>1.973731</td>\n",
       "      <td>2.0258</td>\n",
       "      <td>0</td>\n",
       "      <td>2.04050</td>\n",
       "      <td>2861273.50</td>\n",
       "      <td>2.01406</td>\n",
       "      <td>2.012229</td>\n",
       "      <td>...</td>\n",
       "      <td>0</td>\n",
       "      <td>0</td>\n",
       "      <td>0</td>\n",
       "      <td>1.435597e+06</td>\n",
       "      <td>1.425677e+06</td>\n",
       "      <td>0</td>\n",
       "      <td>do_nothing</td>\n",
       "      <td>go_short</td>\n",
       "      <td>go_short</td>\n",
       "      <td>17.802695</td>\n",
       "    </tr>\n",
       "    <tr>\n",
       "      <th>3</th>\n",
       "      <td>0.8075</td>\n",
       "      <td>0.81810</td>\n",
       "      <td>0.811329</td>\n",
       "      <td>0.815042</td>\n",
       "      <td>0.8050</td>\n",
       "      <td>0</td>\n",
       "      <td>0.81610</td>\n",
       "      <td>115912.00</td>\n",
       "      <td>0.81028</td>\n",
       "      <td>0.810757</td>\n",
       "      <td>...</td>\n",
       "      <td>0</td>\n",
       "      <td>0</td>\n",
       "      <td>1</td>\n",
       "      <td>5.826299e+04</td>\n",
       "      <td>5.764901e+04</td>\n",
       "      <td>1</td>\n",
       "      <td>go_long</td>\n",
       "      <td>go_long</td>\n",
       "      <td>go_long</td>\n",
       "      <td>58.858091</td>\n",
       "    </tr>\n",
       "    <tr>\n",
       "      <th>4</th>\n",
       "      <td>7.1500</td>\n",
       "      <td>7.15400</td>\n",
       "      <td>7.183519</td>\n",
       "      <td>7.247633</td>\n",
       "      <td>7.0920</td>\n",
       "      <td>1</td>\n",
       "      <td>7.11000</td>\n",
       "      <td>17426.30</td>\n",
       "      <td>7.15340</td>\n",
       "      <td>7.161429</td>\n",
       "      <td>...</td>\n",
       "      <td>0</td>\n",
       "      <td>0</td>\n",
       "      <td>1</td>\n",
       "      <td>8.688709e+03</td>\n",
       "      <td>8.737591e+03</td>\n",
       "      <td>1</td>\n",
       "      <td>go_long</td>\n",
       "      <td>go_long</td>\n",
       "      <td>go_short</td>\n",
       "      <td>38.549102</td>\n",
       "    </tr>\n",
       "  </tbody>\n",
       "</table>\n",
       "<p>5 rows × 21 columns</p>\n",
       "</div>"
      ],
      "text/plain": [
       "       open       high      ema-26      ema-12       low  mean-grad-hist  \\\n",
       "0  274.0000  328.00000  266.507920  258.173616  272.0500               0   \n",
       "1    0.0521    0.05235    0.054865    0.055860    0.0508               1   \n",
       "2    2.0264    2.05090    1.997018    1.973731    2.0258               0   \n",
       "3    0.8075    0.81810    0.811329    0.815042    0.8050               0   \n",
       "4    7.1500    7.15400    7.183519    7.247633    7.0920               1   \n",
       "\n",
       "       close      volume     sma-05      sma-07  ...  long_jcrosk  short_kdj  \\\n",
       "0  290.55000   351222.06  273.19000  269.764286  ...            1          0   \n",
       "1    0.05225  3619710.00    0.05416    0.054593  ...            0          0   \n",
       "2    2.04050  2861273.50    2.01406    2.012229  ...            0          0   \n",
       "3    0.81610   115912.00    0.81028    0.810757  ...            0          0   \n",
       "4    7.11000    17426.30    7.15340    7.161429  ...            0          0   \n",
       "\n",
       "   sma-compare           ask           bid  is_short     nlpreds    action  \\\n",
       "0            0  1.807591e+05  1.704629e+05         0  do_nothing  go_short   \n",
       "1            1  1.812457e+06  1.807253e+06         0     go_long   go_long   \n",
       "2            0  1.435597e+06  1.425677e+06         0  do_nothing  go_short   \n",
       "3            1  5.826299e+04  5.764901e+04         1     go_long   go_long   \n",
       "4            1  8.688709e+03  8.737591e+03         1     go_long   go_long   \n",
       "\n",
       "  predicted_action     reward  \n",
       "0          go_long  60.035121  \n",
       "1         go_short  10.008955  \n",
       "2         go_short  17.802695  \n",
       "3          go_long  58.858091  \n",
       "4         go_short  38.549102  \n",
       "\n",
       "[5 rows x 21 columns]"
      ]
     },
     "execution_count": 2381,
     "metadata": {},
     "output_type": "execute_result"
    }
   ],
   "source": [
    "learn_df.head()"
   ]
  },
  {
   "cell_type": "code",
   "execution_count": null,
   "metadata": {},
   "outputs": [],
   "source": [
    "learn_df.to_csv('/home/defi/Desktop/portfolio/projects/python/pipeline_defi/lean_df_99rl.csv', index=False)"
   ]
  },
  {
   "cell_type": "code",
   "execution_count": null,
   "metadata": {},
   "outputs": [
    {
     "data": {
      "text/plain": [
       "predicted_action\n",
       "go_long       413\n",
       "go_short      282\n",
       "do_nothing    187\n",
       "Name: count, dtype: int64"
      ]
     },
     "execution_count": 2383,
     "metadata": {},
     "output_type": "execute_result"
    }
   ],
   "source": [
    "learn_df['predicted_action'].value_counts()"
   ]
  }
 ],
 "metadata": {
  "kernelspec": {
   "display_name": ".venv",
   "language": "python",
   "name": "python3"
  },
  "language_info": {
   "codemirror_mode": {
    "name": "ipython",
    "version": 3
   },
   "file_extension": ".py",
   "mimetype": "text/x-python",
   "name": "python",
   "nbconvert_exporter": "python",
   "pygments_lexer": "ipython3",
   "version": "3.10.4"
  }
 },
 "nbformat": 4,
 "nbformat_minor": 2
}
