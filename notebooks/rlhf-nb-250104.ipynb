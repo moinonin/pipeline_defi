{
 "cells": [
  {
   "cell_type": "code",
   "execution_count": 796,
   "metadata": {},
   "outputs": [],
   "source": [
    "import pandas as pd\n",
    "import numpy as np\n",
    "from sklearn.metrics import confusion_matrix\n",
    "from pandas import DataFrame\n",
    "import pickle, random\n",
    "from tqdm import tqdm\n",
    "from scipy.spatial import KDTree\n",
    "import matplotlib.pyplot as plt"
   ]
  },
  {
   "cell_type": "code",
   "execution_count": 797,
   "metadata": {},
   "outputs": [],
   "source": [
    "from collections import Counter\n",
    "from imblearn.under_sampling import RandomUnderSampler"
   ]
  },
  {
   "cell_type": "code",
   "execution_count": 798,
   "metadata": {},
   "outputs": [],
   "source": [
    "#df0 = pd.read_csv('../spreadsheets/rlhf_1064.csv') # 0.005, 0.75, 0.1, 0.95, 0.999, 12000\n",
    "#df0 = pd.read_csv('../spreadsheets/rlhf_159nlp.csv') # second Best 0.01, 0.85, 0.01, 0.95, 0.95, 12000\n",
    "#df0 = pd.read_csv('../spreadsheets/rlhf_small_07rl.csv') # Best\n",
    "#df0 = pd.read_csv('../spreadsheets/rlhf_large_1072.csv')\n",
    "#df0 = pd.read_csv('../spreadsheets/shufled_rlhf_11rl.csv')\n",
    "#df0 = pd.read_csv('../spreadsheets/rlhf_small_12rl.csv')\n",
    "#df0 = pd.read_csv('../spreadsheets/rlhf_small_15rl.csv')\n",
    "#df0 = pd.read_csv('../spreadsheets/rlhf_large_154nlp_balanced.csv')\n",
    "#df0 = pd.read_csv('../spreadsheets/rlhf_small_19rl.csv')\n",
    "#df0 = pd.read_csv('../spreadsheets/rlhf_small_24rl.csv')\n",
    "#df0 = pd.read_csv('../spreadsheets/rlhf_small_23rl.csv')\n",
    "#df0 = pd.read_csv('../spreadsheets/rlhf_small_25rl.csv')\n",
    "#df0 = pd.read_csv('../spreadsheets/rlhf_small_26rl.csv')\n",
    "#df0 = pd.read_csv('../spreadsheets/rlhf_small_157nlp.csv') # 0.7, 0.95, 0.5, 0.999, 0.99, 16000\n",
    "#df0 = pd.read_csv('../spreadsheets/rlhf_small_157nlpgate.csv') # 0.25, 0.95, 0.01, 0.997, 0.999, 14000\n",
    "#df0 = pd.read_csv('../spreadsheets/rlhf_small_29rl.csv') # 0.9, 0.9, 0.005, 0.95, 0.999, 10000,\n",
    "#df0 = pd.read_csv('../spreadsheets/rlhf_small_30rl.csv') # 0.005, 0.75, 0.1, 0.95, 0.999, 12000\n",
    "#df0 = pd.read_csv('../spreadsheets/rlhf_small_32rl.csv') # 0.01, 0.85, 0.01, 0.95, 0.95, 12000\n",
    "#df0 = pd.read_csv('../spreadsheets/rlhf_small_33rl.csv')# 0.05, 0.85, 0.01, 0.997, 0.95, 4000\n",
    "# df0 = pd.read_csv('../spreadsheets/rlhf_small_36rl.csv')\n",
    "#df0 = pd.read_csv('../spreadsheets/rlhf_small_39rl.csv')# 0.05, 0.85, 0.01, 0.997, 0.95, 4000\n",
    "#df0 = pd.read_csv('../spreadsheets/rlhf_small_154nlp_refined.csv')\n",
    "#df0 = pd.read_csv('../spreadsheets/rlhf_large_27rl.csv')\n",
    "#df0 = pd.read_csv('../spreadsheets/rlhf_small_43rl.csv') # 0.001, 0.99, 1.0, 0.95, 0.99, 10000\n",
    "#df0 = pd.read_csv('../spreadsheets/rlhf_1064_2.csv')\n",
    "#df0 = pd.read_csv('../spreadsheets/rlhf_large_154nlp_refined.csv')\n",
    "#df0 = pd.read_csv('../spreadsheets/rlhf_large_46rl_balanced.csv')\n",
    "df0 = pd.read_csv('../spreadsheets/rlhf_large_99rl_refined.csv')"
   ]
  },
  {
   "cell_type": "code",
   "execution_count": 799,
   "metadata": {},
   "outputs": [
    {
     "data": {
      "text/plain": [
       "Index(['open', 'high', 'ema-26', 'ema-12', 'low', 'mean-grad-hist', 'close',\n",
       "       'volume', 'sma-05', 'sma-07', 'sma-25', 'long_jcrosk', 'short_kdj',\n",
       "       'sma-compare', 'ask', 'bid', 'is_short', 'nlpreds', 'action',\n",
       "       'predicted_action', 'reward', 'refined-action'],\n",
       "      dtype='object')"
      ]
     },
     "execution_count": 799,
     "metadata": {},
     "output_type": "execute_result"
    }
   ],
   "source": [
    "df0.columns"
   ]
  },
  {
   "cell_type": "code",
   "execution_count": 800,
   "metadata": {},
   "outputs": [],
   "source": [
    "#df0['action'] = df0['action'].replace('go_long', 'do_nothing')"
   ]
  },
  {
   "cell_type": "code",
   "execution_count": 801,
   "metadata": {},
   "outputs": [
    {
     "data": {
      "text/html": [
       "<div>\n",
       "<style scoped>\n",
       "    .dataframe tbody tr th:only-of-type {\n",
       "        vertical-align: middle;\n",
       "    }\n",
       "\n",
       "    .dataframe tbody tr th {\n",
       "        vertical-align: top;\n",
       "    }\n",
       "\n",
       "    .dataframe thead th {\n",
       "        text-align: right;\n",
       "    }\n",
       "</style>\n",
       "<table border=\"1\" class=\"dataframe\">\n",
       "  <thead>\n",
       "    <tr style=\"text-align: right;\">\n",
       "      <th></th>\n",
       "      <th>open</th>\n",
       "      <th>high</th>\n",
       "      <th>ema-26</th>\n",
       "      <th>ema-12</th>\n",
       "      <th>low</th>\n",
       "      <th>mean-grad-hist</th>\n",
       "      <th>close</th>\n",
       "      <th>volume</th>\n",
       "      <th>sma-05</th>\n",
       "      <th>sma-07</th>\n",
       "      <th>...</th>\n",
       "      <th>short_kdj</th>\n",
       "      <th>sma-compare</th>\n",
       "      <th>ask</th>\n",
       "      <th>bid</th>\n",
       "      <th>is_short</th>\n",
       "      <th>nlpreds</th>\n",
       "      <th>action</th>\n",
       "      <th>predicted_action</th>\n",
       "      <th>reward</th>\n",
       "      <th>refined-action</th>\n",
       "    </tr>\n",
       "  </thead>\n",
       "  <tbody>\n",
       "    <tr>\n",
       "      <th>0</th>\n",
       "      <td>138.970000</td>\n",
       "      <td>145.250000</td>\n",
       "      <td>136.447866</td>\n",
       "      <td>134.617469</td>\n",
       "      <td>138.440000</td>\n",
       "      <td>0</td>\n",
       "      <td>141.770000</td>\n",
       "      <td>4.958630e+03</td>\n",
       "      <td>137.642000</td>\n",
       "      <td>137.210000</td>\n",
       "      <td>...</td>\n",
       "      <td>0</td>\n",
       "      <td>0</td>\n",
       "      <td>2.504043e+03</td>\n",
       "      <td>2.454587e+03</td>\n",
       "      <td>0</td>\n",
       "      <td>do_nothing</td>\n",
       "      <td>go_short</td>\n",
       "      <td>go_long</td>\n",
       "      <td>7.113071</td>\n",
       "      <td>go_short</td>\n",
       "    </tr>\n",
       "    <tr>\n",
       "      <th>1</th>\n",
       "      <td>0.011821</td>\n",
       "      <td>0.011891</td>\n",
       "      <td>0.012238</td>\n",
       "      <td>0.012116</td>\n",
       "      <td>0.011135</td>\n",
       "      <td>1</td>\n",
       "      <td>0.011482</td>\n",
       "      <td>2.062242e+08</td>\n",
       "      <td>0.012085</td>\n",
       "      <td>0.012307</td>\n",
       "      <td>...</td>\n",
       "      <td>0</td>\n",
       "      <td>0</td>\n",
       "      <td>1.016121e+08</td>\n",
       "      <td>1.046121e+08</td>\n",
       "      <td>0</td>\n",
       "      <td>do_nothing</td>\n",
       "      <td>do_nothing</td>\n",
       "      <td>go_long</td>\n",
       "      <td>-35.788772</td>\n",
       "      <td>do_nothing</td>\n",
       "    </tr>\n",
       "    <tr>\n",
       "      <th>2</th>\n",
       "      <td>0.089250</td>\n",
       "      <td>0.089320</td>\n",
       "      <td>0.089056</td>\n",
       "      <td>0.088819</td>\n",
       "      <td>0.089250</td>\n",
       "      <td>1</td>\n",
       "      <td>0.089260</td>\n",
       "      <td>2.076000e+03</td>\n",
       "      <td>0.089262</td>\n",
       "      <td>0.089227</td>\n",
       "      <td>...</td>\n",
       "      <td>0</td>\n",
       "      <td>0</td>\n",
       "      <td>1.038058e+03</td>\n",
       "      <td>1.037942e+03</td>\n",
       "      <td>0</td>\n",
       "      <td>do_nothing</td>\n",
       "      <td>go_long</td>\n",
       "      <td>go_long</td>\n",
       "      <td>30.299614</td>\n",
       "      <td>go_long</td>\n",
       "    </tr>\n",
       "    <tr>\n",
       "      <th>3</th>\n",
       "      <td>0.147040</td>\n",
       "      <td>0.150210</td>\n",
       "      <td>0.147727</td>\n",
       "      <td>0.143828</td>\n",
       "      <td>0.147030</td>\n",
       "      <td>0</td>\n",
       "      <td>0.149020</td>\n",
       "      <td>6.329608e+06</td>\n",
       "      <td>0.150122</td>\n",
       "      <td>0.150167</td>\n",
       "      <td>...</td>\n",
       "      <td>0</td>\n",
       "      <td>0</td>\n",
       "      <td>3.185970e+06</td>\n",
       "      <td>3.143638e+06</td>\n",
       "      <td>1</td>\n",
       "      <td>do_nothing</td>\n",
       "      <td>go_short</td>\n",
       "      <td>go_short</td>\n",
       "      <td>64.003147</td>\n",
       "      <td>go_short</td>\n",
       "    </tr>\n",
       "    <tr>\n",
       "      <th>4</th>\n",
       "      <td>49.385000</td>\n",
       "      <td>50.595000</td>\n",
       "      <td>49.302116</td>\n",
       "      <td>48.528804</td>\n",
       "      <td>49.325000</td>\n",
       "      <td>0</td>\n",
       "      <td>50.375000</td>\n",
       "      <td>6.648470e+03</td>\n",
       "      <td>49.787000</td>\n",
       "      <td>49.646429</td>\n",
       "      <td>...</td>\n",
       "      <td>0</td>\n",
       "      <td>0</td>\n",
       "      <td>3.357224e+03</td>\n",
       "      <td>3.291246e+03</td>\n",
       "      <td>1</td>\n",
       "      <td>do_nothing</td>\n",
       "      <td>do_nothing</td>\n",
       "      <td>go_long</td>\n",
       "      <td>-7.181780</td>\n",
       "      <td>do_nothing</td>\n",
       "    </tr>\n",
       "  </tbody>\n",
       "</table>\n",
       "<p>5 rows × 22 columns</p>\n",
       "</div>"
      ],
      "text/plain": [
       "         open        high      ema-26      ema-12         low  mean-grad-hist  \\\n",
       "0  138.970000  145.250000  136.447866  134.617469  138.440000               0   \n",
       "1    0.011821    0.011891    0.012238    0.012116    0.011135               1   \n",
       "2    0.089250    0.089320    0.089056    0.088819    0.089250               1   \n",
       "3    0.147040    0.150210    0.147727    0.143828    0.147030               0   \n",
       "4   49.385000   50.595000   49.302116   48.528804   49.325000               0   \n",
       "\n",
       "        close        volume      sma-05      sma-07  ...  short_kdj  \\\n",
       "0  141.770000  4.958630e+03  137.642000  137.210000  ...          0   \n",
       "1    0.011482  2.062242e+08    0.012085    0.012307  ...          0   \n",
       "2    0.089260  2.076000e+03    0.089262    0.089227  ...          0   \n",
       "3    0.149020  6.329608e+06    0.150122    0.150167  ...          0   \n",
       "4   50.375000  6.648470e+03   49.787000   49.646429  ...          0   \n",
       "\n",
       "   sma-compare           ask           bid  is_short     nlpreds      action  \\\n",
       "0            0  2.504043e+03  2.454587e+03         0  do_nothing    go_short   \n",
       "1            0  1.016121e+08  1.046121e+08         0  do_nothing  do_nothing   \n",
       "2            0  1.038058e+03  1.037942e+03         0  do_nothing     go_long   \n",
       "3            0  3.185970e+06  3.143638e+06         1  do_nothing    go_short   \n",
       "4            0  3.357224e+03  3.291246e+03         1  do_nothing  do_nothing   \n",
       "\n",
       "  predicted_action     reward refined-action  \n",
       "0          go_long   7.113071       go_short  \n",
       "1          go_long -35.788772     do_nothing  \n",
       "2          go_long  30.299614        go_long  \n",
       "3         go_short  64.003147       go_short  \n",
       "4          go_long  -7.181780     do_nothing  \n",
       "\n",
       "[5 rows x 22 columns]"
      ]
     },
     "execution_count": 801,
     "metadata": {},
     "output_type": "execute_result"
    }
   ],
   "source": [
    "df0.head()"
   ]
  },
  {
   "cell_type": "code",
   "execution_count": 802,
   "metadata": {},
   "outputs": [],
   "source": [
    "#df0['nlpreds'].value_counts()"
   ]
  },
  {
   "cell_type": "code",
   "execution_count": 803,
   "metadata": {},
   "outputs": [],
   "source": [
    "#df0['refined-action'].value_counts()"
   ]
  },
  {
   "cell_type": "code",
   "execution_count": 804,
   "metadata": {},
   "outputs": [
    {
     "data": {
      "text/plain": [
       "nlpreds\n",
       "do_nothing    398\n",
       "go_short      136\n",
       "go_long        98\n",
       "Name: count, dtype: int64"
      ]
     },
     "execution_count": 804,
     "metadata": {},
     "output_type": "execute_result"
    }
   ],
   "source": [
    "df0['nlpreds'].value_counts()"
   ]
  },
  {
   "cell_type": "code",
   "execution_count": 805,
   "metadata": {},
   "outputs": [],
   "source": [
    "def prep_data(df: DataFrame) -> DataFrame:\n",
    "    train_data = pd.DataFrame()\n",
    "    for col in df.columns:\n",
    "        col_name = col.split(' ')[0]\n",
    "        train_data[f'{col_name}'] = df[col]\n",
    "\n",
    "    return train_data"
   ]
  },
  {
   "cell_type": "code",
   "execution_count": 806,
   "metadata": {},
   "outputs": [],
   "source": [
    "newdf0 = pd.DataFrame()\n",
    "train_data = prep_data(df0) if newdf0.empty else prep_data(newdf0)\n",
    "#train_data = prep_data(newdf0)"
   ]
  },
  {
   "cell_type": "code",
   "execution_count": 807,
   "metadata": {},
   "outputs": [
    {
     "data": {
      "text/html": [
       "<div>\n",
       "<style scoped>\n",
       "    .dataframe tbody tr th:only-of-type {\n",
       "        vertical-align: middle;\n",
       "    }\n",
       "\n",
       "    .dataframe tbody tr th {\n",
       "        vertical-align: top;\n",
       "    }\n",
       "\n",
       "    .dataframe thead th {\n",
       "        text-align: right;\n",
       "    }\n",
       "</style>\n",
       "<table border=\"1\" class=\"dataframe\">\n",
       "  <thead>\n",
       "    <tr style=\"text-align: right;\">\n",
       "      <th></th>\n",
       "      <th>open</th>\n",
       "      <th>high</th>\n",
       "      <th>ema-26</th>\n",
       "      <th>ema-12</th>\n",
       "      <th>low</th>\n",
       "      <th>mean-grad-hist</th>\n",
       "      <th>close</th>\n",
       "      <th>volume</th>\n",
       "      <th>sma-05</th>\n",
       "      <th>sma-07</th>\n",
       "      <th>...</th>\n",
       "      <th>short_kdj</th>\n",
       "      <th>sma-compare</th>\n",
       "      <th>ask</th>\n",
       "      <th>bid</th>\n",
       "      <th>is_short</th>\n",
       "      <th>nlpreds</th>\n",
       "      <th>action</th>\n",
       "      <th>predicted_action</th>\n",
       "      <th>reward</th>\n",
       "      <th>refined-action</th>\n",
       "    </tr>\n",
       "  </thead>\n",
       "  <tbody>\n",
       "    <tr>\n",
       "      <th>0</th>\n",
       "      <td>138.970000</td>\n",
       "      <td>145.250000</td>\n",
       "      <td>136.447866</td>\n",
       "      <td>134.617469</td>\n",
       "      <td>138.440000</td>\n",
       "      <td>0</td>\n",
       "      <td>141.770000</td>\n",
       "      <td>4.958630e+03</td>\n",
       "      <td>137.642000</td>\n",
       "      <td>137.210000</td>\n",
       "      <td>...</td>\n",
       "      <td>0</td>\n",
       "      <td>0</td>\n",
       "      <td>2.504043e+03</td>\n",
       "      <td>2.454587e+03</td>\n",
       "      <td>0</td>\n",
       "      <td>do_nothing</td>\n",
       "      <td>go_short</td>\n",
       "      <td>go_long</td>\n",
       "      <td>7.113071</td>\n",
       "      <td>go_short</td>\n",
       "    </tr>\n",
       "    <tr>\n",
       "      <th>1</th>\n",
       "      <td>0.011821</td>\n",
       "      <td>0.011891</td>\n",
       "      <td>0.012238</td>\n",
       "      <td>0.012116</td>\n",
       "      <td>0.011135</td>\n",
       "      <td>1</td>\n",
       "      <td>0.011482</td>\n",
       "      <td>2.062242e+08</td>\n",
       "      <td>0.012085</td>\n",
       "      <td>0.012307</td>\n",
       "      <td>...</td>\n",
       "      <td>0</td>\n",
       "      <td>0</td>\n",
       "      <td>1.016121e+08</td>\n",
       "      <td>1.046121e+08</td>\n",
       "      <td>0</td>\n",
       "      <td>do_nothing</td>\n",
       "      <td>do_nothing</td>\n",
       "      <td>go_long</td>\n",
       "      <td>-35.788772</td>\n",
       "      <td>do_nothing</td>\n",
       "    </tr>\n",
       "  </tbody>\n",
       "</table>\n",
       "<p>2 rows × 22 columns</p>\n",
       "</div>"
      ],
      "text/plain": [
       "         open        high      ema-26      ema-12         low  mean-grad-hist  \\\n",
       "0  138.970000  145.250000  136.447866  134.617469  138.440000               0   \n",
       "1    0.011821    0.011891    0.012238    0.012116    0.011135               1   \n",
       "\n",
       "        close        volume      sma-05      sma-07  ...  short_kdj  \\\n",
       "0  141.770000  4.958630e+03  137.642000  137.210000  ...          0   \n",
       "1    0.011482  2.062242e+08    0.012085    0.012307  ...          0   \n",
       "\n",
       "   sma-compare           ask           bid  is_short     nlpreds      action  \\\n",
       "0            0  2.504043e+03  2.454587e+03         0  do_nothing    go_short   \n",
       "1            0  1.016121e+08  1.046121e+08         0  do_nothing  do_nothing   \n",
       "\n",
       "  predicted_action     reward refined-action  \n",
       "0          go_long   7.113071       go_short  \n",
       "1          go_long -35.788772     do_nothing  \n",
       "\n",
       "[2 rows x 22 columns]"
      ]
     },
     "execution_count": 807,
     "metadata": {},
     "output_type": "execute_result"
    }
   ],
   "source": [
    "train_data.head(2)"
   ]
  },
  {
   "cell_type": "code",
   "execution_count": null,
   "metadata": {},
   "outputs": [],
   "source": []
  },
  {
   "cell_type": "code",
   "execution_count": 808,
   "metadata": {},
   "outputs": [],
   "source": [
    "# Encode actions into numerical values\n",
    "action_mapping = {\"go_long\": 0, \"go_short\": 1, \"do_nothing\": 2}\n",
    "action_col = 'predicted_action' #if newdf0.empty else 'refined-action'\n",
    "train_data[\"action_num\"] = train_data[f\"{action_col}\"].map(action_mapping)"
   ]
  },
  {
   "cell_type": "code",
   "execution_count": 809,
   "metadata": {},
   "outputs": [
    {
     "data": {
      "text/plain": [
       "Index(['open', 'high', 'ema-26', 'ema-12', 'low', 'mean-grad-hist', 'close',\n",
       "       'volume', 'sma-05', 'sma-07', 'sma-25', 'long_jcrosk', 'short_kdj',\n",
       "       'sma-compare', 'ask', 'bid', 'is_short', 'nlpreds', 'action',\n",
       "       'predicted_action', 'reward', 'refined-action', 'action_num'],\n",
       "      dtype='object')"
      ]
     },
     "execution_count": 809,
     "metadata": {},
     "output_type": "execute_result"
    }
   ],
   "source": [
    "train_data.columns"
   ]
  },
  {
   "cell_type": "code",
   "execution_count": 810,
   "metadata": {},
   "outputs": [],
   "source": [
    "# Define RL parameters\n",
    "states = train_data[[\"sma-05\", \"sma-07\", \"sma-25\", \"sma-compare\", \"is_short\"]].values  # Include binary_state\n",
    "actions = list(action_mapping.values())  # Action space\n",
    "rewards = train_data[\"reward\"].values  # Rewards\n",
    "n_states = states.shape[0]\n",
    "n_actions = len(actions)"
   ]
  },
  {
   "cell_type": "code",
   "execution_count": 811,
   "metadata": {},
   "outputs": [],
   "source": [
    "# Initialize Q-table\n",
    "q_table = np.zeros((n_states, n_actions))"
   ]
  },
  {
   "cell_type": "code",
   "execution_count": 812,
   "metadata": {},
   "outputs": [
    {
     "name": "stdout",
     "output_type": "stream",
     "text": [
      "[0.25, 0.95, 1.0, 0.99, 0.99, 10000]\n"
     ]
    }
   ],
   "source": [
    "list_1 = [\n",
    "    [0.25, 0.95, 1.0, 0.99, 0.99, 10000],\n",
    "]\n",
    "\n",
    "list_2 = [\n",
    "    [0.25, 0.95, 1.0, 0.99, 0.99, 10000],\n",
    "]\n",
    "\n",
    "# Combine the lists and remove duplicates\n",
    "combined_set = {tuple(sublist) for sublist in list_1 + list_2}\n",
    "\n",
    "# Convert the set back to a list of lists\n",
    "combined_list = [list(sublist) for sublist in combined_set]\n",
    "\n",
    "# Print the combined list\n",
    "for sublist in combined_list:\n",
    "    print(sublist)"
   ]
  },
  {
   "cell_type": "code",
   "execution_count": 813,
   "metadata": {},
   "outputs": [],
   "source": [
    "Hyperparameters = [\n",
    "    [0.005,0.85,0.99,0.99,0.997,6000],\n",
    "    [0.001, 0.99, 1.0, 0.95, 0.99, 10000],\n",
    "    [1, 0.9, 1.0, 0.99, 0.99, 11000],\n",
    "    [0.1, 0.9, 0.1, 0.99, 0.995, 4000],\n",
    "    [0.005, 0.75, 0.1, 0.95, 0.999, 12000],\n",
    "    [0.001, 0.75, 1.0, 0.99, 0.99, 30000],\n",
    "    [1, 0.75, 0.005, 0.95, 0.95, 22000],\n",
    "    [0.01, 0.99, 1.0, 0.95, 0.99, 16000],\n",
    "    [0.7, 0.99, 1.0, 0.95, 0.997, 8000],\n",
    "    [0.01, 0.95, 1.0, 0.997, 0.995, 26000],\n",
    "    [0.25, 0.95, 0.01, 0.997, 0.999, 14000],\n",
    "    [0.5, 0.85, 0.5, 0.997, 0.997, 14000],\n",
    "    [0.01, 0.85, 0.01, 0.95, 0.95, 12000],\n",
    "    [0.9, 0.99, 0.5, 0.995, 0.95, 12000],\n",
    "    [0.05, 0.9, 0.5, 0.95, 0.999, 4000],\n",
    "    [0.05, 0.99, 0.5, 0.99, 0.997, 6000],\n",
    "    [1, 0.75, 0.05, 0.999, 0.999, 10000],\n",
    "    [0.9, 0.95, 1.0, 0.99, 0.99, 8000],\n",
    "    [0.25, 0.75, 0.01, 0.995, 0.999, 20000],\n",
    "    [0.3, 0.75, 1.0, 0.995, 0.99, 10000],\n",
    "    [1, 0.9, 1.0, 0.999, 0.999, 10000],\n",
    "    [0.7, 0.75, 1.0, 0.97, 0.999, 28000],\n",
    "    [0.05, 0.95, 1.0, 0.999, 0.995, 12000],\n",
    "    [0.7, 0.95, 0.5, 0.999, 0.99, 16000],\n",
    "    [0.25, 0.95, 1.0, 0.99, 0.99, 10000],\n",
    "    [0.25, 0.99, 0.01, 0.997, 0.99, 8000],\n",
    "    [1, 0.95, 0.1, 0.96, 0.96, 12000],\n",
    "    [0.9, 0.9, 0.005, 0.95, 0.999, 10000],\n",
    "    [0.05, 0.85, 0.01, 0.997, 0.95, 4000],\n",
    "    [0.01, 0.9, 0.5, 0.999, 0.999, 1500],\n",
    "    [1, 0.85, 1.0, 0.95, 0.997, 21000],\n",
    "    [0.7, 0.9, 0.05, 0.95, 0.95, 20000]\n",
    "\n",
    "\n",
    "\n",
    "]"
   ]
  },
  {
   "cell_type": "code",
   "execution_count": 814,
   "metadata": {},
   "outputs": [
    {
     "name": "stdout",
     "output_type": "stream",
     "text": [
      "(0, [0.005, 0.85, 0.99, 0.99, 0.997, 6000])\n",
      "(1, [0.001, 0.99, 1.0, 0.95, 0.99, 10000])\n",
      "(2, [1, 0.9, 1.0, 0.99, 0.99, 11000])\n",
      "(3, [0.1, 0.9, 0.1, 0.99, 0.995, 4000])\n",
      "(4, [0.005, 0.75, 0.1, 0.95, 0.999, 12000])\n",
      "(5, [0.001, 0.75, 1.0, 0.99, 0.99, 30000])\n",
      "(6, [1, 0.75, 0.005, 0.95, 0.95, 22000])\n",
      "(7, [0.01, 0.99, 1.0, 0.95, 0.99, 16000])\n",
      "(8, [0.7, 0.99, 1.0, 0.95, 0.997, 8000])\n",
      "(9, [0.01, 0.95, 1.0, 0.997, 0.995, 26000])\n",
      "(10, [0.25, 0.95, 0.01, 0.997, 0.999, 14000])\n",
      "(11, [0.5, 0.85, 0.5, 0.997, 0.997, 14000])\n",
      "(12, [0.01, 0.85, 0.01, 0.95, 0.95, 12000])\n",
      "(13, [0.9, 0.99, 0.5, 0.995, 0.95, 12000])\n",
      "(14, [0.05, 0.9, 0.5, 0.95, 0.999, 4000])\n",
      "(15, [0.05, 0.99, 0.5, 0.99, 0.997, 6000])\n",
      "(16, [1, 0.75, 0.05, 0.999, 0.999, 10000])\n",
      "(17, [0.9, 0.95, 1.0, 0.99, 0.99, 8000])\n",
      "(18, [0.25, 0.75, 0.01, 0.995, 0.999, 20000])\n",
      "(19, [0.3, 0.75, 1.0, 0.995, 0.99, 10000])\n",
      "(20, [1, 0.9, 1.0, 0.999, 0.999, 10000])\n",
      "(21, [0.7, 0.75, 1.0, 0.97, 0.999, 28000])\n",
      "(22, [0.05, 0.95, 1.0, 0.999, 0.995, 12000])\n",
      "(23, [0.7, 0.95, 0.5, 0.999, 0.99, 16000])\n",
      "(24, [0.25, 0.95, 1.0, 0.99, 0.99, 10000])\n",
      "(25, [0.25, 0.99, 0.01, 0.997, 0.99, 8000])\n",
      "(26, [1, 0.95, 0.1, 0.96, 0.96, 12000])\n",
      "(27, [0.9, 0.9, 0.005, 0.95, 0.999, 10000])\n",
      "(28, [0.05, 0.85, 0.01, 0.997, 0.95, 4000])\n",
      "(29, [0.01, 0.9, 0.5, 0.999, 0.999, 1500])\n",
      "(30, [1, 0.85, 1.0, 0.95, 0.997, 21000])\n",
      "(31, [0.7, 0.9, 0.05, 0.95, 0.95, 20000])\n"
     ]
    }
   ],
   "source": [
    "for i in enumerate(Hyperparameters):\n",
    "    print(i)"
   ]
  },
  {
   "cell_type": "code",
   "execution_count": 815,
   "metadata": {},
   "outputs": [],
   "source": [
    "#0.3, 0.75, 1.0, 0.995, 0.99, 10000\n",
    "'''\n",
    "alpha = 0.7\n",
    "gamma = 0.75\n",
    "epsilon = 1.0\n",
    "min_epsilon = 0.97\n",
    "decay_rate = 0.97\n",
    "n_episodes = 28000\n",
    "n_states = states.shape[0]  # Number of states\n",
    "n_actions = len(actions)  # Number of actions\n",
    "'''\n",
    "alpha, gamma, epsilon, min_epsilon, decay_rate, n_episodes = Hyperparameters[3] # Hyperparameters[30] # Hyperparameters[22] #Hyperparameters[9] # Hyperparameters[21]\n"
   ]
  },
  {
   "cell_type": "code",
   "execution_count": 816,
   "metadata": {},
   "outputs": [],
   "source": [
    "def create_state_index_mapping(df):\n",
    "    state_to_index = {}\n",
    "    for idx, row in df.iterrows():\n",
    "        state = (row['sma-05'], row['sma-07'], row['sma-25'], row['sma-compare'], row['is_short'])\n",
    "        state_to_index[state] = idx\n",
    "    return state_to_index\n",
    "\n",
    "# Assuming 'df' is your dataframe used during training\n",
    "state_to_index = create_state_index_mapping(train_data)\n",
    "\n",
    "# Save the state_to_index dictionary for later use\n",
    "np.save('small_state_to_index.npy', state_to_index)\n"
   ]
  },
  {
   "cell_type": "code",
   "execution_count": 817,
   "metadata": {},
   "outputs": [],
   "source": [
    "\n",
    "# Helper function to choose an action using epsilon-greedy\n",
    "def choose_action(state, epsilon):\n",
    "    if np.random.uniform(0, 1) < epsilon:\n",
    "        return np.random.randint(0, n_actions)  # Explore: random action\n",
    "    else:\n",
    "        return np.argmax(q_table[state])  # Exploit: best known action\n"
   ]
  },
  {
   "cell_type": "code",
   "execution_count": null,
   "metadata": {},
   "outputs": [],
   "source": [
    "'''\n",
    "# Load the best episode transitions\n",
    "best_episode_transitions = np.load(\"best_small_episode_transitions.npy\", allow_pickle=True)\n",
    "\n",
    "# Optionally, pre-train the Q-table using the best episode\n",
    "for state, action, reward, next_state in best_episode_transitions:\n",
    "    best_next_action = np.argmax(q_table[next_state])\n",
    "    q_table[state, action] += alpha * (reward + gamma * q_table[next_state, best_next_action] - q_table[state, action])\n",
    "\n",
    "# Load the previously saved Q-table and best episode transitions\n",
    "best_q_table = np.load(\"best_small_q_table.npy\")  # Load the best Q-table\n",
    "best_episode_transitions = np.load(\"best_small_episode_transitions.npy\", allow_pickle=True).tolist()  # Load best transitions'\n",
    "'''"
   ]
  },
  {
   "cell_type": "code",
   "execution_count": null,
   "metadata": {},
   "outputs": [
    {
     "name": "stderr",
     "output_type": "stream",
     "text": [
      "Evaluating results per episode...:   0%|          | 0/4000 [00:00<?, ?it/s]\n"
     ]
    },
    {
     "ename": "IndexError",
     "evalue": "index 338 is out of bounds for axis 0 with size 338",
     "output_type": "error",
     "traceback": [
      "\u001b[0;31m---------------------------------------------------------------------------\u001b[0m",
      "\u001b[0;31mIndexError\u001b[0m                                Traceback (most recent call last)",
      "Cell \u001b[0;32mIn[819], line 25\u001b[0m\n\u001b[1;32m     22\u001b[0m reward \u001b[38;5;241m=\u001b[39m rewards[next_state]\n\u001b[1;32m     24\u001b[0m best_next_action \u001b[38;5;241m=\u001b[39m np\u001b[38;5;241m.\u001b[39margmax(q_table[next_state])\n\u001b[0;32m---> 25\u001b[0m best_q_table[current_state, action] \u001b[38;5;241m+\u001b[39m\u001b[38;5;241m=\u001b[39m alpha \u001b[38;5;241m*\u001b[39m (\n\u001b[1;32m     26\u001b[0m     reward \u001b[38;5;241m+\u001b[39m gamma \u001b[38;5;241m*\u001b[39m q_table[next_state, best_next_action] \u001b[38;5;241m-\u001b[39m q_table[current_state, action]\n\u001b[1;32m     27\u001b[0m )\n\u001b[1;32m     29\u001b[0m total_reward \u001b[38;5;241m+\u001b[39m\u001b[38;5;241m=\u001b[39m reward  \u001b[38;5;66;03m# Accumulate reward\u001b[39;00m\n\u001b[1;32m     30\u001b[0m episode_transitions\u001b[38;5;241m.\u001b[39mappend((current_state, action, reward, next_state))\n",
      "\u001b[0;31mIndexError\u001b[0m: index 338 is out of bounds for axis 0 with size 338"
     ]
    }
   ],
   "source": [
    "# Set random seed for reproducibility\n",
    "np.random.seed(42)\n",
    "random.seed(42)\n",
    "\n",
    "# Define hyperparameters\n",
    "\n",
    "# Initialize lists to store rewards and transitions per episode\n",
    "rewards_per_episode = []\n",
    "best_episode_transitions = []\n",
    "best_q_table = None\n",
    "best_total_reward = float('-inf')  # Initialize with negative infinity\n",
    "best_hyperparameters = {}  # Dictionary to store hyperparameters of best episode\n",
    "\n",
    "for episode in tqdm(range(n_episodes), desc=\"Evaluating results per episode...\"):\n",
    "    current_state = np.random.randint(0, n_states)  # Random initial state\n",
    "    total_reward = 0  # Initialize total reward for the current episode\n",
    "    episode_transitions = []  # Store (state, action, reward, next_state) tuples for this episode\n",
    "\n",
    "    while current_state < n_states - 1:\n",
    "        action = choose_action(current_state, epsilon)\n",
    "        next_state = current_state + 1  # This depends on your environment logic\n",
    "        reward = rewards[next_state]\n",
    "\n",
    "        best_next_action = np.argmax(q_table[next_state])\n",
    "        q_table[current_state, action] += alpha * (\n",
    "            reward + gamma * q_table[next_state, best_next_action] - q_table[current_state, action]\n",
    "        )\n",
    "\n",
    "        total_reward += reward  # Accumulate reward\n",
    "        episode_transitions.append((current_state, action, reward, next_state))\n",
    "        current_state = next_state  # Move to next state\n",
    "\n",
    "    rewards_per_episode.append(total_reward)  # Store total reward for the current episode\n",
    "\n",
    "    # Check if this is the best episode so far\n",
    "    if total_reward > best_total_reward:\n",
    "        best_total_reward = total_reward\n",
    "        best_episode_transitions = episode_transitions.copy()\n",
    "        best_q_table = q_table.copy()\n",
    "\n",
    "        # Store the hyperparameters at the best episode\n",
    "        best_hyperparameters = {\n",
    "            \"alpha\": alpha,\n",
    "            \"gamma\": gamma,\n",
    "            \"epsilon\": epsilon,\n",
    "            \"min_epsilon\": min_epsilon,\n",
    "            \"decay_rate\": decay_rate,\n",
    "            \"n_episodes\": n_episodes\n",
    "        }\n",
    "\n",
    "    # Decay epsilon\n",
    "    epsilon = max(min_epsilon, epsilon * decay_rate)\n",
    "\n",
    "    # Optional: Log progress\n",
    "    if episode % 400 == 0:  \n",
    "        print(f\"Episode {episode}/{n_episodes} - Total Reward: {total_reward}, Epsilon: {epsilon}\")\n",
    "\n",
    "# Save the best episode's Q-table\n",
    "np.save(\"best_small_q_table.npy\", best_q_table)\n",
    "# Save the best episode's transitions\n",
    "np.save(\"best_small_episode_transitions.npy\", np.array(best_episode_transitions, dtype=object))\n",
    "# Plot the rewards per episode\n",
    "plt.plot(rewards_per_episode)\n",
    "plt.xlabel('Episode')\n",
    "plt.ylabel('Reward')\n",
    "plt.title('Rewards per Episode')\n",
    "plt.show()\n",
    "\n",
    "# Print best episode results\n",
    "print(f\"Best Episode Reward: {best_total_reward}\")\n",
    "print(f\"Best Episode Transitions: {best_episode_transitions[:5]} ...\")  # Show first 5 transitions\n",
    "print(f\"Best Episode Hyperparameters: {best_hyperparameters}\")"
   ]
  },
  {
   "cell_type": "code",
   "execution_count": null,
   "metadata": {},
   "outputs": [],
   "source": [
    "def load_q_table(file_path):\n",
    "    return np.load(file_path)\n",
    "\n",
    "def load_state_index_mapping(file_path):\n",
    "    return np.load(file_path, allow_pickle=True).item()\n",
    "\n",
    "loaded_mapping = load_state_index_mapping(file_path=\"small_state_to_index.npy\")\n",
    "loaded_qtable = load_q_table(file_path=\"small_q_table.npy\")"
   ]
  },
  {
   "cell_type": "code",
   "execution_count": null,
   "metadata": {},
   "outputs": [],
   "source": [
    "def prep_state(sma_05: float, sma_07: float, sma_25: float, sma_compare: int, is_short: int):\n",
    "    state = np.array([[sma_05, sma_07, sma_25, sma_compare, is_short]])\n",
    "    if not np.all(np.isfinite(state)):\n",
    "        state = np.nan_to_num(state, nan=0.0, posinf=0.0, neginf=0.0)\n",
    "    return state\n",
    "\n"
   ]
  },
  {
   "cell_type": "code",
   "execution_count": null,
   "metadata": {},
   "outputs": [],
   "source": [
    "\n",
    "def predict_action(state, q_table, state_to_index, action_mapping, default_action: str = None):\n",
    "    state_tuple = tuple(state.flatten())\n",
    "\n",
    "    state_index = state_to_index.get(state_tuple, -1)\n",
    "\n",
    "    if not state_index == -1:\n",
    "        try:\n",
    "            q_values = q_table[state_index]\n",
    "        except ValueError as e:\n",
    "            print(e)\n",
    "            #return default_action\n",
    "    else:\n",
    "        state_tuples = list(state_to_index.keys())\n",
    "        kdtree = KDTree(state_tuples)\n",
    "        distance, index = kdtree.query(state.flatten())\n",
    "        nearest_state_tuple = state_tuples[index]\n",
    "        new_state_index = state_to_index[nearest_state_tuple]\n",
    "        q_values = loaded_qtable[new_state_index]\n",
    "    \n",
    "    #q_values = q_table[state_index]\n",
    "    best_action_index = np.argmax(q_values)\n",
    "    action = [action for action, index in action_mapping.items() if index == best_action_index][0]\n",
    "    return action\n"
   ]
  },
  {
   "cell_type": "code",
   "execution_count": null,
   "metadata": {},
   "outputs": [],
   "source": [
    "# Example usage:\n",
    "with open(\"small_q_table.npy\", \"rb\") as f:\n",
    "    q_table = load_q_table(\"small_q_table.npy\")\n",
    "\n",
    "with open(\"small_state_to_index.npy\", \"rb\") as f:\n",
    "    state_to_index = load_state_index_mapping(\"small_state_to_index.npy\")"
   ]
  },
  {
   "cell_type": "code",
   "execution_count": null,
   "metadata": {},
   "outputs": [],
   "source": [
    "X = train_data[[\"sma-05\", \"sma-07\", \"sma-25\", \"sma-compare\", \"is_short\"]].values\n",
    "state_1 = list(X[-1:].flatten()) # sample: [[0.87024    0.85277143 0.779504   0.         1.        ]]\n",
    "\n",
    "state = prep_state(*state_1)\n",
    "action_mapping = {\"go_long\": 0, \"go_short\": 1, \"do_nothing\": 2}\n"
   ]
  },
  {
   "cell_type": "code",
   "execution_count": null,
   "metadata": {},
   "outputs": [
    {
     "name": "stdout",
     "output_type": "stream",
     "text": [
      "The predicted action for the state is: do_nothing\n"
     ]
    }
   ],
   "source": [
    "try:\n",
    "    predicted_action = predict_action(state, q_table, state_to_index, action_mapping)\n",
    "    print(f\"The predicted action for the state is: {predicted_action}\")\n",
    "except ValueError as e:\n",
    "    print(e)\n",
    "    print(\"The state is not found in the state index mapping.\")"
   ]
  },
  {
   "cell_type": "code",
   "execution_count": null,
   "metadata": {},
   "outputs": [],
   "source": [
    "# Predict an entire range\n",
    "for idx, row in train_data.iterrows():\n",
    "    state = row[[\"sma-05\", \"sma-07\", \"sma-25\", \"sma-compare\", \"is_short\"]].values\n",
    "    action = predict_action(state, q_table, state_to_index, action_mapping)\n",
    "    train_data.loc[idx, \"predicted_action\"] = action"
   ]
  },
  {
   "cell_type": "code",
   "execution_count": null,
   "metadata": {},
   "outputs": [],
   "source": [
    "if (train_data['predicted_action'].nunique() < 2):\n",
    "    raise ValueError(\"Model predictions are invalid\")"
   ]
  },
  {
   "cell_type": "code",
   "execution_count": null,
   "metadata": {},
   "outputs": [
    {
     "data": {
      "text/plain": [
       "predicted_action\n",
       "go_long       145\n",
       "go_short      112\n",
       "do_nothing     81\n",
       "Name: count, dtype: int64"
      ]
     },
     "execution_count": 744,
     "metadata": {},
     "output_type": "execute_result"
    }
   ],
   "source": [
    "train_data['predicted_action'].value_counts()"
   ]
  },
  {
   "cell_type": "code",
   "execution_count": null,
   "metadata": {},
   "outputs": [],
   "source": [
    "m = train_data[(train_data['nlpreds'] == 'go_long') & (train_data['reward'] > 0)]"
   ]
  },
  {
   "cell_type": "code",
   "execution_count": null,
   "metadata": {},
   "outputs": [
    {
     "data": {
      "text/plain": [
       "is_short\n",
       "0    46\n",
       "1    33\n",
       "Name: count, dtype: int64"
      ]
     },
     "execution_count": 746,
     "metadata": {},
     "output_type": "execute_result"
    }
   ],
   "source": [
    "m['is_short'].value_counts()"
   ]
  },
  {
   "cell_type": "code",
   "execution_count": null,
   "metadata": {},
   "outputs": [
    {
     "data": {
      "text/plain": [
       "nlpreds\n",
       "go_short      136\n",
       "do_nothing    123\n",
       "go_long        79\n",
       "Name: count, dtype: int64"
      ]
     },
     "execution_count": 747,
     "metadata": {},
     "output_type": "execute_result"
    }
   ],
   "source": [
    "s = df0[(df0['reward'] > 0)]\n",
    "s['nlpreds'].value_counts()"
   ]
  },
  {
   "cell_type": "code",
   "execution_count": null,
   "metadata": {},
   "outputs": [
    {
     "name": "stdout",
     "output_type": "stream",
     "text": [
      "Processed state 0/337\n",
      "Current Predicted Reward: 30.2996141\n",
      "Current Actual Reward: 30.2996141\n",
      "Processed state 100/337\n",
      "Current Predicted Reward: 719.1028729300001\n",
      "Current Actual Reward: 2168.376925440001\n",
      "Processed state 200/337\n",
      "Current Predicted Reward: 1635.58436301\n",
      "Current Actual Reward: 5261.63269588\n",
      "Processed state 300/337\n",
      "Current Predicted Reward: 5219.13474169\n",
      "Current Actual Reward: 12579.267152869998\n",
      "Cumulative Predicted Reward: 5776.222654539998\n",
      "Cumulative Actual Reward: 14610.103779070001\n",
      "Prediction Efficiency: -60.46%\n"
     ]
    }
   ],
   "source": [
    "# Performance measures\n",
    "# Initialize cumulative rewards\n",
    "cumulative_predicted_reward = 0\n",
    "cumulative_actual_reward = 0\n",
    "\n",
    "# Iterate through states to calculate rewards\n",
    "for state_index in range(n_states - 1):\n",
    "    # Predicted action from Q-table\n",
    "    predicted_action = np.argmax(q_table[state_index])  # Best action for the current state\n",
    "    # Actual action from the ground truth\n",
    "    actual_action = train_data[\"action_num\"].iloc[state_index]\n",
    "\n",
    "    # Get reward for predicted action only if it matches the actual action\n",
    "    if predicted_action == actual_action:\n",
    "        predicted_reward = rewards[state_index + 1]  # Reward for the correct prediction\n",
    "        cumulative_predicted_reward += predicted_reward\n",
    "\n",
    "    # Get actual reward for the ground truth action\n",
    "    actual_reward = rewards[state_index + 1]\n",
    "    cumulative_actual_reward += actual_reward\n",
    "\n",
    "    # Optional: Log progress\n",
    "    if state_index % 100 == 0:  # Adjust logging frequency as needed\n",
    "        print(f\"Processed state {state_index}/{n_states - 1}\")\n",
    "        print(f\"Current Predicted Reward: {cumulative_predicted_reward}\")\n",
    "        print(f\"Current Actual Reward: {cumulative_actual_reward}\")\n",
    "\n",
    "# Print results\n",
    "print(f\"Cumulative Predicted Reward: {cumulative_predicted_reward}\")\n",
    "print(f\"Cumulative Actual Reward: {cumulative_actual_reward}\")\n",
    "\n",
    "# Optionally calculate efficiency\n",
    "efficiency = (\n",
    "    ((cumulative_predicted_reward - cumulative_actual_reward) / abs(cumulative_actual_reward)) * 100\n",
    "    if cumulative_actual_reward != 0\n",
    "    else 0\n",
    ")\n",
    "\n",
    "print(f\"Prediction Efficiency: {efficiency:.2f}%\")\n",
    "\n"
   ]
  },
  {
   "cell_type": "code",
   "execution_count": null,
   "metadata": {},
   "outputs": [
    {
     "name": "stdout",
     "output_type": "stream",
     "text": [
      "Accuracy: 38.17%\n"
     ]
    }
   ],
   "source": [
    "# Accuracy\n",
    "correct_predictions = 0\n",
    "for state_index in range(n_states):\n",
    "    predicted_action = np.argmax(q_table[state_index])  # Predicted action\n",
    "    actual_action = train_data[\"action_num\"].iloc[state_index]  # Actual action\n",
    "    if predicted_action == actual_action:\n",
    "        correct_predictions += 1\n",
    "\n",
    "accuracy = correct_predictions / n_states\n",
    "print(f\"Accuracy: {accuracy * 100:.2f}%\")"
   ]
  },
  {
   "cell_type": "code",
   "execution_count": null,
   "metadata": {},
   "outputs": [
    {
     "name": "stdout",
     "output_type": "stream",
     "text": [
      "Confusion Matrix:\n",
      "[[70 49 27]\n",
      " [40 36 31]\n",
      " [35 27 23]]\n"
     ]
    }
   ],
   "source": [
    "# Confusion matrix\n",
    "y_true = train_data[\"action_num\"]  # Actual actions\n",
    "y_pred = [np.argmax(q_table[state_index]) for state_index in range(n_states)]  # Predicted actions\n",
    "\n",
    "cm = confusion_matrix(y_true, y_pred)\n",
    "print(\"Confusion Matrix:\")\n",
    "print(cm)"
   ]
  },
  {
   "cell_type": "code",
   "execution_count": null,
   "metadata": {},
   "outputs": [],
   "source": [
    "def action_reward(action: str, is_short: int):\n",
    "    m = train_data[(train_data['predicted_action'] == f'{action}') & (train_data['is_short'] == is_short)]\n",
    "    counts = m['is_short'].value_counts()\n",
    "    total_reward = m['reward'].cumsum()[-1:].values[0]\n",
    "    wins = len(m[m['reward'] > 0])\n",
    "    losses = len(m[m['reward'] <= 0])\n",
    "    return {\n",
    "        'counts': counts.get(is_short),\n",
    "        'total reward': total_reward,\n",
    "        'winrate': f'{wins * 100 / (losses + wins):.2f}%',\n",
    "        'per trade profit': m[m['reward'] > 0]['reward'].sum() / wins,\n",
    "        'per trade loss': m[m['reward'] <= 0]['reward'].sum() / losses\n",
    "    }"
   ]
  },
  {
   "cell_type": "code",
   "execution_count": null,
   "metadata": {},
   "outputs": [
    {
     "name": "stderr",
     "output_type": "stream",
     "text": [
      "/tmp/ipykernel_2789499/3005952004.py:12: RuntimeWarning: invalid value encountered in scalar divide\n",
      "  'per trade loss': m[m['reward'] <= 0]['reward'].sum() / losses\n"
     ]
    },
    {
     "data": {
      "text/plain": [
       "{'counts': 46,\n",
       " 'total reward': 1765.7819151800002,\n",
       " 'winrate': '100.00%',\n",
       " 'per trade profit': 38.38656337347827,\n",
       " 'per trade loss': nan}"
      ]
     },
     "execution_count": 752,
     "metadata": {},
     "output_type": "execute_result"
    }
   ],
   "source": [
    "action_reward('do_nothing', 1)"
   ]
  },
  {
   "cell_type": "code",
   "execution_count": null,
   "metadata": {},
   "outputs": [
    {
     "name": "stdout",
     "output_type": "stream",
     "text": [
      "go_long 0: {'counts': 84, 'total reward': 4959.207558579998, 'winrate': '100.00%', 'per trade profit': 59.03818522119047, 'per trade loss': nan}\n",
      "go_long 1: {'counts': 61, 'total reward': 1895.0094862000003, 'winrate': '100.00%', 'per trade profit': 31.06572928196721, 'per trade loss': nan}\n",
      "go_short 0: {'counts': 59, 'total reward': 2819.161270869999, 'winrate': '100.00%', 'per trade profit': 47.78239442152542, 'per trade loss': nan}\n",
      "go_short 1: {'counts': 53, 'total reward': 2018.8578161799994, 'winrate': '100.00%', 'per trade profit': 38.0916569090566, 'per trade loss': nan}\n",
      "do_nothing 0: {'counts': 35, 'total reward': 1159.19880348, 'winrate': '100.00%', 'per trade profit': 33.11996581371428, 'per trade loss': nan}\n",
      "do_nothing 1: {'counts': 46, 'total reward': 1765.7819151800002, 'winrate': '100.00%', 'per trade profit': 38.38656337347827, 'per trade loss': nan}\n"
     ]
    },
    {
     "name": "stderr",
     "output_type": "stream",
     "text": [
      "/tmp/ipykernel_2789499/3005952004.py:12: RuntimeWarning: invalid value encountered in scalar divide\n",
      "  'per trade loss': m[m['reward'] <= 0]['reward'].sum() / losses\n"
     ]
    }
   ],
   "source": [
    "dirs = [0,1]\n",
    "for action in action_mapping.keys():\n",
    "    for is_short in dirs:\n",
    "        try:\n",
    "            print(f'{action} {is_short}: {action_reward(action, is_short)}')\n",
    "        except IndexError as e:\n",
    "            print(e)\n"
   ]
  },
  {
   "cell_type": "code",
   "execution_count": null,
   "metadata": {},
   "outputs": [
    {
     "name": "stdout",
     "output_type": "stream",
     "text": [
      "predicted_action\n",
      "go_long       145\n",
      "go_short      112\n",
      "do_nothing     81\n",
      "Name: count, dtype: int64\n"
     ]
    }
   ],
   "source": [
    "print(train_data['predicted_action'].value_counts())"
   ]
  },
  {
   "cell_type": "markdown",
   "metadata": {},
   "source": [
    "### Model correction"
   ]
  },
  {
   "cell_type": "code",
   "execution_count": null,
   "metadata": {},
   "outputs": [
    {
     "data": {
      "text/plain": [
       "'\\ndef correct_action(row):\\n    if row[\\'predicted_action\\'] == \\'go_long\\' and row[\\'is_short\\'] == 1 and row[\\'reward\\'] > 0:\\n        return \\'go_short\\'\\n    if row[\\'predicted_action\\'] == \\'go_short\\' and row[\\'is_short\\'] == 0 and row[\\'reward\\'] > 0:\\n        return \\'go_long\\'\\n    if row[\\'predicted_action\\'] == \\'do_nothing\\' and row[\\'is_short\\'] == 1 and row[\\'reward\\'] > 0:\\n        return \\'go_short\\'\\n    if row[\\'predicted_action\\'] == \\'do_nothing\\' and row[\\'is_short\\'] == 0 and row[\\'reward\\'] > 0:\\n        return \\'go_long\\'\\n    return row[\\'action\\']\\n\\ndef refiner_action(version: str, data: DataFrame = None) -> DataFrame:\\n    data[\\'refined-action\\'] = data.apply(lambda x: correct_action(x), axis=1)\\n    # Validation: Ensure we\\'re fixing the 751 misclassified entries\\n    misclassified = data[\\n        (data[\\'predicted_action\\'] == \\'go_long\\') & \\n        (data[\\'refined-action\\'] == \\'go_short\\')\\n    ]\\n    # Add this after applying refined-action\\n    \\n    confusion_matrix = pd.crosstab(\\n        data[\\'refined-action\\'], \\n        data[\\'predicted_action\\'],  # Assuming you have ground truth column\\n        rownames=[\\'refined\\'],\\n        colnames=[\\'predicted\\']\\n    )\\n\\n    print(\"Updated Confusion Matrix:\")\\n    print(confusion_matrix) \\n    print(f\"Corrected {len(misclassified)} go_long->go_short misclassifications\")\\n    \\n    filename = f\\'../spreadsheets/rlhf_large_{version}_refined.csv\\'\\n    data.to_csv(filename, index=False)\\n    return data\\n    '"
      ]
     },
     "execution_count": 755,
     "metadata": {},
     "output_type": "execute_result"
    }
   ],
   "source": [
    "# create corrected action\n",
    "'''\n",
    "def correct_action(row):\n",
    "    if row['predicted_action'] == 'go_long' and row['is_short'] == 1 and row['reward'] > 0:\n",
    "        return 'go_short'\n",
    "    if row['predicted_action'] == 'go_short' and row['is_short'] == 0 and row['reward'] > 0:\n",
    "        return 'go_long'\n",
    "    if row['predicted_action'] == 'do_nothing' and row['is_short'] == 1 and row['reward'] > 0:\n",
    "        return 'go_short'\n",
    "    if row['predicted_action'] == 'do_nothing' and row['is_short'] == 0 and row['reward'] > 0:\n",
    "        return 'go_long'\n",
    "    return row['action']\n",
    "\n",
    "def refiner_action(version: str, data: DataFrame = None) -> DataFrame:\n",
    "    data['refined-action'] = data.apply(lambda x: correct_action(x), axis=1)\n",
    "    # Validation: Ensure we're fixing the 751 misclassified entries\n",
    "    misclassified = data[\n",
    "        (data['predicted_action'] == 'go_long') & \n",
    "        (data['refined-action'] == 'go_short')\n",
    "    ]\n",
    "    # Add this after applying refined-action\n",
    "    \n",
    "    confusion_matrix = pd.crosstab(\n",
    "        data['refined-action'], \n",
    "        data['predicted_action'],  # Assuming you have ground truth column\n",
    "        rownames=['refined'],\n",
    "        colnames=['predicted']\n",
    "    )\n",
    "\n",
    "    print(\"Updated Confusion Matrix:\")\n",
    "    print(confusion_matrix) \n",
    "    print(f\"Corrected {len(misclassified)} go_long->go_short misclassifications\")\n",
    "    \n",
    "    filename = f'../spreadsheets/rlhf_large_{version}_refined.csv'\n",
    "    data.to_csv(filename, index=False)\n",
    "    return data\n",
    "    '''"
   ]
  },
  {
   "cell_type": "code",
   "execution_count": null,
   "metadata": {},
   "outputs": [],
   "source": [
    "def correct_action(row):\n",
    "    if row['predicted_action'] == 'go_long' and row['is_short'] == 1 and row['reward'] > 0:\n",
    "        row['is_short'] = 0  # Change to long position\n",
    "        return 'go_short'\n",
    "    if row['predicted_action'] == 'go_short' and row['is_short'] == 0 and row['reward'] > 0:\n",
    "        row['is_short'] = 1  # Change to short position\n",
    "        return 'go_long'\n",
    "    if row['predicted_action'] == 'do_nothing' and row['is_short'] == 1 and row['reward'] > 0:\n",
    "        row['is_short'] = 0  # Change to long position\n",
    "        return 'go_short'\n",
    "    if row['predicted_action'] == 'do_nothing' and row['is_short'] == 0 and row['reward'] > 0:\n",
    "        row['is_short'] = 1  # Change to short position\n",
    "        return 'go_long'\n",
    "    return row['action']\n",
    "\n",
    "def refiner_action(version: str, data: pd.DataFrame) -> pd.DataFrame:\n",
    "    data[['refined-action', 'is_short']] = data.apply(lambda x: pd.Series([correct_action(x), x['is_short']]), axis=1)\n",
    "\n",
    "    # Validation: Check if is_short aligns with refined-action\n",
    "    inconsistency = data[\n",
    "        ((data['refined-action'] == 'go_short') & (data['is_short'] == 0)) |\n",
    "        ((data['refined-action'] == 'go_long') & (data['is_short'] == 1))\n",
    "    ]\n",
    "    \n",
    "    print(f\"Number of inconsistent rows: {len(inconsistency)}\")\n",
    "    \n",
    "    # Updated Confusion Matrix\n",
    "    confusion_matrix = pd.crosstab(\n",
    "        data['refined-action'], \n",
    "        data['predicted_action'],\n",
    "        rownames=['refined'],\n",
    "        colnames=['predicted']\n",
    "    )\n",
    "\n",
    "    print(\"Updated Confusion Matrix:\")\n",
    "    print(confusion_matrix)\n",
    "    \n",
    "    filename = f'../spreadsheets/rlhf_large_{version}_refined.csv'\n",
    "    data.to_csv(filename, index=False)\n",
    "    \n",
    "    return data\n"
   ]
  },
  {
   "cell_type": "code",
   "execution_count": null,
   "metadata": {},
   "outputs": [],
   "source": [
    "base_dir = '/home/defi/Desktop/portfolio/projects/python/pipeline_defi/'\n",
    "#new_data = pd.read_csv('../spreadsheets/rlhf_small_154nlp.csv') \n",
    "def refine_file(version: str, file) -> DataFrame:\n",
    "    filename = f'{base_dir}{file}.csv'\n",
    "    print(filename)\n",
    "    df = pd.read_csv(filename)\n",
    "    #new_data = prep_data(df0.copy()) if newdf0.empty else prep_data(newdf0.copy())\n",
    "    new_data = prep_data(df)   \n",
    "    print(new_data.columns)\n",
    "    new_train_data = refiner_action(version=version, data=new_data)\n",
    "\n",
    "    #new_data = df0.copy()\n",
    "    print(new_train_data.columns)\n",
    "\n",
    "    new_train_data['nlpreds'] = new_train_data['predicted_action']\n",
    "    #new_data['action'] = new_train_data['refined-action']\n",
    "    return new_train_data"
   ]
  },
  {
   "cell_type": "code",
   "execution_count": null,
   "metadata": {},
   "outputs": [
    {
     "name": "stdout",
     "output_type": "stream",
     "text": [
      "/home/defi/Desktop/portfolio/projects/python/pipeline_defi/lean_df_99rl.csv\n",
      "Index(['open', 'high', 'ema-26', 'ema-12', 'low', 'mean-grad-hist', 'close',\n",
      "       'volume', 'sma-05', 'sma-07', 'sma-25', 'long_jcrosk', 'short_kdj',\n",
      "       'sma-compare', 'ask', 'bid', 'is_short', 'nlpreds', 'action',\n",
      "       'predicted_action', 'reward'],\n",
      "      dtype='object')\n",
      "Number of inconsistent rows: 208\n",
      "Updated Confusion Matrix:\n",
      "predicted   do_nothing  go_long  go_short\n",
      "refined                                  \n",
      "do_nothing          36      161        97\n",
      "go_long             32       53        30\n",
      "go_short            53       93        77\n",
      "Index(['open', 'high', 'ema-26', 'ema-12', 'low', 'mean-grad-hist', 'close',\n",
      "       'volume', 'sma-05', 'sma-07', 'sma-25', 'long_jcrosk', 'short_kdj',\n",
      "       'sma-compare', 'ask', 'bid', 'is_short', 'nlpreds', 'action',\n",
      "       'predicted_action', 'reward', 'refined-action'],\n",
      "      dtype='object')\n"
     ]
    }
   ],
   "source": [
    "newdf0 = refine_file('99rl', 'lean_df_99rl')"
   ]
  },
  {
   "cell_type": "code",
   "execution_count": null,
   "metadata": {},
   "outputs": [
    {
     "name": "stdout",
     "output_type": "stream",
     "text": [
      "predicted_action\n",
      "go_long       307\n",
      "go_short      204\n",
      "do_nothing    121\n",
      "Name: count, dtype: int64\n"
     ]
    }
   ],
   "source": [
    "print(newdf0['predicted_action'].value_counts())\n"
   ]
  },
  {
   "cell_type": "code",
   "execution_count": null,
   "metadata": {},
   "outputs": [
    {
     "data": {
      "text/plain": [
       "open                                                     23266.377488\n",
       "high                                                     23815.891006\n",
       "ema-26                                                   23462.465994\n",
       "ema-12                                                   23670.602485\n",
       "low                                                      22239.907761\n",
       "mean-grad-hist                                                     53\n",
       "close                                                    23020.305091\n",
       "volume                                                  544466438.655\n",
       "sma-05                                                   23320.971103\n",
       "sma-07                                                   23369.716887\n",
       "sma-25                                                   23740.970138\n",
       "long_jcrosk                                                        30\n",
       "short_kdj                                                           0\n",
       "sma-compare                                                        48\n",
       "ask                                                  265579216.539399\n",
       "bid                                                  278887222.115601\n",
       "is_short                                                          169\n",
       "nlpreds             go_shortgo_shortgo_shortgo_shortgo_shortgo_sho...\n",
       "action              go_shortgo_longgo_shortgo_longdo_nothingdo_not...\n",
       "predicted_action    go_shortgo_shortgo_shortgo_shortgo_shortgo_sho...\n",
       "reward                                                    1545.530101\n",
       "refined-action      go_shortgo_longgo_shortgo_longdo_nothingdo_not...\n",
       "dtype: object"
      ]
     },
     "execution_count": 760,
     "metadata": {},
     "output_type": "execute_result"
    }
   ],
   "source": [
    "newdf0[(newdf0['predicted_action'] == 'go_short') & (newdf0['is_short'] == 1)].sum()"
   ]
  },
  {
   "cell_type": "code",
   "execution_count": null,
   "metadata": {},
   "outputs": [
    {
     "name": "stdout",
     "output_type": "stream",
     "text": [
      "nlpreds\n",
      "go_long       307\n",
      "go_short      204\n",
      "do_nothing    121\n",
      "Name: count, dtype: int64\n"
     ]
    }
   ],
   "source": [
    "print(newdf0['nlpreds'].value_counts())"
   ]
  },
  {
   "cell_type": "code",
   "execution_count": null,
   "metadata": {},
   "outputs": [
    {
     "data": {
      "text/plain": [
       "refined-action\n",
       "do_nothing    294\n",
       "go_short      223\n",
       "go_long       115\n",
       "Name: count, dtype: int64"
      ]
     },
     "execution_count": 762,
     "metadata": {},
     "output_type": "execute_result"
    }
   ],
   "source": [
    "newdf0['refined-action'].value_counts()"
   ]
  },
  {
   "cell_type": "code",
   "execution_count": null,
   "metadata": {},
   "outputs": [
    {
     "data": {
      "text/plain": [
       "action\n",
       "do_nothing    294\n",
       "go_short      231\n",
       "go_long       107\n",
       "Name: count, dtype: int64"
      ]
     },
     "execution_count": 763,
     "metadata": {},
     "output_type": "execute_result"
    }
   ],
   "source": [
    "newdf0['action'].value_counts()"
   ]
  },
  {
   "cell_type": "code",
   "execution_count": null,
   "metadata": {},
   "outputs": [
    {
     "name": "stdout",
     "output_type": "stream",
     "text": [
      "4214.0592444799995\n"
     ]
    }
   ],
   "source": [
    "print(newdf0[(newdf0['nlpreds'] == 'go_short') & (newdf0['reward'] >  0)]['reward'].sum())"
   ]
  },
  {
   "cell_type": "code",
   "execution_count": null,
   "metadata": {},
   "outputs": [
    {
     "name": "stdout",
     "output_type": "stream",
     "text": [
      "3170.03034079\n"
     ]
    }
   ],
   "source": [
    "print(train_data[(train_data['nlpreds'] == 'go_short') & (train_data['reward'] >  0)]['reward'].sum())"
   ]
  },
  {
   "cell_type": "code",
   "execution_count": null,
   "metadata": {},
   "outputs": [
    {
     "data": {
      "image/png": "[encoded data removed]",
      "text/plain": [
       "<Figure size 640x480 with 1 Axes>"
      ]
     },
     "metadata": {},
     "output_type": "display_data"
    }
   ],
   "source": [
    "import matplotlib.pyplot as plt\n",
    "\n",
    "# Assuming you have a list of rewards for each episode\n",
    "#rewards_per_episode = [...]  # Populate this with your actual data\n",
    "\n",
    "plt.plot(rewards_per_episode)\n",
    "plt.xlabel('Episode')\n",
    "plt.ylabel('Reward')\n",
    "plt.title('Rewards per Episode')\n",
    "plt.show()\n"
   ]
  },
  {
   "cell_type": "markdown",
   "metadata": {},
   "source": [
    "### Model tuning with Gridsearch"
   ]
  },
  {
   "cell_type": "code",
   "execution_count": null,
   "metadata": {},
   "outputs": [],
   "source": [
    "# Tuning\n",
    "\n",
    "def train_q_learning(alpha, gamma, epsilon, min_epsilon, decay_rate, n_episodes, n_states, n_actions, rewards):\n",
    "    q_table = np.zeros((n_states, n_actions))\n",
    "    rewards_per_episode = []\n",
    "\n",
    "    for episode in range(n_episodes):\n",
    "        current_state = np.random.randint(0, n_states)\n",
    "        total_reward = 0\n",
    "\n",
    "        while current_state < n_states - 1:\n",
    "            if np.random.uniform(0, 1) < epsilon:\n",
    "                action = np.random.randint(0, n_actions)\n",
    "            else:\n",
    "                action = np.argmax(q_table[current_state])\n",
    "\n",
    "            next_state = current_state + 1  # Adjust based on environment logic\n",
    "            reward = rewards[next_state]\n",
    "\n",
    "            best_next_action = np.argmax(q_table[next_state])\n",
    "            q_table[current_state, action] += alpha * (\n",
    "                reward + gamma * q_table[next_state, best_next_action] - q_table[current_state, action]\n",
    "            )\n",
    "\n",
    "            total_reward += reward\n",
    "            current_state = next_state\n",
    "\n",
    "        rewards_per_episode.append(total_reward)\n",
    "        epsilon = max(min_epsilon, epsilon * decay_rate)\n",
    "\n",
    "    return q_table, rewards_per_episode\n"
   ]
  },
  {
   "cell_type": "code",
   "execution_count": null,
   "metadata": {},
   "outputs": [],
   "source": [
    "\n",
    "def evaluate_q_learning_reward_weighted(q_table, n_states, train_data, rewards):\n",
    "    correct_predictions = 0\n",
    "    total_reward = 0\n",
    "    reward_weighted_accuracy = []\n",
    "\n",
    "    for state_index in range(n_states):\n",
    "        predicted_action = np.argmax(q_table[state_index])  # Predicted action\n",
    "        actual_action = train_data[\"action_num\"].iloc[state_index]  # Actual action\n",
    "        reward = rewards[state_index]  # Reward for the action\n",
    "\n",
    "        if predicted_action == actual_action:\n",
    "            correct_predictions += 1\n",
    "            total_reward += reward\n",
    "\n",
    "        accuracy = correct_predictions / (state_index + 1)\n",
    "        reward_weighted_accuracy.append(total_reward / (state_index + 1))\n",
    "\n",
    "        # Optional: Log progress\n",
    "        if state_index % 100 == 0:\n",
    "            print(f\"Processed state {state_index}/{n_states} - Accuracy: {accuracy * 100:.2f}%, Reward-weighted Accuracy: {reward_weighted_accuracy[-1]}\")\n",
    "\n",
    "    final_reward_weighted_accuracy = total_reward / n_states\n",
    "    return final_reward_weighted_accuracy * 100\n",
    "\n"
   ]
  },
  {
   "cell_type": "code",
   "execution_count": null,
   "metadata": {},
   "outputs": [],
   "source": [
    "def evaluate_q_learning_prediction_efficiency(q_table, n_states, train_data, rewards):\n",
    "    # Initialize cumulative rewards\n",
    "    cumulative_predicted_reward = 0\n",
    "    cumulative_actual_reward = 0\n",
    "\n",
    "    # Iterate through states to calculate rewards\n",
    "    for state_index in range(n_states - 1):\n",
    "        # Predicted action from Q-table\n",
    "        predicted_action = np.argmax(q_table[state_index])  # Best action for the current state\n",
    "        # Actual action from the ground truth\n",
    "        actual_action = train_data[\"action_num\"].iloc[state_index]\n",
    "\n",
    "        # Get reward for predicted action only if it matches the actual action\n",
    "        if predicted_action == actual_action:\n",
    "            predicted_reward = rewards[state_index + 1]  # Reward for the correct prediction\n",
    "            cumulative_predicted_reward += predicted_reward\n",
    "\n",
    "        # Get actual reward for the ground truth action\n",
    "        actual_reward = rewards[state_index + 1]\n",
    "        cumulative_actual_reward += actual_reward\n",
    "    return cumulative_predicted_reward"
   ]
  },
  {
   "cell_type": "code",
   "execution_count": null,
   "metadata": {},
   "outputs": [
    {
     "data": {
      "text/plain": [
       "'\\ntrain_data = newdf0\\ntrain_data[\\'action_num\\'] = train_data[f\"refined-action\"].map(action_mapping)\\ndef random_search_reward_weighted(n_iter, param_grid, n_states, n_actions, rewards, train_data):\\n    best_params = None\\n    best_reward_weighted_accuracy = float(\\'-inf\\')\\n\\n    for _ in tqdm(range(n_iter), desc=\"Searching for params ...\"):\\n        alpha = random.choice(param_grid[\\'alpha\\'])\\n        gamma = random.choice(param_grid[\\'gamma\\'])\\n        epsilon = random.choice(param_grid[\\'epsilon\\'])\\n        min_epsilon = random.choice(param_grid[\\'decay_rate\\'])\\n        decay_rate = random.choice(param_grid[\\'decay_rate\\'])\\n        n_episodes = random.choice(param_grid[\\'n_episodes\\'])\\n\\n        q_table, _ = train_q_learning(alpha, gamma, epsilon, min_epsilon, decay_rate, n_episodes, n_states, n_actions, rewards)\\n        reward_weighted_accuracy = evaluate_q_learning_reward_weighted(q_table, n_states, train_data, rewards)\\n\\n        if reward_weighted_accuracy > best_reward_weighted_accuracy:\\n            best_reward_weighted_accuracy = reward_weighted_accuracy\\n            best_params = (alpha, gamma, epsilon, min_epsilon, decay_rate, n_episodes)\\n\\n        print(f\"Iteration Reward-weighted Accuracy: {reward_weighted_accuracy:.2f}%, Best Reward-weighted Accuracy: {best_reward_weighted_accuracy:.2f}%\")\\n\\n    return best_params, best_reward_weighted_accuracy\\n\\n# Define the parameter grid\\nparam_grid = {\\n    \\'alpha\\': [0.01, 0.05, 0.1, 0.2, 0.25, 0.3, 0.5, 0.7, 0.9, 1],\\n    \\'gamma\\': [0.75, 0.85, 0.9, 0.95, 0.99],\\n    \\'epsilon\\': [1.0, 0.5, 0.1, 0.05, 0.01],\\n    \\'min_epsilon\\': [0.05, 0.01, 0.005, 0.001, 0.001],\\n    \\'decay_rate\\': [0.95, 0.96, 0.97, 0.99, 0.995, 0.997, 0.999],\\n    \\'n_episodes\\': [1500, 4000,6000, 8000, 9000, 10000, 11000, 12000, 14000, 18000, 21000, 24000, 28000]\\n}\\n\\n# Perform Random Search\\nbest_params, best_reward_weighted_accuracy = random_search_reward_weighted(50, param_grid, n_states, n_actions, rewards, train_data)\\nprint(f\"Best Hyperparameters: {best_params}\")\\nprint(f\"Best Reward-weighted Accuracy: {best_reward_weighted_accuracy:.2f}%\")\\n\\n'"
      ]
     },
     "execution_count": 770,
     "metadata": {},
     "output_type": "execute_result"
    }
   ],
   "source": [
    "'''\n",
    "train_data = newdf0\n",
    "train_data['action_num'] = train_data[f\"refined-action\"].map(action_mapping)\n",
    "def random_search_reward_weighted(n_iter, param_grid, n_states, n_actions, rewards, train_data):\n",
    "    best_params = None\n",
    "    best_reward_weighted_accuracy = float('-inf')\n",
    "\n",
    "    for _ in tqdm(range(n_iter), desc=\"Searching for params ...\"):\n",
    "        alpha = random.choice(param_grid['alpha'])\n",
    "        gamma = random.choice(param_grid['gamma'])\n",
    "        epsilon = random.choice(param_grid['epsilon'])\n",
    "        min_epsilon = random.choice(param_grid['decay_rate'])\n",
    "        decay_rate = random.choice(param_grid['decay_rate'])\n",
    "        n_episodes = random.choice(param_grid['n_episodes'])\n",
    "\n",
    "        q_table, _ = train_q_learning(alpha, gamma, epsilon, min_epsilon, decay_rate, n_episodes, n_states, n_actions, rewards)\n",
    "        reward_weighted_accuracy = evaluate_q_learning_reward_weighted(q_table, n_states, train_data, rewards)\n",
    "\n",
    "        if reward_weighted_accuracy > best_reward_weighted_accuracy:\n",
    "            best_reward_weighted_accuracy = reward_weighted_accuracy\n",
    "            best_params = (alpha, gamma, epsilon, min_epsilon, decay_rate, n_episodes)\n",
    "\n",
    "        print(f\"Iteration Reward-weighted Accuracy: {reward_weighted_accuracy:.2f}%, Best Reward-weighted Accuracy: {best_reward_weighted_accuracy:.2f}%\")\n",
    "\n",
    "    return best_params, best_reward_weighted_accuracy\n",
    "\n",
    "# Define the parameter grid\n",
    "param_grid = {\n",
    "    'alpha': [0.01, 0.05, 0.1, 0.2, 0.25, 0.3, 0.5, 0.7, 0.9, 1],\n",
    "    'gamma': [0.75, 0.85, 0.9, 0.95, 0.99],\n",
    "    'epsilon': [1.0, 0.5, 0.1, 0.05, 0.01],\n",
    "    'min_epsilon': [0.05, 0.01, 0.005, 0.001, 0.001],\n",
    "    'decay_rate': [0.95, 0.96, 0.97, 0.99, 0.995, 0.997, 0.999],\n",
    "    'n_episodes': [1500, 4000,6000, 8000, 9000, 10000, 11000, 12000, 14000, 18000, 21000, 24000, 28000]\n",
    "}\n",
    "\n",
    "# Perform Random Search\n",
    "best_params, best_reward_weighted_accuracy = random_search_reward_weighted(50, param_grid, n_states, n_actions, rewards, train_data)\n",
    "print(f\"Best Hyperparameters: {best_params}\")\n",
    "print(f\"Best Reward-weighted Accuracy: {best_reward_weighted_accuracy:.2f}%\")\n",
    "\n",
    "'''"
   ]
  },
  {
   "cell_type": "code",
   "execution_count": null,
   "metadata": {},
   "outputs": [
    {
     "data": {
      "text/plain": [
       "'\\ntrain_data = newdf0\\ntrain_data[\\'action_num\\'] = train_data[f\"refined-action\"].map(action_mapping)\\ndef random_search_prediction_efficiency(n_iter, param_grid, n_states, n_actions, rewards, train_data):\\n    best_params = None\\n    best_cumulative_pred_reward = float(\\'-inf\\')\\n\\n    for _ in tqdm(range(n_iter), desc=\"Searching for params ...\"):\\n        alpha = random.choice(param_grid[\\'alpha\\'])\\n        gamma = random.choice(param_grid[\\'gamma\\'])\\n        epsilon = random.choice(param_grid[\\'epsilon\\'])\\n        min_epsilon = random.choice(param_grid[\\'decay_rate\\'])\\n        decay_rate = random.choice(param_grid[\\'decay_rate\\'])\\n        n_episodes = random.choice(param_grid[\\'n_episodes\\'])\\n\\n        q_table, _ = train_q_learning(alpha, gamma, epsilon, min_epsilon, decay_rate, n_episodes, n_states, n_actions, rewards)\\n        cumulative_pred_reward = evaluate_q_learning_prediction_efficiency(q_table, n_states, train_data, rewards)\\n\\n        if cumulative_pred_reward > best_cumulative_pred_reward:\\n            best_cumulative_pred_reward = cumulative_pred_reward\\n            best_params = (alpha, gamma, epsilon, min_epsilon, decay_rate, n_episodes)\\n\\n        print(f\"Iteration cumulative predicted reward: {cumulative_pred_reward:.2f}%, Best cumulative predicted reward: {best_cumulative_pred_reward:.2f}%\")\\n\\n    return best_params, best_cumulative_pred_reward\\n\\n# Define the parameter grid\\nparam_grid = {\\n    \\'alpha\\': [0.001, 0.005, 0.01, 0.05, 0.1, 0.2, 0.25, 0.3, 0.5, 0.7, 0.9, 1],\\n    \\'gamma\\': [0.75, 0.85, 0.9, 0.95, 0.99],\\n    \\'epsilon\\': [1.0, 0.5, 0.1, 0.05, 0.01, 0.005],\\n    \\'min_epsilon\\': [0.05, 0.01, 0.005, 0.001, 0.001],\\n    \\'decay_rate\\': [0.95, 0.99, 0.995, 0.997, 0.999],\\n    \\'n_episodes\\': [1500, 4000,6000, 8000, 9000, 10000, 11000, 12000, 14000, 16000, 18000, 20000, 22000, 24000, 26000, 28000, 30000]\\n}\\n\\n# Perform Random Search\\nbest_params, best_cumulative_pred_reward = random_search_prediction_efficiency(50, param_grid, n_states, n_actions, rewards, train_data)\\nprint(f\"Best Hyperparameters: {best_params}\")\\nprint(f\"Best cumulative predicted reward: {best_cumulative_pred_reward:.2f}%\")\\n'"
      ]
     },
     "execution_count": 771,
     "metadata": {},
     "output_type": "execute_result"
    }
   ],
   "source": [
    "'''\n",
    "train_data = newdf0\n",
    "train_data['action_num'] = train_data[f\"refined-action\"].map(action_mapping)\n",
    "def random_search_prediction_efficiency(n_iter, param_grid, n_states, n_actions, rewards, train_data):\n",
    "    best_params = None\n",
    "    best_cumulative_pred_reward = float('-inf')\n",
    "\n",
    "    for _ in tqdm(range(n_iter), desc=\"Searching for params ...\"):\n",
    "        alpha = random.choice(param_grid['alpha'])\n",
    "        gamma = random.choice(param_grid['gamma'])\n",
    "        epsilon = random.choice(param_grid['epsilon'])\n",
    "        min_epsilon = random.choice(param_grid['decay_rate'])\n",
    "        decay_rate = random.choice(param_grid['decay_rate'])\n",
    "        n_episodes = random.choice(param_grid['n_episodes'])\n",
    "\n",
    "        q_table, _ = train_q_learning(alpha, gamma, epsilon, min_epsilon, decay_rate, n_episodes, n_states, n_actions, rewards)\n",
    "        cumulative_pred_reward = evaluate_q_learning_prediction_efficiency(q_table, n_states, train_data, rewards)\n",
    "\n",
    "        if cumulative_pred_reward > best_cumulative_pred_reward:\n",
    "            best_cumulative_pred_reward = cumulative_pred_reward\n",
    "            best_params = (alpha, gamma, epsilon, min_epsilon, decay_rate, n_episodes)\n",
    "\n",
    "        print(f\"Iteration cumulative predicted reward: {cumulative_pred_reward:.2f}%, Best cumulative predicted reward: {best_cumulative_pred_reward:.2f}%\")\n",
    "\n",
    "    return best_params, best_cumulative_pred_reward\n",
    "\n",
    "# Define the parameter grid\n",
    "param_grid = {\n",
    "    'alpha': [0.001, 0.005, 0.01, 0.05, 0.1, 0.2, 0.25, 0.3, 0.5, 0.7, 0.9, 1],\n",
    "    'gamma': [0.75, 0.85, 0.9, 0.95, 0.99],\n",
    "    'epsilon': [1.0, 0.5, 0.1, 0.05, 0.01, 0.005],\n",
    "    'min_epsilon': [0.05, 0.01, 0.005, 0.001, 0.001],\n",
    "    'decay_rate': [0.95, 0.99, 0.995, 0.997, 0.999],\n",
    "    'n_episodes': [1500, 4000,6000, 8000, 9000, 10000, 11000, 12000, 14000, 16000, 18000, 20000, 22000, 24000, 26000, 28000, 30000]\n",
    "}\n",
    "\n",
    "# Perform Random Search\n",
    "best_params, best_cumulative_pred_reward = random_search_prediction_efficiency(50, param_grid, n_states, n_actions, rewards, train_data)\n",
    "print(f\"Best Hyperparameters: {best_params}\")\n",
    "print(f\"Best cumulative predicted reward: {best_cumulative_pred_reward:.2f}%\")\n",
    "'''"
   ]
  }
 ],
 "metadata": {
  "kernelspec": {
   "display_name": ".venv",
   "language": "python",
   "name": "python3"
  },
  "language_info": {
   "codemirror_mode": {
    "name": "ipython",
    "version": 3
   },
   "file_extension": ".py",
   "mimetype": "text/x-python",
   "name": "python",
   "nbconvert_exporter": "python",
   "pygments_lexer": "ipython3",
   "version": "3.10.4"
  }
 },
 "nbformat": 4,
 "nbformat_minor": 2
}
