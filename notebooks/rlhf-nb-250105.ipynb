{
 "cells": [
  {
   "cell_type": "code",
   "execution_count": 5561,
   "metadata": {},
   "outputs": [],
   "source": [
    "import pandas as pd\n",
    "import numpy as np\n",
    "from sklearn.metrics import confusion_matrix\n",
    "from pandas import DataFrame\n",
    "import pickle, random\n",
    "from tqdm import tqdm\n",
    "from scipy.spatial import KDTree\n",
    "import matplotlib.pyplot as plt"
   ]
  },
  {
   "cell_type": "code",
   "execution_count": 5562,
   "metadata": {},
   "outputs": [],
   "source": [
    "#!pip install tqdm"
   ]
  },
  {
   "cell_type": "code",
   "execution_count": 5563,
   "metadata": {},
   "outputs": [],
   "source": [
    "#df0 = pd.read_csv('../spreadsheets/rlhf_20250104_6.csv')\n",
    "#df0 = pd.read_csv('../spreadsheets/rlhf_159nlp.csv') # Best\n",
    "#df0 = pd.read_csv('../spreadsheets/rlhf_1064_2.csv')\n",
    "#df0 = pd.read_csv('../spreadsheets/rlhf_large_1072.csv')\n",
    "#df0 = pd.read_csv('../spreadsheets/shufled_rlhf_11rl.csv')\n",
    "#df0 = pd.read_csv('../spreadsheets/rlhf_large_12rl.csv')\n",
    "df0 = pd.read_csv('../spreadsheets/rlhf_large_15rl.csv')"
   ]
  },
  {
   "cell_type": "code",
   "execution_count": 5564,
   "metadata": {},
   "outputs": [],
   "source": [
    "#df0['action'] = df0['action'].replace('do_nothing', 'go_long')\n",
    "#df0 = df0[df0['action'] != 'do_nothing']"
   ]
  },
  {
   "cell_type": "code",
   "execution_count": 5565,
   "metadata": {},
   "outputs": [],
   "source": [
    "#df0 = df0.reset_index(drop=True)"
   ]
  },
  {
   "cell_type": "code",
   "execution_count": 5566,
   "metadata": {},
   "outputs": [
    {
     "data": {
      "text/html": [
       "<div>\n",
       "<style scoped>\n",
       "    .dataframe tbody tr th:only-of-type {\n",
       "        vertical-align: middle;\n",
       "    }\n",
       "\n",
       "    .dataframe tbody tr th {\n",
       "        vertical-align: top;\n",
       "    }\n",
       "\n",
       "    .dataframe thead th {\n",
       "        text-align: right;\n",
       "    }\n",
       "</style>\n",
       "<table border=\"1\" class=\"dataframe\">\n",
       "  <thead>\n",
       "    <tr style=\"text-align: right;\">\n",
       "      <th></th>\n",
       "      <th>Unnamed: 0</th>\n",
       "      <th>open</th>\n",
       "      <th>high</th>\n",
       "      <th>ema-26</th>\n",
       "      <th>ema-12</th>\n",
       "      <th>low</th>\n",
       "      <th>mean-grad-hist</th>\n",
       "      <th>close</th>\n",
       "      <th>volume</th>\n",
       "      <th>sma-25</th>\n",
       "      <th>long_jcrosk</th>\n",
       "      <th>short_kdj</th>\n",
       "      <th>sma-05</th>\n",
       "      <th>sma-07</th>\n",
       "      <th>sma-compare</th>\n",
       "      <th>is_short</th>\n",
       "      <th>action</th>\n",
       "      <th>imit-action</th>\n",
       "      <th>nlpreds</th>\n",
       "      <th>reward</th>\n",
       "    </tr>\n",
       "  </thead>\n",
       "  <tbody>\n",
       "    <tr>\n",
       "      <th>0</th>\n",
       "      <td>0</td>\n",
       "      <td>12.4750</td>\n",
       "      <td>13.3580</td>\n",
       "      <td>12.509969</td>\n",
       "      <td>12.304971</td>\n",
       "      <td>12.4570</td>\n",
       "      <td>0</td>\n",
       "      <td>13.3560</td>\n",
       "      <td>493632.0</td>\n",
       "      <td>12.323680</td>\n",
       "      <td>0</td>\n",
       "      <td>0</td>\n",
       "      <td>12.59940</td>\n",
       "      <td>12.531571</td>\n",
       "      <td>0</td>\n",
       "      <td>1</td>\n",
       "      <td>do_nothing</td>\n",
       "      <td>go_short</td>\n",
       "      <td>do_nothing</td>\n",
       "      <td>2.765190</td>\n",
       "    </tr>\n",
       "    <tr>\n",
       "      <th>1</th>\n",
       "      <td>1</td>\n",
       "      <td>301.0800</td>\n",
       "      <td>306.6000</td>\n",
       "      <td>297.368301</td>\n",
       "      <td>293.048934</td>\n",
       "      <td>300.3800</td>\n",
       "      <td>0</td>\n",
       "      <td>305.8700</td>\n",
       "      <td>97836.0</td>\n",
       "      <td>291.372800</td>\n",
       "      <td>0</td>\n",
       "      <td>0</td>\n",
       "      <td>300.17800</td>\n",
       "      <td>299.475714</td>\n",
       "      <td>0</td>\n",
       "      <td>1</td>\n",
       "      <td>do_nothing</td>\n",
       "      <td>go_short</td>\n",
       "      <td>do_nothing</td>\n",
       "      <td>0.301170</td>\n",
       "    </tr>\n",
       "    <tr>\n",
       "      <th>2</th>\n",
       "      <td>2</td>\n",
       "      <td>626.6400</td>\n",
       "      <td>631.9500</td>\n",
       "      <td>618.904756</td>\n",
       "      <td>612.673035</td>\n",
       "      <td>625.6200</td>\n",
       "      <td>0</td>\n",
       "      <td>627.1800</td>\n",
       "      <td>26240.0</td>\n",
       "      <td>615.152000</td>\n",
       "      <td>0</td>\n",
       "      <td>0</td>\n",
       "      <td>623.06600</td>\n",
       "      <td>620.297143</td>\n",
       "      <td>0</td>\n",
       "      <td>0</td>\n",
       "      <td>go_long</td>\n",
       "      <td>go_short</td>\n",
       "      <td>do_nothing</td>\n",
       "      <td>-1.788648</td>\n",
       "    </tr>\n",
       "    <tr>\n",
       "      <th>3</th>\n",
       "      <td>3</td>\n",
       "      <td>0.3788</td>\n",
       "      <td>0.3846</td>\n",
       "      <td>0.371708</td>\n",
       "      <td>0.362725</td>\n",
       "      <td>0.3774</td>\n",
       "      <td>1</td>\n",
       "      <td>0.3812</td>\n",
       "      <td>24478.0</td>\n",
       "      <td>0.361024</td>\n",
       "      <td>0</td>\n",
       "      <td>0</td>\n",
       "      <td>0.37754</td>\n",
       "      <td>0.376686</td>\n",
       "      <td>0</td>\n",
       "      <td>1</td>\n",
       "      <td>do_nothing</td>\n",
       "      <td>go_short</td>\n",
       "      <td>do_nothing</td>\n",
       "      <td>0.303548</td>\n",
       "    </tr>\n",
       "    <tr>\n",
       "      <th>4</th>\n",
       "      <td>4</td>\n",
       "      <td>1.0155</td>\n",
       "      <td>1.0440</td>\n",
       "      <td>0.990258</td>\n",
       "      <td>0.971368</td>\n",
       "      <td>1.0134</td>\n",
       "      <td>0</td>\n",
       "      <td>1.0309</td>\n",
       "      <td>196121.0</td>\n",
       "      <td>0.977404</td>\n",
       "      <td>0</td>\n",
       "      <td>0</td>\n",
       "      <td>0.99874</td>\n",
       "      <td>0.992914</td>\n",
       "      <td>0</td>\n",
       "      <td>1</td>\n",
       "      <td>do_nothing</td>\n",
       "      <td>go_short</td>\n",
       "      <td>do_nothing</td>\n",
       "      <td>0.529565</td>\n",
       "    </tr>\n",
       "  </tbody>\n",
       "</table>\n",
       "</div>"
      ],
      "text/plain": [
       "   Unnamed: 0      open      high      ema-26      ema-12       low  \\\n",
       "0           0   12.4750   13.3580   12.509969   12.304971   12.4570   \n",
       "1           1  301.0800  306.6000  297.368301  293.048934  300.3800   \n",
       "2           2  626.6400  631.9500  618.904756  612.673035  625.6200   \n",
       "3           3    0.3788    0.3846    0.371708    0.362725    0.3774   \n",
       "4           4    1.0155    1.0440    0.990258    0.971368    1.0134   \n",
       "\n",
       "   mean-grad-hist     close    volume      sma-25  long_jcrosk  short_kdj  \\\n",
       "0               0   13.3560  493632.0   12.323680            0          0   \n",
       "1               0  305.8700   97836.0  291.372800            0          0   \n",
       "2               0  627.1800   26240.0  615.152000            0          0   \n",
       "3               1    0.3812   24478.0    0.361024            0          0   \n",
       "4               0    1.0309  196121.0    0.977404            0          0   \n",
       "\n",
       "      sma-05      sma-07  sma-compare  is_short      action imit-action  \\\n",
       "0   12.59940   12.531571            0         1  do_nothing    go_short   \n",
       "1  300.17800  299.475714            0         1  do_nothing    go_short   \n",
       "2  623.06600  620.297143            0         0     go_long    go_short   \n",
       "3    0.37754    0.376686            0         1  do_nothing    go_short   \n",
       "4    0.99874    0.992914            0         1  do_nothing    go_short   \n",
       "\n",
       "      nlpreds    reward  \n",
       "0  do_nothing  2.765190  \n",
       "1  do_nothing  0.301170  \n",
       "2  do_nothing -1.788648  \n",
       "3  do_nothing  0.303548  \n",
       "4  do_nothing  0.529565  "
      ]
     },
     "execution_count": 5566,
     "metadata": {},
     "output_type": "execute_result"
    }
   ],
   "source": [
    "df0.head()"
   ]
  },
  {
   "cell_type": "code",
   "execution_count": null,
   "metadata": {},
   "outputs": [],
   "source": []
  },
  {
   "cell_type": "code",
   "execution_count": 5567,
   "metadata": {},
   "outputs": [],
   "source": [
    "df0.drop(['Unnamed: 0'], axis=1, inplace=True)"
   ]
  },
  {
   "cell_type": "code",
   "execution_count": 5568,
   "metadata": {},
   "outputs": [
    {
     "data": {
      "text/plain": [
       "action\n",
       "go_long       512\n",
       "do_nothing    425\n",
       "Name: count, dtype: int64"
      ]
     },
     "execution_count": 5568,
     "metadata": {},
     "output_type": "execute_result"
    }
   ],
   "source": [
    "df0['action'].value_counts()"
   ]
  },
  {
   "cell_type": "code",
   "execution_count": 5569,
   "metadata": {},
   "outputs": [],
   "source": [
    "#action_mapping = {\"go_long\": 0, \"go_short\": 1}"
   ]
  },
  {
   "cell_type": "code",
   "execution_count": 5570,
   "metadata": {},
   "outputs": [],
   "source": [
    "def prep_data(df: DataFrame) -> DataFrame:\n",
    "    train_data = pd.DataFrame()\n",
    "    for col in df.columns:\n",
    "        col_name = col.split(' ')[0]\n",
    "        train_data[f'{col_name}'] = df[col]\n",
    "\n",
    "    return train_data"
   ]
  },
  {
   "cell_type": "code",
   "execution_count": 5571,
   "metadata": {},
   "outputs": [],
   "source": [
    "train_data = df0 #prep_data(df0)"
   ]
  },
  {
   "cell_type": "code",
   "execution_count": 5572,
   "metadata": {},
   "outputs": [
    {
     "data": {
      "text/html": [
       "<div>\n",
       "<style scoped>\n",
       "    .dataframe tbody tr th:only-of-type {\n",
       "        vertical-align: middle;\n",
       "    }\n",
       "\n",
       "    .dataframe tbody tr th {\n",
       "        vertical-align: top;\n",
       "    }\n",
       "\n",
       "    .dataframe thead th {\n",
       "        text-align: right;\n",
       "    }\n",
       "</style>\n",
       "<table border=\"1\" class=\"dataframe\">\n",
       "  <thead>\n",
       "    <tr style=\"text-align: right;\">\n",
       "      <th></th>\n",
       "      <th>open</th>\n",
       "      <th>high</th>\n",
       "      <th>ema-26</th>\n",
       "      <th>ema-12</th>\n",
       "      <th>low</th>\n",
       "      <th>mean-grad-hist</th>\n",
       "      <th>close</th>\n",
       "      <th>volume</th>\n",
       "      <th>sma-25</th>\n",
       "      <th>long_jcrosk</th>\n",
       "      <th>short_kdj</th>\n",
       "      <th>sma-05</th>\n",
       "      <th>sma-07</th>\n",
       "      <th>sma-compare</th>\n",
       "      <th>is_short</th>\n",
       "      <th>action</th>\n",
       "      <th>imit-action</th>\n",
       "      <th>nlpreds</th>\n",
       "      <th>reward</th>\n",
       "    </tr>\n",
       "  </thead>\n",
       "  <tbody>\n",
       "    <tr>\n",
       "      <th>0</th>\n",
       "      <td>12.475</td>\n",
       "      <td>13.358</td>\n",
       "      <td>12.509969</td>\n",
       "      <td>12.304971</td>\n",
       "      <td>12.457</td>\n",
       "      <td>0</td>\n",
       "      <td>13.356</td>\n",
       "      <td>493632.0</td>\n",
       "      <td>12.32368</td>\n",
       "      <td>0</td>\n",
       "      <td>0</td>\n",
       "      <td>12.5994</td>\n",
       "      <td>12.531571</td>\n",
       "      <td>0</td>\n",
       "      <td>1</td>\n",
       "      <td>do_nothing</td>\n",
       "      <td>go_short</td>\n",
       "      <td>do_nothing</td>\n",
       "      <td>2.76519</td>\n",
       "    </tr>\n",
       "    <tr>\n",
       "      <th>1</th>\n",
       "      <td>301.080</td>\n",
       "      <td>306.600</td>\n",
       "      <td>297.368301</td>\n",
       "      <td>293.048934</td>\n",
       "      <td>300.380</td>\n",
       "      <td>0</td>\n",
       "      <td>305.870</td>\n",
       "      <td>97836.0</td>\n",
       "      <td>291.37280</td>\n",
       "      <td>0</td>\n",
       "      <td>0</td>\n",
       "      <td>300.1780</td>\n",
       "      <td>299.475714</td>\n",
       "      <td>0</td>\n",
       "      <td>1</td>\n",
       "      <td>do_nothing</td>\n",
       "      <td>go_short</td>\n",
       "      <td>do_nothing</td>\n",
       "      <td>0.30117</td>\n",
       "    </tr>\n",
       "  </tbody>\n",
       "</table>\n",
       "</div>"
      ],
      "text/plain": [
       "      open     high      ema-26      ema-12      low  mean-grad-hist    close  \\\n",
       "0   12.475   13.358   12.509969   12.304971   12.457               0   13.356   \n",
       "1  301.080  306.600  297.368301  293.048934  300.380               0  305.870   \n",
       "\n",
       "     volume     sma-25  long_jcrosk  short_kdj    sma-05      sma-07  \\\n",
       "0  493632.0   12.32368            0          0   12.5994   12.531571   \n",
       "1   97836.0  291.37280            0          0  300.1780  299.475714   \n",
       "\n",
       "   sma-compare  is_short      action imit-action     nlpreds   reward  \n",
       "0            0         1  do_nothing    go_short  do_nothing  2.76519  \n",
       "1            0         1  do_nothing    go_short  do_nothing  0.30117  "
      ]
     },
     "execution_count": 5572,
     "metadata": {},
     "output_type": "execute_result"
    }
   ],
   "source": [
    "train_data.head(2)"
   ]
  },
  {
   "cell_type": "code",
   "execution_count": 5573,
   "metadata": {},
   "outputs": [],
   "source": [
    "new_cols = ['open', 'high', 'ema-26', 'ema-12', 'low', \\\n",
    "            'mean-grad-hist', 'close', 'volume', 'sma-25', 'long_jcrosk', 'short_kdj', \\\n",
    "            'sma-compare', 'is_short'\n",
    "        ]"
   ]
  },
  {
   "cell_type": "code",
   "execution_count": 5574,
   "metadata": {},
   "outputs": [],
   "source": [
    "# Encode actions into numerical values\n",
    "action_mapping = {\"go_long\": 0, \"go_short\": 1, \"do_nothing\": 2}\n",
    "train_data[\"action_num\"] = train_data[\"nlpreds\"].map(action_mapping)"
   ]
  },
  {
   "cell_type": "code",
   "execution_count": 5575,
   "metadata": {},
   "outputs": [],
   "source": [
    "# Define RL parameters\n",
    "#states = train_data[[\"sma-05\", \"sma-07\", \"sma-25\", \"sma-compare\", \"is_short\"]].values  # Include binary_state\n",
    "states = train_data[new_cols].values\n",
    "actions = list(action_mapping.values())  # Action space\n",
    "rewards = train_data[\"reward\"].values  # Rewards\n",
    "n_states = states.shape[0]\n",
    "n_actions = len(actions)"
   ]
  },
  {
   "cell_type": "code",
   "execution_count": 5576,
   "metadata": {},
   "outputs": [],
   "source": [
    "# Initialize Q-table\n",
    "q_table = np.zeros((n_states, n_actions))"
   ]
  },
  {
   "cell_type": "code",
   "execution_count": 5577,
   "metadata": {},
   "outputs": [],
   "source": [
    "# Hyperparameters [0.25, 0.95, 1.0, 0.99, 0.99, 10000], [0.9, 0.95, 1.0, 0.99, 0.99, 8000], [0.7, 0.75, 1.0, 0.97, 0.999, 28000]\n",
    "# [0.05, 0.95, 1.0, 0.999, 0.995, 12000], [1, 0.95, 0.1, 0.96, 0.96, 12000], [0.25, 0.99, 0.01, 0.997, 0.99, 8000]\n",
    "# [1, 0.75, 0.05, 0.999, 0.999, 10000], [0.01, 0.85, 0.01, 0.95, 0.95, 12000], [0.01, 0.99, 1.0, 0.95, 0.99, 16000], [0.05, 0.99, 0.5, 0.99, 0.997, 6000]\n",
    "# [0.25, 0.95, 0.01, 0.997, 0.999, 14000], [0.01, 0.95, 1.0, 0.997, 0.995, 26000], [0.001, 0.75, 1.0, 0.99, 0.99, 30000], [0.9, 0.9, 0.005, 0.95, 0.999, 10000]\n",
    "'''\n",
    "alpha = 1\n",
    "gamma = 0.95\n",
    "epsilon = 0.1\n",
    "min_epsilon = 0.96\n",
    "decay_rate = 0.96\n",
    "n_episodes = 12000\n",
    "'''\n",
    "alpha, gamma, epsilon, min_epsilon, decay_rate, n_episodes = 0.9, 0.9, 0.005, 0.95, 0.999, 10000 #0.9, 0.95, 1.0, 0.99, 0.99, 8000\n",
    "\n"
   ]
  },
  {
   "cell_type": "code",
   "execution_count": 5578,
   "metadata": {},
   "outputs": [],
   "source": [
    "def create_state_index_mapping(df):\n",
    "    state_to_index = {}\n",
    "    for idx, row in df.iterrows():\n",
    "        state = (row['open'], row['high'], row['ema-26'], row['ema-12'], row['low'], \\\n",
    "                 row['mean-grad-hist'], row['close'], row['volume'], row['sma-25'], \\\n",
    "                 row['long_jcrosk'], row['short_kdj'], row['sma-compare'], row['is_short'])\n",
    "        state_to_index[state] = idx\n",
    "    return state_to_index\n",
    "\n",
    "# Assuming 'df' is your dataframe used during training\n",
    "state_to_index = create_state_index_mapping(train_data)\n",
    "\n",
    "# Save the state_to_index dictionary for later use\n",
    "np.save('large_state_to_index.npy', state_to_index)\n"
   ]
  },
  {
   "cell_type": "code",
   "execution_count": 5579,
   "metadata": {},
   "outputs": [],
   "source": [
    "# Helper function to choose an action using epsilon-greedy\n",
    "def choose_action(state, epsilon):\n",
    "    if np.random.uniform(0, 1) < epsilon:\n",
    "        return np.random.randint(0, n_actions)  # Explore: random action\n",
    "    else:\n",
    "        return np.argmax(q_table[state])  # Exploit: best known action"
   ]
  },
  {
   "cell_type": "code",
   "execution_count": 5580,
   "metadata": {},
   "outputs": [
    {
     "name": "stderr",
     "output_type": "stream",
     "text": [
      "evaluating results per episode ...:   1%|          | 75/10000 [00:00<00:26, 380.66it/s]"
     ]
    },
    {
     "name": "stdout",
     "output_type": "stream",
     "text": [
      "Episode 0/10000 - Total Reward: -177.20485005000003, Epsilon: 0.95\n"
     ]
    },
    {
     "name": "stderr",
     "output_type": "stream",
     "text": [
      "evaluating results per episode ...:   5%|▍         | 453/10000 [00:01<00:31, 306.01it/s]"
     ]
    },
    {
     "name": "stdout",
     "output_type": "stream",
     "text": [
      "Episode 400/10000 - Total Reward: -163.65522306, Epsilon: 0.95\n"
     ]
    },
    {
     "name": "stderr",
     "output_type": "stream",
     "text": [
      "evaluating results per episode ...:   9%|▊         | 858/10000 [00:02<00:26, 340.96it/s]"
     ]
    },
    {
     "name": "stdout",
     "output_type": "stream",
     "text": [
      "Episode 800/10000 - Total Reward: -107.28029829000009, Epsilon: 0.95\n"
     ]
    },
    {
     "name": "stderr",
     "output_type": "stream",
     "text": [
      "evaluating results per episode ...:  13%|█▎        | 1265/10000 [00:03<00:24, 359.67it/s]"
     ]
    },
    {
     "name": "stdout",
     "output_type": "stream",
     "text": [
      "Episode 1200/10000 - Total Reward: -12.234629519999999, Epsilon: 0.95\n"
     ]
    },
    {
     "name": "stderr",
     "output_type": "stream",
     "text": [
      "evaluating results per episode ...:  17%|█▋        | 1662/10000 [00:05<00:24, 337.24it/s]"
     ]
    },
    {
     "name": "stdout",
     "output_type": "stream",
     "text": [
      "Episode 1600/10000 - Total Reward: -111.57918979000009, Epsilon: 0.95\n"
     ]
    },
    {
     "name": "stderr",
     "output_type": "stream",
     "text": [
      "evaluating results per episode ...:  20%|██        | 2040/10000 [00:06<00:24, 323.37it/s]"
     ]
    },
    {
     "name": "stdout",
     "output_type": "stream",
     "text": [
      "Episode 2000/10000 - Total Reward: -157.14101836000006, Epsilon: 0.95\n"
     ]
    },
    {
     "name": "stderr",
     "output_type": "stream",
     "text": [
      "evaluating results per episode ...:  25%|██▍       | 2458/10000 [00:07<00:22, 340.03it/s]"
     ]
    },
    {
     "name": "stdout",
     "output_type": "stream",
     "text": [
      "Episode 2400/10000 - Total Reward: -163.65522306, Epsilon: 0.95\n"
     ]
    },
    {
     "name": "stderr",
     "output_type": "stream",
     "text": [
      "evaluating results per episode ...:  28%|██▊       | 2844/10000 [00:08<00:19, 370.43it/s]"
     ]
    },
    {
     "name": "stdout",
     "output_type": "stream",
     "text": [
      "Episode 2800/10000 - Total Reward: -103.00163926000006, Epsilon: 0.95\n"
     ]
    },
    {
     "name": "stderr",
     "output_type": "stream",
     "text": [
      "evaluating results per episode ...:  33%|███▎      | 3265/10000 [00:09<00:20, 332.25it/s]"
     ]
    },
    {
     "name": "stdout",
     "output_type": "stream",
     "text": [
      "Episode 3200/10000 - Total Reward: -158.51440208, Epsilon: 0.95\n"
     ]
    },
    {
     "name": "stderr",
     "output_type": "stream",
     "text": [
      "evaluating results per episode ...:  36%|███▋      | 3646/10000 [00:11<00:19, 322.27it/s]"
     ]
    },
    {
     "name": "stdout",
     "output_type": "stream",
     "text": [
      "Episode 3600/10000 - Total Reward: -121.96443910000006, Epsilon: 0.95\n"
     ]
    },
    {
     "name": "stderr",
     "output_type": "stream",
     "text": [
      "evaluating results per episode ...:  41%|████      | 4063/10000 [00:12<00:17, 341.04it/s]"
     ]
    },
    {
     "name": "stdout",
     "output_type": "stream",
     "text": [
      "Episode 4000/10000 - Total Reward: -102.19321662000009, Epsilon: 0.95\n"
     ]
    },
    {
     "name": "stderr",
     "output_type": "stream",
     "text": [
      "evaluating results per episode ...:  44%|████▍     | 4448/10000 [00:13<00:17, 312.00it/s]"
     ]
    },
    {
     "name": "stdout",
     "output_type": "stream",
     "text": [
      "Episode 4400/10000 - Total Reward: -44.12832929, Epsilon: 0.95\n"
     ]
    },
    {
     "name": "stderr",
     "output_type": "stream",
     "text": [
      "evaluating results per episode ...:  49%|████▊     | 4860/10000 [00:14<00:15, 340.12it/s]"
     ]
    },
    {
     "name": "stdout",
     "output_type": "stream",
     "text": [
      "Episode 4800/10000 - Total Reward: -92.80472562000007, Epsilon: 0.95\n"
     ]
    },
    {
     "name": "stderr",
     "output_type": "stream",
     "text": [
      "evaluating results per episode ...:  52%|█████▏    | 5233/10000 [00:15<00:14, 321.10it/s]"
     ]
    },
    {
     "name": "stdout",
     "output_type": "stream",
     "text": [
      "Episode 5200/10000 - Total Reward: -13.724931299999998, Epsilon: 0.95\n"
     ]
    },
    {
     "name": "stderr",
     "output_type": "stream",
     "text": [
      "evaluating results per episode ...:  57%|█████▋    | 5658/10000 [00:17<00:12, 335.77it/s]"
     ]
    },
    {
     "name": "stdout",
     "output_type": "stream",
     "text": [
      "Episode 5600/10000 - Total Reward: -81.74379843999999, Epsilon: 0.95\n"
     ]
    },
    {
     "name": "stderr",
     "output_type": "stream",
     "text": [
      "evaluating results per episode ...:  60%|██████    | 6039/10000 [00:18<00:11, 332.93it/s]"
     ]
    },
    {
     "name": "stdout",
     "output_type": "stream",
     "text": [
      "Episode 6000/10000 - Total Reward: -0.1557309999999999, Epsilon: 0.95\n"
     ]
    },
    {
     "name": "stderr",
     "output_type": "stream",
     "text": [
      "evaluating results per episode ...:  64%|██████▍   | 6439/10000 [00:19<00:12, 294.41it/s]"
     ]
    },
    {
     "name": "stdout",
     "output_type": "stream",
     "text": [
      "Episode 6400/10000 - Total Reward: -122.97971695000005, Epsilon: 0.95\n"
     ]
    },
    {
     "name": "stderr",
     "output_type": "stream",
     "text": [
      "evaluating results per episode ...:  69%|██████▊   | 6871/10000 [00:20<00:08, 348.47it/s]"
     ]
    },
    {
     "name": "stdout",
     "output_type": "stream",
     "text": [
      "Episode 6800/10000 - Total Reward: -52.81998725999997, Epsilon: 0.95\n"
     ]
    },
    {
     "name": "stderr",
     "output_type": "stream",
     "text": [
      "evaluating results per episode ...:  73%|███████▎  | 7277/10000 [00:22<00:09, 301.79it/s]"
     ]
    },
    {
     "name": "stdout",
     "output_type": "stream",
     "text": [
      "Episode 7200/10000 - Total Reward: -161.91095604, Epsilon: 0.95\n"
     ]
    },
    {
     "name": "stderr",
     "output_type": "stream",
     "text": [
      "evaluating results per episode ...:  76%|███████▋  | 7644/10000 [00:23<00:07, 294.93it/s]"
     ]
    },
    {
     "name": "stdout",
     "output_type": "stream",
     "text": [
      "Episode 7600/10000 - Total Reward: -104.5977644900001, Epsilon: 0.95\n"
     ]
    },
    {
     "name": "stderr",
     "output_type": "stream",
     "text": [
      "evaluating results per episode ...:  81%|████████  | 8074/10000 [00:24<00:05, 358.82it/s]"
     ]
    },
    {
     "name": "stdout",
     "output_type": "stream",
     "text": [
      "Episode 8000/10000 - Total Reward: -103.03520559000007, Epsilon: 0.95\n"
     ]
    },
    {
     "name": "stderr",
     "output_type": "stream",
     "text": [
      "evaluating results per episode ...:  84%|████████▍ | 8448/10000 [00:25<00:04, 315.39it/s]"
     ]
    },
    {
     "name": "stdout",
     "output_type": "stream",
     "text": [
      "Episode 8400/10000 - Total Reward: -12.518126209999995, Epsilon: 0.95\n"
     ]
    },
    {
     "name": "stderr",
     "output_type": "stream",
     "text": [
      "evaluating results per episode ...:  88%|████████▊ | 8846/10000 [00:26<00:03, 334.98it/s]"
     ]
    },
    {
     "name": "stdout",
     "output_type": "stream",
     "text": [
      "Episode 8800/10000 - Total Reward: -132.96300815999993, Epsilon: 0.95\n"
     ]
    },
    {
     "name": "stderr",
     "output_type": "stream",
     "text": [
      "evaluating results per episode ...:  92%|█████████▏| 9248/10000 [00:28<00:02, 345.98it/s]"
     ]
    },
    {
     "name": "stdout",
     "output_type": "stream",
     "text": [
      "Episode 9200/10000 - Total Reward: -124.60556944000005, Epsilon: 0.95\n"
     ]
    },
    {
     "name": "stderr",
     "output_type": "stream",
     "text": [
      "evaluating results per episode ...:  96%|█████████▋| 9649/10000 [00:29<00:01, 330.55it/s]"
     ]
    },
    {
     "name": "stdout",
     "output_type": "stream",
     "text": [
      "Episode 9600/10000 - Total Reward: -11.436635029999998, Epsilon: 0.95\n"
     ]
    },
    {
     "name": "stderr",
     "output_type": "stream",
     "text": [
      "evaluating results per episode ...: 100%|██████████| 10000/10000 [00:30<00:00, 330.40it/s]\n"
     ]
    },
    {
     "data": {
      "image/png": "[encoded data removed]",
      "text/plain": [
       "<Figure size 640x480 with 1 Axes>"
      ]
     },
     "metadata": {},
     "output_type": "display_data"
    }
   ],
   "source": [
    "\n",
    "# Set random seed for reproducibility and train the loop\n",
    "np.random.seed(42)\n",
    "random.seed(42)\n",
    "# Initialize a list to store rewards per episode\n",
    "rewards_per_episode = []\n",
    "\n",
    "for episode in tqdm(range(n_episodes), desc=\"evaluating results per episode ...\"):\n",
    "    current_state = np.random.randint(0, n_states)  # Random initial state\n",
    "    total_reward = 0  # Initialize total reward for the current episode\n",
    "\n",
    "    while current_state < n_states - 1:\n",
    "        action = choose_action(current_state, epsilon)\n",
    "        \n",
    "        next_state = current_state + 1  # This depends on your environment logic\n",
    "        reward = rewards[next_state]\n",
    "\n",
    "        best_next_action = np.argmax(q_table[next_state])\n",
    "        q_table[current_state, action] += alpha * (\n",
    "            reward + gamma * q_table[next_state, best_next_action] - q_table[current_state, action]\n",
    "        )\n",
    "        \n",
    "        total_reward += reward  # Accumulate reward for the current episode\n",
    "        current_state = next_state  # Move to next state\n",
    "\n",
    "    rewards_per_episode.append(total_reward)  # Store the total reward for the current episode\n",
    "\n",
    "    # Decay epsilon\n",
    "    epsilon = max(min_epsilon, epsilon * decay_rate)\n",
    "\n",
    "    # Optional: Log progress\n",
    "    if episode % 400 == 0:  # Adjust logging frequency as needed\n",
    "        print(f\"Episode {episode}/{n_episodes} - Total Reward: {total_reward}, Epsilon: {epsilon}\")\n",
    "\n",
    "# Example: Save the Q-table\n",
    "np.save(\"large_q_table.npy\", q_table)\n",
    "\n",
    "# Example: Plotting the rewards\n",
    "import matplotlib.pyplot as plt\n",
    "\n",
    "plt.plot(rewards_per_episode)\n",
    "plt.xlabel('Episode')\n",
    "plt.ylabel('Reward')\n",
    "plt.title('Rewards per Episode')\n",
    "plt.show()\n",
    "\n"
   ]
  },
  {
   "cell_type": "code",
   "execution_count": 5581,
   "metadata": {},
   "outputs": [],
   "source": [
    "def load_q_table(file_path):\n",
    "    return np.load(file_path)\n",
    "\n",
    "def load_state_index_mapping(file_path):\n",
    "    return np.load(file_path, allow_pickle=True).item()\n",
    "\n",
    "loaded_mapping = load_state_index_mapping(file_path=\"large_state_to_index.npy\")\n",
    "loaded_qtable = load_q_table(file_path=\"large_q_table.npy\")"
   ]
  },
  {
   "cell_type": "code",
   "execution_count": 5582,
   "metadata": {},
   "outputs": [],
   "source": [
    "#state = (row['open'], row['high'], row['ema-26'], row['ema-12'], row['low'], \\\n",
    "#                 row['mean-grad-hist'], row['close'], row['volume'], row['sma-25'], \\\n",
    "#                 row['long_jcrosk'], row['short_kdj'], row['sma-compare'], row['is_short'])\n",
    "\n",
    "def prep_state(\n",
    "                open: float, high: float, ema_26: float, ema_12: float, low: float,\n",
    "                mean_grad_hist: float, close: float, volume: float, sma_25: float,\n",
    "                long_jcrosk: float, short_kdj: float, sma_compare: int, is_short: int,\n",
    "            ):\n",
    "    state = np.array([[open, high, ema_26, ema_12, low, mean_grad_hist, close, volume, sma_25, long_jcrosk, short_kdj, sma_compare, is_short]])\n",
    "    if not np.all(np.isfinite(state)):\n",
    "        state = np.nan_to_num(state, nan=0.0, posinf=0.0, neginf=0.0)\n",
    "    return state\n"
   ]
  },
  {
   "cell_type": "code",
   "execution_count": 5583,
   "metadata": {},
   "outputs": [],
   "source": [
    "\n",
    "def predict_action(state, q_table, state_to_index, action_mapping, default_action: str = None):\n",
    "    state_tuple = tuple(state.flatten())\n",
    "\n",
    "    state_index = state_to_index.get(state_tuple, -1)\n",
    "\n",
    "    if not state_index == -1:\n",
    "        try:\n",
    "            q_values = q_table[state_index]\n",
    "        except ValueError as e:\n",
    "            print(e)\n",
    "            #return default_action\n",
    "    else:\n",
    "        state_tuples = list(state_to_index.keys())\n",
    "        kdtree = KDTree(state_tuples)\n",
    "        distance, index = kdtree.query(state.flatten())\n",
    "        nearest_state_tuple = state_tuples[index]\n",
    "        new_state_index = state_to_index[nearest_state_tuple]\n",
    "        q_values = loaded_qtable[new_state_index]\n",
    "    \n",
    "    #q_values = q_table[state_index]\n",
    "    best_action_index = np.argmax(q_values)\n",
    "    action = [action for action, index in action_mapping.items() if index == best_action_index][0]\n",
    "    return action"
   ]
  },
  {
   "cell_type": "code",
   "execution_count": 5584,
   "metadata": {},
   "outputs": [],
   "source": [
    "# Predict an entire range\n",
    "for idx, row in train_data.iterrows():\n",
    "    state = row[['open', 'high', 'ema-26', 'ema-12', 'low', 'mean-grad-hist', 'close', 'volume', 'sma-25', 'long_jcrosk', 'short_kdj', 'sma-compare', 'is_short']].values\n",
    "    action = predict_action(state, q_table, state_to_index, action_mapping)\n",
    "    train_data.loc[idx, \"predicted_action\"] = action"
   ]
  },
  {
   "cell_type": "code",
   "execution_count": 5585,
   "metadata": {},
   "outputs": [
    {
     "data": {
      "text/plain": [
       "937"
      ]
     },
     "execution_count": 5585,
     "metadata": {},
     "output_type": "execute_result"
    }
   ],
   "source": [
    "#train_data.tail(15)\n",
    "len(q_table)"
   ]
  },
  {
   "cell_type": "code",
   "execution_count": 5586,
   "metadata": {},
   "outputs": [
    {
     "data": {
      "text/plain": [
       "predicted_action\n",
       "go_long       895\n",
       "do_nothing     22\n",
       "go_short       20\n",
       "Name: count, dtype: int64"
      ]
     },
     "execution_count": 5586,
     "metadata": {},
     "output_type": "execute_result"
    }
   ],
   "source": [
    "train_data['predicted_action'].value_counts()"
   ]
  },
  {
   "cell_type": "code",
   "execution_count": 5587,
   "metadata": {},
   "outputs": [
    {
     "data": {
      "text/plain": [
       "Series([], Name: count, dtype: int64)"
      ]
     },
     "execution_count": 5587,
     "metadata": {},
     "output_type": "execute_result"
    }
   ],
   "source": [
    "m = train_data[((train_data['predicted_action'] == 'go_short') & (train_data['predicted_action'] == 'do_nothing')) & (train_data['reward'] > 0)]\n",
    "m['is_short'].value_counts()"
   ]
  },
  {
   "cell_type": "code",
   "execution_count": 5588,
   "metadata": {},
   "outputs": [
    {
     "name": "stdout",
     "output_type": "stream",
     "text": [
      "None\n",
      "None\n"
     ]
    }
   ],
   "source": [
    "longs = dict(m['is_short'].value_counts().items()).get(0)\n",
    "print(longs)\n",
    "shorts = dict(m['is_short'].value_counts().items()).get(1)\n",
    "print(shorts)"
   ]
  },
  {
   "cell_type": "code",
   "execution_count": 5589,
   "metadata": {},
   "outputs": [
    {
     "name": "stdout",
     "output_type": "stream",
     "text": [
      "Processed state 0/936\n",
      "Current Predicted Reward: 0.30116983\n",
      "Current Actual Reward: 0.30116983\n",
      "Processed state 100/936\n",
      "Current Predicted Reward: 32.84699644\n",
      "Current Actual Reward: -37.10566545999997\n",
      "Processed state 200/936\n",
      "Current Predicted Reward: 25.448576699999993\n",
      "Current Actual Reward: -60.797318449999985\n",
      "Processed state 300/936\n",
      "Current Predicted Reward: 27.773860919999983\n",
      "Current Actual Reward: -58.47203422999995\n",
      "Processed state 400/936\n",
      "Current Predicted Reward: 25.022075819999976\n",
      "Current Actual Reward: -97.59018973000002\n",
      "Processed state 500/936\n",
      "Current Predicted Reward: 20.16097902999997\n",
      "Current Actual Reward: -114.66187199000004\n",
      "Processed state 600/936\n",
      "Current Predicted Reward: 21.29321292999997\n",
      "Current Actual Reward: -142.85595034999997\n",
      "Processed state 700/936\n",
      "Current Predicted Reward: 21.29321292999997\n",
      "Current Actual Reward: -188.74141996000003\n",
      "Processed state 800/936\n",
      "Current Predicted Reward: 22.31761290999996\n",
      "Current Actual Reward: -202.88065601000008\n",
      "Processed state 900/936\n",
      "Current Predicted Reward: 17.81478292999996\n",
      "Current Actual Reward: -215.52324930999998\n",
      "Cumulative Predicted Reward: 16.394379529999963\n",
      "Cumulative Actual Reward: -216.94365271\n",
      "Prediction Efficiency: 107.56%\n"
     ]
    }
   ],
   "source": [
    "# Performance measures\n",
    "# Initialize cumulative rewards\n",
    "cumulative_predicted_reward = 0\n",
    "cumulative_actual_reward = 0\n",
    "\n",
    "# Iterate through states to calculate rewards\n",
    "for state_index in range(n_states - 1):\n",
    "    # Predicted action from Q-table\n",
    "    predicted_action = np.argmax(q_table[state_index])  # Best action for the current state\n",
    "    # Actual action from the ground truth\n",
    "    actual_action = train_data[\"action_num\"].iloc[state_index]\n",
    "\n",
    "    # Get reward for predicted action only if it matches the actual action\n",
    "    if predicted_action == actual_action:\n",
    "        predicted_reward = rewards[state_index + 1]  # Reward for the correct prediction\n",
    "        cumulative_predicted_reward += predicted_reward\n",
    "\n",
    "    # Get actual reward for the ground truth action\n",
    "    actual_reward = rewards[state_index + 1]\n",
    "    cumulative_actual_reward += actual_reward\n",
    "\n",
    "    # Optional: Log progress\n",
    "    if state_index % 100 == 0:  # Adjust logging frequency as needed\n",
    "        print(f\"Processed state {state_index}/{n_states - 1}\")\n",
    "        print(f\"Current Predicted Reward: {cumulative_predicted_reward}\")\n",
    "        print(f\"Current Actual Reward: {cumulative_actual_reward}\")\n",
    "\n",
    "# Print results\n",
    "print(f\"Cumulative Predicted Reward: {cumulative_predicted_reward}\")\n",
    "print(f\"Cumulative Actual Reward: {cumulative_actual_reward}\")\n",
    "\n",
    "# Optionally calculate efficiency\n",
    "efficiency = (\n",
    "    ((cumulative_predicted_reward - cumulative_actual_reward) / abs(cumulative_actual_reward)) * 100\n",
    "    if cumulative_actual_reward != 0\n",
    "    else 0\n",
    ")\n",
    "print(f\"Prediction Efficiency: {efficiency:.2f}%\")\n",
    "\n"
   ]
  },
  {
   "cell_type": "code",
   "execution_count": 5590,
   "metadata": {},
   "outputs": [
    {
     "name": "stdout",
     "output_type": "stream",
     "text": [
      "Accuracy: 56.35%\n"
     ]
    }
   ],
   "source": [
    "# Accuracy\n",
    "correct_predictions = 0\n",
    "for state_index in range(n_states):\n",
    "    predicted_action = np.argmax(q_table[state_index])  # Predicted action\n",
    "    actual_action = train_data[\"action_num\"].iloc[state_index]  # Actual action\n",
    "    if predicted_action == actual_action:\n",
    "        correct_predictions += 1\n",
    "\n",
    "accuracy = correct_predictions / n_states\n",
    "print(f\"Accuracy: {accuracy * 100:.2f}%\")"
   ]
  },
  {
   "cell_type": "code",
   "execution_count": 5591,
   "metadata": {},
   "outputs": [
    {
     "name": "stdout",
     "output_type": "stream",
     "text": [
      "Confusion Matrix:\n",
      "[[506   0   0]\n",
      " [  0   0   0]\n",
      " [389  20  22]]\n"
     ]
    }
   ],
   "source": [
    "# Confusion matrix\n",
    "y_true = train_data[\"action_num\"]  # Actual actions\n",
    "y_pred = [np.argmax(q_table[state_index]) for state_index in range(n_states)]  # Predicted actions\n",
    "\n",
    "cm = confusion_matrix(y_true, y_pred)\n",
    "print(\"Confusion Matrix:\")\n",
    "print(cm)"
   ]
  },
  {
   "cell_type": "code",
   "execution_count": 5592,
   "metadata": {},
   "outputs": [
    {
     "data": {
      "text/plain": [
       "action\n",
       "go_long       512\n",
       "do_nothing    425\n",
       "Name: count, dtype: int64"
      ]
     },
     "execution_count": 5592,
     "metadata": {},
     "output_type": "execute_result"
    }
   ],
   "source": [
    "df0['action'].value_counts()"
   ]
  },
  {
   "cell_type": "code",
   "execution_count": 5634,
   "metadata": {},
   "outputs": [],
   "source": [
    "def action_reward(action: str, is_short: int):\n",
    "    m = train_data[(train_data['predicted_action'] == f'{action}')]\n",
    "    m = m[m['is_short'] == is_short]\n",
    "    counts = m['is_short'].value_counts()\n",
    "    total_reward = m['reward'].cumsum()[-1:].values[0]\n",
    "    wins = len(m[m['reward'] > 0])\n",
    "    losses = len(m[m['reward'] <= 0])\n",
    "    result = {\n",
    "        'counts': counts.get(is_short),\n",
    "        'total': total_reward,\n",
    "        'wins': wins,\n",
    "        'losses': losses\n",
    "    }\n",
    "\n",
    "    return result"
   ]
  },
  {
   "cell_type": "code",
   "execution_count": 5636,
   "metadata": {},
   "outputs": [
    {
     "name": "stdout",
     "output_type": "stream",
     "text": [
      "{'counts': 19, 'total': 35.065686830000004, 'wins': 17, 'losses': 2}\n"
     ]
    }
   ],
   "source": [
    "print(action_reward('go_short', 1))"
   ]
  },
  {
   "cell_type": "code",
   "execution_count": 5595,
   "metadata": {},
   "outputs": [
    {
     "data": {
      "image/png": "[encoded data removed]",
      "text/plain": [
       "<Figure size 640x480 with 1 Axes>"
      ]
     },
     "metadata": {},
     "output_type": "display_data"
    }
   ],
   "source": [
    "import matplotlib.pyplot as plt\n",
    "\n",
    "# Assuming you have a list of rewards for each episode\n",
    "#rewards_per_episode = [...]  # Populate this with your actual data\n",
    "\n",
    "plt.plot(rewards_per_episode)\n",
    "plt.xlabel('Episode')\n",
    "plt.ylabel('Reward')\n",
    "plt.title('Rewards per Episode')\n",
    "plt.show()\n"
   ]
  },
  {
   "cell_type": "code",
   "execution_count": 5596,
   "metadata": {},
   "outputs": [],
   "source": [
    "# Tuning\n",
    "\n",
    "def train_q_learning(alpha, gamma, epsilon, min_epsilon, decay_rate, n_episodes, n_states, n_actions, rewards):\n",
    "    q_table = np.zeros((n_states, n_actions))\n",
    "    rewards_per_episode = []\n",
    "\n",
    "    for episode in range(n_episodes):\n",
    "        current_state = np.random.randint(0, n_states)\n",
    "        total_reward = 0\n",
    "\n",
    "        while current_state < n_states - 1:\n",
    "            if np.random.uniform(0, 1) < epsilon:\n",
    "                action = np.random.randint(0, n_actions)\n",
    "            else:\n",
    "                action = np.argmax(q_table[current_state])\n",
    "\n",
    "            next_state = current_state + 1  # Adjust based on environment logic\n",
    "            reward = rewards[next_state]\n",
    "\n",
    "            best_next_action = np.argmax(q_table[next_state])\n",
    "            q_table[current_state, action] += alpha * (\n",
    "                reward + gamma * q_table[next_state, best_next_action] - q_table[current_state, action]\n",
    "            )\n",
    "\n",
    "            total_reward += reward\n",
    "            current_state = next_state\n",
    "\n",
    "        rewards_per_episode.append(total_reward)\n",
    "        epsilon = max(min_epsilon, epsilon * decay_rate) # default min_epsilon = 0.01\n",
    "\n",
    "    return q_table, rewards_per_episode\n"
   ]
  },
  {
   "cell_type": "code",
   "execution_count": 5597,
   "metadata": {},
   "outputs": [],
   "source": [
    "\n",
    "def evaluate_q_learning_reward_weighted(q_table, n_states, train_data, rewards):\n",
    "    correct_predictions = 0\n",
    "    total_reward = 0\n",
    "    reward_weighted_accuracy = []\n",
    "\n",
    "    # Add tqdm for progress visualization\n",
    "    for state_index in tqdm(range(n_states), desc=\"Evaluating States\"):\n",
    "        predicted_action = np.argmax(q_table[state_index])  # Predicted action\n",
    "        actual_action = train_data[\"action_num\"].iloc[state_index]  # Actual action\n",
    "        reward = rewards[state_index]  # Reward for the action\n",
    "\n",
    "        if predicted_action == actual_action:\n",
    "            correct_predictions += 1\n",
    "            total_reward += reward\n",
    "\n",
    "        accuracy = correct_predictions / (state_index + 1)\n",
    "        reward_weighted_accuracy.append(total_reward / (state_index + 1))\n",
    "\n",
    "        # Optional: Log progress\n",
    "        if state_index % 100 == 0:\n",
    "            print(f\"Processed state {state_index}/{n_states} - Accuracy: {accuracy * 100:.2f}%, Reward-weighted Accuracy: {reward_weighted_accuracy[-1]}\")\n",
    "\n",
    "    final_reward_weighted_accuracy = total_reward / n_states\n",
    "    return final_reward_weighted_accuracy * 100\n",
    "\n"
   ]
  },
  {
   "cell_type": "code",
   "execution_count": 5598,
   "metadata": {},
   "outputs": [
    {
     "data": {
      "text/plain": [
       "'\\ndef random_search_reward_weighted(n_iter, param_grid, n_states, n_actions, rewards, train_data):\\n    best_params = None\\n    best_reward_weighted_accuracy = float(\\'-inf\\')\\n\\n    for _ in tqdm(range(n_iter), desc=\"Searching for params ...\"):\\n        alpha = random.choice(param_grid[\\'alpha\\'])\\n        gamma = random.choice(param_grid[\\'gamma\\'])\\n        epsilon = random.choice(param_grid[\\'epsilon\\'])\\n        min_epsilon = random.choice(param_grid[\\'decay_rate\\'])\\n        decay_rate = random.choice(param_grid[\\'decay_rate\\'])\\n        n_episodes = random.choice(param_grid[\\'n_episodes\\'])\\n\\n        q_table, _ = train_q_learning(alpha, gamma, epsilon, min_epsilon, decay_rate, n_episodes, n_states, n_actions, rewards)\\n        reward_weighted_accuracy = evaluate_q_learning_reward_weighted(q_table, n_states, train_data, rewards)\\n\\n        if reward_weighted_accuracy > best_reward_weighted_accuracy:\\n            best_reward_weighted_accuracy = reward_weighted_accuracy\\n            best_params = (alpha, gamma, epsilon, min_epsilon, decay_rate, n_episodes)\\n\\n        print(f\"Iteration Reward-weighted Accuracy: {reward_weighted_accuracy:.2f}%, Best Reward-weighted Accuracy: {best_reward_weighted_accuracy:.2f}%\")\\n\\n    return best_params, best_reward_weighted_accuracy\\n\\n# Define the parameter grid\\nparam_grid = {\\n    \\'alpha\\': [0.01, 0.05, 0.1, 0.2, 0.25, 0.3, 0.5, 0.7, 0.9, 1],\\n    \\'gamma\\': [0.75, 0.85, 0.9, 0.95, 0.99],\\n    \\'epsilon\\': [1.0, 0.5, 0.1, 0.05, 0.01, 0.005],\\n    \\'min_epsilon\\': [0.05, 0.01, 0.005, 0.001, 0.001],\\n    \\'decay_rate\\': [0.95, 0.99, 0.995, 0.997, 0.999],\\n    \\'n_episodes\\': [1500, 4000,6000, 8000, 9000, 10000, 11000, 12000]\\n}\\n\\n# Perform Random Search\\nbest_params, best_reward_weighted_accuracy = random_search_reward_weighted(50, param_grid, n_states, n_actions, rewards, train_data)\\nprint(f\"Best Hyperparameters: {best_params}\")\\nprint(f\"Best Reward-weighted Accuracy: {best_reward_weighted_accuracy:.2f}%\")\\n\\n'"
      ]
     },
     "execution_count": 5598,
     "metadata": {},
     "output_type": "execute_result"
    }
   ],
   "source": [
    "'''\n",
    "def random_search_reward_weighted(n_iter, param_grid, n_states, n_actions, rewards, train_data):\n",
    "    best_params = None\n",
    "    best_reward_weighted_accuracy = float('-inf')\n",
    "\n",
    "    for _ in tqdm(range(n_iter), desc=\"Searching for params ...\"):\n",
    "        alpha = random.choice(param_grid['alpha'])\n",
    "        gamma = random.choice(param_grid['gamma'])\n",
    "        epsilon = random.choice(param_grid['epsilon'])\n",
    "        min_epsilon = random.choice(param_grid['decay_rate'])\n",
    "        decay_rate = random.choice(param_grid['decay_rate'])\n",
    "        n_episodes = random.choice(param_grid['n_episodes'])\n",
    "\n",
    "        q_table, _ = train_q_learning(alpha, gamma, epsilon, min_epsilon, decay_rate, n_episodes, n_states, n_actions, rewards)\n",
    "        reward_weighted_accuracy = evaluate_q_learning_reward_weighted(q_table, n_states, train_data, rewards)\n",
    "\n",
    "        if reward_weighted_accuracy > best_reward_weighted_accuracy:\n",
    "            best_reward_weighted_accuracy = reward_weighted_accuracy\n",
    "            best_params = (alpha, gamma, epsilon, min_epsilon, decay_rate, n_episodes)\n",
    "\n",
    "        print(f\"Iteration Reward-weighted Accuracy: {reward_weighted_accuracy:.2f}%, Best Reward-weighted Accuracy: {best_reward_weighted_accuracy:.2f}%\")\n",
    "\n",
    "    return best_params, best_reward_weighted_accuracy\n",
    "\n",
    "# Define the parameter grid\n",
    "param_grid = {\n",
    "    'alpha': [0.01, 0.05, 0.1, 0.2, 0.25, 0.3, 0.5, 0.7, 0.9, 1],\n",
    "    'gamma': [0.75, 0.85, 0.9, 0.95, 0.99],\n",
    "    'epsilon': [1.0, 0.5, 0.1, 0.05, 0.01, 0.005],\n",
    "    'min_epsilon': [0.05, 0.01, 0.005, 0.001, 0.001],\n",
    "    'decay_rate': [0.95, 0.99, 0.995, 0.997, 0.999],\n",
    "    'n_episodes': [1500, 4000,6000, 8000, 9000, 10000, 11000, 12000]\n",
    "}\n",
    "\n",
    "# Perform Random Search\n",
    "best_params, best_reward_weighted_accuracy = random_search_reward_weighted(50, param_grid, n_states, n_actions, rewards, train_data)\n",
    "print(f\"Best Hyperparameters: {best_params}\")\n",
    "print(f\"Best Reward-weighted Accuracy: {best_reward_weighted_accuracy:.2f}%\")\n",
    "\n",
    "'''"
   ]
  },
  {
   "cell_type": "code",
   "execution_count": 5599,
   "metadata": {},
   "outputs": [],
   "source": [
    "def evaluate_q_learning_prediction_efficiency(q_table, n_states, train_data, rewards):\n",
    "    # Initialize cumulative rewards\n",
    "    cumulative_predicted_reward = 0\n",
    "    cumulative_actual_reward = 0\n",
    "\n",
    "    # Iterate through states to calculate rewards\n",
    "    for state_index in range(n_states - 1):\n",
    "        # Predicted action from Q-table\n",
    "        predicted_action = np.argmax(q_table[state_index])  # Best action for the current state\n",
    "        # Actual action from the ground truth\n",
    "        actual_action = train_data[\"action_num\"].iloc[state_index]\n",
    "\n",
    "        # Get reward for predicted action only if it matches the actual action\n",
    "        if predicted_action == actual_action:\n",
    "            predicted_reward = rewards[state_index + 1]  # Reward for the correct prediction\n",
    "            cumulative_predicted_reward += predicted_reward\n",
    "\n",
    "        # Get actual reward for the ground truth action\n",
    "        actual_reward = rewards[state_index + 1]\n",
    "        cumulative_actual_reward += actual_reward\n",
    "    return cumulative_predicted_reward"
   ]
  },
  {
   "cell_type": "code",
   "execution_count": null,
   "metadata": {},
   "outputs": [],
   "source": []
  },
  {
   "cell_type": "code",
   "execution_count": 5600,
   "metadata": {},
   "outputs": [
    {
     "data": {
      "text/plain": [
       "'\\ndef random_search_prediction_efficiency(n_iter, param_grid, n_states, n_actions, rewards, train_data):\\n    best_params = None\\n    best_cumulative_pred_reward = float(\\'-inf\\')\\n\\n    for _ in tqdm(range(n_iter), desc=\"Searching for params ...\"):\\n        alpha = random.choice(param_grid[\\'alpha\\'])\\n        gamma = random.choice(param_grid[\\'gamma\\'])\\n        epsilon = random.choice(param_grid[\\'epsilon\\'])\\n        min_epsilon = random.choice(param_grid[\\'decay_rate\\'])\\n        decay_rate = random.choice(param_grid[\\'decay_rate\\'])\\n        n_episodes = random.choice(param_grid[\\'n_episodes\\'])\\n\\n        q_table, _ = train_q_learning(alpha, gamma, epsilon, min_epsilon, decay_rate, n_episodes, n_states, n_actions, rewards)\\n        cumulative_pred_reward = evaluate_q_learning_prediction_efficiency(q_table, n_states, train_data, rewards)\\n\\n        if cumulative_pred_reward > best_cumulative_pred_reward:\\n            best_cumulative_pred_reward = cumulative_pred_reward\\n            best_params = (alpha, gamma, epsilon, min_epsilon, decay_rate, n_episodes)\\n\\n        print(f\"Iteration cumulative predicted reward: {cumulative_pred_reward:.2f}%, Best cumulative predicted reward: {best_cumulative_pred_reward:.2f}%\")\\n\\n    return best_params, best_cumulative_pred_reward\\n\\n# Define the parameter grid\\nparam_grid = {\\n    \\'alpha\\': [0.001, 0.005, 0.01, 0.05, 0.1, 0.2, 0.25, 0.3, 0.5, 0.7, 0.9, 1],\\n    \\'gamma\\': [0.75, 0.85, 0.9, 0.95, 0.99],\\n    \\'epsilon\\': [1.0, 0.5, 0.1, 0.05, 0.01, 0.005],\\n    \\'min_epsilon\\': [0.05, 0.01, 0.005, 0.001, 0.001],\\n    \\'decay_rate\\': [0.95, 0.99, 0.995, 0.997, 0.999],\\n    \\'n_episodes\\': [1500, 4000,6000, 8000, 9000, 10000, 11000, 12000, 14000, 16000, 18000, 20000, 22000, 24000, 26000, 28000, 30000]\\n}\\n# 1500, 4000,6000, 8000, 9000, 10000, 11000, \\n# Perform Random Search\\nbest_params, best_cumulative_pred_reward = random_search_prediction_efficiency(50, param_grid, n_states, n_actions, rewards, train_data)\\nprint(f\"Best Hyperparameters: {best_params}\")\\nprint(f\"Best cumulative predicted reward: {best_cumulative_pred_reward:.2f}%\")\\n'"
      ]
     },
     "execution_count": 5600,
     "metadata": {},
     "output_type": "execute_result"
    }
   ],
   "source": [
    "'''\n",
    "def random_search_prediction_efficiency(n_iter, param_grid, n_states, n_actions, rewards, train_data):\n",
    "    best_params = None\n",
    "    best_cumulative_pred_reward = float('-inf')\n",
    "\n",
    "    for _ in tqdm(range(n_iter), desc=\"Searching for params ...\"):\n",
    "        alpha = random.choice(param_grid['alpha'])\n",
    "        gamma = random.choice(param_grid['gamma'])\n",
    "        epsilon = random.choice(param_grid['epsilon'])\n",
    "        min_epsilon = random.choice(param_grid['decay_rate'])\n",
    "        decay_rate = random.choice(param_grid['decay_rate'])\n",
    "        n_episodes = random.choice(param_grid['n_episodes'])\n",
    "\n",
    "        q_table, _ = train_q_learning(alpha, gamma, epsilon, min_epsilon, decay_rate, n_episodes, n_states, n_actions, rewards)\n",
    "        cumulative_pred_reward = evaluate_q_learning_prediction_efficiency(q_table, n_states, train_data, rewards)\n",
    "\n",
    "        if cumulative_pred_reward > best_cumulative_pred_reward:\n",
    "            best_cumulative_pred_reward = cumulative_pred_reward\n",
    "            best_params = (alpha, gamma, epsilon, min_epsilon, decay_rate, n_episodes)\n",
    "\n",
    "        print(f\"Iteration cumulative predicted reward: {cumulative_pred_reward:.2f}%, Best cumulative predicted reward: {best_cumulative_pred_reward:.2f}%\")\n",
    "\n",
    "    return best_params, best_cumulative_pred_reward\n",
    "\n",
    "# Define the parameter grid\n",
    "param_grid = {\n",
    "    'alpha': [0.001, 0.005, 0.01, 0.05, 0.1, 0.2, 0.25, 0.3, 0.5, 0.7, 0.9, 1],\n",
    "    'gamma': [0.75, 0.85, 0.9, 0.95, 0.99],\n",
    "    'epsilon': [1.0, 0.5, 0.1, 0.05, 0.01, 0.005],\n",
    "    'min_epsilon': [0.05, 0.01, 0.005, 0.001, 0.001],\n",
    "    'decay_rate': [0.95, 0.99, 0.995, 0.997, 0.999],\n",
    "    'n_episodes': [1500, 4000,6000, 8000, 9000, 10000, 11000, 12000, 14000, 16000, 18000, 20000, 22000, 24000, 26000, 28000, 30000]\n",
    "}\n",
    "# 1500, 4000,6000, 8000, 9000, 10000, 11000, \n",
    "# Perform Random Search\n",
    "best_params, best_cumulative_pred_reward = random_search_prediction_efficiency(50, param_grid, n_states, n_actions, rewards, train_data)\n",
    "print(f\"Best Hyperparameters: {best_params}\")\n",
    "print(f\"Best cumulative predicted reward: {best_cumulative_pred_reward:.2f}%\")\n",
    "'''"
   ]
  }
 ],
 "metadata": {
  "kernelspec": {
   "display_name": "myenv",
   "language": "python",
   "name": "myenv"
  },
  "language_info": {
   "codemirror_mode": {
    "name": "ipython",
    "version": 3
   },
   "file_extension": ".py",
   "mimetype": "text/x-python",
   "name": "python",
   "nbconvert_exporter": "python",
   "pygments_lexer": "ipython3",
   "version": "3.10.4"
  }
 },
 "nbformat": 4,
 "nbformat_minor": 2
}
