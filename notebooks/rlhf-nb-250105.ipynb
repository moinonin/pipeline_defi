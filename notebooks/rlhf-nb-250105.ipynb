{
 "cells": [
  {
   "cell_type": "code",
   "execution_count": 2110,
   "metadata": {},
   "outputs": [],
   "source": [
    "import pandas as pd\n",
    "import numpy as np\n",
    "from sklearn.metrics import confusion_matrix\n",
    "from pandas import DataFrame\n",
    "import pickle, random\n",
    "from tqdm import tqdm\n",
    "from scipy.spatial import KDTree\n",
    "import matplotlib.pyplot as plt"
   ]
  },
  {
   "cell_type": "code",
   "execution_count": 2111,
   "metadata": {},
   "outputs": [
    {
     "name": "stdout",
     "output_type": "stream",
     "text": [
      "/home/defi/Desktop/portfolio/projects/python/jupyter/notebooks\n"
     ]
    }
   ],
   "source": [
    "!pwd"
   ]
  },
  {
   "cell_type": "code",
   "execution_count": 2112,
   "metadata": {},
   "outputs": [],
   "source": [
    "#df0 = pd.read_csv('../spreadsheets/rlhf_20250104_6.csv') # 0.9, 0.95, 1.0, 0.99, 0.99, 8000\n",
    "#df0 = pd.read_csv('../spreadsheets/rlhf_159nlp.csv') # Best 0.01, 0.85, 0.01, 0.95, 0.95, 12000\n",
    "#df0 = pd.read_csv('../spreadsheets/rlhf_1064_2.csv') # 0.05, 0.99, 0.5, 0.99, 0.997, 6000, 0.005, 0.75, 0.1, 0.95, 0.999, 12000\n",
    "#df0 = pd.read_csv('../spreadsheets/rlhf_large_1072.csv') # 0.05, 0.99, 0.5, 0.99, 0.997, 6000\n",
    "#df0 = pd.read_csv('../spreadsheets/shufled_rlhf_11rl.csv') # 0.01, 0.95, 1.0, 0.997, 0.995, 26000\n",
    "#df0 = pd.read_csv('../spreadsheets/rlhf_large_12rl.csv') # 0.01, 0.85, 0.01, 0.95, 0.95, 12000\n",
    "#df0 = pd.read_csv('../spreadsheets/rlhf_large_15rl.csv') # 0.05, 0.95, 1.0, 0.999, 0.995, 12000, 0.005, 0.75, 0.1, 0.95, 0.999, 12000\n",
    "#df0 = pd.read_csv('../spreadsheets/rlhf_large_19rl.csv') # 0.01, 0.95, 1.0, 0.997, 0.995, 26000, 0.005, 0.75, 0.1, 0.95, 0.999, 12000\n",
    "#df0 = pd.read_csv('../spreadsheets/rlhf_large_24rl.csv')\n",
    "#df0 = pd.read_csv('../spreadsheets/rlhf_large_25rl.csv')\n",
    "#df0 = pd.read_csv('../spreadsheets/rlhf_large_26rl.csv')\n",
    "#df0 = pd.read_csv('../spreadsheets/rlhf_large_157nlp.csv') # 0.7, 0.95, 0.5, 0.999, 0.99, 16000\n",
    "#df0 = pd.read_csv('../spreadsheets/rlhf_large_157nlpgate.csv') # 0.25, 0.95, 0.01, 0.997, 0.999, 14000\n",
    "#df0 = pd.read_csv('../spreadsheets/rlhf_large_29rl.csv') # 0.9, 0.9, 0.005, 0.95, 0.999, 10000, 0.9, 0.95, 1.0, 0.99, 0.99, 8000\n",
    "#df0 = pd.read_csv('../spreadsheets/rlhf_large_30rl.csv')\n",
    "#df0 = pd.read_csv('../spreadsheets/rlhf_large_32rl.csv')\n",
    "#df0 = pd.read_csv('../spreadsheets/rlhf_large_33rl.csv')\n",
    "#df0 = pd.read_csv('../spreadsheets/rlhf_large_35rl.csv')\n",
    "#df0 = pd.read_csv('../spreadsheets/rlhf_large_36rl.csv')\n",
    "#df0 = pd.read_csv('../spreadsheets/rlhf_large_37rl.csv')\n",
    "#df0 = pd.read_csv('../spreadsheets/rlhf_large_38rl.csv')\n",
    "#df0 = pd.read_csv('../spreadsheets/rlhf_large_39rl.csv')\n",
    "#df0 = pd.read_csv('../spreadsheets/rlhf_large_39rl.csv')\n",
    "#df0 = pd.read_csv('../spreadsheets/rlhf_large_40rl_refined.csv')\n",
    "#df0 = pd.read_csv('../spreadsheets/rlhf_large_154nlp.csv')\n",
    "#df0 = pd.read_csv('../spreadsheets/rlhf_large_159nlp.csv')\n",
    "#df0 = pd.read_csv('../spreadsheets/rlhf_large_43rl.csv')\n",
    "#df0 = pd.read_csv('../spreadsheets/rlhf_large_46rl.csv') # 0.001, 0.99, 1.0, 0.95, 0.99, 10000\n",
    "#df0 = pd.read_csv('../spreadsheets/rlhf_large_54rl.csv')\n",
    "#df0 = pd.read_csv('/home/defi/Desktop/portfolio/projects/python/pipeline_defi/lean_df_50rl.csv')\n",
    "df0 = pd.read_csv('../spreadsheets/rlhf_large_173nlp_refined.csv') #0.05, 0.95, 0.05, 0.99, 0.95, 8000"
   ]
  },
  {
   "cell_type": "code",
   "execution_count": 2113,
   "metadata": {},
   "outputs": [],
   "source": [
    "df0['ask'] = df0['close'] * df0['volume']/(df0['close'] + df0['open'])"
   ]
  },
  {
   "cell_type": "code",
   "execution_count": 2114,
   "metadata": {},
   "outputs": [],
   "source": [
    "df0['bid'] = df0['open'] * df0['volume']/(df0['close'] + df0['open'])"
   ]
  },
  {
   "cell_type": "code",
   "execution_count": 2115,
   "metadata": {},
   "outputs": [
    {
     "data": {
      "text/html": [
       "<div>\n",
       "<style scoped>\n",
       "    .dataframe tbody tr th:only-of-type {\n",
       "        vertical-align: middle;\n",
       "    }\n",
       "\n",
       "    .dataframe tbody tr th {\n",
       "        vertical-align: top;\n",
       "    }\n",
       "\n",
       "    .dataframe thead th {\n",
       "        text-align: right;\n",
       "    }\n",
       "</style>\n",
       "<table border=\"1\" class=\"dataframe\">\n",
       "  <thead>\n",
       "    <tr style=\"text-align: right;\">\n",
       "      <th></th>\n",
       "      <th>open</th>\n",
       "      <th>high</th>\n",
       "      <th>ema-26</th>\n",
       "      <th>ema-12</th>\n",
       "      <th>low</th>\n",
       "      <th>mean-grad-hist</th>\n",
       "      <th>close</th>\n",
       "      <th>volume</th>\n",
       "      <th>sma-05</th>\n",
       "      <th>sma-07</th>\n",
       "      <th>...</th>\n",
       "      <th>short_kdj</th>\n",
       "      <th>sma-compare</th>\n",
       "      <th>ask</th>\n",
       "      <th>bid</th>\n",
       "      <th>is_short</th>\n",
       "      <th>nlpreds</th>\n",
       "      <th>action</th>\n",
       "      <th>predicted_action</th>\n",
       "      <th>reward</th>\n",
       "      <th>refined-action</th>\n",
       "    </tr>\n",
       "  </thead>\n",
       "  <tbody>\n",
       "    <tr>\n",
       "      <th>0</th>\n",
       "      <td>44.50000</td>\n",
       "      <td>44.75000</td>\n",
       "      <td>44.281457</td>\n",
       "      <td>44.135725</td>\n",
       "      <td>44.20000</td>\n",
       "      <td>1</td>\n",
       "      <td>44.30000</td>\n",
       "      <td>6.825090e+03</td>\n",
       "      <td>44.300000</td>\n",
       "      <td>44.328571</td>\n",
       "      <td>...</td>\n",
       "      <td>0</td>\n",
       "      <td>0</td>\n",
       "      <td>3.404859e+03</td>\n",
       "      <td>3.420231e+03</td>\n",
       "      <td>1</td>\n",
       "      <td>do_nothing</td>\n",
       "      <td>do_nothing</td>\n",
       "      <td>go_short</td>\n",
       "      <td>-35.430676</td>\n",
       "      <td>do_nothing</td>\n",
       "    </tr>\n",
       "    <tr>\n",
       "      <th>1</th>\n",
       "      <td>0.03876</td>\n",
       "      <td>0.04031</td>\n",
       "      <td>0.037357</td>\n",
       "      <td>0.035457</td>\n",
       "      <td>0.03866</td>\n",
       "      <td>1</td>\n",
       "      <td>0.03966</td>\n",
       "      <td>1.002442e+08</td>\n",
       "      <td>0.038784</td>\n",
       "      <td>0.038163</td>\n",
       "      <td>...</td>\n",
       "      <td>0</td>\n",
       "      <td>0</td>\n",
       "      <td>5.069731e+07</td>\n",
       "      <td>4.954684e+07</td>\n",
       "      <td>1</td>\n",
       "      <td>do_nothing</td>\n",
       "      <td>do_nothing</td>\n",
       "      <td>go_long</td>\n",
       "      <td>-51.032958</td>\n",
       "      <td>do_nothing</td>\n",
       "    </tr>\n",
       "    <tr>\n",
       "      <th>2</th>\n",
       "      <td>0.36970</td>\n",
       "      <td>0.37380</td>\n",
       "      <td>0.374378</td>\n",
       "      <td>0.380408</td>\n",
       "      <td>0.29550</td>\n",
       "      <td>1</td>\n",
       "      <td>0.34040</td>\n",
       "      <td>4.055960e+07</td>\n",
       "      <td>0.369600</td>\n",
       "      <td>0.373671</td>\n",
       "      <td>...</td>\n",
       "      <td>0</td>\n",
       "      <td>1</td>\n",
       "      <td>1.944302e+07</td>\n",
       "      <td>2.111658e+07</td>\n",
       "      <td>1</td>\n",
       "      <td>go_long</td>\n",
       "      <td>go_long</td>\n",
       "      <td>go_short</td>\n",
       "      <td>53.563565</td>\n",
       "      <td>go_long</td>\n",
       "    </tr>\n",
       "    <tr>\n",
       "      <th>3</th>\n",
       "      <td>8.49500</td>\n",
       "      <td>8.49500</td>\n",
       "      <td>8.566783</td>\n",
       "      <td>8.642135</td>\n",
       "      <td>8.40900</td>\n",
       "      <td>1</td>\n",
       "      <td>8.42100</td>\n",
       "      <td>7.683300e+03</td>\n",
       "      <td>8.499800</td>\n",
       "      <td>8.545286</td>\n",
       "      <td>...</td>\n",
       "      <td>0</td>\n",
       "      <td>1</td>\n",
       "      <td>3.824844e+03</td>\n",
       "      <td>3.858456e+03</td>\n",
       "      <td>1</td>\n",
       "      <td>go_long</td>\n",
       "      <td>go_long</td>\n",
       "      <td>do_nothing</td>\n",
       "      <td>11.966588</td>\n",
       "      <td>go_long</td>\n",
       "    </tr>\n",
       "    <tr>\n",
       "      <th>4</th>\n",
       "      <td>29.35600</td>\n",
       "      <td>29.75100</td>\n",
       "      <td>28.748782</td>\n",
       "      <td>30.812400</td>\n",
       "      <td>28.69500</td>\n",
       "      <td>0</td>\n",
       "      <td>29.34600</td>\n",
       "      <td>7.736900e+04</td>\n",
       "      <td>28.701400</td>\n",
       "      <td>28.251143</td>\n",
       "      <td>...</td>\n",
       "      <td>0</td>\n",
       "      <td>0</td>\n",
       "      <td>3.867791e+04</td>\n",
       "      <td>3.869109e+04</td>\n",
       "      <td>1</td>\n",
       "      <td>do_nothing</td>\n",
       "      <td>do_nothing</td>\n",
       "      <td>go_long</td>\n",
       "      <td>-17.428203</td>\n",
       "      <td>do_nothing</td>\n",
       "    </tr>\n",
       "  </tbody>\n",
       "</table>\n",
       "<p>5 rows × 22 columns</p>\n",
       "</div>"
      ],
      "text/plain": [
       "       open      high     ema-26     ema-12       low  mean-grad-hist  \\\n",
       "0  44.50000  44.75000  44.281457  44.135725  44.20000               1   \n",
       "1   0.03876   0.04031   0.037357   0.035457   0.03866               1   \n",
       "2   0.36970   0.37380   0.374378   0.380408   0.29550               1   \n",
       "3   8.49500   8.49500   8.566783   8.642135   8.40900               1   \n",
       "4  29.35600  29.75100  28.748782  30.812400  28.69500               0   \n",
       "\n",
       "      close        volume     sma-05     sma-07  ...  short_kdj  sma-compare  \\\n",
       "0  44.30000  6.825090e+03  44.300000  44.328571  ...          0            0   \n",
       "1   0.03966  1.002442e+08   0.038784   0.038163  ...          0            0   \n",
       "2   0.34040  4.055960e+07   0.369600   0.373671  ...          0            1   \n",
       "3   8.42100  7.683300e+03   8.499800   8.545286  ...          0            1   \n",
       "4  29.34600  7.736900e+04  28.701400  28.251143  ...          0            0   \n",
       "\n",
       "            ask           bid  is_short     nlpreds      action  \\\n",
       "0  3.404859e+03  3.420231e+03         1  do_nothing  do_nothing   \n",
       "1  5.069731e+07  4.954684e+07         1  do_nothing  do_nothing   \n",
       "2  1.944302e+07  2.111658e+07         1     go_long     go_long   \n",
       "3  3.824844e+03  3.858456e+03         1     go_long     go_long   \n",
       "4  3.867791e+04  3.869109e+04         1  do_nothing  do_nothing   \n",
       "\n",
       "  predicted_action     reward refined-action  \n",
       "0         go_short -35.430676     do_nothing  \n",
       "1          go_long -51.032958     do_nothing  \n",
       "2         go_short  53.563565        go_long  \n",
       "3       do_nothing  11.966588        go_long  \n",
       "4          go_long -17.428203     do_nothing  \n",
       "\n",
       "[5 rows x 22 columns]"
      ]
     },
     "execution_count": 2115,
     "metadata": {},
     "output_type": "execute_result"
    }
   ],
   "source": [
    "df0.head()"
   ]
  },
  {
   "cell_type": "code",
   "execution_count": 2116,
   "metadata": {},
   "outputs": [],
   "source": [
    "#df0['refined-action'].value_counts()"
   ]
  },
  {
   "cell_type": "code",
   "execution_count": 2117,
   "metadata": {},
   "outputs": [],
   "source": [
    "#df0.drop(['Unnamed:','predicted_action'], axis=1, inplace=True)"
   ]
  },
  {
   "cell_type": "code",
   "execution_count": 2118,
   "metadata": {},
   "outputs": [],
   "source": [
    "#df0['nlpreds'].value_counts()"
   ]
  },
  {
   "cell_type": "code",
   "execution_count": 2119,
   "metadata": {},
   "outputs": [],
   "source": [
    "#action_mapping = {\"go_long\": 0, \"go_short\": 1}"
   ]
  },
  {
   "cell_type": "code",
   "execution_count": 2120,
   "metadata": {},
   "outputs": [],
   "source": [
    "def prep_data(df: DataFrame) -> DataFrame:\n",
    "    train_data = pd.DataFrame()\n",
    "    for col in df.columns:\n",
    "        col_name = col.split(' ')[0]\n",
    "        train_data[f'{col_name}'] = df[col]\n",
    "\n",
    "    return train_data"
   ]
  },
  {
   "cell_type": "code",
   "execution_count": 2121,
   "metadata": {},
   "outputs": [],
   "source": [
    "#newdf0 = pd.DataFrame()\n",
    "train_data = prep_data(df0) #if newdf0.empty else prep_data(newdf0)\n",
    "#train_data = prep_data(newdf0)"
   ]
  },
  {
   "cell_type": "code",
   "execution_count": 2122,
   "metadata": {},
   "outputs": [
    {
     "data": {
      "text/html": [
       "<div>\n",
       "<style scoped>\n",
       "    .dataframe tbody tr th:only-of-type {\n",
       "        vertical-align: middle;\n",
       "    }\n",
       "\n",
       "    .dataframe tbody tr th {\n",
       "        vertical-align: top;\n",
       "    }\n",
       "\n",
       "    .dataframe thead th {\n",
       "        text-align: right;\n",
       "    }\n",
       "</style>\n",
       "<table border=\"1\" class=\"dataframe\">\n",
       "  <thead>\n",
       "    <tr style=\"text-align: right;\">\n",
       "      <th></th>\n",
       "      <th>open</th>\n",
       "      <th>high</th>\n",
       "      <th>ema-26</th>\n",
       "      <th>ema-12</th>\n",
       "      <th>low</th>\n",
       "      <th>mean-grad-hist</th>\n",
       "      <th>close</th>\n",
       "      <th>volume</th>\n",
       "      <th>sma-05</th>\n",
       "      <th>sma-07</th>\n",
       "      <th>...</th>\n",
       "      <th>short_kdj</th>\n",
       "      <th>sma-compare</th>\n",
       "      <th>ask</th>\n",
       "      <th>bid</th>\n",
       "      <th>is_short</th>\n",
       "      <th>nlpreds</th>\n",
       "      <th>action</th>\n",
       "      <th>predicted_action</th>\n",
       "      <th>reward</th>\n",
       "      <th>refined-action</th>\n",
       "    </tr>\n",
       "  </thead>\n",
       "  <tbody>\n",
       "    <tr>\n",
       "      <th>0</th>\n",
       "      <td>44.50000</td>\n",
       "      <td>44.75000</td>\n",
       "      <td>44.281457</td>\n",
       "      <td>44.135725</td>\n",
       "      <td>44.20000</td>\n",
       "      <td>1</td>\n",
       "      <td>44.30000</td>\n",
       "      <td>6.825090e+03</td>\n",
       "      <td>44.300000</td>\n",
       "      <td>44.328571</td>\n",
       "      <td>...</td>\n",
       "      <td>0</td>\n",
       "      <td>0</td>\n",
       "      <td>3.404859e+03</td>\n",
       "      <td>3.420231e+03</td>\n",
       "      <td>1</td>\n",
       "      <td>do_nothing</td>\n",
       "      <td>do_nothing</td>\n",
       "      <td>go_short</td>\n",
       "      <td>-35.430676</td>\n",
       "      <td>do_nothing</td>\n",
       "    </tr>\n",
       "    <tr>\n",
       "      <th>1</th>\n",
       "      <td>0.03876</td>\n",
       "      <td>0.04031</td>\n",
       "      <td>0.037357</td>\n",
       "      <td>0.035457</td>\n",
       "      <td>0.03866</td>\n",
       "      <td>1</td>\n",
       "      <td>0.03966</td>\n",
       "      <td>1.002442e+08</td>\n",
       "      <td>0.038784</td>\n",
       "      <td>0.038163</td>\n",
       "      <td>...</td>\n",
       "      <td>0</td>\n",
       "      <td>0</td>\n",
       "      <td>5.069731e+07</td>\n",
       "      <td>4.954684e+07</td>\n",
       "      <td>1</td>\n",
       "      <td>do_nothing</td>\n",
       "      <td>do_nothing</td>\n",
       "      <td>go_long</td>\n",
       "      <td>-51.032958</td>\n",
       "      <td>do_nothing</td>\n",
       "    </tr>\n",
       "  </tbody>\n",
       "</table>\n",
       "<p>2 rows × 22 columns</p>\n",
       "</div>"
      ],
      "text/plain": [
       "       open      high     ema-26     ema-12       low  mean-grad-hist  \\\n",
       "0  44.50000  44.75000  44.281457  44.135725  44.20000               1   \n",
       "1   0.03876   0.04031   0.037357   0.035457   0.03866               1   \n",
       "\n",
       "      close        volume     sma-05     sma-07  ...  short_kdj  sma-compare  \\\n",
       "0  44.30000  6.825090e+03  44.300000  44.328571  ...          0            0   \n",
       "1   0.03966  1.002442e+08   0.038784   0.038163  ...          0            0   \n",
       "\n",
       "            ask           bid  is_short     nlpreds      action  \\\n",
       "0  3.404859e+03  3.420231e+03         1  do_nothing  do_nothing   \n",
       "1  5.069731e+07  4.954684e+07         1  do_nothing  do_nothing   \n",
       "\n",
       "  predicted_action     reward refined-action  \n",
       "0         go_short -35.430676     do_nothing  \n",
       "1          go_long -51.032958     do_nothing  \n",
       "\n",
       "[2 rows x 22 columns]"
      ]
     },
     "execution_count": 2122,
     "metadata": {},
     "output_type": "execute_result"
    }
   ],
   "source": [
    "train_data.head(2)"
   ]
  },
  {
   "cell_type": "code",
   "execution_count": 2123,
   "metadata": {},
   "outputs": [],
   "source": [
    "new_cols = ['open', 'high', 'ema-26', 'ema-12', 'low', \\\n",
    "            'mean-grad-hist', 'close', 'volume', 'sma-25', 'long_jcrosk', 'short_kdj', \\\n",
    "            'sma-compare', 'ask', 'bid', 'is_short'\n",
    "        ]"
   ]
  },
  {
   "cell_type": "code",
   "execution_count": 2124,
   "metadata": {},
   "outputs": [],
   "source": [
    "# Encode actions into numerical values\n",
    "action_mapping = {\"go_long\": 0, \"go_short\": 1, \"do_nothing\": 2}\n",
    "action_col = 'refined-action' #'imit-action' if newdf0.empty else 'refined-action'\n",
    "train_data[\"action_num\"] = train_data[f\"{action_col}\"].map(action_mapping)"
   ]
  },
  {
   "cell_type": "code",
   "execution_count": 2125,
   "metadata": {},
   "outputs": [],
   "source": [
    "# Define RL parameters\n",
    "#states = train_data[[\"sma-05\", \"sma-07\", \"sma-25\", \"sma-compare\", \"is_short\"]].values  # Include binary_state\n",
    "states = train_data[new_cols].values\n",
    "actions = list(action_mapping.values())  # Action space\n",
    "rewards = train_data[\"reward\"].values  # Rewards\n",
    "n_states = states.shape[0]\n",
    "n_actions = len(actions)"
   ]
  },
  {
   "cell_type": "code",
   "execution_count": 2126,
   "metadata": {},
   "outputs": [],
   "source": [
    "# Initialize Q-table\n",
    "q_table = np.zeros((n_states, n_actions))"
   ]
  },
  {
   "cell_type": "code",
   "execution_count": 2127,
   "metadata": {},
   "outputs": [],
   "source": [
    "# Hyperparameters [0.25, 0.95, 1.0, 0.99, 0.99, 10000], [0.9, 0.95, 1.0, 0.99, 0.99, 8000], [0.7, 0.75, 1.0, 0.97, 0.999, 28000]\n",
    "# [0.05, 0.95, 1.0, 0.999, 0.995, 12000], [1, 0.95, 0.1, 0.96, 0.96, 12000], [0.25, 0.99, 0.01, 0.997, 0.99, 8000]\n",
    "# [1, 0.75, 0.05, 0.999, 0.999, 10000], [0.01, 0.85, 0.01, 0.95, 0.95, 12000], [0.01, 0.99, 1.0, 0.95, 0.99, 16000], [0.05, 0.99, 0.5, 0.99, 0.997, 6000]\n",
    "# [0.25, 0.95, 0.01, 0.997, 0.999, 14000], [0.01, 0.95, 1.0, 0.997, 0.995, 26000], [0.9, 0.9, 0.005, 0.95, 0.999, 10000]\n",
    "# [0.7, 0.95, 0.5, 0.999, 0.99, 16000], [0.005, 0.75, 0.1, 0.95, 0.999, 12000], [0.001, 0.75, 1.0, 0.99, 0.99, 30000]\n",
    "# [0.25, 0.75, 0.01, 0.995, 0.999, 20000], [0.001, 0.99, 1.0, 0.95, 0.99, 10000], [1, 0.75, 0.005, 0.95, 0.95, 22000]\n",
    "'''\n",
    "alpha = 1\n",
    "gamma = 0.95\n",
    "epsilon = 0.1\n",
    "min_epsilon = 0.96\n",
    "decay_rate = 0.96\n",
    "n_episodes = 12000\n",
    "'''\n",
    "alpha, gamma, epsilon, min_epsilon, decay_rate, n_episodes = 0.1, 0.9, 0.99, 0.99, 0.995, 4000 #0.25, 0.75, 0.01, 0.995, 0.999, 20000 #0.9, 0.9, 0.005, 0.95, 0.999, 10000 # 0.25, 0.95, 0.01, 0.997, 0.999, 14000\n",
    "\n"
   ]
  },
  {
   "cell_type": "code",
   "execution_count": 2128,
   "metadata": {},
   "outputs": [],
   "source": [
    "def create_state_index_mapping(df):\n",
    "    state_to_index = {}\n",
    "    for idx, row in df.iterrows():\n",
    "        state = (row['open'], row['high'], row['ema-26'], row['ema-12'], row['low'], \\\n",
    "                 row['mean-grad-hist'], row['close'], row['volume'], row['sma-25'], \\\n",
    "                 row['long_jcrosk'], row['short_kdj'], row['sma-compare'], row['ask'], \\\n",
    "                 row['bid'], row['is_short']\n",
    "                )\n",
    "        state_to_index[state] = idx\n",
    "    return state_to_index\n",
    "\n",
    "# Assuming 'df' is your dataframe used during training\n",
    "state_to_index = create_state_index_mapping(train_data)\n",
    "\n",
    "# Save the state_to_index dictionary for later use\n",
    "np.save('large_state_to_index.npy', state_to_index)\n"
   ]
  },
  {
   "cell_type": "code",
   "execution_count": 2129,
   "metadata": {},
   "outputs": [],
   "source": [
    "# Helper function to choose an action using epsilon-greedy\n",
    "def choose_action(state, epsilon):\n",
    "    if np.random.uniform(0, 1) < epsilon:\n",
    "        return np.random.randint(0, n_actions)  # Explore: random action\n",
    "    else:\n",
    "        return np.argmax(q_table[state])  # Exploit: best known action"
   ]
  },
  {
   "cell_type": "code",
   "execution_count": 2130,
   "metadata": {},
   "outputs": [],
   "source": [
    "\n",
    "# Load the best episode transitions\n",
    "best_episode_transitions = np.load(\"best_large_episode_transitions.npy\", allow_pickle=True)\n",
    "\n",
    "# Optionally, pre-train the Q-table using the best episode\n",
    "for state, action, reward, next_state in best_episode_transitions:\n",
    "    best_next_action = np.argmax(q_table[next_state])\n",
    "    q_table[state, action] += alpha * (reward + gamma * q_table[next_state, best_next_action] - q_table[state, action])\n",
    "\n",
    "# Load the previously saved Q-table and best episode transitions\n",
    "best_q_table = np.load(\"best_large_q_table.npy\")  # Load the best Q-table\n",
    "best_episode_transitions = np.load(\"best_large_episode_transitions.npy\", allow_pickle=True).tolist()  # Load best transitions'\n"
   ]
  },
  {
   "cell_type": "code",
   "execution_count": 2131,
   "metadata": {},
   "outputs": [
    {
     "name": "stderr",
     "output_type": "stream",
     "text": [
      "Evaluating results per episode...:   1%|          | 23/4000 [00:00<00:17, 222.22it/s]"
     ]
    },
    {
     "name": "stdout",
     "output_type": "stream",
     "text": [
      "Episode 0/4000 - Total Reward: 2787.0924914299994, Epsilon: 0.99\n"
     ]
    },
    {
     "name": "stderr",
     "output_type": "stream",
     "text": [
      "Evaluating results per episode...:  11%|█         | 440/4000 [00:01<00:12, 276.74it/s]"
     ]
    },
    {
     "name": "stdout",
     "output_type": "stream",
     "text": [
      "Episode 400/4000 - Total Reward: 2821.782146219999, Epsilon: 0.99\n"
     ]
    },
    {
     "name": "stderr",
     "output_type": "stream",
     "text": [
      "Evaluating results per episode...:  21%|██        | 849/4000 [00:03<00:11, 283.22it/s]"
     ]
    },
    {
     "name": "stdout",
     "output_type": "stream",
     "text": [
      "Episode 800/4000 - Total Reward: 6673.750427669997, Epsilon: 0.99\n"
     ]
    },
    {
     "name": "stderr",
     "output_type": "stream",
     "text": [
      "Evaluating results per episode...:  31%|███       | 1233/4000 [00:04<00:09, 285.50it/s]"
     ]
    },
    {
     "name": "stdout",
     "output_type": "stream",
     "text": [
      "Episode 1200/4000 - Total Reward: 5341.282628310001, Epsilon: 0.99\n"
     ]
    },
    {
     "name": "stderr",
     "output_type": "stream",
     "text": [
      "Evaluating results per episode...:  41%|████      | 1639/4000 [00:05<00:08, 275.63it/s]"
     ]
    },
    {
     "name": "stdout",
     "output_type": "stream",
     "text": [
      "Episode 1600/4000 - Total Reward: 3580.3812356199987, Epsilon: 0.99\n"
     ]
    },
    {
     "name": "stderr",
     "output_type": "stream",
     "text": [
      "Evaluating results per episode...:  51%|█████     | 2037/4000 [00:07<00:08, 244.74it/s]"
     ]
    },
    {
     "name": "stdout",
     "output_type": "stream",
     "text": [
      "Episode 2000/4000 - Total Reward: 17471.267668980003, Epsilon: 0.99\n"
     ]
    },
    {
     "name": "stderr",
     "output_type": "stream",
     "text": [
      "Evaluating results per episode...:  62%|██████▏   | 2465/4000 [00:09<00:06, 254.11it/s]"
     ]
    },
    {
     "name": "stdout",
     "output_type": "stream",
     "text": [
      "Episode 2400/4000 - Total Reward: 14393.412636580037, Epsilon: 0.99\n"
     ]
    },
    {
     "name": "stderr",
     "output_type": "stream",
     "text": [
      "Evaluating results per episode...:  71%|███████   | 2838/4000 [00:10<00:05, 232.35it/s]"
     ]
    },
    {
     "name": "stdout",
     "output_type": "stream",
     "text": [
      "Episode 2800/4000 - Total Reward: 3383.869935739999, Epsilon: 0.99\n"
     ]
    },
    {
     "name": "stderr",
     "output_type": "stream",
     "text": [
      "Evaluating results per episode...:  81%|████████  | 3236/4000 [00:12<00:02, 264.82it/s]"
     ]
    },
    {
     "name": "stdout",
     "output_type": "stream",
     "text": [
      "Episode 3200/4000 - Total Reward: 18773.564733450014, Epsilon: 0.99\n"
     ]
    },
    {
     "name": "stderr",
     "output_type": "stream",
     "text": [
      "Evaluating results per episode...:  91%|█████████ | 3649/4000 [00:13<00:01, 255.31it/s]"
     ]
    },
    {
     "name": "stdout",
     "output_type": "stream",
     "text": [
      "Episode 3600/4000 - Total Reward: 21810.95183448995, Epsilon: 0.99\n"
     ]
    },
    {
     "name": "stderr",
     "output_type": "stream",
     "text": [
      "Evaluating results per episode...: 100%|██████████| 4000/4000 [00:15<00:00, 263.04it/s]\n"
     ]
    },
    {
     "data": {
      "image/png": "[encoded data removed]",
      "text/plain": [
       "<Figure size 640x480 with 1 Axes>"
      ]
     },
     "metadata": {},
     "output_type": "display_data"
    },
    {
     "name": "stdout",
     "output_type": "stream",
     "text": [
      "Best Episode Reward: 22202.04234111995\n",
      "Best Episode Transitions: [(34, 0, 46.9070456, 35), (35, 0, 14.36017624, 36), (36, 1, 24.64068362, 37), (37, 1, 78.13437083, 38), (38, 0, 58.40008289, 39)] ...\n",
      "Best Episode Hyperparameters: {'alpha': 0.1, 'gamma': 0.9, 'epsilon': 0.99, 'min_epsilon': 0.99, 'decay_rate': 0.995, 'n_episodes': 4000}\n"
     ]
    }
   ],
   "source": [
    "# Set random seed for reproducibility\n",
    "np.random.seed(42)\n",
    "random.seed(42)\n",
    "\n",
    "# Define hyperparameters\n",
    "\n",
    "# Initialize lists to store rewards and transitions per episode\n",
    "rewards_per_episode = []\n",
    "#best_episode_transitions = []\n",
    "#best_q_table = None\n",
    "best_total_reward = float('-inf')  # Initialize with negative infinity\n",
    "best_hyperparameters = {}  # Dictionary to store hyperparameters of best episode\n",
    "\n",
    "for episode in tqdm(range(n_episodes), desc=\"Evaluating results per episode...\"):\n",
    "    current_state = np.random.randint(0, n_states)  # Random initial state\n",
    "    total_reward = 0  # Initialize total reward for the current episode\n",
    "    episode_transitions = []  # Store (state, action, reward, next_state) tuples for this episode\n",
    "\n",
    "    while current_state < n_states - 1:\n",
    "        action = choose_action(current_state, epsilon)\n",
    "        next_state = current_state + 1  # This depends on your environment logic\n",
    "        reward = rewards[next_state]\n",
    "\n",
    "        best_next_action = np.argmax(q_table[next_state])\n",
    "        best_q_table[current_state, action] += alpha * (\n",
    "            reward + gamma * q_table[next_state, best_next_action] - q_table[current_state, action]\n",
    "        )\n",
    "\n",
    "        total_reward += reward  # Accumulate reward\n",
    "        episode_transitions.append((current_state, action, reward, next_state))\n",
    "        current_state = next_state  # Move to next state\n",
    "\n",
    "    rewards_per_episode.append(total_reward)  # Store total reward for the current episode\n",
    "\n",
    "    # Check if this is the best episode so far\n",
    "    if total_reward > best_total_reward:\n",
    "        best_total_reward = total_reward\n",
    "        best_episode_transitions = episode_transitions.copy()\n",
    "        best_q_table = best_q_table.copy()\n",
    "\n",
    "        # Store the hyperparameters at the best episode\n",
    "        best_hyperparameters = {\n",
    "            \"alpha\": alpha,\n",
    "            \"gamma\": gamma,\n",
    "            \"epsilon\": epsilon,\n",
    "            \"min_epsilon\": min_epsilon,\n",
    "            \"decay_rate\": decay_rate,\n",
    "            \"n_episodes\": n_episodes\n",
    "        }\n",
    "\n",
    "    # Decay epsilon\n",
    "    epsilon = max(min_epsilon, epsilon * decay_rate)\n",
    "\n",
    "    # Optional: Log progress\n",
    "    if episode % 400 == 0:  \n",
    "        print(f\"Episode {episode}/{n_episodes} - Total Reward: {total_reward}, Epsilon: {epsilon}\")\n",
    "\n",
    "# Save the best episode's Q-table\n",
    "np.save(\"best_large_q_table.npy\", best_q_table)\n",
    "# Save the best episode's transitions\n",
    "np.save(\"best_large_episode_transitions.npy\", np.array(best_episode_transitions, dtype=object))\n",
    "# Plot the rewards per episode\n",
    "plt.plot(rewards_per_episode)\n",
    "plt.xlabel('Episode')\n",
    "plt.ylabel('Reward')\n",
    "plt.title('Rewards per Episode')\n",
    "plt.show()\n",
    "\n",
    "# Print best episode results\n",
    "print(f\"Best Episode Reward: {best_total_reward}\")\n",
    "print(f\"Best Episode Transitions: {best_episode_transitions[:5]} ...\")  # Show first 5 transitions\n",
    "print(f\"Best Episode Hyperparameters: {best_hyperparameters}\")"
   ]
  },
  {
   "cell_type": "code",
   "execution_count": 2165,
   "metadata": {},
   "outputs": [],
   "source": [
    "def compute_action_transition_probabilities(episode_transitions_file):\n",
    "    \"\"\"\n",
    "    Compute the action transition probability matrix from episode transitions with labeled actions.\n",
    "\n",
    "    Parameters:\n",
    "    - episode_transitions_file: str, path to the .npy file containing episode transitions.\n",
    "\n",
    "    Returns:\n",
    "    - transition_matrix: pd.DataFrame, the action transition probability matrix with labeled actions.\n",
    "    \"\"\"\n",
    "    # Load episode transitions [(state, action, reward, next_state)]\n",
    "    episode_transitions = np.load(episode_transitions_file, allow_pickle=True)\n",
    "\n",
    "    # Extract action transitions\n",
    "    action_transitions = [(t[1], episode_transitions[i + 1][1]) \n",
    "                          for i, t in enumerate(episode_transitions[:-1])]\n",
    "\n",
    "    # Create DataFrame\n",
    "    df_transitions = pd.DataFrame(action_transitions, columns=['current_action', 'next_action'])\n",
    "\n",
    "    # Map action indices to their corresponding names\n",
    "    action_names = {0: 'go_long', 1: 'go_short', 2: 'do_nothing'}\n",
    "    df_transitions['current_action'] = df_transitions['current_action'].map(action_names)\n",
    "    df_transitions['next_action'] = df_transitions['next_action'].map(action_names)\n",
    "\n",
    "    # Compute transition matrix\n",
    "    transition_matrix = df_transitions.groupby(['current_action', 'next_action']).size().unstack(fill_value=0)\n",
    "\n",
    "    # Normalize to get probabilities\n",
    "    transition_matrix = transition_matrix.div(transition_matrix.sum(axis=1), axis=0)\n",
    "\n",
    "    print(\"Action Transition Probability Matrix:\")\n",
    "    print(transition_matrix)\n",
    "\n",
    "    return transition_matrix\n",
    "\n",
    "# Example usage:\n",
    "# transition_matrix = compute_action_transition_probabilities(\"best_bids_episode_transitions.npy\")"
   ]
  },
  {
   "cell_type": "code",
   "execution_count": 2132,
   "metadata": {},
   "outputs": [],
   "source": [
    "def load_q_table(file_path):\n",
    "    return np.load(file_path, allow_pickle=True)\n",
    "\n",
    "def load_state_index_mapping(file_path):\n",
    "    return np.load(file_path, allow_pickle=True).item()\n",
    "\n",
    "loaded_mapping = load_state_index_mapping(file_path=\"large_state_to_index.npy\")\n",
    "loaded_qtable = load_q_table(file_path=\"best_large_q_table.npy\")"
   ]
  },
  {
   "cell_type": "code",
   "execution_count": 2133,
   "metadata": {},
   "outputs": [],
   "source": [
    "#state = (row['open'], row['high'], row['ema-26'], row['ema-12'], row['low'], \\\n",
    "#                 row['mean-grad-hist'], row['close'], row['volume'], row['sma-25'], \\\n",
    "#                 row['long_jcrosk'], row['short_kdj'], row['sma-compare'], row['is_short'])\n",
    "\n",
    "def prep_state(\n",
    "                open: float, high: float, ema_26: float, ema_12: float, low: float,\n",
    "                mean_grad_hist: float, close: float, volume: float, sma_25: float,\n",
    "                long_jcrosk: float, short_kdj: float, sma_compare: int, is_short: int,\n",
    "            ):\n",
    "    state = np.array([[open, high, ema_26, ema_12, low, mean_grad_hist, close, volume, sma_25, long_jcrosk, short_kdj, sma_compare, is_short]])\n",
    "    if not np.all(np.isfinite(state)):\n",
    "        state = np.nan_to_num(state, nan=0.0, posinf=0.0, neginf=0.0)\n",
    "    return state\n"
   ]
  },
  {
   "cell_type": "code",
   "execution_count": 2134,
   "metadata": {},
   "outputs": [],
   "source": [
    "\n",
    "def predict_action(state, q_table, state_to_index, action_mapping, default_action: str = None):\n",
    "    state_tuple = tuple(state.flatten())\n",
    "\n",
    "    state_index = state_to_index.get(state_tuple, -1)\n",
    "\n",
    "    if not state_index == -1:\n",
    "        try:\n",
    "            q_values = q_table[state_index]\n",
    "        except ValueError as e:\n",
    "            print(e)\n",
    "            #return default_action\n",
    "    else:\n",
    "        state_tuples = list(state_to_index.keys())\n",
    "        kdtree = KDTree(state_tuples)\n",
    "        distance, index = kdtree.query(state.flatten())\n",
    "        nearest_state_tuple = state_tuples[index]\n",
    "        new_state_index = state_to_index[nearest_state_tuple]\n",
    "        q_values = loaded_qtable[new_state_index]\n",
    "    \n",
    "    #q_values = q_table[state_index]\n",
    "    best_action_index = np.argmax(q_values)\n",
    "    action = [action for action, index in action_mapping.items() if index == best_action_index][0]\n",
    "    return action"
   ]
  },
  {
   "cell_type": "code",
   "execution_count": 2135,
   "metadata": {},
   "outputs": [],
   "source": [
    "# Predict an entire range\n",
    "for idx, row in train_data.iterrows():\n",
    "    state = row[['open', 'high', 'ema-26', 'ema-12', 'low', 'mean-grad-hist', 'close', 'volume', 'sma-25', 'long_jcrosk', 'short_kdj', 'sma-compare', 'ask', 'bid', 'is_short']].values\n",
    "    action = predict_action(state, best_q_table, state_to_index, action_mapping)\n",
    "    train_data.loc[idx, \"predicted_action\"] = action"
   ]
  },
  {
   "cell_type": "code",
   "execution_count": 2136,
   "metadata": {},
   "outputs": [],
   "source": [
    "# Predict an entire range\n",
    "def predict_range(filename: str) -> DataFrame:\n",
    "    df = pd.read_csv(filename)\n",
    "    df['action_num'] = train_data['action_num']\n",
    "    for idx, row in df.iterrows():\n",
    "        state = row[['open', 'high', 'ema-26', 'ema-12', 'low', 'mean-grad-hist', 'close', 'volume', 'sma-25', 'long_jcrosk', 'short_kdj', 'sma-compare', 'ask', 'bid', 'is_short']].values\n",
    "        action = predict_action(state, best_q_table, state_to_index, action_mapping)\n",
    "        df.loc[idx, \"predicted_action\"] = action\n",
    "    return df"
   ]
  },
  {
   "cell_type": "markdown",
   "metadata": {},
   "source": [
    "### Change this to predict a different file"
   ]
  },
  {
   "cell_type": "code",
   "execution_count": 2137,
   "metadata": {},
   "outputs": [],
   "source": [
    "#train_data = predict_range('../spreadsheets/rlhf_large_173nlp.csv')"
   ]
  },
  {
   "cell_type": "code",
   "execution_count": 2138,
   "metadata": {},
   "outputs": [
    {
     "data": {
      "text/plain": [
       "predicted_action\n",
       "go_short      465\n",
       "do_nothing    389\n",
       "go_long       388\n",
       "Name: count, dtype: int64"
      ]
     },
     "execution_count": 2138,
     "metadata": {},
     "output_type": "execute_result"
    }
   ],
   "source": [
    "train_data['predicted_action'].value_counts()"
   ]
  },
  {
   "cell_type": "code",
   "execution_count": 2139,
   "metadata": {},
   "outputs": [
    {
     "data": {
      "text/plain": [
       "Series([], Name: count, dtype: int64)"
      ]
     },
     "execution_count": 2139,
     "metadata": {},
     "output_type": "execute_result"
    }
   ],
   "source": [
    "m = train_data[((train_data['predicted_action'] == 'go_short') & (train_data['predicted_action'] == 'do_nothing')) & (train_data['reward'] > 0)]\n",
    "m['is_short'].value_counts()"
   ]
  },
  {
   "cell_type": "code",
   "execution_count": 2140,
   "metadata": {},
   "outputs": [
    {
     "name": "stdout",
     "output_type": "stream",
     "text": [
      "None\n",
      "None\n"
     ]
    }
   ],
   "source": [
    "longs = dict(m['is_short'].value_counts().items()).get(0)\n",
    "print(longs)\n",
    "shorts = dict(m['is_short'].value_counts().items()).get(1)\n",
    "print(shorts)"
   ]
  },
  {
   "cell_type": "code",
   "execution_count": 2141,
   "metadata": {},
   "outputs": [
    {
     "name": "stdout",
     "output_type": "stream",
     "text": [
      "Processed state 0/1241\n",
      "Current Predicted Reward: 0\n",
      "Current Actual Reward: -51.032958\n",
      "Processed state 100/1241\n",
      "Current Predicted Reward: 191.07242583000001\n",
      "Current Actual Reward: 689.93978608\n",
      "Processed state 200/1241\n",
      "Current Predicted Reward: 1169.64849554\n",
      "Current Actual Reward: 2974.55021633\n",
      "Processed state 300/1241\n",
      "Current Predicted Reward: 1861.0483007900002\n",
      "Current Actual Reward: 4713.566238529998\n",
      "Processed state 400/1241\n",
      "Current Predicted Reward: 3079.585171580001\n",
      "Current Actual Reward: 7435.592408749999\n",
      "Processed state 500/1241\n",
      "Current Predicted Reward: 3193.48091497\n",
      "Current Actual Reward: 9818.464269250007\n",
      "Processed state 600/1241\n",
      "Current Predicted Reward: 3484.313322129999\n",
      "Current Actual Reward: 10692.231390490011\n",
      "Processed state 700/1241\n",
      "Current Predicted Reward: 3674.502763229999\n",
      "Current Actual Reward: 13025.656922350017\n",
      "Processed state 800/1241\n",
      "Current Predicted Reward: 3965.1225216899984\n",
      "Current Actual Reward: 14993.718664730017\n",
      "Processed state 900/1241\n",
      "Current Predicted Reward: 3883.869336669999\n",
      "Current Actual Reward: 16659.33627535001\n",
      "Processed state 1000/1241\n",
      "Current Predicted Reward: 4220.38989214\n",
      "Current Actual Reward: 18453.035714059995\n",
      "Processed state 1100/1241\n",
      "Current Predicted Reward: 4616.859453099999\n",
      "Current Actual Reward: 18768.40480083998\n",
      "Processed state 1200/1241\n",
      "Current Predicted Reward: 5132.805990670001\n",
      "Current Actual Reward: 21603.783283009954\n",
      "Cumulative Predicted Reward: 5215.926190200003\n",
      "Cumulative Actual Reward: 21804.842627619953\n",
      "Prediction Efficiency: -76.08%\n"
     ]
    }
   ],
   "source": [
    "# Performance measures\n",
    "# Initialize cumulative rewards\n",
    "cumulative_predicted_reward = 0\n",
    "cumulative_actual_reward = 0\n",
    "\n",
    "# Iterate through states to calculate rewards\n",
    "for state_index in range(n_states - 1):\n",
    "    # Predicted action from Q-table\n",
    "    predicted_action = np.argmax(best_q_table[state_index])  # Best action for the current state\n",
    "    # Actual action from the ground truth\n",
    "    actual_action = train_data[\"action_num\"].iloc[state_index]\n",
    "\n",
    "    # Get reward for predicted action only if it matches the actual action\n",
    "    if predicted_action == actual_action:\n",
    "        predicted_reward = rewards[state_index + 1]  # Reward for the correct prediction\n",
    "        cumulative_predicted_reward += predicted_reward\n",
    "\n",
    "    # Get actual reward for the ground truth action\n",
    "    actual_reward = rewards[state_index + 1]\n",
    "    cumulative_actual_reward += actual_reward\n",
    "\n",
    "    # Optional: Log progress\n",
    "    if state_index % 100 == 0:  # Adjust logging frequency as needed\n",
    "        print(f\"Processed state {state_index}/{n_states - 1}\")\n",
    "        print(f\"Current Predicted Reward: {cumulative_predicted_reward}\")\n",
    "        print(f\"Current Actual Reward: {cumulative_actual_reward}\")\n",
    "\n",
    "# Print results\n",
    "print(f\"Cumulative Predicted Reward: {cumulative_predicted_reward}\")\n",
    "print(f\"Cumulative Actual Reward: {cumulative_actual_reward}\")\n",
    "\n",
    "# Optionally calculate efficiency\n",
    "efficiency = (\n",
    "    ((cumulative_predicted_reward - cumulative_actual_reward) / abs(cumulative_actual_reward)) * 100\n",
    "    if cumulative_actual_reward != 0\n",
    "    else 0\n",
    ")\n",
    "print(f\"Prediction Efficiency: {efficiency:.2f}%\")\n",
    "\n"
   ]
  },
  {
   "cell_type": "code",
   "execution_count": 2142,
   "metadata": {},
   "outputs": [
    {
     "name": "stdout",
     "output_type": "stream",
     "text": [
      "Accuracy: 31.16%\n"
     ]
    }
   ],
   "source": [
    "# Accuracy\n",
    "\n",
    "correct_predictions = 0\n",
    "for state_index in range(n_states):\n",
    "    predicted_action = np.argmax(best_q_table[state_index])  # Predicted action\n",
    "    actual_action = train_data[\"action_num\"].iloc[state_index]  # Actual action\n",
    "    if predicted_action == actual_action:\n",
    "        correct_predictions += 1\n",
    "\n",
    "accuracy = correct_predictions / n_states\n",
    "\n",
    "print(f\"Accuracy: {accuracy * 100:.2f}%\")\n"
   ]
  },
  {
   "cell_type": "code",
   "execution_count": 2143,
   "metadata": {},
   "outputs": [
    {
     "name": "stdout",
     "output_type": "stream",
     "text": [
      "Confusion Matrix:\n",
      "[[130 155 129]\n",
      " [131 132 151]\n",
      " [136 153 125]]\n"
     ]
    }
   ],
   "source": [
    "# Confusion matrix\n",
    "y_true = train_data[\"action_num\"]  # Actual actions\n",
    "y_pred = [np.argmax(best_q_table[state_index]) for state_index in range(n_states)]  # Predicted actions\n",
    "\n",
    "cm = confusion_matrix(y_true, y_pred)\n",
    "print(\"Confusion Matrix:\")\n",
    "print(cm)"
   ]
  },
  {
   "cell_type": "code",
   "execution_count": 2144,
   "metadata": {},
   "outputs": [],
   "source": [
    "def accuracy(conf_matrix, n_states):\n",
    "    # True Positives (TP): Diagonal elements of the confusion matrix\n",
    "    TP = conf_matrix[0][0] + conf_matrix[1][1] + conf_matrix[2][2]\n",
    "    # **True Positives**: 16 (class 0), 0 (class 1), 0 (class 2)\n",
    "    return TP/n_states"
   ]
  },
  {
   "cell_type": "code",
   "execution_count": 2145,
   "metadata": {},
   "outputs": [
    {
     "name": "stdout",
     "output_type": "stream",
     "text": [
      "0.3115942028985507\n"
     ]
    }
   ],
   "source": [
    "print(accuracy(cm, n_states=n_states))"
   ]
  },
  {
   "cell_type": "code",
   "execution_count": 2146,
   "metadata": {},
   "outputs": [
    {
     "data": {
      "text/plain": [
       "action\n",
       "do_nothing    414\n",
       "go_long       414\n",
       "go_short      414\n",
       "Name: count, dtype: int64"
      ]
     },
     "execution_count": 2146,
     "metadata": {},
     "output_type": "execute_result"
    }
   ],
   "source": [
    "df0['action'].value_counts()"
   ]
  },
  {
   "cell_type": "code",
   "execution_count": 2147,
   "metadata": {},
   "outputs": [],
   "source": [
    "def action_reward(action: str, is_short: int):\n",
    "    m = train_data[(train_data['predicted_action'] == f'{action}') & (train_data['is_short'] == is_short)]\n",
    "    counts = m['is_short'].value_counts()\n",
    "    total_reward = m['reward'].cumsum()[-1:].values[0]\n",
    "    wins = len(m[m['reward'] > 0])\n",
    "    losses = len(m[m['reward'] <= 0])\n",
    "    return {\n",
    "        'counts': counts.get(is_short),\n",
    "        'total reward': total_reward,\n",
    "        'winrate': f'{wins * 100 / (losses + wins):.2f}%',\n",
    "        'per trade profit': m[m['reward'] > 0]['reward'].sum() / wins,\n",
    "        'per trade loss': m[m['reward'] <= 0]['reward'].sum() / losses\n",
    "    }"
   ]
  },
  {
   "cell_type": "code",
   "execution_count": 2148,
   "metadata": {},
   "outputs": [],
   "source": [
    "#action_reward('do_nothing', 0)"
   ]
  },
  {
   "cell_type": "code",
   "execution_count": 2149,
   "metadata": {},
   "outputs": [
    {
     "name": "stdout",
     "output_type": "stream",
     "text": [
      "go_long 0: {'counts': 312, 'total reward': 8320.49533174, 'winrate': '80.45%', 'per trade profit': 45.10735505764941, 'per trade loss': -49.2041112742623}\n",
      "go_long 1: {'counts': 76, 'total reward': -3589.2761939399993, 'winrate': '1.32%', 'per trade profit': 37.32270188, 'per trade loss': -48.35465194426667}\n",
      "go_short 0: {'counts': 69, 'total reward': -3575.1790166700002, 'winrate': '2.90%', 'per trade profit': 130.59773676, 'per trade loss': -57.259320749104475}\n",
      "go_short 1: {'counts': 396, 'total reward': 13201.261249050001, 'winrate': '78.28%', 'per trade profit': 54.21370090429033, 'per trade loss': -41.918442224186045}\n",
      "do_nothing 0: {'counts': 197, 'total reward': 3235.1666927399992, 'winrate': '79.70%', 'per trade profit': 34.44081403363057, 'per trade loss': -54.30102776350001}\n",
      "do_nothing 1: {'counts': 192, 'total reward': 4176.943888970001, 'winrate': '55.73%', 'per trade profit': 76.81267004672898, 'per trade loss': -47.55308007094118}\n"
     ]
    }
   ],
   "source": [
    "dirs = [0,1]\n",
    "for action in action_mapping.keys():\n",
    "    for is_short in dirs:\n",
    "        try:\n",
    "            print(f'{action} {is_short}: {action_reward(action, is_short)}')\n",
    "        except IndexError as e:\n",
    "            print(e)"
   ]
  },
  {
   "cell_type": "code",
   "execution_count": 2164,
   "metadata": {},
   "outputs": [
    {
     "name": "stdout",
     "output_type": "stream",
     "text": [
      "Action Transition Probability Matrix:\n",
      "next_action            0         1         2\n",
      "current_action                              \n",
      "0               0.324873  0.329949  0.345178\n",
      "1               0.344828  0.339901  0.315271\n",
      "2               0.307882  0.339901  0.352217\n",
      "next_action            0         1         2\n",
      "current_action                              \n",
      "0               0.324873  0.329949  0.345178\n",
      "1               0.344828  0.339901  0.315271\n",
      "2               0.307882  0.339901  0.352217\n"
     ]
    }
   ],
   "source": [
    "transition_matrix = compute_action_transition_probabilities(\"best_large_episode_transitions.npy\")\n",
    "print(transition_matrix)"
   ]
  },
  {
   "cell_type": "code",
   "execution_count": 2150,
   "metadata": {},
   "outputs": [
    {
     "data": {
      "image/png": "[encoded data removed]",
      "text/plain": [
       "<Figure size 640x480 with 1 Axes>"
      ]
     },
     "metadata": {},
     "output_type": "display_data"
    }
   ],
   "source": [
    "import matplotlib.pyplot as plt\n",
    "\n",
    "# Assuming you have a list of rewards for each episode\n",
    "#rewards_per_episode = [...]  # Populate this with your actual data\n",
    "\n",
    "plt.plot(rewards_per_episode)\n",
    "plt.xlabel('Episode')\n",
    "plt.ylabel('Reward')\n",
    "plt.title('Rewards per Episode')\n",
    "plt.show()\n"
   ]
  },
  {
   "cell_type": "code",
   "execution_count": 2151,
   "metadata": {},
   "outputs": [],
   "source": [
    "# create corrected action\n",
    "def correct_action(row):\n",
    "    if row['predicted_action'] == 'go_long' and row['is_short'] == 1 and row['reward'] > 0:\n",
    "        return 'go_short'\n",
    "    if row['predicted_action'] == 'go_short' and row['is_short'] == 0 and row['reward'] > 0:\n",
    "        return 'go_long'\n",
    "    if row['predicted_action'] == 'do_nothing' and row['is_short'] == 1 and row['reward'] > 0:\n",
    "        return 'go_short'\n",
    "    if row['predicted_action'] == 'do_nothing' and row['is_short'] == 0 and row['reward'] > 0:\n",
    "        return 'go_long'\n",
    "    return row['predicted_action']\n",
    "\n",
    "def refiner_action(version: str, data: DataFrame = None) -> DataFrame:\n",
    "    data['refined-action'] = data.apply(lambda x: correct_action(x), axis=1)\n",
    "    # Validation: Ensure we're fixing the 751 misclassified entries\n",
    "    misclassified = data[\n",
    "        (data['predicted_action'] == 'go_long') & \n",
    "        (data['refined-action'] == 'go_short')\n",
    "    ]\n",
    "    # Add this after applying refined-action\n",
    "    confusion_matrix = pd.crosstab(\n",
    "        data['refined-action'], \n",
    "        data['predicted_action'],  # Assuming you have ground truth column\n",
    "        rownames=['refined'],\n",
    "        colnames=['predicted']\n",
    "    )\n",
    "    print(\"Updated Confusion Matrix:\")\n",
    "    print(confusion_matrix) \n",
    "    print(f\"Corrected {len(misclassified)} go_long->go_short misclassifications\")\n",
    "    filename = f'/home/defi/Desktop/portfolio/projects/python/jupyter/spreadsheets/rlhf_large_{version}_refined.csv'\n",
    "    data.to_csv(filename, index=False)\n",
    "    return data"
   ]
  },
  {
   "cell_type": "code",
   "execution_count": 2152,
   "metadata": {},
   "outputs": [],
   "source": [
    "base_dir = '/home/defi/Desktop/portfolio/projects/python/pipeline_defi/'\n",
    "\n",
    "def refine_file(version: str, file) -> DataFrame:\n",
    "    filename = f'{base_dir}{file}.csv'\n",
    "    print(filename)\n",
    "    df = pd.read_csv(filename)\n",
    "    df = df[df['reward'] > 0]\n",
    "    new_data = prep_data(df) #if newdf0.empty else prep_data(newdf0.copy())\n",
    "    #new_data = prep_data(df)   \n",
    "    print(new_data.columns)\n",
    "    new_train_data = refiner_action(version=version, data=new_data)\n",
    "\n",
    "    #new_data = df0.copy()\n",
    "    print(new_train_data.columns)\n",
    "\n",
    "    new_train_data['nlpreds'] = new_train_data['predicted_action']\n",
    "    #new_train_data['predicted_action'] = new_train_data['predicted_action']\n",
    "    return new_train_data"
   ]
  },
  {
   "cell_type": "code",
   "execution_count": 2153,
   "metadata": {},
   "outputs": [
    {
     "name": "stdout",
     "output_type": "stream",
     "text": [
      "/home/defi/Desktop/portfolio/projects/python/pipeline_defi/lean_df_99rl.csv\n",
      "Index(['open', 'high', 'ema-26', 'ema-12', 'low', 'mean-grad-hist', 'close',\n",
      "       'volume', 'sma-05', 'sma-07', 'sma-25', 'long_jcrosk', 'short_kdj',\n",
      "       'sma-compare', 'ask', 'bid', 'is_short', 'nlpreds', 'action',\n",
      "       'predicted_action', 'reward'],\n",
      "      dtype='object')\n",
      "Updated Confusion Matrix:\n",
      "predicted  do_nothing  go_long  go_short\n",
      "refined                                 \n",
      "go_long            24       52        31\n",
      "go_short           61       93        77\n",
      "Corrected 93 go_long->go_short misclassifications\n",
      "Index(['open', 'high', 'ema-26', 'ema-12', 'low', 'mean-grad-hist', 'close',\n",
      "       'volume', 'sma-05', 'sma-07', 'sma-25', 'long_jcrosk', 'short_kdj',\n",
      "       'sma-compare', 'ask', 'bid', 'is_short', 'nlpreds', 'action',\n",
      "       'predicted_action', 'reward', 'refined-action'],\n",
      "      dtype='object')\n"
     ]
    }
   ],
   "source": [
    "newdf0 = refine_file('99rl', 'lean_df_99rl')"
   ]
  },
  {
   "cell_type": "code",
   "execution_count": 2154,
   "metadata": {},
   "outputs": [
    {
     "data": {
      "text/plain": [
       "predicted_action\n",
       "go_long       145\n",
       "go_short      108\n",
       "do_nothing     85\n",
       "Name: count, dtype: int64"
      ]
     },
     "execution_count": 2154,
     "metadata": {},
     "output_type": "execute_result"
    }
   ],
   "source": [
    "newdf0['predicted_action'].value_counts()"
   ]
  },
  {
   "cell_type": "code",
   "execution_count": 2155,
   "metadata": {},
   "outputs": [
    {
     "data": {
      "text/plain": [
       "nlpreds\n",
       "go_long       145\n",
       "go_short      108\n",
       "do_nothing     85\n",
       "Name: count, dtype: int64"
      ]
     },
     "execution_count": 2155,
     "metadata": {},
     "output_type": "execute_result"
    }
   ],
   "source": [
    "newdf0['nlpreds'].value_counts()"
   ]
  },
  {
   "cell_type": "code",
   "execution_count": 2156,
   "metadata": {},
   "outputs": [
    {
     "data": {
      "text/plain": [
       "8064.39466566"
      ]
     },
     "execution_count": 2156,
     "metadata": {},
     "output_type": "execute_result"
    }
   ],
   "source": [
    "newdf0[newdf0['predicted_action'] == 'go_long']['reward'].cumsum().iloc[-1]"
   ]
  },
  {
   "cell_type": "code",
   "execution_count": 2157,
   "metadata": {},
   "outputs": [],
   "source": [
    "# Tuning\n",
    "\n",
    "def train_q_learning(alpha, gamma, epsilon, min_epsilon, decay_rate, n_episodes, n_states, n_actions, rewards):\n",
    "    q_table = np.zeros((n_states, n_actions))\n",
    "    rewards_per_episode = []\n",
    "\n",
    "    for episode in range(n_episodes):\n",
    "        current_state = np.random.randint(0, n_states)\n",
    "        total_reward = 0\n",
    "\n",
    "        while current_state < n_states - 1:\n",
    "            if np.random.uniform(0, 1) < epsilon:\n",
    "                action = np.random.randint(0, n_actions)\n",
    "            else:\n",
    "                action = np.argmax(q_table[current_state])\n",
    "\n",
    "            next_state = current_state + 1  # Adjust based on environment logic\n",
    "            reward = rewards[next_state]\n",
    "\n",
    "            best_next_action = np.argmax(q_table[next_state])\n",
    "            q_table[current_state, action] += alpha * (\n",
    "                reward + gamma * q_table[next_state, best_next_action] - q_table[current_state, action]\n",
    "            )\n",
    "\n",
    "            total_reward += reward\n",
    "            current_state = next_state\n",
    "\n",
    "        rewards_per_episode.append(total_reward)\n",
    "        epsilon = max(min_epsilon, epsilon * decay_rate) # default min_epsilon = 0.01\n",
    "\n",
    "    return q_table, rewards_per_episode\n"
   ]
  },
  {
   "cell_type": "code",
   "execution_count": 2158,
   "metadata": {},
   "outputs": [],
   "source": [
    "\n",
    "def evaluate_q_learning_reward_weighted(q_table, n_states, train_data, rewards):\n",
    "    correct_predictions = 0\n",
    "    total_reward = 0\n",
    "    reward_weighted_accuracy = []\n",
    "\n",
    "    # Add tqdm for progress visualization\n",
    "    for state_index in tqdm(range(n_states), desc=\"Evaluating States\"):\n",
    "        predicted_action = np.argmax(q_table[state_index])  # Predicted action\n",
    "        actual_action = train_data[\"action_num\"].iloc[state_index]  # Actual action\n",
    "        reward = rewards[state_index]  # Reward for the action\n",
    "\n",
    "        if predicted_action == actual_action:\n",
    "            correct_predictions += 1\n",
    "            total_reward += reward\n",
    "\n",
    "        accuracy = correct_predictions / (state_index + 1)\n",
    "        reward_weighted_accuracy.append(total_reward / (state_index + 1))\n",
    "\n",
    "        # Optional: Log progress\n",
    "        if state_index % 100 == 0:\n",
    "            print(f\"Processed state {state_index}/{n_states} - Accuracy: {accuracy * 100:.2f}%, Reward-weighted Accuracy: {reward_weighted_accuracy[-1]}\")\n",
    "\n",
    "    final_reward_weighted_accuracy = total_reward / n_states\n",
    "    return final_reward_weighted_accuracy * 100\n",
    "\n"
   ]
  },
  {
   "cell_type": "code",
   "execution_count": 2159,
   "metadata": {},
   "outputs": [
    {
     "data": {
      "text/plain": [
       "'\\ndef random_search_reward_weighted(n_iter, param_grid, n_states, n_actions, rewards, train_data):\\n    best_params = None\\n    best_reward_weighted_accuracy = float(\\'-inf\\')\\n\\n    for _ in tqdm(range(n_iter), desc=\"Searching for params ...\"):\\n        alpha = random.choice(param_grid[\\'alpha\\'])\\n        gamma = random.choice(param_grid[\\'gamma\\'])\\n        epsilon = random.choice(param_grid[\\'epsilon\\'])\\n        min_epsilon = random.choice(param_grid[\\'decay_rate\\'])\\n        decay_rate = random.choice(param_grid[\\'decay_rate\\'])\\n        n_episodes = random.choice(param_grid[\\'n_episodes\\'])\\n\\n        q_table, _ = train_q_learning(alpha, gamma, epsilon, min_epsilon, decay_rate, n_episodes, n_states, n_actions, rewards)\\n        reward_weighted_accuracy = evaluate_q_learning_reward_weighted(q_table, n_states, train_data, rewards)\\n\\n        if reward_weighted_accuracy > best_reward_weighted_accuracy:\\n            best_reward_weighted_accuracy = reward_weighted_accuracy\\n            best_params = (alpha, gamma, epsilon, min_epsilon, decay_rate, n_episodes)\\n\\n        print(f\"Iteration Reward-weighted Accuracy: {reward_weighted_accuracy:.2f}%, Best Reward-weighted Accuracy: {best_reward_weighted_accuracy:.2f}%\")\\n\\n    return best_params, best_reward_weighted_accuracy\\n\\n# Define the parameter grid\\nparam_grid = {\\n    \\'alpha\\': [0.001, 0.005, 0.01, 0.05, 0.1, 0.2, 0.25, 0.3, 0.5, 0.7, 0.9, 1],\\n    \\'gamma\\': [0.75, 0.85, 0.9, 0.95, 0.99],\\n    \\'epsilon\\': [1.0, 0.5, 0.1, 0.05, 0.01, 0.005],\\n    \\'min_epsilon\\': [0.05, 0.01, 0.005, 0.001, 0.001],\\n    \\'decay_rate\\': [0.95, 0.99, 0.995, 0.997, 0.999],\\n    \\'n_episodes\\': [1500, 4000,6000, 8000, 9000, 10000, 11000, 12000, 14000, 16000, 18000, 20000, 22000, 24000, 26000, 28000, 30000]\\n}\\n\\n# Perform Random Search\\nbest_params, best_reward_weighted_accuracy = random_search_reward_weighted(50, param_grid, n_states, n_actions, rewards, train_data)\\nprint(f\"Best Hyperparameters: {best_params}\")\\nprint(f\"Best Reward-weighted Accuracy: {best_reward_weighted_accuracy:.2f}%\")\\n'"
      ]
     },
     "execution_count": 2159,
     "metadata": {},
     "output_type": "execute_result"
    }
   ],
   "source": [
    "'''\n",
    "def random_search_reward_weighted(n_iter, param_grid, n_states, n_actions, rewards, train_data):\n",
    "    best_params = None\n",
    "    best_reward_weighted_accuracy = float('-inf')\n",
    "\n",
    "    for _ in tqdm(range(n_iter), desc=\"Searching for params ...\"):\n",
    "        alpha = random.choice(param_grid['alpha'])\n",
    "        gamma = random.choice(param_grid['gamma'])\n",
    "        epsilon = random.choice(param_grid['epsilon'])\n",
    "        min_epsilon = random.choice(param_grid['decay_rate'])\n",
    "        decay_rate = random.choice(param_grid['decay_rate'])\n",
    "        n_episodes = random.choice(param_grid['n_episodes'])\n",
    "\n",
    "        q_table, _ = train_q_learning(alpha, gamma, epsilon, min_epsilon, decay_rate, n_episodes, n_states, n_actions, rewards)\n",
    "        reward_weighted_accuracy = evaluate_q_learning_reward_weighted(q_table, n_states, train_data, rewards)\n",
    "\n",
    "        if reward_weighted_accuracy > best_reward_weighted_accuracy:\n",
    "            best_reward_weighted_accuracy = reward_weighted_accuracy\n",
    "            best_params = (alpha, gamma, epsilon, min_epsilon, decay_rate, n_episodes)\n",
    "\n",
    "        print(f\"Iteration Reward-weighted Accuracy: {reward_weighted_accuracy:.2f}%, Best Reward-weighted Accuracy: {best_reward_weighted_accuracy:.2f}%\")\n",
    "\n",
    "    return best_params, best_reward_weighted_accuracy\n",
    "\n",
    "# Define the parameter grid\n",
    "param_grid = {\n",
    "    'alpha': [0.001, 0.005, 0.01, 0.05, 0.1, 0.2, 0.25, 0.3, 0.5, 0.7, 0.9, 1],\n",
    "    'gamma': [0.75, 0.85, 0.9, 0.95, 0.99],\n",
    "    'epsilon': [1.0, 0.5, 0.1, 0.05, 0.01, 0.005],\n",
    "    'min_epsilon': [0.05, 0.01, 0.005, 0.001, 0.001],\n",
    "    'decay_rate': [0.95, 0.99, 0.995, 0.997, 0.999],\n",
    "    'n_episodes': [1500, 4000,6000, 8000, 9000, 10000, 11000, 12000, 14000, 16000, 18000, 20000, 22000, 24000, 26000, 28000, 30000]\n",
    "}\n",
    "\n",
    "# Perform Random Search\n",
    "best_params, best_reward_weighted_accuracy = random_search_reward_weighted(50, param_grid, n_states, n_actions, rewards, train_data)\n",
    "print(f\"Best Hyperparameters: {best_params}\")\n",
    "print(f\"Best Reward-weighted Accuracy: {best_reward_weighted_accuracy:.2f}%\")\n",
    "'''\n"
   ]
  },
  {
   "cell_type": "code",
   "execution_count": 2160,
   "metadata": {},
   "outputs": [],
   "source": [
    "def evaluate_q_learning_prediction_efficiency(q_table, n_states, train_data, rewards):\n",
    "    # Initialize cumulative rewards\n",
    "    cumulative_predicted_reward = 0\n",
    "    cumulative_actual_reward = 0\n",
    "\n",
    "    # Iterate through states to calculate rewards\n",
    "    for state_index in range(n_states - 1):\n",
    "        # Predicted action from Q-table\n",
    "        predicted_action = np.argmax(q_table[state_index])  # Best action for the current state\n",
    "        # Actual action from the ground truth\n",
    "        actual_action = train_data[\"action_num\"].iloc[state_index]\n",
    "\n",
    "        # Get reward for predicted action only if it matches the actual action\n",
    "        if predicted_action == actual_action:\n",
    "            predicted_reward = rewards[state_index + 1]  # Reward for the correct prediction\n",
    "            cumulative_predicted_reward += predicted_reward\n",
    "\n",
    "        # Get actual reward for the ground truth action\n",
    "        actual_reward = rewards[state_index + 1]\n",
    "        cumulative_actual_reward += actual_reward\n",
    "    return cumulative_predicted_reward"
   ]
  },
  {
   "cell_type": "code",
   "execution_count": 2161,
   "metadata": {},
   "outputs": [],
   "source": [
    "#action_mapping = {\"go_long\": 0, \"go_short\": 1, \"do_nothing\": 2}"
   ]
  },
  {
   "cell_type": "code",
   "execution_count": 2162,
   "metadata": {},
   "outputs": [
    {
     "data": {
      "text/plain": [
       "'\\ntrain_data = newdf0\\ntrain_data[\\'action_num\\'] = train_data[f\"predicted_action\"].map(action_mapping)\\ndef random_search_prediction_efficiency(n_iter, param_grid, n_states, n_actions, rewards, train_data):\\n    best_params = None\\n    best_cumulative_pred_reward = float(\\'-inf\\')\\n\\n    for _ in tqdm(range(n_iter), desc=\"Searching for params ...\"):\\n        alpha = random.choice(param_grid[\\'alpha\\'])\\n        gamma = random.choice(param_grid[\\'gamma\\'])\\n        epsilon = random.choice(param_grid[\\'epsilon\\'])\\n        min_epsilon = random.choice(param_grid[\\'decay_rate\\'])\\n        decay_rate = random.choice(param_grid[\\'decay_rate\\'])\\n        n_episodes = random.choice(param_grid[\\'n_episodes\\'])\\n\\n        q_table, _ = train_q_learning(alpha, gamma, epsilon, min_epsilon, decay_rate, n_episodes, n_states, n_actions, rewards)\\n        cumulative_pred_reward = evaluate_q_learning_prediction_efficiency(q_table, n_states, train_data, rewards)\\n\\n        if cumulative_pred_reward > best_cumulative_pred_reward:\\n            best_cumulative_pred_reward = cumulative_pred_reward\\n            best_params = (alpha, gamma, epsilon, min_epsilon, decay_rate, n_episodes)\\n\\n        print(f\"Iteration cumulative predicted reward: {cumulative_pred_reward:.2f}%, Best cumulative predicted reward: {best_cumulative_pred_reward:.2f}%\")\\n\\n    return best_params, best_cumulative_pred_reward\\n\\n# Define the parameter grid\\nparam_grid = {\\n    \\'alpha\\': [0.001, 0.005, 0.01, 0.05, 0.1, 0.2, 0.25, 0.3, 0.5, 0.7, 0.9, 1],\\n    \\'gamma\\': [0.75, 0.85, 0.9, 0.95, 0.99],\\n    \\'epsilon\\': [1.0, 0.5, 0.1, 0.05, 0.01, 0.005],\\n    \\'min_epsilon\\': [0.05, 0.01, 0.005, 0.001, 0.001],\\n    \\'decay_rate\\': [0.95, 0.99, 0.995, 0.997, 0.999],\\n    \\'n_episodes\\': [1500, 4000,6000, 8000, 9000, 10000, 11000, 12000, 14000, 16000, 18000, 20000, 22000, 24000, 26000, 28000, 30000]\\n}\\n# 1500, 4000,6000, 8000, 9000, 10000, 11000, \\n# Perform Random Search\\nbest_params, best_cumulative_pred_reward = random_search_prediction_efficiency(50, param_grid, n_states, n_actions, rewards, train_data)\\nprint(f\"Best Hyperparameters: {best_params}\")\\nprint(f\"Best cumulative predicted reward: {best_cumulative_pred_reward:.2f}%\")\\n'"
      ]
     },
     "execution_count": 2162,
     "metadata": {},
     "output_type": "execute_result"
    }
   ],
   "source": [
    "'''\n",
    "train_data = newdf0\n",
    "train_data['action_num'] = train_data[f\"predicted_action\"].map(action_mapping)\n",
    "def random_search_prediction_efficiency(n_iter, param_grid, n_states, n_actions, rewards, train_data):\n",
    "    best_params = None\n",
    "    best_cumulative_pred_reward = float('-inf')\n",
    "\n",
    "    for _ in tqdm(range(n_iter), desc=\"Searching for params ...\"):\n",
    "        alpha = random.choice(param_grid['alpha'])\n",
    "        gamma = random.choice(param_grid['gamma'])\n",
    "        epsilon = random.choice(param_grid['epsilon'])\n",
    "        min_epsilon = random.choice(param_grid['decay_rate'])\n",
    "        decay_rate = random.choice(param_grid['decay_rate'])\n",
    "        n_episodes = random.choice(param_grid['n_episodes'])\n",
    "\n",
    "        q_table, _ = train_q_learning(alpha, gamma, epsilon, min_epsilon, decay_rate, n_episodes, n_states, n_actions, rewards)\n",
    "        cumulative_pred_reward = evaluate_q_learning_prediction_efficiency(q_table, n_states, train_data, rewards)\n",
    "\n",
    "        if cumulative_pred_reward > best_cumulative_pred_reward:\n",
    "            best_cumulative_pred_reward = cumulative_pred_reward\n",
    "            best_params = (alpha, gamma, epsilon, min_epsilon, decay_rate, n_episodes)\n",
    "\n",
    "        print(f\"Iteration cumulative predicted reward: {cumulative_pred_reward:.2f}%, Best cumulative predicted reward: {best_cumulative_pred_reward:.2f}%\")\n",
    "\n",
    "    return best_params, best_cumulative_pred_reward\n",
    "\n",
    "# Define the parameter grid\n",
    "param_grid = {\n",
    "    'alpha': [0.001, 0.005, 0.01, 0.05, 0.1, 0.2, 0.25, 0.3, 0.5, 0.7, 0.9, 1],\n",
    "    'gamma': [0.75, 0.85, 0.9, 0.95, 0.99],\n",
    "    'epsilon': [1.0, 0.5, 0.1, 0.05, 0.01, 0.005],\n",
    "    'min_epsilon': [0.05, 0.01, 0.005, 0.001, 0.001],\n",
    "    'decay_rate': [0.95, 0.99, 0.995, 0.997, 0.999],\n",
    "    'n_episodes': [1500, 4000,6000, 8000, 9000, 10000, 11000, 12000, 14000, 16000, 18000, 20000, 22000, 24000, 26000, 28000, 30000]\n",
    "}\n",
    "# 1500, 4000,6000, 8000, 9000, 10000, 11000, \n",
    "# Perform Random Search\n",
    "best_params, best_cumulative_pred_reward = random_search_prediction_efficiency(50, param_grid, n_states, n_actions, rewards, train_data)\n",
    "print(f\"Best Hyperparameters: {best_params}\")\n",
    "print(f\"Best cumulative predicted reward: {best_cumulative_pred_reward:.2f}%\")\n",
    "'''"
   ]
  }
 ],
 "metadata": {
  "kernelspec": {
   "display_name": ".venv",
   "language": "python",
   "name": "python3"
  },
  "language_info": {
   "codemirror_mode": {
    "name": "ipython",
    "version": 3
   },
   "file_extension": ".py",
   "mimetype": "text/x-python",
   "name": "python",
   "nbconvert_exporter": "python",
   "pygments_lexer": "ipython3",
   "version": "3.10.4"
  }
 },
 "nbformat": 4,
 "nbformat_minor": 2
}
