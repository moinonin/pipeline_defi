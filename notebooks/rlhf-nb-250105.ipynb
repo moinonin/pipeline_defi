{
 "cells": [
  {
   "cell_type": "code",
   "execution_count": 2007,
   "metadata": {},
   "outputs": [],
   "source": [
    "import pandas as pd\n",
    "import numpy as np\n",
    "from sklearn.metrics import confusion_matrix\n",
    "from pandas import DataFrame\n",
    "import pickle, random\n",
    "from tqdm import tqdm\n",
    "from scipy.spatial import KDTree\n",
    "import matplotlib.pyplot as plt"
   ]
  },
  {
   "cell_type": "code",
   "execution_count": 2008,
   "metadata": {},
   "outputs": [],
   "source": [
    "#!pip install tqdm"
   ]
  },
  {
   "cell_type": "code",
   "execution_count": 2009,
   "metadata": {},
   "outputs": [],
   "source": [
    "#df0 = pd.read_csv('../spreadsheets/rlhf_20250104_6.csv')\n",
    "df0 = pd.read_csv('../spreadsheets/rlhf_159nlp.csv') # Best\n",
    "#df0 = pd.read_csv('../spreadsheets/rlhf_1064_2.csv')\n",
    "#df0 = pd.read_csv('../spreadsheets/rlhf_large_1072.csv')"
   ]
  },
  {
   "cell_type": "code",
   "execution_count": 2010,
   "metadata": {},
   "outputs": [],
   "source": [
    "#df0['action'] = df0['action'].replace('go_long', 'do_nothing')"
   ]
  },
  {
   "cell_type": "code",
   "execution_count": 2011,
   "metadata": {},
   "outputs": [
    {
     "data": {
      "text/plain": [
       "Index(['Unnamed: 0', 'open', 'high', 'ema-26', 'ema-12', 'low',\n",
       "       'mean-grad-hist', 'close', 'volume', 'sma-25', 'long_jcrosk',\n",
       "       'short_kdj', 'sma-05', 'sma-07', 'sma-compare', 'is_short', 'action',\n",
       "       'imit-action', 'nlpreds', 'reward'],\n",
       "      dtype='object')"
      ]
     },
     "execution_count": 2011,
     "metadata": {},
     "output_type": "execute_result"
    }
   ],
   "source": [
    "df0.columns"
   ]
  },
  {
   "cell_type": "code",
   "execution_count": 2012,
   "metadata": {},
   "outputs": [
    {
     "data": {
      "text/html": [
       "<div>\n",
       "<style scoped>\n",
       "    .dataframe tbody tr th:only-of-type {\n",
       "        vertical-align: middle;\n",
       "    }\n",
       "\n",
       "    .dataframe tbody tr th {\n",
       "        vertical-align: top;\n",
       "    }\n",
       "\n",
       "    .dataframe thead th {\n",
       "        text-align: right;\n",
       "    }\n",
       "</style>\n",
       "<table border=\"1\" class=\"dataframe\">\n",
       "  <thead>\n",
       "    <tr style=\"text-align: right;\">\n",
       "      <th></th>\n",
       "      <th>Unnamed: 0</th>\n",
       "      <th>open</th>\n",
       "      <th>high</th>\n",
       "      <th>ema-26</th>\n",
       "      <th>ema-12</th>\n",
       "      <th>low</th>\n",
       "      <th>mean-grad-hist</th>\n",
       "      <th>close</th>\n",
       "      <th>volume</th>\n",
       "      <th>sma-25</th>\n",
       "      <th>long_jcrosk</th>\n",
       "      <th>short_kdj</th>\n",
       "      <th>sma-05</th>\n",
       "      <th>sma-07</th>\n",
       "      <th>sma-compare</th>\n",
       "      <th>is_short</th>\n",
       "      <th>action</th>\n",
       "      <th>imit-action</th>\n",
       "      <th>nlpreds</th>\n",
       "      <th>reward</th>\n",
       "    </tr>\n",
       "  </thead>\n",
       "  <tbody>\n",
       "    <tr>\n",
       "      <th>0</th>\n",
       "      <td>0</td>\n",
       "      <td>0.005390</td>\n",
       "      <td>0.005390</td>\n",
       "      <td>0.005428</td>\n",
       "      <td>0.005435</td>\n",
       "      <td>0.005330</td>\n",
       "      <td>1</td>\n",
       "      <td>0.005330</td>\n",
       "      <td>5.353044e+07</td>\n",
       "      <td>0.005462</td>\n",
       "      <td>0</td>\n",
       "      <td>0</td>\n",
       "      <td>0.005406</td>\n",
       "      <td>0.005423</td>\n",
       "      <td>1</td>\n",
       "      <td>1</td>\n",
       "      <td>do_nothing</td>\n",
       "      <td>go_long</td>\n",
       "      <td>do_nothing</td>\n",
       "      <td>-5.832726</td>\n",
       "    </tr>\n",
       "    <tr>\n",
       "      <th>1</th>\n",
       "      <td>1</td>\n",
       "      <td>610.150000</td>\n",
       "      <td>613.170000</td>\n",
       "      <td>609.297695</td>\n",
       "      <td>607.802032</td>\n",
       "      <td>609.100000</td>\n",
       "      <td>0</td>\n",
       "      <td>612.450000</td>\n",
       "      <td>1.994136e+04</td>\n",
       "      <td>607.673600</td>\n",
       "      <td>0</td>\n",
       "      <td>0</td>\n",
       "      <td>609.482000</td>\n",
       "      <td>609.415714</td>\n",
       "      <td>0</td>\n",
       "      <td>0</td>\n",
       "      <td>do_nothing</td>\n",
       "      <td>go_short</td>\n",
       "      <td>do_nothing</td>\n",
       "      <td>-6.664651</td>\n",
       "    </tr>\n",
       "    <tr>\n",
       "      <th>2</th>\n",
       "      <td>2</td>\n",
       "      <td>16.152000</td>\n",
       "      <td>16.212000</td>\n",
       "      <td>15.870445</td>\n",
       "      <td>15.766896</td>\n",
       "      <td>15.921000</td>\n",
       "      <td>1</td>\n",
       "      <td>15.927000</td>\n",
       "      <td>6.082260e+04</td>\n",
       "      <td>15.751240</td>\n",
       "      <td>0</td>\n",
       "      <td>0</td>\n",
       "      <td>15.920600</td>\n",
       "      <td>15.865571</td>\n",
       "      <td>0</td>\n",
       "      <td>0</td>\n",
       "      <td>do_nothing</td>\n",
       "      <td>go_short</td>\n",
       "      <td>do_nothing</td>\n",
       "      <td>-13.810239</td>\n",
       "    </tr>\n",
       "    <tr>\n",
       "      <th>3</th>\n",
       "      <td>3</td>\n",
       "      <td>0.001823</td>\n",
       "      <td>0.001841</td>\n",
       "      <td>0.001819</td>\n",
       "      <td>0.001819</td>\n",
       "      <td>0.001819</td>\n",
       "      <td>0</td>\n",
       "      <td>0.001835</td>\n",
       "      <td>1.825455e+08</td>\n",
       "      <td>0.001823</td>\n",
       "      <td>0</td>\n",
       "      <td>0</td>\n",
       "      <td>0.001819</td>\n",
       "      <td>0.001817</td>\n",
       "      <td>0</td>\n",
       "      <td>1</td>\n",
       "      <td>do_nothing</td>\n",
       "      <td>go_long</td>\n",
       "      <td>do_nothing</td>\n",
       "      <td>-2.662213</td>\n",
       "    </tr>\n",
       "    <tr>\n",
       "      <th>4</th>\n",
       "      <td>4</td>\n",
       "      <td>2.210000</td>\n",
       "      <td>2.220000</td>\n",
       "      <td>2.179647</td>\n",
       "      <td>2.175725</td>\n",
       "      <td>2.175000</td>\n",
       "      <td>1</td>\n",
       "      <td>2.182000</td>\n",
       "      <td>2.794219e+05</td>\n",
       "      <td>2.143880</td>\n",
       "      <td>0</td>\n",
       "      <td>0</td>\n",
       "      <td>2.207800</td>\n",
       "      <td>2.198714</td>\n",
       "      <td>0</td>\n",
       "      <td>0</td>\n",
       "      <td>do_nothing</td>\n",
       "      <td>go_short</td>\n",
       "      <td>do_nothing</td>\n",
       "      <td>-0.998845</td>\n",
       "    </tr>\n",
       "  </tbody>\n",
       "</table>\n",
       "</div>"
      ],
      "text/plain": [
       "   Unnamed: 0        open        high      ema-26      ema-12         low  \\\n",
       "0           0    0.005390    0.005390    0.005428    0.005435    0.005330   \n",
       "1           1  610.150000  613.170000  609.297695  607.802032  609.100000   \n",
       "2           2   16.152000   16.212000   15.870445   15.766896   15.921000   \n",
       "3           3    0.001823    0.001841    0.001819    0.001819    0.001819   \n",
       "4           4    2.210000    2.220000    2.179647    2.175725    2.175000   \n",
       "\n",
       "   mean-grad-hist       close        volume      sma-25  long_jcrosk  \\\n",
       "0               1    0.005330  5.353044e+07    0.005462            0   \n",
       "1               0  612.450000  1.994136e+04  607.673600            0   \n",
       "2               1   15.927000  6.082260e+04   15.751240            0   \n",
       "3               0    0.001835  1.825455e+08    0.001823            0   \n",
       "4               1    2.182000  2.794219e+05    2.143880            0   \n",
       "\n",
       "   short_kdj      sma-05      sma-07  sma-compare  is_short      action  \\\n",
       "0          0    0.005406    0.005423            1         1  do_nothing   \n",
       "1          0  609.482000  609.415714            0         0  do_nothing   \n",
       "2          0   15.920600   15.865571            0         0  do_nothing   \n",
       "3          0    0.001819    0.001817            0         1  do_nothing   \n",
       "4          0    2.207800    2.198714            0         0  do_nothing   \n",
       "\n",
       "  imit-action     nlpreds     reward  \n",
       "0     go_long  do_nothing  -5.832726  \n",
       "1    go_short  do_nothing  -6.664651  \n",
       "2    go_short  do_nothing -13.810239  \n",
       "3     go_long  do_nothing  -2.662213  \n",
       "4    go_short  do_nothing  -0.998845  "
      ]
     },
     "execution_count": 2012,
     "metadata": {},
     "output_type": "execute_result"
    }
   ],
   "source": [
    "df0.head()"
   ]
  },
  {
   "cell_type": "code",
   "execution_count": 2013,
   "metadata": {},
   "outputs": [],
   "source": [
    "df0.drop(['Unnamed: 0'], axis=1, inplace=True)"
   ]
  },
  {
   "cell_type": "code",
   "execution_count": 2014,
   "metadata": {},
   "outputs": [
    {
     "data": {
      "text/plain": [
       "action\n",
       "go_short      5268\n",
       "go_long       3612\n",
       "do_nothing     714\n",
       "Name: count, dtype: int64"
      ]
     },
     "execution_count": 2014,
     "metadata": {},
     "output_type": "execute_result"
    }
   ],
   "source": [
    "df0['action'].value_counts()"
   ]
  },
  {
   "cell_type": "code",
   "execution_count": 2015,
   "metadata": {},
   "outputs": [],
   "source": [
    "def prep_data(df: DataFrame) -> DataFrame:\n",
    "    train_data = pd.DataFrame()\n",
    "    for col in df.columns:\n",
    "        col_name = col.split(' ')[0]\n",
    "        train_data[f'{col_name}'] = df[col]\n",
    "\n",
    "    return train_data"
   ]
  },
  {
   "cell_type": "code",
   "execution_count": 2016,
   "metadata": {},
   "outputs": [],
   "source": [
    "train_data = df0 #prep_data(df0)"
   ]
  },
  {
   "cell_type": "code",
   "execution_count": 2017,
   "metadata": {},
   "outputs": [
    {
     "data": {
      "text/html": [
       "<div>\n",
       "<style scoped>\n",
       "    .dataframe tbody tr th:only-of-type {\n",
       "        vertical-align: middle;\n",
       "    }\n",
       "\n",
       "    .dataframe tbody tr th {\n",
       "        vertical-align: top;\n",
       "    }\n",
       "\n",
       "    .dataframe thead th {\n",
       "        text-align: right;\n",
       "    }\n",
       "</style>\n",
       "<table border=\"1\" class=\"dataframe\">\n",
       "  <thead>\n",
       "    <tr style=\"text-align: right;\">\n",
       "      <th></th>\n",
       "      <th>open</th>\n",
       "      <th>high</th>\n",
       "      <th>ema-26</th>\n",
       "      <th>ema-12</th>\n",
       "      <th>low</th>\n",
       "      <th>mean-grad-hist</th>\n",
       "      <th>close</th>\n",
       "      <th>volume</th>\n",
       "      <th>sma-25</th>\n",
       "      <th>long_jcrosk</th>\n",
       "      <th>short_kdj</th>\n",
       "      <th>sma-05</th>\n",
       "      <th>sma-07</th>\n",
       "      <th>sma-compare</th>\n",
       "      <th>is_short</th>\n",
       "      <th>action</th>\n",
       "      <th>imit-action</th>\n",
       "      <th>nlpreds</th>\n",
       "      <th>reward</th>\n",
       "    </tr>\n",
       "  </thead>\n",
       "  <tbody>\n",
       "    <tr>\n",
       "      <th>0</th>\n",
       "      <td>0.00539</td>\n",
       "      <td>0.00539</td>\n",
       "      <td>0.005428</td>\n",
       "      <td>0.005435</td>\n",
       "      <td>0.00533</td>\n",
       "      <td>1</td>\n",
       "      <td>0.00533</td>\n",
       "      <td>53530437.00</td>\n",
       "      <td>0.005462</td>\n",
       "      <td>0</td>\n",
       "      <td>0</td>\n",
       "      <td>0.005406</td>\n",
       "      <td>0.005423</td>\n",
       "      <td>1</td>\n",
       "      <td>1</td>\n",
       "      <td>do_nothing</td>\n",
       "      <td>go_long</td>\n",
       "      <td>do_nothing</td>\n",
       "      <td>-5.832726</td>\n",
       "    </tr>\n",
       "    <tr>\n",
       "      <th>1</th>\n",
       "      <td>610.15000</td>\n",
       "      <td>613.17000</td>\n",
       "      <td>609.297695</td>\n",
       "      <td>607.802032</td>\n",
       "      <td>609.10000</td>\n",
       "      <td>0</td>\n",
       "      <td>612.45000</td>\n",
       "      <td>19941.36</td>\n",
       "      <td>607.673600</td>\n",
       "      <td>0</td>\n",
       "      <td>0</td>\n",
       "      <td>609.482000</td>\n",
       "      <td>609.415714</td>\n",
       "      <td>0</td>\n",
       "      <td>0</td>\n",
       "      <td>do_nothing</td>\n",
       "      <td>go_short</td>\n",
       "      <td>do_nothing</td>\n",
       "      <td>-6.664651</td>\n",
       "    </tr>\n",
       "  </tbody>\n",
       "</table>\n",
       "</div>"
      ],
      "text/plain": [
       "        open       high      ema-26      ema-12        low  mean-grad-hist  \\\n",
       "0    0.00539    0.00539    0.005428    0.005435    0.00533               1   \n",
       "1  610.15000  613.17000  609.297695  607.802032  609.10000               0   \n",
       "\n",
       "       close       volume      sma-25  long_jcrosk  short_kdj      sma-05  \\\n",
       "0    0.00533  53530437.00    0.005462            0          0    0.005406   \n",
       "1  612.45000     19941.36  607.673600            0          0  609.482000   \n",
       "\n",
       "       sma-07  sma-compare  is_short      action imit-action     nlpreds  \\\n",
       "0    0.005423            1         1  do_nothing     go_long  do_nothing   \n",
       "1  609.415714            0         0  do_nothing    go_short  do_nothing   \n",
       "\n",
       "     reward  \n",
       "0 -5.832726  \n",
       "1 -6.664651  "
      ]
     },
     "execution_count": 2017,
     "metadata": {},
     "output_type": "execute_result"
    }
   ],
   "source": [
    "train_data.head(2)"
   ]
  },
  {
   "cell_type": "code",
   "execution_count": 2018,
   "metadata": {},
   "outputs": [],
   "source": [
    "new_cols = ['open', 'high', 'ema-26', 'ema-12', 'low', \\\n",
    "            'mean-grad-hist', 'close', 'volume', 'sma-25', 'long_jcrosk', 'short_kdj', \\\n",
    "            'sma-compare', 'is_short'\n",
    "        ]"
   ]
  },
  {
   "cell_type": "code",
   "execution_count": 2019,
   "metadata": {},
   "outputs": [],
   "source": [
    "# Encode actions into numerical values\n",
    "action_mapping = {\"go_long\": 0, \"go_short\": 1, \"do_nothing\": 2}\n",
    "train_data[\"action_num\"] = train_data[\"action\"].map(action_mapping)"
   ]
  },
  {
   "cell_type": "code",
   "execution_count": 2020,
   "metadata": {},
   "outputs": [],
   "source": [
    "# Define RL parameters\n",
    "#states = train_data[[\"sma-05\", \"sma-07\", \"sma-25\", \"sma-compare\", \"is_short\"]].values  # Include binary_state\n",
    "states = train_data[new_cols].values\n",
    "actions = list(action_mapping.values())  # Action space\n",
    "rewards = train_data[\"reward\"].values  # Rewards\n",
    "n_states = states.shape[0]\n",
    "n_actions = len(actions)"
   ]
  },
  {
   "cell_type": "code",
   "execution_count": 2021,
   "metadata": {},
   "outputs": [],
   "source": [
    "# Initialize Q-table\n",
    "q_table = np.zeros((n_states, n_actions))"
   ]
  },
  {
   "cell_type": "code",
   "execution_count": 2022,
   "metadata": {},
   "outputs": [],
   "source": [
    "# Hyperparameters [0.25, 0.95, 1.0, 0.99, 0.99, 10000], [0.9, 0.95, 1.0, 0.99, 0.99, 8000], [0.7, 0.75, 1.0, 0.97, 0.999, 28000]\n",
    "# [0.05, 0.95, 1.0, 0.999, 0.995, 12000], [0.25, 0.95, 1.0, 0.99, 0.99, 10000], [1, 0.95, 0.1, 0.96, 0.96, 12000], [0.25, 0.99, 0.01, 0.997, 0.99, 8000]\n",
    "# [1, 0.75, 0.05, 0.999, 0.999, 10000]\n",
    "'''\n",
    "alpha = 1\n",
    "gamma = 0.95\n",
    "epsilon = 0.1\n",
    "min_epsilon = 0.96\n",
    "decay_rate = 0.96\n",
    "n_episodes = 12000\n",
    "'''\n",
    "alpha, gamma, epsilon, min_epsilon, decay_rate, n_episodes = 1, 0.75, 0.05, 0.999, 0.999, 10000\n",
    "\n"
   ]
  },
  {
   "cell_type": "code",
   "execution_count": 2023,
   "metadata": {},
   "outputs": [],
   "source": [
    "def create_state_index_mapping(df):\n",
    "    state_to_index = {}\n",
    "    for idx, row in df.iterrows():\n",
    "        state = (row['open'], row['high'], row['ema-26'], row['ema-12'], row['low'], \\\n",
    "                 row['mean-grad-hist'], row['close'], row['volume'], row['sma-25'], \\\n",
    "                 row['long_jcrosk'], row['short_kdj'], row['sma-compare'], row['is_short'])\n",
    "        state_to_index[state] = idx\n",
    "    return state_to_index\n",
    "\n",
    "# Assuming 'df' is your dataframe used during training\n",
    "state_to_index = create_state_index_mapping(train_data)\n",
    "\n",
    "# Save the state_to_index dictionary for later use\n",
    "np.save('large_state_to_index.npy', state_to_index)\n"
   ]
  },
  {
   "cell_type": "code",
   "execution_count": 2024,
   "metadata": {},
   "outputs": [],
   "source": [
    "# Helper function to choose an action using epsilon-greedy\n",
    "def choose_action(state, epsilon):\n",
    "    if np.random.uniform(0, 1) < epsilon:\n",
    "        return np.random.randint(0, n_actions)  # Explore: random action\n",
    "    else:\n",
    "        return np.argmax(q_table[state])  # Exploit: best known action"
   ]
  },
  {
   "cell_type": "code",
   "execution_count": 2025,
   "metadata": {},
   "outputs": [
    {
     "name": "stderr",
     "output_type": "stream",
     "text": [
      "evaluating results per episode ...:   0%|          | 8/10000 [00:00<04:43, 35.27it/s]"
     ]
    },
    {
     "name": "stdout",
     "output_type": "stream",
     "text": [
      "Episode 0/10000 - Total Reward: -13152.411804410016, Epsilon: 0.999\n"
     ]
    },
    {
     "name": "stderr",
     "output_type": "stream",
     "text": [
      "evaluating results per episode ...:   4%|▍         | 404/10000 [00:12<05:25, 29.51it/s]"
     ]
    },
    {
     "name": "stdout",
     "output_type": "stream",
     "text": [
      "Episode 400/10000 - Total Reward: -9445.539043419994, Epsilon: 0.999\n"
     ]
    },
    {
     "name": "stderr",
     "output_type": "stream",
     "text": [
      "evaluating results per episode ...:   8%|▊         | 812/10000 [00:26<04:55, 31.07it/s]"
     ]
    },
    {
     "name": "stdout",
     "output_type": "stream",
     "text": [
      "Episode 800/10000 - Total Reward: -15456.930702130006, Epsilon: 0.999\n"
     ]
    },
    {
     "name": "stderr",
     "output_type": "stream",
     "text": [
      "evaluating results per episode ...:  12%|█▏        | 1211/10000 [00:39<03:46, 38.84it/s]"
     ]
    },
    {
     "name": "stdout",
     "output_type": "stream",
     "text": [
      "Episode 1200/10000 - Total Reward: -11286.576064900011, Epsilon: 0.999\n"
     ]
    },
    {
     "name": "stderr",
     "output_type": "stream",
     "text": [
      "evaluating results per episode ...:  16%|█▌        | 1606/10000 [00:53<04:29, 31.12it/s]"
     ]
    },
    {
     "name": "stdout",
     "output_type": "stream",
     "text": [
      "Episode 1600/10000 - Total Reward: -15217.630601000006, Epsilon: 0.999\n"
     ]
    },
    {
     "name": "stderr",
     "output_type": "stream",
     "text": [
      "evaluating results per episode ...:  20%|██        | 2006/10000 [01:06<04:40, 28.55it/s]"
     ]
    },
    {
     "name": "stdout",
     "output_type": "stream",
     "text": [
      "Episode 2000/10000 - Total Reward: 184.15408879995633, Epsilon: 0.999\n"
     ]
    },
    {
     "name": "stderr",
     "output_type": "stream",
     "text": [
      "evaluating results per episode ...:  24%|██▍       | 2407/10000 [01:18<04:25, 28.62it/s]"
     ]
    },
    {
     "name": "stdout",
     "output_type": "stream",
     "text": [
      "Episode 2400/10000 - Total Reward: -14636.562699530004, Epsilon: 0.999\n"
     ]
    },
    {
     "name": "stderr",
     "output_type": "stream",
     "text": [
      "evaluating results per episode ...:  28%|██▊       | 2807/10000 [01:31<04:01, 29.76it/s]"
     ]
    },
    {
     "name": "stdout",
     "output_type": "stream",
     "text": [
      "Episode 2800/10000 - Total Reward: -8872.230408669988, Epsilon: 0.999\n"
     ]
    },
    {
     "name": "stderr",
     "output_type": "stream",
     "text": [
      "evaluating results per episode ...:  32%|███▏      | 3205/10000 [01:45<03:44, 30.26it/s]"
     ]
    },
    {
     "name": "stdout",
     "output_type": "stream",
     "text": [
      "Episode 3200/10000 - Total Reward: -5269.451602870015, Epsilon: 0.999\n"
     ]
    },
    {
     "name": "stderr",
     "output_type": "stream",
     "text": [
      "evaluating results per episode ...:  36%|███▌      | 3611/10000 [01:59<03:41, 28.85it/s]"
     ]
    },
    {
     "name": "stdout",
     "output_type": "stream",
     "text": [
      "Episode 3600/10000 - Total Reward: -4599.220527180003, Epsilon: 0.999\n"
     ]
    },
    {
     "name": "stderr",
     "output_type": "stream",
     "text": [
      "evaluating results per episode ...:  40%|████      | 4004/10000 [02:12<03:18, 30.28it/s]"
     ]
    },
    {
     "name": "stdout",
     "output_type": "stream",
     "text": [
      "Episode 4000/10000 - Total Reward: -6111.61572032, Epsilon: 0.999\n"
     ]
    },
    {
     "name": "stderr",
     "output_type": "stream",
     "text": [
      "evaluating results per episode ...:  44%|████▍     | 4405/10000 [02:26<03:15, 28.69it/s]"
     ]
    },
    {
     "name": "stdout",
     "output_type": "stream",
     "text": [
      "Episode 4400/10000 - Total Reward: -8566.761060359986, Epsilon: 0.999\n"
     ]
    },
    {
     "name": "stderr",
     "output_type": "stream",
     "text": [
      "evaluating results per episode ...:  48%|████▊     | 4805/10000 [02:39<02:08, 40.28it/s]"
     ]
    },
    {
     "name": "stdout",
     "output_type": "stream",
     "text": [
      "Episode 4800/10000 - Total Reward: -15070.551458660006, Epsilon: 0.999\n"
     ]
    },
    {
     "name": "stderr",
     "output_type": "stream",
     "text": [
      "evaluating results per episode ...:  52%|█████▏    | 5205/10000 [02:52<03:05, 25.87it/s]"
     ]
    },
    {
     "name": "stdout",
     "output_type": "stream",
     "text": [
      "Episode 5200/10000 - Total Reward: -187.9111289000484, Epsilon: 0.999\n"
     ]
    },
    {
     "name": "stderr",
     "output_type": "stream",
     "text": [
      "evaluating results per episode ...:  56%|█████▌    | 5607/10000 [03:07<02:30, 29.20it/s]"
     ]
    },
    {
     "name": "stdout",
     "output_type": "stream",
     "text": [
      "Episode 5600/10000 - Total Reward: -643.0905597600653, Epsilon: 0.999\n"
     ]
    },
    {
     "name": "stderr",
     "output_type": "stream",
     "text": [
      "evaluating results per episode ...:  60%|██████    | 6004/10000 [03:20<02:28, 26.95it/s]"
     ]
    },
    {
     "name": "stdout",
     "output_type": "stream",
     "text": [
      "Episode 6000/10000 - Total Reward: -8131.041227899976, Epsilon: 0.999\n"
     ]
    },
    {
     "name": "stderr",
     "output_type": "stream",
     "text": [
      "evaluating results per episode ...:  64%|██████▍   | 6406/10000 [03:32<01:59, 29.96it/s]"
     ]
    },
    {
     "name": "stdout",
     "output_type": "stream",
     "text": [
      "Episode 6400/10000 - Total Reward: -2448.3520462800548, Epsilon: 0.999\n"
     ]
    },
    {
     "name": "stderr",
     "output_type": "stream",
     "text": [
      "evaluating results per episode ...:  68%|██████▊   | 6809/10000 [03:46<01:27, 36.46it/s]"
     ]
    },
    {
     "name": "stdout",
     "output_type": "stream",
     "text": [
      "Episode 6800/10000 - Total Reward: -8888.06921188999, Epsilon: 0.999\n"
     ]
    },
    {
     "name": "stderr",
     "output_type": "stream",
     "text": [
      "evaluating results per episode ...:  72%|███████▏  | 7208/10000 [03:59<01:35, 29.27it/s]"
     ]
    },
    {
     "name": "stdout",
     "output_type": "stream",
     "text": [
      "Episode 7200/10000 - Total Reward: -12404.345486610013, Epsilon: 0.999\n"
     ]
    },
    {
     "name": "stderr",
     "output_type": "stream",
     "text": [
      "evaluating results per episode ...:  76%|███████▌  | 7605/10000 [04:13<01:20, 29.66it/s]"
     ]
    },
    {
     "name": "stdout",
     "output_type": "stream",
     "text": [
      "Episode 7600/10000 - Total Reward: -14191.661703490006, Epsilon: 0.999\n"
     ]
    },
    {
     "name": "stderr",
     "output_type": "stream",
     "text": [
      "evaluating results per episode ...:  80%|████████  | 8003/10000 [04:26<01:04, 31.04it/s]"
     ]
    },
    {
     "name": "stdout",
     "output_type": "stream",
     "text": [
      "Episode 8000/10000 - Total Reward: -4214.839710450057, Epsilon: 0.999\n"
     ]
    },
    {
     "name": "stderr",
     "output_type": "stream",
     "text": [
      "evaluating results per episode ...:  84%|████████▍ | 8410/10000 [04:41<00:58, 26.97it/s]"
     ]
    },
    {
     "name": "stdout",
     "output_type": "stream",
     "text": [
      "Episode 8400/10000 - Total Reward: -8577.047026599987, Epsilon: 0.999\n"
     ]
    },
    {
     "name": "stderr",
     "output_type": "stream",
     "text": [
      "evaluating results per episode ...:  88%|████████▊ | 8809/10000 [04:55<00:43, 27.30it/s]"
     ]
    },
    {
     "name": "stdout",
     "output_type": "stream",
     "text": [
      "Episode 8800/10000 - Total Reward: -8878.236471879989, Epsilon: 0.999\n"
     ]
    },
    {
     "name": "stderr",
     "output_type": "stream",
     "text": [
      "evaluating results per episode ...:  92%|█████████▏| 9204/10000 [05:07<00:22, 36.14it/s]"
     ]
    },
    {
     "name": "stdout",
     "output_type": "stream",
     "text": [
      "Episode 9200/10000 - Total Reward: -10927.528291990016, Epsilon: 0.999\n"
     ]
    },
    {
     "name": "stderr",
     "output_type": "stream",
     "text": [
      "evaluating results per episode ...:  96%|█████████▌| 9604/10000 [05:20<00:12, 31.26it/s]"
     ]
    },
    {
     "name": "stdout",
     "output_type": "stream",
     "text": [
      "Episode 9600/10000 - Total Reward: -4464.820300570047, Epsilon: 0.999\n"
     ]
    },
    {
     "name": "stderr",
     "output_type": "stream",
     "text": [
      "evaluating results per episode ...: 100%|██████████| 10000/10000 [05:33<00:00, 29.96it/s]\n"
     ]
    },
    {
     "data": {
      "image/png": "[encoded data removed]",
      "text/plain": [
       "<Figure size 640x480 with 1 Axes>"
      ]
     },
     "metadata": {},
     "output_type": "display_data"
    }
   ],
   "source": [
    "\n",
    "# Set random seed for reproducibility and train the loop\n",
    "np.random.seed(42)\n",
    "random.seed(42)\n",
    "# Initialize a list to store rewards per episode\n",
    "rewards_per_episode = []\n",
    "\n",
    "for episode in tqdm(range(n_episodes), desc=\"evaluating results per episode ...\"):\n",
    "    current_state = np.random.randint(0, n_states)  # Random initial state\n",
    "    total_reward = 0  # Initialize total reward for the current episode\n",
    "\n",
    "    while current_state < n_states - 1:\n",
    "        action = choose_action(current_state, epsilon)\n",
    "        \n",
    "        next_state = current_state + 1  # This depends on your environment logic\n",
    "        reward = rewards[next_state]\n",
    "\n",
    "        best_next_action = np.argmax(q_table[next_state])\n",
    "        q_table[current_state, action] += alpha * (\n",
    "            reward + gamma * q_table[next_state, best_next_action] - q_table[current_state, action]\n",
    "        )\n",
    "        \n",
    "        total_reward += reward  # Accumulate reward for the current episode\n",
    "        current_state = next_state  # Move to next state\n",
    "\n",
    "    rewards_per_episode.append(total_reward)  # Store the total reward for the current episode\n",
    "\n",
    "    # Decay epsilon\n",
    "    epsilon = max(min_epsilon, epsilon * decay_rate)\n",
    "\n",
    "    # Optional: Log progress\n",
    "    if episode % 400 == 0:  # Adjust logging frequency as needed\n",
    "        print(f\"Episode {episode}/{n_episodes} - Total Reward: {total_reward}, Epsilon: {epsilon}\")\n",
    "\n",
    "# Example: Save the Q-table\n",
    "np.save(\"large_q_table.npy\", q_table)\n",
    "\n",
    "# Example: Plotting the rewards\n",
    "import matplotlib.pyplot as plt\n",
    "\n",
    "plt.plot(rewards_per_episode)\n",
    "plt.xlabel('Episode')\n",
    "plt.ylabel('Reward')\n",
    "plt.title('Rewards per Episode')\n",
    "plt.show()\n",
    "\n"
   ]
  },
  {
   "cell_type": "code",
   "execution_count": 2026,
   "metadata": {},
   "outputs": [],
   "source": [
    "def load_q_table(file_path):\n",
    "    return np.load(file_path)\n",
    "\n",
    "def load_state_index_mapping(file_path):\n",
    "    return np.load(file_path, allow_pickle=True).item()"
   ]
  },
  {
   "cell_type": "code",
   "execution_count": 2027,
   "metadata": {},
   "outputs": [],
   "source": [
    "#state = (row['open'], row['high'], row['ema-26'], row['ema-12'], row['low'], \\\n",
    "#                 row['mean-grad-hist'], row['close'], row['volume'], row['sma-25'], \\\n",
    "#                 row['long_jcrosk'], row['short_kdj'], row['sma-compare'], row['is_short'])\n",
    "\n",
    "def prep_state(\n",
    "                open: float, high: float, ema_26: float, ema_12: float, low: float,\n",
    "                mean_grad_hist: float, close: float, volume: float, sma_25: float,\n",
    "                long_jcrosk: float, short_kdj: float, sma_compare: int, is_short: int,\n",
    "            ):\n",
    "    state = np.array([[open, high, ema_26, ema_12, low, mean_grad_hist, close, volume, sma_25, long_jcrosk, short_kdj, sma_compare, is_short]])\n",
    "    if not np.all(np.isfinite(state)):\n",
    "        state = np.nan_to_num(state, nan=0.0, posinf=0.0, neginf=0.0)\n",
    "    return state\n"
   ]
  },
  {
   "cell_type": "code",
   "execution_count": 2028,
   "metadata": {},
   "outputs": [],
   "source": [
    "\n",
    "def predict_action(state, q_table, state_to_index, action_mapping, default_action: str = None):\n",
    "    state_tuple = tuple(state.flatten())\n",
    "\n",
    "    state_index = state_to_index.get(state_tuple, -1)\n",
    "\n",
    "    if not state_index == -1:\n",
    "        try:\n",
    "            q_values = q_table[state_index]\n",
    "        except ValueError as e:\n",
    "            print(e)\n",
    "            #return default_action\n",
    "    else:\n",
    "        state_tuples = list(state_to_index.keys())\n",
    "        kdtree = KDTree(state_tuples)\n",
    "        distance, index = kdtree.query(state.flatten())\n",
    "        nearest_state_tuple = state_tuples[index]\n",
    "        new_state_index = loaded_state_to_index[nearest_state_tuple]\n",
    "        q_values = loaded_qtable[new_state_index]\n",
    "    \n",
    "    #q_values = q_table[state_index]\n",
    "    best_action_index = np.argmax(q_values)\n",
    "    action = [action for action, index in action_mapping.items() if index == best_action_index][0]\n",
    "    return action"
   ]
  },
  {
   "cell_type": "code",
   "execution_count": 2029,
   "metadata": {},
   "outputs": [],
   "source": [
    "# Example usage\n",
    "q_table = load_q_table(\"large_q_table.npy\")\n",
    "state_to_index = load_state_index_mapping(\"large_state_to_index.npy\")\n",
    "\n",
    "# Predict actions for each row in the DataFrame\n",
    "for idx, row in train_data.iterrows():\n",
    "    state = row[new_cols].values.reshape(1, -1)\n",
    "    try:\n",
    "        action = predict_action(state, q_table, state_to_index, action_mapping)\n",
    "        train_data.loc[idx, \"predicted_action\"] = action\n",
    "    except ValueError as e:\n",
    "        print(e)\n",
    "        train_data.loc[idx, \"predicted_action\"] = \"unknown\"\n",
    "\n",
    "# Display the first 15 rows with predicted actions\n",
    "#train_data.head(15)"
   ]
  },
  {
   "cell_type": "code",
   "execution_count": 2030,
   "metadata": {},
   "outputs": [
    {
     "data": {
      "text/html": [
       "<div>\n",
       "<style scoped>\n",
       "    .dataframe tbody tr th:only-of-type {\n",
       "        vertical-align: middle;\n",
       "    }\n",
       "\n",
       "    .dataframe tbody tr th {\n",
       "        vertical-align: top;\n",
       "    }\n",
       "\n",
       "    .dataframe thead th {\n",
       "        text-align: right;\n",
       "    }\n",
       "</style>\n",
       "<table border=\"1\" class=\"dataframe\">\n",
       "  <thead>\n",
       "    <tr style=\"text-align: right;\">\n",
       "      <th></th>\n",
       "      <th>open</th>\n",
       "      <th>high</th>\n",
       "      <th>ema-26</th>\n",
       "      <th>ema-12</th>\n",
       "      <th>low</th>\n",
       "      <th>mean-grad-hist</th>\n",
       "      <th>close</th>\n",
       "      <th>volume</th>\n",
       "      <th>sma-25</th>\n",
       "      <th>long_jcrosk</th>\n",
       "      <th>...</th>\n",
       "      <th>sma-05</th>\n",
       "      <th>sma-07</th>\n",
       "      <th>sma-compare</th>\n",
       "      <th>is_short</th>\n",
       "      <th>action</th>\n",
       "      <th>imit-action</th>\n",
       "      <th>nlpreds</th>\n",
       "      <th>reward</th>\n",
       "      <th>action_num</th>\n",
       "      <th>predicted_action</th>\n",
       "    </tr>\n",
       "  </thead>\n",
       "  <tbody>\n",
       "    <tr>\n",
       "      <th>9579</th>\n",
       "      <td>3.599000</td>\n",
       "      <td>3.634000</td>\n",
       "      <td>3.650141</td>\n",
       "      <td>3.759703</td>\n",
       "      <td>3.072000</td>\n",
       "      <td>1</td>\n",
       "      <td>3.208000</td>\n",
       "      <td>5.339710e+06</td>\n",
       "      <td>3.773440</td>\n",
       "      <td>0</td>\n",
       "      <td>...</td>\n",
       "      <td>3.557000</td>\n",
       "      <td>3.625429</td>\n",
       "      <td>1</td>\n",
       "      <td>1</td>\n",
       "      <td>do_nothing</td>\n",
       "      <td>go_short</td>\n",
       "      <td>do_nothing</td>\n",
       "      <td>-10.398551</td>\n",
       "      <td>2</td>\n",
       "      <td>go_long</td>\n",
       "    </tr>\n",
       "    <tr>\n",
       "      <th>9580</th>\n",
       "      <td>403.740000</td>\n",
       "      <td>405.360000</td>\n",
       "      <td>408.777427</td>\n",
       "      <td>415.122224</td>\n",
       "      <td>400.000000</td>\n",
       "      <td>1</td>\n",
       "      <td>400.270000</td>\n",
       "      <td>7.090600e+03</td>\n",
       "      <td>417.680400</td>\n",
       "      <td>0</td>\n",
       "      <td>...</td>\n",
       "      <td>404.728000</td>\n",
       "      <td>405.378571</td>\n",
       "      <td>1</td>\n",
       "      <td>0</td>\n",
       "      <td>do_nothing</td>\n",
       "      <td>go_short</td>\n",
       "      <td>do_nothing</td>\n",
       "      <td>-22.285516</td>\n",
       "      <td>2</td>\n",
       "      <td>go_long</td>\n",
       "    </tr>\n",
       "    <tr>\n",
       "      <th>9581</th>\n",
       "      <td>332.450000</td>\n",
       "      <td>332.780000</td>\n",
       "      <td>329.352335</td>\n",
       "      <td>327.166878</td>\n",
       "      <td>331.230000</td>\n",
       "      <td>0</td>\n",
       "      <td>331.760000</td>\n",
       "      <td>2.270751e+04</td>\n",
       "      <td>327.236000</td>\n",
       "      <td>0</td>\n",
       "      <td>...</td>\n",
       "      <td>330.558000</td>\n",
       "      <td>330.138571</td>\n",
       "      <td>0</td>\n",
       "      <td>0</td>\n",
       "      <td>do_nothing</td>\n",
       "      <td>go_short</td>\n",
       "      <td>do_nothing</td>\n",
       "      <td>-7.784396</td>\n",
       "      <td>2</td>\n",
       "      <td>go_long</td>\n",
       "    </tr>\n",
       "    <tr>\n",
       "      <th>9582</th>\n",
       "      <td>40276.600000</td>\n",
       "      <td>40342.100000</td>\n",
       "      <td>39524.841593</td>\n",
       "      <td>39145.907667</td>\n",
       "      <td>39987.600000</td>\n",
       "      <td>1</td>\n",
       "      <td>40084.400000</td>\n",
       "      <td>3.264500e+01</td>\n",
       "      <td>38876.520000</td>\n",
       "      <td>0</td>\n",
       "      <td>...</td>\n",
       "      <td>39915.080000</td>\n",
       "      <td>39890.171429</td>\n",
       "      <td>0</td>\n",
       "      <td>0</td>\n",
       "      <td>do_nothing</td>\n",
       "      <td>go_short</td>\n",
       "      <td>do_nothing</td>\n",
       "      <td>-8.222254</td>\n",
       "      <td>2</td>\n",
       "      <td>go_long</td>\n",
       "    </tr>\n",
       "    <tr>\n",
       "      <th>9583</th>\n",
       "      <td>1.827800</td>\n",
       "      <td>1.863600</td>\n",
       "      <td>1.875951</td>\n",
       "      <td>1.916730</td>\n",
       "      <td>1.822500</td>\n",
       "      <td>0</td>\n",
       "      <td>1.861800</td>\n",
       "      <td>5.597561e+05</td>\n",
       "      <td>1.920500</td>\n",
       "      <td>0</td>\n",
       "      <td>...</td>\n",
       "      <td>1.859500</td>\n",
       "      <td>1.864043</td>\n",
       "      <td>1</td>\n",
       "      <td>1</td>\n",
       "      <td>do_nothing</td>\n",
       "      <td>go_short</td>\n",
       "      <td>do_nothing</td>\n",
       "      <td>-16.994467</td>\n",
       "      <td>2</td>\n",
       "      <td>go_long</td>\n",
       "    </tr>\n",
       "    <tr>\n",
       "      <th>9584</th>\n",
       "      <td>0.198100</td>\n",
       "      <td>0.199700</td>\n",
       "      <td>0.206379</td>\n",
       "      <td>0.209592</td>\n",
       "      <td>0.196900</td>\n",
       "      <td>1</td>\n",
       "      <td>0.199600</td>\n",
       "      <td>8.328819e+05</td>\n",
       "      <td>0.210928</td>\n",
       "      <td>0</td>\n",
       "      <td>...</td>\n",
       "      <td>0.204320</td>\n",
       "      <td>0.205586</td>\n",
       "      <td>1</td>\n",
       "      <td>1</td>\n",
       "      <td>do_nothing</td>\n",
       "      <td>go_short</td>\n",
       "      <td>do_nothing</td>\n",
       "      <td>-4.582991</td>\n",
       "      <td>2</td>\n",
       "      <td>go_long</td>\n",
       "    </tr>\n",
       "    <tr>\n",
       "      <th>9585</th>\n",
       "      <td>77.960000</td>\n",
       "      <td>81.730000</td>\n",
       "      <td>80.344431</td>\n",
       "      <td>82.214751</td>\n",
       "      <td>75.640000</td>\n",
       "      <td>0</td>\n",
       "      <td>81.430000</td>\n",
       "      <td>3.909254e+04</td>\n",
       "      <td>82.741600</td>\n",
       "      <td>0</td>\n",
       "      <td>...</td>\n",
       "      <td>76.922000</td>\n",
       "      <td>78.862857</td>\n",
       "      <td>1</td>\n",
       "      <td>0</td>\n",
       "      <td>do_nothing</td>\n",
       "      <td>go_short</td>\n",
       "      <td>do_nothing</td>\n",
       "      <td>-21.362207</td>\n",
       "      <td>2</td>\n",
       "      <td>go_long</td>\n",
       "    </tr>\n",
       "    <tr>\n",
       "      <th>9586</th>\n",
       "      <td>0.345900</td>\n",
       "      <td>0.346000</td>\n",
       "      <td>0.352661</td>\n",
       "      <td>0.358333</td>\n",
       "      <td>0.342300</td>\n",
       "      <td>0</td>\n",
       "      <td>0.343100</td>\n",
       "      <td>3.660012e+05</td>\n",
       "      <td>0.359624</td>\n",
       "      <td>0</td>\n",
       "      <td>...</td>\n",
       "      <td>0.348220</td>\n",
       "      <td>0.349329</td>\n",
       "      <td>1</td>\n",
       "      <td>1</td>\n",
       "      <td>do_nothing</td>\n",
       "      <td>go_short</td>\n",
       "      <td>do_nothing</td>\n",
       "      <td>-10.956925</td>\n",
       "      <td>2</td>\n",
       "      <td>go_long</td>\n",
       "    </tr>\n",
       "    <tr>\n",
       "      <th>9587</th>\n",
       "      <td>0.409400</td>\n",
       "      <td>0.430400</td>\n",
       "      <td>0.470327</td>\n",
       "      <td>0.500979</td>\n",
       "      <td>0.352300</td>\n",
       "      <td>1</td>\n",
       "      <td>0.392500</td>\n",
       "      <td>3.056824e+08</td>\n",
       "      <td>0.510720</td>\n",
       "      <td>0</td>\n",
       "      <td>...</td>\n",
       "      <td>0.436640</td>\n",
       "      <td>0.460586</td>\n",
       "      <td>1</td>\n",
       "      <td>1</td>\n",
       "      <td>do_nothing</td>\n",
       "      <td>go_short</td>\n",
       "      <td>do_nothing</td>\n",
       "      <td>-12.173111</td>\n",
       "      <td>2</td>\n",
       "      <td>go_long</td>\n",
       "    </tr>\n",
       "    <tr>\n",
       "      <th>9588</th>\n",
       "      <td>184.420000</td>\n",
       "      <td>184.420000</td>\n",
       "      <td>186.936727</td>\n",
       "      <td>188.752732</td>\n",
       "      <td>182.000000</td>\n",
       "      <td>0</td>\n",
       "      <td>183.090000</td>\n",
       "      <td>3.327910e+04</td>\n",
       "      <td>190.875600</td>\n",
       "      <td>1</td>\n",
       "      <td>...</td>\n",
       "      <td>184.684000</td>\n",
       "      <td>185.420000</td>\n",
       "      <td>1</td>\n",
       "      <td>0</td>\n",
       "      <td>do_nothing</td>\n",
       "      <td>go_short</td>\n",
       "      <td>do_nothing</td>\n",
       "      <td>-14.726109</td>\n",
       "      <td>2</td>\n",
       "      <td>go_long</td>\n",
       "    </tr>\n",
       "    <tr>\n",
       "      <th>9589</th>\n",
       "      <td>2419.430000</td>\n",
       "      <td>2422.240000</td>\n",
       "      <td>2362.250663</td>\n",
       "      <td>2328.745001</td>\n",
       "      <td>2375.610000</td>\n",
       "      <td>1</td>\n",
       "      <td>2387.010000</td>\n",
       "      <td>7.474110e+02</td>\n",
       "      <td>2331.044800</td>\n",
       "      <td>1</td>\n",
       "      <td>...</td>\n",
       "      <td>2393.324000</td>\n",
       "      <td>2384.464286</td>\n",
       "      <td>0</td>\n",
       "      <td>0</td>\n",
       "      <td>do_nothing</td>\n",
       "      <td>go_short</td>\n",
       "      <td>do_nothing</td>\n",
       "      <td>-8.475934</td>\n",
       "      <td>2</td>\n",
       "      <td>go_long</td>\n",
       "    </tr>\n",
       "    <tr>\n",
       "      <th>9590</th>\n",
       "      <td>5.783000</td>\n",
       "      <td>5.924000</td>\n",
       "      <td>5.668953</td>\n",
       "      <td>5.581225</td>\n",
       "      <td>5.775000</td>\n",
       "      <td>0</td>\n",
       "      <td>5.892000</td>\n",
       "      <td>9.610430e+05</td>\n",
       "      <td>5.534520</td>\n",
       "      <td>0</td>\n",
       "      <td>...</td>\n",
       "      <td>5.755000</td>\n",
       "      <td>5.714000</td>\n",
       "      <td>0</td>\n",
       "      <td>0</td>\n",
       "      <td>do_nothing</td>\n",
       "      <td>go_short</td>\n",
       "      <td>do_nothing</td>\n",
       "      <td>-13.158280</td>\n",
       "      <td>2</td>\n",
       "      <td>go_long</td>\n",
       "    </tr>\n",
       "    <tr>\n",
       "      <th>9591</th>\n",
       "      <td>0.010216</td>\n",
       "      <td>0.010217</td>\n",
       "      <td>0.010436</td>\n",
       "      <td>0.010588</td>\n",
       "      <td>0.010111</td>\n",
       "      <td>1</td>\n",
       "      <td>0.010136</td>\n",
       "      <td>4.313522e+08</td>\n",
       "      <td>0.010625</td>\n",
       "      <td>0</td>\n",
       "      <td>...</td>\n",
       "      <td>0.010301</td>\n",
       "      <td>0.010364</td>\n",
       "      <td>1</td>\n",
       "      <td>1</td>\n",
       "      <td>do_nothing</td>\n",
       "      <td>go_long</td>\n",
       "      <td>do_nothing</td>\n",
       "      <td>-7.267843</td>\n",
       "      <td>2</td>\n",
       "      <td>go_long</td>\n",
       "    </tr>\n",
       "    <tr>\n",
       "      <th>9592</th>\n",
       "      <td>0.361700</td>\n",
       "      <td>0.365500</td>\n",
       "      <td>0.374695</td>\n",
       "      <td>0.390237</td>\n",
       "      <td>0.337300</td>\n",
       "      <td>1</td>\n",
       "      <td>0.339500</td>\n",
       "      <td>5.685482e+07</td>\n",
       "      <td>0.397544</td>\n",
       "      <td>1</td>\n",
       "      <td>...</td>\n",
       "      <td>0.360560</td>\n",
       "      <td>0.367429</td>\n",
       "      <td>1</td>\n",
       "      <td>1</td>\n",
       "      <td>do_nothing</td>\n",
       "      <td>go_short</td>\n",
       "      <td>do_nothing</td>\n",
       "      <td>-12.842848</td>\n",
       "      <td>2</td>\n",
       "      <td>go_long</td>\n",
       "    </tr>\n",
       "    <tr>\n",
       "      <th>9593</th>\n",
       "      <td>27.721100</td>\n",
       "      <td>28.333200</td>\n",
       "      <td>27.114211</td>\n",
       "      <td>26.763951</td>\n",
       "      <td>27.627700</td>\n",
       "      <td>0</td>\n",
       "      <td>28.186800</td>\n",
       "      <td>2.356270e+05</td>\n",
       "      <td>26.606932</td>\n",
       "      <td>0</td>\n",
       "      <td>...</td>\n",
       "      <td>27.403940</td>\n",
       "      <td>27.274357</td>\n",
       "      <td>0</td>\n",
       "      <td>0</td>\n",
       "      <td>do_nothing</td>\n",
       "      <td>go_short</td>\n",
       "      <td>do_nothing</td>\n",
       "      <td>-7.678786</td>\n",
       "      <td>2</td>\n",
       "      <td>go_long</td>\n",
       "    </tr>\n",
       "  </tbody>\n",
       "</table>\n",
       "<p>15 rows × 21 columns</p>\n",
       "</div>"
      ],
      "text/plain": [
       "              open          high        ema-26        ema-12           low  \\\n",
       "9579      3.599000      3.634000      3.650141      3.759703      3.072000   \n",
       "9580    403.740000    405.360000    408.777427    415.122224    400.000000   \n",
       "9581    332.450000    332.780000    329.352335    327.166878    331.230000   \n",
       "9582  40276.600000  40342.100000  39524.841593  39145.907667  39987.600000   \n",
       "9583      1.827800      1.863600      1.875951      1.916730      1.822500   \n",
       "9584      0.198100      0.199700      0.206379      0.209592      0.196900   \n",
       "9585     77.960000     81.730000     80.344431     82.214751     75.640000   \n",
       "9586      0.345900      0.346000      0.352661      0.358333      0.342300   \n",
       "9587      0.409400      0.430400      0.470327      0.500979      0.352300   \n",
       "9588    184.420000    184.420000    186.936727    188.752732    182.000000   \n",
       "9589   2419.430000   2422.240000   2362.250663   2328.745001   2375.610000   \n",
       "9590      5.783000      5.924000      5.668953      5.581225      5.775000   \n",
       "9591      0.010216      0.010217      0.010436      0.010588      0.010111   \n",
       "9592      0.361700      0.365500      0.374695      0.390237      0.337300   \n",
       "9593     27.721100     28.333200     27.114211     26.763951     27.627700   \n",
       "\n",
       "      mean-grad-hist         close        volume        sma-25  long_jcrosk  \\\n",
       "9579               1      3.208000  5.339710e+06      3.773440            0   \n",
       "9580               1    400.270000  7.090600e+03    417.680400            0   \n",
       "9581               0    331.760000  2.270751e+04    327.236000            0   \n",
       "9582               1  40084.400000  3.264500e+01  38876.520000            0   \n",
       "9583               0      1.861800  5.597561e+05      1.920500            0   \n",
       "9584               1      0.199600  8.328819e+05      0.210928            0   \n",
       "9585               0     81.430000  3.909254e+04     82.741600            0   \n",
       "9586               0      0.343100  3.660012e+05      0.359624            0   \n",
       "9587               1      0.392500  3.056824e+08      0.510720            0   \n",
       "9588               0    183.090000  3.327910e+04    190.875600            1   \n",
       "9589               1   2387.010000  7.474110e+02   2331.044800            1   \n",
       "9590               0      5.892000  9.610430e+05      5.534520            0   \n",
       "9591               1      0.010136  4.313522e+08      0.010625            0   \n",
       "9592               1      0.339500  5.685482e+07      0.397544            1   \n",
       "9593               0     28.186800  2.356270e+05     26.606932            0   \n",
       "\n",
       "      ...        sma-05        sma-07  sma-compare  is_short      action  \\\n",
       "9579  ...      3.557000      3.625429            1         1  do_nothing   \n",
       "9580  ...    404.728000    405.378571            1         0  do_nothing   \n",
       "9581  ...    330.558000    330.138571            0         0  do_nothing   \n",
       "9582  ...  39915.080000  39890.171429            0         0  do_nothing   \n",
       "9583  ...      1.859500      1.864043            1         1  do_nothing   \n",
       "9584  ...      0.204320      0.205586            1         1  do_nothing   \n",
       "9585  ...     76.922000     78.862857            1         0  do_nothing   \n",
       "9586  ...      0.348220      0.349329            1         1  do_nothing   \n",
       "9587  ...      0.436640      0.460586            1         1  do_nothing   \n",
       "9588  ...    184.684000    185.420000            1         0  do_nothing   \n",
       "9589  ...   2393.324000   2384.464286            0         0  do_nothing   \n",
       "9590  ...      5.755000      5.714000            0         0  do_nothing   \n",
       "9591  ...      0.010301      0.010364            1         1  do_nothing   \n",
       "9592  ...      0.360560      0.367429            1         1  do_nothing   \n",
       "9593  ...     27.403940     27.274357            0         0  do_nothing   \n",
       "\n",
       "     imit-action     nlpreds     reward  action_num  predicted_action  \n",
       "9579    go_short  do_nothing -10.398551           2           go_long  \n",
       "9580    go_short  do_nothing -22.285516           2           go_long  \n",
       "9581    go_short  do_nothing  -7.784396           2           go_long  \n",
       "9582    go_short  do_nothing  -8.222254           2           go_long  \n",
       "9583    go_short  do_nothing -16.994467           2           go_long  \n",
       "9584    go_short  do_nothing  -4.582991           2           go_long  \n",
       "9585    go_short  do_nothing -21.362207           2           go_long  \n",
       "9586    go_short  do_nothing -10.956925           2           go_long  \n",
       "9587    go_short  do_nothing -12.173111           2           go_long  \n",
       "9588    go_short  do_nothing -14.726109           2           go_long  \n",
       "9589    go_short  do_nothing  -8.475934           2           go_long  \n",
       "9590    go_short  do_nothing -13.158280           2           go_long  \n",
       "9591     go_long  do_nothing  -7.267843           2           go_long  \n",
       "9592    go_short  do_nothing -12.842848           2           go_long  \n",
       "9593    go_short  do_nothing  -7.678786           2           go_long  \n",
       "\n",
       "[15 rows x 21 columns]"
      ]
     },
     "execution_count": 2030,
     "metadata": {},
     "output_type": "execute_result"
    }
   ],
   "source": [
    "train_data.tail(15)"
   ]
  },
  {
   "cell_type": "code",
   "execution_count": 2031,
   "metadata": {},
   "outputs": [
    {
     "data": {
      "text/plain": [
       "predicted_action\n",
       "go_long       9552\n",
       "go_short        24\n",
       "do_nothing      18\n",
       "Name: count, dtype: int64"
      ]
     },
     "execution_count": 2031,
     "metadata": {},
     "output_type": "execute_result"
    }
   ],
   "source": [
    "train_data['predicted_action'].value_counts()"
   ]
  },
  {
   "cell_type": "code",
   "execution_count": 2052,
   "metadata": {},
   "outputs": [],
   "source": [
    "m = train_data[(train_data['predicted_action'] != 'go_long') & (train_data['reward'] < 0)]"
   ]
  },
  {
   "cell_type": "code",
   "execution_count": 2053,
   "metadata": {},
   "outputs": [
    {
     "data": {
      "text/plain": [
       "is_short\n",
       "1    6\n",
       "0    2\n",
       "Name: count, dtype: int64"
      ]
     },
     "execution_count": 2053,
     "metadata": {},
     "output_type": "execute_result"
    }
   ],
   "source": [
    "m['is_short'].value_counts()"
   ]
  },
  {
   "cell_type": "code",
   "execution_count": 2034,
   "metadata": {},
   "outputs": [
    {
     "name": "stdout",
     "output_type": "stream",
     "text": [
      "3579\n",
      "5267\n"
     ]
    }
   ],
   "source": [
    "longs = dict(m['is_short'].value_counts().items()).get(0)\n",
    "print(longs)\n",
    "shorts = dict(m['is_short'].value_counts().items()).get(1)\n",
    "print(shorts)"
   ]
  },
  {
   "cell_type": "code",
   "execution_count": 2035,
   "metadata": {},
   "outputs": [
    {
     "name": "stdout",
     "output_type": "stream",
     "text": [
      "Processed state 0/9593\n",
      "Current Predicted Reward: 0\n",
      "Current Actual Reward: -6.66465099\n",
      "Processed state 100/9593\n",
      "Current Predicted Reward: 37.98101842999999\n",
      "Current Actual Reward: -44.83376707\n",
      "Processed state 200/9593\n",
      "Current Predicted Reward: 195.54380049000002\n",
      "Current Actual Reward: 112.72901499\n",
      "Processed state 300/9593\n",
      "Current Predicted Reward: 327.16696533000015\n",
      "Current Actual Reward: 244.3521798299999\n",
      "Processed state 400/9593\n",
      "Current Predicted Reward: 503.1988167800002\n",
      "Current Actual Reward: 420.3840312799999\n",
      "Processed state 500/9593\n",
      "Current Predicted Reward: 644.8830566299998\n",
      "Current Actual Reward: 562.0682711299996\n",
      "Processed state 600/9593\n",
      "Current Predicted Reward: 770.6609891399995\n",
      "Current Actual Reward: 687.8462036399993\n",
      "Processed state 700/9593\n",
      "Current Predicted Reward: 895.8091466399995\n",
      "Current Actual Reward: 812.9943611399993\n",
      "Processed state 800/9593\n",
      "Current Predicted Reward: 1030.17423409\n",
      "Current Actual Reward: 947.3594485899997\n",
      "Processed state 900/9593\n",
      "Current Predicted Reward: 1169.4938933499996\n",
      "Current Actual Reward: 1086.6791078499998\n",
      "Processed state 1000/9593\n",
      "Current Predicted Reward: 1308.2892606699995\n",
      "Current Actual Reward: 1225.4744751699998\n",
      "Processed state 1100/9593\n",
      "Current Predicted Reward: 1444.6993205899992\n",
      "Current Actual Reward: 1361.8845350899994\n",
      "Processed state 1200/9593\n",
      "Current Predicted Reward: 1570.7619437699998\n",
      "Current Actual Reward: 1487.94715827\n",
      "Processed state 1300/9593\n",
      "Current Predicted Reward: 1721.5552909799994\n",
      "Current Actual Reward: 1638.7405054799997\n",
      "Processed state 1400/9593\n",
      "Current Predicted Reward: 1861.5760461099999\n",
      "Current Actual Reward: 1778.7612606100001\n",
      "Processed state 1500/9593\n",
      "Current Predicted Reward: 2009.7102214499996\n",
      "Current Actual Reward: 1926.8954359499999\n",
      "Processed state 1600/9593\n",
      "Current Predicted Reward: 2152.0543928199986\n",
      "Current Actual Reward: 2069.2396073200007\n",
      "Processed state 1700/9593\n",
      "Current Predicted Reward: 2298.0003873299984\n",
      "Current Actual Reward: 2215.1856018300005\n",
      "Processed state 1800/9593\n",
      "Current Predicted Reward: 2430.294976399999\n",
      "Current Actual Reward: 2347.480190900001\n",
      "Processed state 1900/9593\n",
      "Current Predicted Reward: 2577.9865661199956\n",
      "Current Actual Reward: 2495.1717806199977\n",
      "Processed state 2000/9593\n",
      "Current Predicted Reward: 2718.4760153399934\n",
      "Current Actual Reward: 2635.6612298399955\n",
      "Processed state 2100/9593\n",
      "Current Predicted Reward: 2846.040928529994\n",
      "Current Actual Reward: 2763.226143029996\n",
      "Processed state 2200/9593\n",
      "Current Predicted Reward: 2959.779307979995\n",
      "Current Actual Reward: 2876.964522479997\n",
      "Processed state 2300/9593\n",
      "Current Predicted Reward: 3085.951958869995\n",
      "Current Actual Reward: 3003.137173369997\n",
      "Processed state 2400/9593\n",
      "Current Predicted Reward: 3238.1476997899954\n",
      "Current Actual Reward: 3155.3329142899975\n",
      "Processed state 2500/9593\n",
      "Current Predicted Reward: 3388.1579894399947\n",
      "Current Actual Reward: 3305.343203939997\n",
      "Processed state 2600/9593\n",
      "Current Predicted Reward: 3518.0296329299927\n",
      "Current Actual Reward: 3435.2148474299947\n",
      "Processed state 2700/9593\n",
      "Current Predicted Reward: 3672.7704788599913\n",
      "Current Actual Reward: 3589.9556933599933\n",
      "Processed state 2800/9593\n",
      "Current Predicted Reward: 3837.918940369993\n",
      "Current Actual Reward: 3755.104154869995\n",
      "Processed state 2900/9593\n",
      "Current Predicted Reward: 3984.0549535199916\n",
      "Current Actual Reward: 3901.2401680199937\n",
      "Processed state 3000/9593\n",
      "Current Predicted Reward: 4123.356909889991\n",
      "Current Actual Reward: 4040.542124389994\n",
      "Processed state 3100/9593\n",
      "Current Predicted Reward: 4295.497192279989\n",
      "Current Actual Reward: 4212.682406779992\n",
      "Processed state 3200/9593\n",
      "Current Predicted Reward: 4426.7107718099915\n",
      "Current Actual Reward: 4343.895986309994\n",
      "Processed state 3300/9593\n",
      "Current Predicted Reward: 4565.900781089993\n",
      "Current Actual Reward: 4483.085995589996\n",
      "Processed state 3400/9593\n",
      "Current Predicted Reward: 4671.281268759994\n",
      "Current Actual Reward: 4588.466483259997\n",
      "Processed state 3500/9593\n",
      "Current Predicted Reward: 4813.054772539994\n",
      "Current Actual Reward: 4730.239987039997\n",
      "Processed state 3600/9593\n",
      "Current Predicted Reward: 4980.705265069992\n",
      "Current Actual Reward: 5146.177112559992\n",
      "Processed state 3700/9593\n",
      "Current Predicted Reward: 5028.929520669992\n",
      "Current Actual Reward: 5964.458243539992\n",
      "Processed state 3800/9593\n",
      "Current Predicted Reward: 5228.493043809992\n",
      "Current Actual Reward: 6795.74411777999\n",
      "Processed state 3900/9593\n",
      "Current Predicted Reward: 5410.148271789993\n",
      "Current Actual Reward: 7612.4708881799925\n",
      "Processed state 4000/9593\n",
      "Current Predicted Reward: 5508.081793389992\n",
      "Current Actual Reward: 7961.735166259992\n",
      "Processed state 4100/9593\n",
      "Current Predicted Reward: 5508.081793389992\n",
      "Current Actual Reward: 8114.743928609991\n",
      "Processed state 4200/9593\n",
      "Current Predicted Reward: 5508.081793389992\n",
      "Current Actual Reward: 8291.863317669991\n",
      "Processed state 4300/9593\n",
      "Current Predicted Reward: 5508.081793389992\n",
      "Current Actual Reward: 8449.64336392999\n",
      "Processed state 4400/9593\n",
      "Current Predicted Reward: 5508.081793389992\n",
      "Current Actual Reward: 8611.51670423999\n",
      "Processed state 4500/9593\n",
      "Current Predicted Reward: 5508.081793389992\n",
      "Current Actual Reward: 8792.604269889991\n",
      "Processed state 4600/9593\n",
      "Current Predicted Reward: 5508.081793389992\n",
      "Current Actual Reward: 8968.406981590002\n",
      "Processed state 4700/9593\n",
      "Current Predicted Reward: 5508.081793389992\n",
      "Current Actual Reward: 9145.09952219\n",
      "Processed state 4800/9593\n",
      "Current Predicted Reward: 5508.081793389992\n",
      "Current Actual Reward: 9304.805327970005\n",
      "Processed state 4900/9593\n",
      "Current Predicted Reward: 5508.081793389992\n",
      "Current Actual Reward: 9467.422638590007\n",
      "Processed state 5000/9593\n",
      "Current Predicted Reward: 5508.081793389992\n",
      "Current Actual Reward: 9666.616913210008\n",
      "Processed state 5100/9593\n",
      "Current Predicted Reward: 5508.081793389992\n",
      "Current Actual Reward: 9814.697768560012\n",
      "Processed state 5200/9593\n",
      "Current Predicted Reward: 5508.081793389992\n",
      "Current Actual Reward: 9972.550769860012\n",
      "Processed state 5300/9593\n",
      "Current Predicted Reward: 5508.081793389992\n",
      "Current Actual Reward: 10131.186655830013\n",
      "Processed state 5400/9593\n",
      "Current Predicted Reward: 5508.081793389992\n",
      "Current Actual Reward: 10298.314706440018\n",
      "Processed state 5500/9593\n",
      "Current Predicted Reward: 5508.081793389992\n",
      "Current Actual Reward: 10456.496202780017\n",
      "Processed state 5600/9593\n",
      "Current Predicted Reward: 5508.081793389992\n",
      "Current Actual Reward: 10617.48061428001\n",
      "Processed state 5700/9593\n",
      "Current Predicted Reward: 5508.081793389992\n",
      "Current Actual Reward: 10769.587336940003\n",
      "Processed state 5800/9593\n",
      "Current Predicted Reward: 5508.081793389992\n",
      "Current Actual Reward: 10951.331802839994\n",
      "Processed state 5900/9593\n",
      "Current Predicted Reward: 5508.081793389992\n",
      "Current Actual Reward: 11123.528354819995\n",
      "Processed state 6000/9593\n",
      "Current Predicted Reward: 5508.081793389992\n",
      "Current Actual Reward: 11278.960666219993\n",
      "Processed state 6100/9593\n",
      "Current Predicted Reward: 5508.081793389992\n",
      "Current Actual Reward: 11433.46352260999\n",
      "Processed state 6200/9593\n",
      "Current Predicted Reward: 5508.081793389992\n",
      "Current Actual Reward: 11586.860211089992\n",
      "Processed state 6300/9593\n",
      "Current Predicted Reward: 5508.081793389992\n",
      "Current Actual Reward: 11730.209398170002\n",
      "Processed state 6400/9593\n",
      "Current Predicted Reward: 5508.081793389992\n",
      "Current Actual Reward: 11866.351560069998\n",
      "Processed state 6500/9593\n",
      "Current Predicted Reward: 5508.081793389992\n",
      "Current Actual Reward: 12019.176150439993\n",
      "Processed state 6600/9593\n",
      "Current Predicted Reward: 5508.081793389992\n",
      "Current Actual Reward: 12154.719165139997\n",
      "Processed state 6700/9593\n",
      "Current Predicted Reward: 5508.081793389992\n",
      "Current Actual Reward: 12311.550458360003\n",
      "Processed state 6800/9593\n",
      "Current Predicted Reward: 5508.081793389992\n",
      "Current Actual Reward: 12470.190543220006\n",
      "Processed state 6900/9593\n",
      "Current Predicted Reward: 5508.081793389992\n",
      "Current Actual Reward: 12628.049859890009\n",
      "Processed state 7000/9593\n",
      "Current Predicted Reward: 5508.081793389992\n",
      "Current Actual Reward: 12787.940008570004\n",
      "Processed state 7100/9593\n",
      "Current Predicted Reward: 5508.081793389992\n",
      "Current Actual Reward: 12943.381078930011\n",
      "Processed state 7200/9593\n",
      "Current Predicted Reward: 5508.081793389992\n",
      "Current Actual Reward: 13097.730980950002\n",
      "Processed state 7300/9593\n",
      "Current Predicted Reward: 5508.081793389992\n",
      "Current Actual Reward: 13249.267257979996\n",
      "Processed state 7400/9593\n",
      "Current Predicted Reward: 5508.081793389992\n",
      "Current Actual Reward: 13418.280527399987\n",
      "Processed state 7500/9593\n",
      "Current Predicted Reward: 5508.081793389992\n",
      "Current Actual Reward: 13578.609183629978\n",
      "Processed state 7600/9593\n",
      "Current Predicted Reward: 5508.081793389992\n",
      "Current Actual Reward: 13735.374188779972\n",
      "Processed state 7700/9593\n",
      "Current Predicted Reward: 5508.081793389992\n",
      "Current Actual Reward: 13916.742919259974\n",
      "Processed state 7800/9593\n",
      "Current Predicted Reward: 5508.081793389992\n",
      "Current Actual Reward: 14088.391401619974\n",
      "Processed state 7900/9593\n",
      "Current Predicted Reward: 5508.081793389992\n",
      "Current Actual Reward: 14266.489012299966\n",
      "Processed state 8000/9593\n",
      "Current Predicted Reward: 5508.081793389992\n",
      "Current Actual Reward: 14431.858833819968\n",
      "Processed state 8100/9593\n",
      "Current Predicted Reward: 5508.081793389992\n",
      "Current Actual Reward: 14585.654091749964\n",
      "Processed state 8200/9593\n",
      "Current Predicted Reward: 5508.081793389992\n",
      "Current Actual Reward: 14730.972299719957\n",
      "Processed state 8300/9593\n",
      "Current Predicted Reward: 5508.081793389992\n",
      "Current Actual Reward: 14864.909423559955\n",
      "Processed state 8400/9593\n",
      "Current Predicted Reward: 5508.081793389992\n",
      "Current Actual Reward: 15021.772217839956\n",
      "Processed state 8500/9593\n",
      "Current Predicted Reward: 5508.081793389992\n",
      "Current Actual Reward: 15165.64698916996\n",
      "Processed state 8600/9593\n",
      "Current Predicted Reward: 5508.081793389992\n",
      "Current Actual Reward: 15307.288356949959\n",
      "Processed state 8700/9593\n",
      "Current Predicted Reward: 5508.081793389992\n",
      "Current Actual Reward: 15468.538388259965\n",
      "Processed state 8800/9593\n",
      "Current Predicted Reward: 5508.081793389992\n",
      "Current Actual Reward: 15619.29359219996\n",
      "Processed state 8900/9593\n",
      "Current Predicted Reward: 5508.081793389992\n",
      "Current Actual Reward: 15789.527759779961\n",
      "Processed state 9000/9593\n",
      "Current Predicted Reward: 5508.081793389992\n",
      "Current Actual Reward: 13423.002333939958\n",
      "Processed state 9100/9593\n",
      "Current Predicted Reward: 5508.081793389992\n",
      "Current Actual Reward: 11073.255640079951\n",
      "Processed state 9200/9593\n",
      "Current Predicted Reward: 5508.081793389992\n",
      "Current Actual Reward: 8746.941708799957\n",
      "Processed state 9300/9593\n",
      "Current Predicted Reward: 5508.081793389992\n",
      "Current Actual Reward: 6356.942309949956\n",
      "Processed state 9400/9593\n",
      "Current Predicted Reward: 5508.081793389992\n",
      "Current Actual Reward: 4029.1721626899557\n",
      "Processed state 9500/9593\n",
      "Current Predicted Reward: 5508.081793389992\n",
      "Current Actual Reward: 1659.3210184099546\n",
      "Cumulative Predicted Reward: 5508.081793389992\n",
      "Cumulative Actual Reward: 44.755643879954626\n",
      "Prediction Efficiency: 12207.01%\n"
     ]
    }
   ],
   "source": [
    "# Performance measures\n",
    "# Initialize cumulative rewards\n",
    "cumulative_predicted_reward = 0\n",
    "cumulative_actual_reward = 0\n",
    "\n",
    "# Iterate through states to calculate rewards\n",
    "for state_index in range(n_states - 1):\n",
    "    # Predicted action from Q-table\n",
    "    predicted_action = np.argmax(q_table[state_index])  # Best action for the current state\n",
    "    # Actual action from the ground truth\n",
    "    actual_action = train_data[\"action_num\"].iloc[state_index]\n",
    "\n",
    "    # Get reward for predicted action only if it matches the actual action\n",
    "    if predicted_action == actual_action:\n",
    "        predicted_reward = rewards[state_index + 1]  # Reward for the correct prediction\n",
    "        cumulative_predicted_reward += predicted_reward\n",
    "\n",
    "    # Get actual reward for the ground truth action\n",
    "    actual_reward = rewards[state_index + 1]\n",
    "    cumulative_actual_reward += actual_reward\n",
    "\n",
    "    # Optional: Log progress\n",
    "    if state_index % 100 == 0:  # Adjust logging frequency as needed\n",
    "        print(f\"Processed state {state_index}/{n_states - 1}\")\n",
    "        print(f\"Current Predicted Reward: {cumulative_predicted_reward}\")\n",
    "        print(f\"Current Actual Reward: {cumulative_actual_reward}\")\n",
    "\n",
    "# Print results\n",
    "print(f\"Cumulative Predicted Reward: {cumulative_predicted_reward}\")\n",
    "print(f\"Cumulative Actual Reward: {cumulative_actual_reward}\")\n",
    "\n",
    "# Optionally calculate efficiency\n",
    "efficiency = (\n",
    "    ((cumulative_predicted_reward - cumulative_actual_reward) / abs(cumulative_actual_reward)) * 100\n",
    "    if cumulative_actual_reward != 0\n",
    "    else 0\n",
    ")\n",
    "print(f\"Prediction Efficiency: {efficiency:.2f}%\")\n",
    "\n"
   ]
  },
  {
   "cell_type": "code",
   "execution_count": 2036,
   "metadata": {},
   "outputs": [
    {
     "name": "stdout",
     "output_type": "stream",
     "text": [
      "Accuracy: 37.35%\n"
     ]
    }
   ],
   "source": [
    "# Accuracy\n",
    "correct_predictions = 0\n",
    "for state_index in range(n_states):\n",
    "    predicted_action = np.argmax(q_table[state_index])  # Predicted action\n",
    "    actual_action = train_data[\"action_num\"].iloc[state_index]  # Actual action\n",
    "    if predicted_action == actual_action:\n",
    "        correct_predictions += 1\n",
    "\n",
    "accuracy = correct_predictions / n_states\n",
    "print(f\"Accuracy: {accuracy * 100:.2f}%\")"
   ]
  },
  {
   "cell_type": "code",
   "execution_count": 2037,
   "metadata": {},
   "outputs": [
    {
     "name": "stdout",
     "output_type": "stream",
     "text": [
      "Confusion Matrix:\n",
      "[[3579   20   13]\n",
      " [5267    0    1]\n",
      " [ 706    4    4]]\n"
     ]
    }
   ],
   "source": [
    "# Confusion matrix\n",
    "y_true = train_data[\"action_num\"]  # Actual actions\n",
    "y_pred = [np.argmax(q_table[state_index]) for state_index in range(n_states)]  # Predicted actions\n",
    "\n",
    "cm = confusion_matrix(y_true, y_pred)\n",
    "print(\"Confusion Matrix:\")\n",
    "print(cm)"
   ]
  },
  {
   "cell_type": "code",
   "execution_count": 2038,
   "metadata": {},
   "outputs": [
    {
     "data": {
      "text/plain": [
       "action\n",
       "go_short      5268\n",
       "go_long       3612\n",
       "do_nothing     714\n",
       "Name: count, dtype: int64"
      ]
     },
     "execution_count": 2038,
     "metadata": {},
     "output_type": "execute_result"
    }
   ],
   "source": [
    "df0['action'].value_counts()"
   ]
  },
  {
   "cell_type": "code",
   "execution_count": 2063,
   "metadata": {},
   "outputs": [],
   "source": [
    "m = train_data[(train_data['predicted_action'] != 'go_short') & (train_data['reward'] > 0)]"
   ]
  },
  {
   "cell_type": "code",
   "execution_count": 2064,
   "metadata": {},
   "outputs": [
    {
     "data": {
      "text/plain": [
       "is_short\n",
       "1    5268\n",
       "0    3592\n",
       "Name: count, dtype: int64"
      ]
     },
     "execution_count": 2064,
     "metadata": {},
     "output_type": "execute_result"
    }
   ],
   "source": [
    "m['is_short'].value_counts()"
   ]
  },
  {
   "cell_type": "code",
   "execution_count": 2041,
   "metadata": {},
   "outputs": [
    {
     "data": {
      "text/html": [
       "<div>\n",
       "<style scoped>\n",
       "    .dataframe tbody tr th:only-of-type {\n",
       "        vertical-align: middle;\n",
       "    }\n",
       "\n",
       "    .dataframe tbody tr th {\n",
       "        vertical-align: top;\n",
       "    }\n",
       "\n",
       "    .dataframe thead th {\n",
       "        text-align: right;\n",
       "    }\n",
       "</style>\n",
       "<table border=\"1\" class=\"dataframe\">\n",
       "  <thead>\n",
       "    <tr style=\"text-align: right;\">\n",
       "      <th></th>\n",
       "      <th>open</th>\n",
       "      <th>high</th>\n",
       "      <th>ema-26</th>\n",
       "      <th>ema-12</th>\n",
       "      <th>low</th>\n",
       "      <th>mean-grad-hist</th>\n",
       "      <th>close</th>\n",
       "      <th>volume</th>\n",
       "      <th>sma-25</th>\n",
       "      <th>long_jcrosk</th>\n",
       "      <th>...</th>\n",
       "      <th>sma-05</th>\n",
       "      <th>sma-07</th>\n",
       "      <th>sma-compare</th>\n",
       "      <th>is_short</th>\n",
       "      <th>action</th>\n",
       "      <th>imit-action</th>\n",
       "      <th>nlpreds</th>\n",
       "      <th>reward</th>\n",
       "      <th>action_num</th>\n",
       "      <th>predicted_action</th>\n",
       "    </tr>\n",
       "  </thead>\n",
       "  <tbody>\n",
       "    <tr>\n",
       "      <th>3</th>\n",
       "      <td>0.001823</td>\n",
       "      <td>0.001841</td>\n",
       "      <td>0.001819</td>\n",
       "      <td>0.001819</td>\n",
       "      <td>0.001819</td>\n",
       "      <td>0</td>\n",
       "      <td>0.001835</td>\n",
       "      <td>1.825455e+08</td>\n",
       "      <td>0.001823</td>\n",
       "      <td>0</td>\n",
       "      <td>...</td>\n",
       "      <td>0.001819</td>\n",
       "      <td>0.001817</td>\n",
       "      <td>0</td>\n",
       "      <td>1</td>\n",
       "      <td>do_nothing</td>\n",
       "      <td>go_long</td>\n",
       "      <td>do_nothing</td>\n",
       "      <td>-2.662213</td>\n",
       "      <td>2</td>\n",
       "      <td>go_short</td>\n",
       "    </tr>\n",
       "    <tr>\n",
       "      <th>8</th>\n",
       "      <td>76.000000</td>\n",
       "      <td>76.050000</td>\n",
       "      <td>75.613100</td>\n",
       "      <td>74.875592</td>\n",
       "      <td>75.640000</td>\n",
       "      <td>1</td>\n",
       "      <td>75.710000</td>\n",
       "      <td>2.928498e+04</td>\n",
       "      <td>74.796000</td>\n",
       "      <td>0</td>\n",
       "      <td>...</td>\n",
       "      <td>76.022000</td>\n",
       "      <td>76.044286</td>\n",
       "      <td>0</td>\n",
       "      <td>0</td>\n",
       "      <td>do_nothing</td>\n",
       "      <td>go_short</td>\n",
       "      <td>do_nothing</td>\n",
       "      <td>-10.590822</td>\n",
       "      <td>2</td>\n",
       "      <td>go_short</td>\n",
       "    </tr>\n",
       "  </tbody>\n",
       "</table>\n",
       "<p>2 rows × 21 columns</p>\n",
       "</div>"
      ],
      "text/plain": [
       "        open       high     ema-26     ema-12        low  mean-grad-hist  \\\n",
       "3   0.001823   0.001841   0.001819   0.001819   0.001819               0   \n",
       "8  76.000000  76.050000  75.613100  74.875592  75.640000               1   \n",
       "\n",
       "       close        volume     sma-25  long_jcrosk  ...     sma-05     sma-07  \\\n",
       "3   0.001835  1.825455e+08   0.001823            0  ...   0.001819   0.001817   \n",
       "8  75.710000  2.928498e+04  74.796000            0  ...  76.022000  76.044286   \n",
       "\n",
       "   sma-compare  is_short      action imit-action     nlpreds     reward  \\\n",
       "3            0         1  do_nothing     go_long  do_nothing  -2.662213   \n",
       "8            0         0  do_nothing    go_short  do_nothing -10.590822   \n",
       "\n",
       "   action_num  predicted_action  \n",
       "3           2          go_short  \n",
       "8           2          go_short  \n",
       "\n",
       "[2 rows x 21 columns]"
      ]
     },
     "execution_count": 2041,
     "metadata": {},
     "output_type": "execute_result"
    }
   ],
   "source": [
    "m[m['sma-compare'] == 0].head()"
   ]
  },
  {
   "cell_type": "code",
   "execution_count": 2042,
   "metadata": {},
   "outputs": [
    {
     "data": {
      "image/png": "[encoded data removed]",
      "text/plain": [
       "<Figure size 640x480 with 1 Axes>"
      ]
     },
     "metadata": {},
     "output_type": "display_data"
    }
   ],
   "source": [
    "import matplotlib.pyplot as plt\n",
    "\n",
    "# Assuming you have a list of rewards for each episode\n",
    "#rewards_per_episode = [...]  # Populate this with your actual data\n",
    "\n",
    "plt.plot(rewards_per_episode)\n",
    "plt.xlabel('Episode')\n",
    "plt.ylabel('Reward')\n",
    "plt.title('Rewards per Episode')\n",
    "plt.show()\n"
   ]
  },
  {
   "cell_type": "code",
   "execution_count": 2043,
   "metadata": {},
   "outputs": [],
   "source": [
    "# Tuning\n",
    "\n",
    "def train_q_learning(alpha, gamma, epsilon, min_epsilon, decay_rate, n_episodes, n_states, n_actions, rewards):\n",
    "    q_table = np.zeros((n_states, n_actions))\n",
    "    rewards_per_episode = []\n",
    "\n",
    "    for episode in range(n_episodes):\n",
    "        current_state = np.random.randint(0, n_states)\n",
    "        total_reward = 0\n",
    "\n",
    "        while current_state < n_states - 1:\n",
    "            if np.random.uniform(0, 1) < epsilon:\n",
    "                action = np.random.randint(0, n_actions)\n",
    "            else:\n",
    "                action = np.argmax(q_table[current_state])\n",
    "\n",
    "            next_state = current_state + 1  # Adjust based on environment logic\n",
    "            reward = rewards[next_state]\n",
    "\n",
    "            best_next_action = np.argmax(q_table[next_state])\n",
    "            q_table[current_state, action] += alpha * (\n",
    "                reward + gamma * q_table[next_state, best_next_action] - q_table[current_state, action]\n",
    "            )\n",
    "\n",
    "            total_reward += reward\n",
    "            current_state = next_state\n",
    "\n",
    "        rewards_per_episode.append(total_reward)\n",
    "        epsilon = max(min_epsilon, epsilon * decay_rate) # default min_epsilon = 0.01\n",
    "\n",
    "    return q_table, rewards_per_episode\n"
   ]
  },
  {
   "cell_type": "code",
   "execution_count": 2044,
   "metadata": {},
   "outputs": [],
   "source": [
    "\n",
    "def evaluate_q_learning_reward_weighted(q_table, n_states, train_data, rewards):\n",
    "    correct_predictions = 0\n",
    "    total_reward = 0\n",
    "    reward_weighted_accuracy = []\n",
    "\n",
    "    # Add tqdm for progress visualization\n",
    "    for state_index in tqdm(range(n_states), desc=\"Evaluating States\"):\n",
    "        predicted_action = np.argmax(q_table[state_index])  # Predicted action\n",
    "        actual_action = train_data[\"action_num\"].iloc[state_index]  # Actual action\n",
    "        reward = rewards[state_index]  # Reward for the action\n",
    "\n",
    "        if predicted_action == actual_action:\n",
    "            correct_predictions += 1\n",
    "            total_reward += reward\n",
    "\n",
    "        accuracy = correct_predictions / (state_index + 1)\n",
    "        reward_weighted_accuracy.append(total_reward / (state_index + 1))\n",
    "\n",
    "        # Optional: Log progress\n",
    "        if state_index % 100 == 0:\n",
    "            print(f\"Processed state {state_index}/{n_states} - Accuracy: {accuracy * 100:.2f}%, Reward-weighted Accuracy: {reward_weighted_accuracy[-1]}\")\n",
    "\n",
    "    final_reward_weighted_accuracy = total_reward / n_states\n",
    "    return final_reward_weighted_accuracy * 100\n",
    "\n"
   ]
  },
  {
   "cell_type": "code",
   "execution_count": 2045,
   "metadata": {},
   "outputs": [
    {
     "data": {
      "text/plain": [
       "'\\ndef random_search_reward_weighted(n_iter, param_grid, n_states, n_actions, rewards, train_data):\\n    best_params = None\\n    best_reward_weighted_accuracy = float(\\'-inf\\')\\n\\n    for _ in tqdm(range(n_iter), desc=\"Searching for params ...\"):\\n        alpha = random.choice(param_grid[\\'alpha\\'])\\n        gamma = random.choice(param_grid[\\'gamma\\'])\\n        epsilon = random.choice(param_grid[\\'epsilon\\'])\\n        min_epsilon = random.choice(param_grid[\\'decay_rate\\'])\\n        decay_rate = random.choice(param_grid[\\'decay_rate\\'])\\n        n_episodes = random.choice(param_grid[\\'n_episodes\\'])\\n\\n        q_table, _ = train_q_learning(alpha, gamma, epsilon, min_epsilon, decay_rate, n_episodes, n_states, n_actions, rewards)\\n        reward_weighted_accuracy = evaluate_q_learning_reward_weighted(q_table, n_states, train_data, rewards)\\n\\n        if reward_weighted_accuracy > best_reward_weighted_accuracy:\\n            best_reward_weighted_accuracy = reward_weighted_accuracy\\n            best_params = (alpha, gamma, epsilon, min_epsilon, decay_rate, n_episodes)\\n\\n        print(f\"Iteration Reward-weighted Accuracy: {reward_weighted_accuracy:.2f}%, Best Reward-weighted Accuracy: {best_reward_weighted_accuracy:.2f}%\")\\n\\n    return best_params, best_reward_weighted_accuracy\\n\\n# Define the parameter grid\\nparam_grid = {\\n    \\'alpha\\': [0.01, 0.05, 0.1, 0.2, 0.25, 0.3, 0.5, 0.7, 0.9, 1],\\n    \\'gamma\\': [0.75, 0.85, 0.9, 0.95, 0.99],\\n    \\'epsilon\\': [1.0, 0.5, 0.1, 0.05, 0.01, 0.005],\\n    \\'min_epsilon\\': [0.05, 0.01, 0.005, 0.001, 0.001],\\n    \\'decay_rate\\': [0.95, 0.99, 0.995, 0.997, 0.999],\\n    \\'n_episodes\\': [1500, 4000,6000, 8000, 9000, 10000, 11000, 12000]\\n}\\n\\n# Perform Random Search\\nbest_params, best_reward_weighted_accuracy = random_search_reward_weighted(50, param_grid, n_states, n_actions, rewards, train_data)\\nprint(f\"Best Hyperparameters: {best_params}\")\\nprint(f\"Best Reward-weighted Accuracy: {best_reward_weighted_accuracy:.2f}%\")\\n\\n'"
      ]
     },
     "execution_count": 2045,
     "metadata": {},
     "output_type": "execute_result"
    }
   ],
   "source": [
    "'''\n",
    "def random_search_reward_weighted(n_iter, param_grid, n_states, n_actions, rewards, train_data):\n",
    "    best_params = None\n",
    "    best_reward_weighted_accuracy = float('-inf')\n",
    "\n",
    "    for _ in tqdm(range(n_iter), desc=\"Searching for params ...\"):\n",
    "        alpha = random.choice(param_grid['alpha'])\n",
    "        gamma = random.choice(param_grid['gamma'])\n",
    "        epsilon = random.choice(param_grid['epsilon'])\n",
    "        min_epsilon = random.choice(param_grid['decay_rate'])\n",
    "        decay_rate = random.choice(param_grid['decay_rate'])\n",
    "        n_episodes = random.choice(param_grid['n_episodes'])\n",
    "\n",
    "        q_table, _ = train_q_learning(alpha, gamma, epsilon, min_epsilon, decay_rate, n_episodes, n_states, n_actions, rewards)\n",
    "        reward_weighted_accuracy = evaluate_q_learning_reward_weighted(q_table, n_states, train_data, rewards)\n",
    "\n",
    "        if reward_weighted_accuracy > best_reward_weighted_accuracy:\n",
    "            best_reward_weighted_accuracy = reward_weighted_accuracy\n",
    "            best_params = (alpha, gamma, epsilon, min_epsilon, decay_rate, n_episodes)\n",
    "\n",
    "        print(f\"Iteration Reward-weighted Accuracy: {reward_weighted_accuracy:.2f}%, Best Reward-weighted Accuracy: {best_reward_weighted_accuracy:.2f}%\")\n",
    "\n",
    "    return best_params, best_reward_weighted_accuracy\n",
    "\n",
    "# Define the parameter grid\n",
    "param_grid = {\n",
    "    'alpha': [0.01, 0.05, 0.1, 0.2, 0.25, 0.3, 0.5, 0.7, 0.9, 1],\n",
    "    'gamma': [0.75, 0.85, 0.9, 0.95, 0.99],\n",
    "    'epsilon': [1.0, 0.5, 0.1, 0.05, 0.01, 0.005],\n",
    "    'min_epsilon': [0.05, 0.01, 0.005, 0.001, 0.001],\n",
    "    'decay_rate': [0.95, 0.99, 0.995, 0.997, 0.999],\n",
    "    'n_episodes': [1500, 4000,6000, 8000, 9000, 10000, 11000, 12000]\n",
    "}\n",
    "\n",
    "# Perform Random Search\n",
    "best_params, best_reward_weighted_accuracy = random_search_reward_weighted(50, param_grid, n_states, n_actions, rewards, train_data)\n",
    "print(f\"Best Hyperparameters: {best_params}\")\n",
    "print(f\"Best Reward-weighted Accuracy: {best_reward_weighted_accuracy:.2f}%\")\n",
    "\n",
    "'''"
   ]
  },
  {
   "cell_type": "code",
   "execution_count": 2046,
   "metadata": {},
   "outputs": [],
   "source": [
    "def evaluate_q_learning_prediction_efficiency(q_table, n_states, train_data, rewards):\n",
    "    # Initialize cumulative rewards\n",
    "    cumulative_predicted_reward = 0\n",
    "    cumulative_actual_reward = 0\n",
    "\n",
    "    # Iterate through states to calculate rewards\n",
    "    for state_index in range(n_states - 1):\n",
    "        # Predicted action from Q-table\n",
    "        predicted_action = np.argmax(q_table[state_index])  # Best action for the current state\n",
    "        # Actual action from the ground truth\n",
    "        actual_action = train_data[\"action_num\"].iloc[state_index]\n",
    "\n",
    "        # Get reward for predicted action only if it matches the actual action\n",
    "        if predicted_action == actual_action:\n",
    "            predicted_reward = rewards[state_index + 1]  # Reward for the correct prediction\n",
    "            cumulative_predicted_reward += predicted_reward\n",
    "\n",
    "        # Get actual reward for the ground truth action\n",
    "        actual_reward = rewards[state_index + 1]\n",
    "        cumulative_actual_reward += actual_reward\n",
    "    return cumulative_predicted_reward"
   ]
  },
  {
   "cell_type": "code",
   "execution_count": null,
   "metadata": {},
   "outputs": [],
   "source": []
  },
  {
   "cell_type": "code",
   "execution_count": 2047,
   "metadata": {},
   "outputs": [
    {
     "data": {
      "text/plain": [
       "'\\ndef random_search_prediction_efficiency(n_iter, param_grid, n_states, n_actions, rewards, train_data):\\n    best_params = None\\n    best_cumulative_pred_reward = float(\\'-inf\\')\\n\\n    for _ in tqdm(range(n_iter), desc=\"Searching for params ...\"):\\n        alpha = random.choice(param_grid[\\'alpha\\'])\\n        gamma = random.choice(param_grid[\\'gamma\\'])\\n        epsilon = random.choice(param_grid[\\'epsilon\\'])\\n        min_epsilon = random.choice(param_grid[\\'decay_rate\\'])\\n        decay_rate = random.choice(param_grid[\\'decay_rate\\'])\\n        n_episodes = random.choice(param_grid[\\'n_episodes\\'])\\n\\n        q_table, _ = train_q_learning(alpha, gamma, epsilon, min_epsilon, decay_rate, n_episodes, n_states, n_actions, rewards)\\n        cumulative_pred_reward = evaluate_q_learning_prediction_efficiency(q_table, n_states, train_data, rewards)\\n\\n        if cumulative_pred_reward > best_cumulative_pred_reward:\\n            best_cumulative_pred_reward = cumulative_pred_reward\\n            best_params = (alpha, gamma, epsilon, min_epsilon, decay_rate, n_episodes)\\n\\n        print(f\"Iteration cumulative predicted reward: {cumulative_pred_reward:.2f}%, Best cumulative predicted reward: {best_cumulative_pred_reward:.2f}%\")\\n\\n    return best_params, best_cumulative_pred_reward\\n\\n# Define the parameter grid\\nparam_grid = {\\n    \\'alpha\\': [0.01, 0.05, 0.1, 0.2, 0.25, 0.3, 0.5, 0.7, 0.9, 1],\\n    \\'gamma\\': [0.75, 0.85, 0.9, 0.95, 0.99],\\n    \\'epsilon\\': [1.0, 0.5, 0.1, 0.05, 0.01, 0.005],\\n    \\'min_epsilon\\': [0.05, 0.01, 0.005, 0.001, 0.001],\\n    \\'decay_rate\\': [0.95, 0.99, 0.995, 0.997, 0.999],\\n    \\'n_episodes\\': [1500, 4000,6000, 8000, 9000, 10000, 11000, 12000]\\n}\\n\\n# Perform Random Search\\nbest_params, best_cumulative_pred_reward = random_search_prediction_efficiency(50, param_grid, n_states, n_actions, rewards, train_data)\\nprint(f\"Best Hyperparameters: {best_params}\")\\nprint(f\"Best cumulative predicted reward: {best_cumulative_pred_reward:.2f}%\")\\n'"
      ]
     },
     "execution_count": 2047,
     "metadata": {},
     "output_type": "execute_result"
    }
   ],
   "source": [
    "'''\n",
    "def random_search_prediction_efficiency(n_iter, param_grid, n_states, n_actions, rewards, train_data):\n",
    "    best_params = None\n",
    "    best_cumulative_pred_reward = float('-inf')\n",
    "\n",
    "    for _ in tqdm(range(n_iter), desc=\"Searching for params ...\"):\n",
    "        alpha = random.choice(param_grid['alpha'])\n",
    "        gamma = random.choice(param_grid['gamma'])\n",
    "        epsilon = random.choice(param_grid['epsilon'])\n",
    "        min_epsilon = random.choice(param_grid['decay_rate'])\n",
    "        decay_rate = random.choice(param_grid['decay_rate'])\n",
    "        n_episodes = random.choice(param_grid['n_episodes'])\n",
    "\n",
    "        q_table, _ = train_q_learning(alpha, gamma, epsilon, min_epsilon, decay_rate, n_episodes, n_states, n_actions, rewards)\n",
    "        cumulative_pred_reward = evaluate_q_learning_prediction_efficiency(q_table, n_states, train_data, rewards)\n",
    "\n",
    "        if cumulative_pred_reward > best_cumulative_pred_reward:\n",
    "            best_cumulative_pred_reward = cumulative_pred_reward\n",
    "            best_params = (alpha, gamma, epsilon, min_epsilon, decay_rate, n_episodes)\n",
    "\n",
    "        print(f\"Iteration cumulative predicted reward: {cumulative_pred_reward:.2f}%, Best cumulative predicted reward: {best_cumulative_pred_reward:.2f}%\")\n",
    "\n",
    "    return best_params, best_cumulative_pred_reward\n",
    "\n",
    "# Define the parameter grid\n",
    "param_grid = {\n",
    "    'alpha': [0.01, 0.05, 0.1, 0.2, 0.25, 0.3, 0.5, 0.7, 0.9, 1],\n",
    "    'gamma': [0.75, 0.85, 0.9, 0.95, 0.99],\n",
    "    'epsilon': [1.0, 0.5, 0.1, 0.05, 0.01, 0.005],\n",
    "    'min_epsilon': [0.05, 0.01, 0.005, 0.001, 0.001],\n",
    "    'decay_rate': [0.95, 0.99, 0.995, 0.997, 0.999],\n",
    "    'n_episodes': [1500, 4000,6000, 8000, 9000, 10000, 11000, 12000]\n",
    "}\n",
    "\n",
    "# Perform Random Search\n",
    "best_params, best_cumulative_pred_reward = random_search_prediction_efficiency(50, param_grid, n_states, n_actions, rewards, train_data)\n",
    "print(f\"Best Hyperparameters: {best_params}\")\n",
    "print(f\"Best cumulative predicted reward: {best_cumulative_pred_reward:.2f}%\")\n",
    "'''"
   ]
  }
 ],
 "metadata": {
  "kernelspec": {
   "display_name": "myenv",
   "language": "python",
   "name": "myenv"
  },
  "language_info": {
   "codemirror_mode": {
    "name": "ipython",
    "version": 3
   },
   "file_extension": ".py",
   "mimetype": "text/x-python",
   "name": "python",
   "nbconvert_exporter": "python",
   "pygments_lexer": "ipython3",
   "version": "3.10.4"
  }
 },
 "nbformat": 4,
 "nbformat_minor": 2
}
