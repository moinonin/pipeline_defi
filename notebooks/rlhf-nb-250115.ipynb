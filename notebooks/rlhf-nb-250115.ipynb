{
 "cells": [
  {
   "cell_type": "code",
   "execution_count": 283,
   "metadata": {},
   "outputs": [],
   "source": [
    "import pandas as pd\n",
    "import numpy as np\n",
    "from sklearn.metrics import confusion_matrix\n",
    "from pandas import DataFrame\n",
    "import pickle, random\n",
    "from tqdm import tqdm\n",
    "from scipy.spatial import KDTree\n",
    "import matplotlib.pyplot as plt"
   ]
  },
  {
   "cell_type": "code",
   "execution_count": 284,
   "metadata": {},
   "outputs": [],
   "source": [
    "#!pip install matplotlib"
   ]
  },
  {
   "cell_type": "code",
   "execution_count": 285,
   "metadata": {},
   "outputs": [],
   "source": [
    "#df0 = pd.read_csv('../spreadsheets/rlhf_20250104_6.csv')\n",
    "#df0 = pd.read_csv('../spreadsheets/rlhf_159nlp.csv') # Best\n",
    "#df0 = pd.read_csv('../spreadsheets/rlhf_1064_2.csv')\n",
    "#df0 = pd.read_csv('../spreadsheets/rlhf_large_1072.csv') # 0.05, 0.95, 1.0, 0.999, 0.995, 12000\n",
    "#df0 = pd.read_csv('../spreadsheets/shufled_rlhf_11rl.csv')\n",
    "#df0 = pd.read_csv('../spreadsheets/rlhf_large_12rl.csv')\n",
    "#df0 = pd.read_csv('../spreadsheets/rlhf_large_15rl.csv')\n",
    "#df0 = pd.read_csv('../spreadsheets/rlhf_large_19rl.csv') # 0.005, 0.75, 0.1, 0.95, 0.999, 12000\n",
    "#df0 = pd.read_csv('../spreadsheets/rlhf_large_23rl.csv')\n",
    "#df0 = pd.read_csv('../spreadsheets/rlhf_large_24rl.csv')\n",
    "#df0 = pd.read_csv('../spreadsheets/rlhf_large_25rl.csv')\n",
    "#df0 = pd.read_csv('../spreadsheets/rlhf_large_26rl.csv')\n",
    "#df0 = pd.read_csv('../spreadsheets/rlhf_large_157nlp.csv') # 0.7, 0.95, 0.5, 0.999, 0.99, 16000\n",
    "#df0 = pd.read_csv('../spreadsheets/rlhf_large_29rl.csv') # 0.9, 0.9, 0.005, 0.95, 0.999, 10000, 0.9, 0.95, 1.0, 0.99, 0.99, 8000\n",
    "#df0 = pd.read_csv('../spreadsheets/rlhf_large_30rl.csv') # \n",
    "#df0 = pd.read_csv('../spreadsheets/rlhf_large_32rl.csv')\n",
    "#df0 = pd.read_csv('../spreadsheets/rlhf_large_33rl.csv')\n",
    "#df0 = pd.read_csv('../spreadsheets/rlhf_large_35rl.csv')\n",
    "#df0 = pd.read_csv('../spreadsheets/rlhf_large_37rl.csv')\n",
    "#df0 = pd.read_csv('../spreadsheets/rlhf_large_27rl2.csv')\n",
    "#df0 = pd.read_csv('../spreadsheets/rlhf_large_38rl.csv')\n",
    "#df0 = pd.read_csv('../spreadsheets/rlhf_large_42rl.csv') # 0.01, 0.99, 1.0, 0.95, 0.99, 16000\n",
    "#df0 = pd.read_csv('../spreadsheets/rlhf_large_154nlp.csv') # 0.9, 0.9, 0.005, 0.95, 0.999, 10000\n",
    "#df0 = pd.read_csv('../spreadsheets/rlhf_bid_47rl_refined.csv')\n",
    "df0 = pd.read_csv('../spreadsheets/rlhf_large_50rl.csv')"
   ]
  },
  {
   "cell_type": "code",
   "execution_count": 286,
   "metadata": {},
   "outputs": [],
   "source": [
    "df0['ask'] = df0['close'] * df0['volume']/(df0['close'] + df0['open'])"
   ]
  },
  {
   "cell_type": "code",
   "execution_count": 287,
   "metadata": {},
   "outputs": [],
   "source": [
    "df0['bid'] = df0['open'] * df0['volume']/(df0['close'] + df0['open'])"
   ]
  },
  {
   "cell_type": "code",
   "execution_count": 288,
   "metadata": {},
   "outputs": [
    {
     "data": {
      "text/plain": [
       "Index(['Unnamed: 0', 'open', 'high', 'ema-26', 'ema-12', 'low',\n",
       "       'mean-grad-hist', 'close', 'volume', 'sma-25', 'long_jcrosk',\n",
       "       'short_kdj', 'sma-05', 'sma-07', 'sma-compare', 'is_short', 'action',\n",
       "       'imit-action', 'nlpreds', 'reward', 'ask', 'bid'],\n",
       "      dtype='object')"
      ]
     },
     "execution_count": 288,
     "metadata": {},
     "output_type": "execute_result"
    }
   ],
   "source": [
    "df0.columns"
   ]
  },
  {
   "cell_type": "code",
   "execution_count": 289,
   "metadata": {},
   "outputs": [
    {
     "data": {
      "text/html": [
       "<div>\n",
       "<style scoped>\n",
       "    .dataframe tbody tr th:only-of-type {\n",
       "        vertical-align: middle;\n",
       "    }\n",
       "\n",
       "    .dataframe tbody tr th {\n",
       "        vertical-align: top;\n",
       "    }\n",
       "\n",
       "    .dataframe thead th {\n",
       "        text-align: right;\n",
       "    }\n",
       "</style>\n",
       "<table border=\"1\" class=\"dataframe\">\n",
       "  <thead>\n",
       "    <tr style=\"text-align: right;\">\n",
       "      <th></th>\n",
       "      <th>Unnamed: 0</th>\n",
       "      <th>open</th>\n",
       "      <th>high</th>\n",
       "      <th>ema-26</th>\n",
       "      <th>ema-12</th>\n",
       "      <th>low</th>\n",
       "      <th>mean-grad-hist</th>\n",
       "      <th>close</th>\n",
       "      <th>volume</th>\n",
       "      <th>sma-25</th>\n",
       "      <th>...</th>\n",
       "      <th>sma-05</th>\n",
       "      <th>sma-07</th>\n",
       "      <th>sma-compare</th>\n",
       "      <th>is_short</th>\n",
       "      <th>action</th>\n",
       "      <th>imit-action</th>\n",
       "      <th>nlpreds</th>\n",
       "      <th>reward</th>\n",
       "      <th>ask</th>\n",
       "      <th>bid</th>\n",
       "    </tr>\n",
       "  </thead>\n",
       "  <tbody>\n",
       "    <tr>\n",
       "      <th>0</th>\n",
       "      <td>0</td>\n",
       "      <td>10.304000</td>\n",
       "      <td>10.332000</td>\n",
       "      <td>10.437047</td>\n",
       "      <td>10.597291</td>\n",
       "      <td>10.18100</td>\n",
       "      <td>0</td>\n",
       "      <td>10.326000</td>\n",
       "      <td>3.586200e+05</td>\n",
       "      <td>10.646800</td>\n",
       "      <td>...</td>\n",
       "      <td>10.363000</td>\n",
       "      <td>10.348714</td>\n",
       "      <td>0</td>\n",
       "      <td>1</td>\n",
       "      <td>go_short</td>\n",
       "      <td>go_short</td>\n",
       "      <td>go_short</td>\n",
       "      <td>-11.459495</td>\n",
       "      <td>1.795012e+05</td>\n",
       "      <td>1.791188e+05</td>\n",
       "    </tr>\n",
       "    <tr>\n",
       "      <th>1</th>\n",
       "      <td>1</td>\n",
       "      <td>445.750000</td>\n",
       "      <td>446.110000</td>\n",
       "      <td>444.906188</td>\n",
       "      <td>443.432365</td>\n",
       "      <td>443.10000</td>\n",
       "      <td>1</td>\n",
       "      <td>443.530000</td>\n",
       "      <td>1.751153e+03</td>\n",
       "      <td>442.440400</td>\n",
       "      <td>...</td>\n",
       "      <td>445.842000</td>\n",
       "      <td>446.728571</td>\n",
       "      <td>0</td>\n",
       "      <td>1</td>\n",
       "      <td>go_short</td>\n",
       "      <td>go_short</td>\n",
       "      <td>go_short</td>\n",
       "      <td>-10.390311</td>\n",
       "      <td>8.733907e+02</td>\n",
       "      <td>8.777623e+02</td>\n",
       "    </tr>\n",
       "    <tr>\n",
       "      <th>2</th>\n",
       "      <td>2</td>\n",
       "      <td>63.920000</td>\n",
       "      <td>63.970000</td>\n",
       "      <td>63.909498</td>\n",
       "      <td>64.056823</td>\n",
       "      <td>62.74000</td>\n",
       "      <td>1</td>\n",
       "      <td>62.760000</td>\n",
       "      <td>1.210974e+04</td>\n",
       "      <td>63.703600</td>\n",
       "      <td>...</td>\n",
       "      <td>64.152000</td>\n",
       "      <td>64.095714</td>\n",
       "      <td>0</td>\n",
       "      <td>1</td>\n",
       "      <td>go_short</td>\n",
       "      <td>go_short</td>\n",
       "      <td>go_short</td>\n",
       "      <td>-8.635224</td>\n",
       "      <td>5.999426e+03</td>\n",
       "      <td>6.110315e+03</td>\n",
       "    </tr>\n",
       "    <tr>\n",
       "      <th>3</th>\n",
       "      <td>3</td>\n",
       "      <td>0.028684</td>\n",
       "      <td>0.029109</td>\n",
       "      <td>0.028890</td>\n",
       "      <td>0.028528</td>\n",
       "      <td>0.02868</td>\n",
       "      <td>0</td>\n",
       "      <td>0.029104</td>\n",
       "      <td>7.112435e+08</td>\n",
       "      <td>0.028402</td>\n",
       "      <td>...</td>\n",
       "      <td>0.028976</td>\n",
       "      <td>0.028999</td>\n",
       "      <td>0</td>\n",
       "      <td>0</td>\n",
       "      <td>go_long</td>\n",
       "      <td>go_long</td>\n",
       "      <td>go_short</td>\n",
       "      <td>-6.819206</td>\n",
       "      <td>3.582064e+08</td>\n",
       "      <td>3.530371e+08</td>\n",
       "    </tr>\n",
       "    <tr>\n",
       "      <th>4</th>\n",
       "      <td>4</td>\n",
       "      <td>1.362600</td>\n",
       "      <td>1.362900</td>\n",
       "      <td>1.367365</td>\n",
       "      <td>1.377128</td>\n",
       "      <td>1.33500</td>\n",
       "      <td>1</td>\n",
       "      <td>1.340000</td>\n",
       "      <td>2.572130e+05</td>\n",
       "      <td>1.374716</td>\n",
       "      <td>...</td>\n",
       "      <td>1.357700</td>\n",
       "      <td>1.365729</td>\n",
       "      <td>1</td>\n",
       "      <td>1</td>\n",
       "      <td>go_short</td>\n",
       "      <td>go_short</td>\n",
       "      <td>go_long</td>\n",
       "      <td>-9.058079</td>\n",
       "      <td>1.275311e+05</td>\n",
       "      <td>1.296819e+05</td>\n",
       "    </tr>\n",
       "  </tbody>\n",
       "</table>\n",
       "<p>5 rows × 22 columns</p>\n",
       "</div>"
      ],
      "text/plain": [
       "   Unnamed: 0        open        high      ema-26      ema-12        low  \\\n",
       "0           0   10.304000   10.332000   10.437047   10.597291   10.18100   \n",
       "1           1  445.750000  446.110000  444.906188  443.432365  443.10000   \n",
       "2           2   63.920000   63.970000   63.909498   64.056823   62.74000   \n",
       "3           3    0.028684    0.029109    0.028890    0.028528    0.02868   \n",
       "4           4    1.362600    1.362900    1.367365    1.377128    1.33500   \n",
       "\n",
       "   mean-grad-hist       close        volume      sma-25  ...      sma-05  \\\n",
       "0               0   10.326000  3.586200e+05   10.646800  ...   10.363000   \n",
       "1               1  443.530000  1.751153e+03  442.440400  ...  445.842000   \n",
       "2               1   62.760000  1.210974e+04   63.703600  ...   64.152000   \n",
       "3               0    0.029104  7.112435e+08    0.028402  ...    0.028976   \n",
       "4               1    1.340000  2.572130e+05    1.374716  ...    1.357700   \n",
       "\n",
       "       sma-07  sma-compare  is_short    action  imit-action   nlpreds  \\\n",
       "0   10.348714            0         1  go_short     go_short  go_short   \n",
       "1  446.728571            0         1  go_short     go_short  go_short   \n",
       "2   64.095714            0         1  go_short     go_short  go_short   \n",
       "3    0.028999            0         0   go_long      go_long  go_short   \n",
       "4    1.365729            1         1  go_short     go_short   go_long   \n",
       "\n",
       "      reward           ask           bid  \n",
       "0 -11.459495  1.795012e+05  1.791188e+05  \n",
       "1 -10.390311  8.733907e+02  8.777623e+02  \n",
       "2  -8.635224  5.999426e+03  6.110315e+03  \n",
       "3  -6.819206  3.582064e+08  3.530371e+08  \n",
       "4  -9.058079  1.275311e+05  1.296819e+05  \n",
       "\n",
       "[5 rows x 22 columns]"
      ]
     },
     "execution_count": 289,
     "metadata": {},
     "output_type": "execute_result"
    }
   ],
   "source": [
    "df0.head()"
   ]
  },
  {
   "cell_type": "code",
   "execution_count": null,
   "metadata": {},
   "outputs": [],
   "source": []
  },
  {
   "cell_type": "code",
   "execution_count": 290,
   "metadata": {},
   "outputs": [],
   "source": [
    "#df0.drop(['Unnamed: 0'], axis=1, inplace=True)"
   ]
  },
  {
   "cell_type": "code",
   "execution_count": 291,
   "metadata": {},
   "outputs": [
    {
     "data": {
      "text/plain": [
       "action\n",
       "go_short    21897\n",
       "go_long      1003\n",
       "Name: count, dtype: int64"
      ]
     },
     "execution_count": 291,
     "metadata": {},
     "output_type": "execute_result"
    }
   ],
   "source": [
    "df0['action'].value_counts()"
   ]
  },
  {
   "cell_type": "code",
   "execution_count": 292,
   "metadata": {},
   "outputs": [],
   "source": [
    "#action_mapping = {\"go_long\": 0, \"go_short\": 1}"
   ]
  },
  {
   "cell_type": "code",
   "execution_count": 293,
   "metadata": {},
   "outputs": [],
   "source": [
    "def prep_data(df: DataFrame) -> DataFrame:\n",
    "    train_data = pd.DataFrame()\n",
    "    for col in df.columns:\n",
    "        col_name = col.split(' ')[0]\n",
    "        train_data[f'{col_name}'] = df[col]\n",
    "\n",
    "    return train_data"
   ]
  },
  {
   "cell_type": "code",
   "execution_count": 294,
   "metadata": {},
   "outputs": [],
   "source": [
    "newdf0 = pd.DataFrame()\n",
    "train_data = df0 if newdf0.empty else newdf0"
   ]
  },
  {
   "cell_type": "code",
   "execution_count": 295,
   "metadata": {},
   "outputs": [
    {
     "data": {
      "text/html": [
       "<div>\n",
       "<style scoped>\n",
       "    .dataframe tbody tr th:only-of-type {\n",
       "        vertical-align: middle;\n",
       "    }\n",
       "\n",
       "    .dataframe tbody tr th {\n",
       "        vertical-align: top;\n",
       "    }\n",
       "\n",
       "    .dataframe thead th {\n",
       "        text-align: right;\n",
       "    }\n",
       "</style>\n",
       "<table border=\"1\" class=\"dataframe\">\n",
       "  <thead>\n",
       "    <tr style=\"text-align: right;\">\n",
       "      <th></th>\n",
       "      <th>Unnamed: 0</th>\n",
       "      <th>open</th>\n",
       "      <th>high</th>\n",
       "      <th>ema-26</th>\n",
       "      <th>ema-12</th>\n",
       "      <th>low</th>\n",
       "      <th>mean-grad-hist</th>\n",
       "      <th>close</th>\n",
       "      <th>volume</th>\n",
       "      <th>sma-25</th>\n",
       "      <th>...</th>\n",
       "      <th>sma-05</th>\n",
       "      <th>sma-07</th>\n",
       "      <th>sma-compare</th>\n",
       "      <th>is_short</th>\n",
       "      <th>action</th>\n",
       "      <th>imit-action</th>\n",
       "      <th>nlpreds</th>\n",
       "      <th>reward</th>\n",
       "      <th>ask</th>\n",
       "      <th>bid</th>\n",
       "    </tr>\n",
       "  </thead>\n",
       "  <tbody>\n",
       "    <tr>\n",
       "      <th>0</th>\n",
       "      <td>0</td>\n",
       "      <td>10.304</td>\n",
       "      <td>10.332</td>\n",
       "      <td>10.437047</td>\n",
       "      <td>10.597291</td>\n",
       "      <td>10.181</td>\n",
       "      <td>0</td>\n",
       "      <td>10.326</td>\n",
       "      <td>358620.000</td>\n",
       "      <td>10.6468</td>\n",
       "      <td>...</td>\n",
       "      <td>10.363</td>\n",
       "      <td>10.348714</td>\n",
       "      <td>0</td>\n",
       "      <td>1</td>\n",
       "      <td>go_short</td>\n",
       "      <td>go_short</td>\n",
       "      <td>go_short</td>\n",
       "      <td>-11.459495</td>\n",
       "      <td>179501.217644</td>\n",
       "      <td>179118.782356</td>\n",
       "    </tr>\n",
       "    <tr>\n",
       "      <th>1</th>\n",
       "      <td>1</td>\n",
       "      <td>445.750</td>\n",
       "      <td>446.110</td>\n",
       "      <td>444.906188</td>\n",
       "      <td>443.432365</td>\n",
       "      <td>443.100</td>\n",
       "      <td>1</td>\n",
       "      <td>443.530</td>\n",
       "      <td>1751.153</td>\n",
       "      <td>442.4404</td>\n",
       "      <td>...</td>\n",
       "      <td>445.842</td>\n",
       "      <td>446.728571</td>\n",
       "      <td>0</td>\n",
       "      <td>1</td>\n",
       "      <td>go_short</td>\n",
       "      <td>go_short</td>\n",
       "      <td>go_short</td>\n",
       "      <td>-10.390311</td>\n",
       "      <td>873.390709</td>\n",
       "      <td>877.762291</td>\n",
       "    </tr>\n",
       "  </tbody>\n",
       "</table>\n",
       "<p>2 rows × 22 columns</p>\n",
       "</div>"
      ],
      "text/plain": [
       "   Unnamed: 0     open     high      ema-26      ema-12      low  \\\n",
       "0           0   10.304   10.332   10.437047   10.597291   10.181   \n",
       "1           1  445.750  446.110  444.906188  443.432365  443.100   \n",
       "\n",
       "   mean-grad-hist    close      volume    sma-25  ...   sma-05      sma-07  \\\n",
       "0               0   10.326  358620.000   10.6468  ...   10.363   10.348714   \n",
       "1               1  443.530    1751.153  442.4404  ...  445.842  446.728571   \n",
       "\n",
       "   sma-compare  is_short    action  imit-action   nlpreds     reward  \\\n",
       "0            0         1  go_short     go_short  go_short -11.459495   \n",
       "1            0         1  go_short     go_short  go_short -10.390311   \n",
       "\n",
       "             ask            bid  \n",
       "0  179501.217644  179118.782356  \n",
       "1     873.390709     877.762291  \n",
       "\n",
       "[2 rows x 22 columns]"
      ]
     },
     "execution_count": 295,
     "metadata": {},
     "output_type": "execute_result"
    }
   ],
   "source": [
    "train_data.head(2)"
   ]
  },
  {
   "cell_type": "code",
   "execution_count": 296,
   "metadata": {},
   "outputs": [],
   "source": [
    "new_cols = ['ask','bid','sma-compare','is_short']"
   ]
  },
  {
   "cell_type": "code",
   "execution_count": 297,
   "metadata": {},
   "outputs": [],
   "source": [
    "# Encode actions into numerical values\n",
    "action_mapping = {\"go_long\": 0, \"go_short\": 1, \"do_nothing\": 2}\n",
    "action_col = 'nlpreds' if newdf0.empty else 'refined-action'\n",
    "train_data[\"action_num\"] = train_data[f\"{action_col}\"].map(action_mapping)"
   ]
  },
  {
   "cell_type": "code",
   "execution_count": 298,
   "metadata": {},
   "outputs": [
    {
     "data": {
      "text/plain": [
       "Index(['Unnamed: 0', 'open', 'high', 'ema-26', 'ema-12', 'low',\n",
       "       'mean-grad-hist', 'close', 'volume', 'sma-25', 'long_jcrosk',\n",
       "       'short_kdj', 'sma-05', 'sma-07', 'sma-compare', 'is_short', 'action',\n",
       "       'imit-action', 'nlpreds', 'reward', 'ask', 'bid', 'action_num'],\n",
       "      dtype='object')"
      ]
     },
     "execution_count": 298,
     "metadata": {},
     "output_type": "execute_result"
    }
   ],
   "source": [
    "train_data.columns"
   ]
  },
  {
   "cell_type": "code",
   "execution_count": 299,
   "metadata": {},
   "outputs": [],
   "source": [
    "# Define RL parameters\n",
    "#states = train_data[[\"sma-05\", \"sma-07\", \"sma-25\", \"sma-compare\", \"is_short\"]].values  # Include binary_state\n",
    "states = train_data[new_cols].values\n",
    "\n",
    "actions = list(action_mapping.values())  # Action space\n",
    "rewards = train_data[\"reward\"].values  # Rewards\n",
    "n_states = states.shape[0]\n",
    "n_actions = len(actions)\n"
   ]
  },
  {
   "cell_type": "code",
   "execution_count": 300,
   "metadata": {},
   "outputs": [],
   "source": [
    "# Initialize Q-table\n",
    "q_table = np.zeros((n_states, n_actions))"
   ]
  },
  {
   "cell_type": "code",
   "execution_count": 301,
   "metadata": {},
   "outputs": [],
   "source": [
    "Hyperparameters = [\n",
    "    [0.1, 0.9, 0.1, 0.99, 0.995, 4000],\n",
    "    [0.005, 0.75, 0.1, 0.95, 0.999, 12000],\n",
    "    [0.001, 0.75, 1.0, 0.99, 0.99, 30000],\n",
    "    [1, 0.75, 0.005, 0.95, 0.95, 22000],\n",
    "    [0.01, 0.99, 1.0, 0.95, 0.99, 16000],\n",
    "    [0.7, 0.99, 1.0, 0.95, 0.997, 8000],\n",
    "    [0.01, 0.95, 1.0, 0.997, 0.995, 26000],\n",
    "    [0.25, 0.95, 0.01, 0.997, 0.999, 14000],\n",
    "    [0.5, 0.85, 0.5, 0.997, 0.997, 14000],\n",
    "    [0.01, 0.85, 0.01, 0.95, 0.95, 12000],\n",
    "    [0.9, 0.99, 0.5, 0.995, 0.95, 12000],\n",
    "    [0.05, 0.9, 0.5, 0.95, 0.999, 4000],\n",
    "    [0.05, 0.99, 0.5, 0.99, 0.997, 6000],\n",
    "    [1, 0.75, 0.05, 0.999, 0.999, 10000],\n",
    "    [0.9, 0.95, 1.0, 0.99, 0.99, 8000],\n",
    "    [0.25, 0.75, 0.01, 0.995, 0.999, 20000],\n",
    "    [0.3, 0.75, 1.0, 0.995, 0.99, 10000],\n",
    "    [1, 0.9, 1.0, 0.999, 0.999, 10000],\n",
    "    [0.7, 0.75, 1.0, 0.97, 0.999, 28000],\n",
    "    [0.05, 0.95, 1.0, 0.999, 0.995, 12000],\n",
    "    [0.7, 0.95, 0.5, 0.999, 0.99, 16000],\n",
    "    [0.25, 0.95, 1.0, 0.99, 0.99, 10000],\n",
    "    [0.25, 0.99, 0.01, 0.997, 0.99, 8000],\n",
    "    [1, 0.95, 0.1, 0.96, 0.96, 12000],\n",
    "    [0.9, 0.9, 0.005, 0.95, 0.999, 10000],\n",
    "    [1, 0.9, 1.0, 0.99, 0.99, 11000],\n",
    "    [0.5, 0.75, 0.005, 0.95, 0.999, 14000]\n",
    "\n",
    "]"
   ]
  },
  {
   "cell_type": "code",
   "execution_count": 302,
   "metadata": {},
   "outputs": [
    {
     "name": "stdout",
     "output_type": "stream",
     "text": [
      "(0, [0.1, 0.9, 0.1, 0.99, 0.995, 4000])\n",
      "(1, [0.005, 0.75, 0.1, 0.95, 0.999, 12000])\n",
      "(2, [0.001, 0.75, 1.0, 0.99, 0.99, 30000])\n",
      "(3, [1, 0.75, 0.005, 0.95, 0.95, 22000])\n",
      "(4, [0.01, 0.99, 1.0, 0.95, 0.99, 16000])\n",
      "(5, [0.7, 0.99, 1.0, 0.95, 0.997, 8000])\n",
      "(6, [0.01, 0.95, 1.0, 0.997, 0.995, 26000])\n",
      "(7, [0.25, 0.95, 0.01, 0.997, 0.999, 14000])\n",
      "(8, [0.5, 0.85, 0.5, 0.997, 0.997, 14000])\n",
      "(9, [0.01, 0.85, 0.01, 0.95, 0.95, 12000])\n",
      "(10, [0.9, 0.99, 0.5, 0.995, 0.95, 12000])\n",
      "(11, [0.05, 0.9, 0.5, 0.95, 0.999, 4000])\n",
      "(12, [0.05, 0.99, 0.5, 0.99, 0.997, 6000])\n",
      "(13, [1, 0.75, 0.05, 0.999, 0.999, 10000])\n",
      "(14, [0.9, 0.95, 1.0, 0.99, 0.99, 8000])\n",
      "(15, [0.25, 0.75, 0.01, 0.995, 0.999, 20000])\n",
      "(16, [0.3, 0.75, 1.0, 0.995, 0.99, 10000])\n",
      "(17, [1, 0.9, 1.0, 0.999, 0.999, 10000])\n",
      "(18, [0.7, 0.75, 1.0, 0.97, 0.999, 28000])\n",
      "(19, [0.05, 0.95, 1.0, 0.999, 0.995, 12000])\n",
      "(20, [0.7, 0.95, 0.5, 0.999, 0.99, 16000])\n",
      "(21, [0.25, 0.95, 1.0, 0.99, 0.99, 10000])\n",
      "(22, [0.25, 0.99, 0.01, 0.997, 0.99, 8000])\n",
      "(23, [1, 0.95, 0.1, 0.96, 0.96, 12000])\n",
      "(24, [0.9, 0.9, 0.005, 0.95, 0.999, 10000])\n",
      "(25, [1, 0.9, 1.0, 0.99, 0.99, 11000])\n",
      "(26, [0.5, 0.75, 0.005, 0.95, 0.999, 14000])\n"
     ]
    }
   ],
   "source": [
    "for i in enumerate(Hyperparameters):\n",
    "    print(i)"
   ]
  },
  {
   "cell_type": "code",
   "execution_count": 303,
   "metadata": {},
   "outputs": [],
   "source": [
    "#print(*Hyperparameters[0])\n",
    "'''\n",
    "alpha = 1\n",
    "gamma = 0.95\n",
    "epsilon = 0.1\n",
    "min_epsilon = 0.96\n",
    "decay_rate = 0.96\n",
    "n_episodes = 12000\n",
    "'''\n",
    "\n",
    "alpha, gamma, epsilon, min_epsilon, decay_rate, n_episodes = Hyperparameters[25] #Hyperparameters[26] #Hyperparameters[24] # Hyperparameters[9] # Hyperparameters[22] #Hyperparameters[6]\n",
    "\n"
   ]
  },
  {
   "cell_type": "code",
   "execution_count": 304,
   "metadata": {},
   "outputs": [],
   "source": [
    "def create_state_index_mapping(df):\n",
    "    state_to_index = {}\n",
    "    for idx, row in df.iterrows():\n",
    "        state = (row['ask'], row['bid'], row['sma-compare'], row['is_short'])\n",
    "        state_to_index[state] = idx\n",
    "    return state_to_index\n",
    "\n",
    "# Assuming 'df' is your dataframe used during training\n",
    "state_to_index = create_state_index_mapping(train_data)\n",
    "\n",
    "# Save the state_to_index dictionary for later use\n",
    "np.save('bids_state_to_index.npy', state_to_index)\n"
   ]
  },
  {
   "cell_type": "code",
   "execution_count": 305,
   "metadata": {},
   "outputs": [],
   "source": [
    "# Helper function to choose an action using epsilon-greedy\n",
    "def choose_action(state, epsilon):\n",
    "    if np.random.uniform(0, 1) < epsilon:\n",
    "        return np.random.randint(0, n_actions)  # Explore: random action\n",
    "    else:\n",
    "        return np.argmax(q_table[state])  # Exploit: best known action"
   ]
  },
  {
   "cell_type": "code",
   "execution_count": 306,
   "metadata": {},
   "outputs": [
    {
     "name": "stderr",
     "output_type": "stream",
     "text": [
      "evaluating results per episode ...:   0%|          | 4/11000 [00:00<07:28, 24.54it/s]"
     ]
    },
    {
     "name": "stdout",
     "output_type": "stream",
     "text": [
      "Episode 0/11000 - Total Reward: -16045.28484425999, Epsilon: 0.99\n"
     ]
    },
    {
     "name": "stderr",
     "output_type": "stream",
     "text": [
      "evaluating results per episode ...:   4%|▎         | 402/11000 [00:26<09:52, 17.89it/s]"
     ]
    },
    {
     "name": "stdout",
     "output_type": "stream",
     "text": [
      "Episode 400/11000 - Total Reward: -18395.921458699988, Epsilon: 0.99\n"
     ]
    },
    {
     "name": "stderr",
     "output_type": "stream",
     "text": [
      "evaluating results per episode ...:   7%|▋         | 801/11000 [00:54<11:27, 14.83it/s]"
     ]
    },
    {
     "name": "stdout",
     "output_type": "stream",
     "text": [
      "Episode 800/11000 - Total Reward: -14654.508306499967, Epsilon: 0.99\n"
     ]
    },
    {
     "name": "stderr",
     "output_type": "stream",
     "text": [
      "evaluating results per episode ...:  11%|█         | 1202/11000 [01:22<11:50, 13.79it/s]"
     ]
    },
    {
     "name": "stdout",
     "output_type": "stream",
     "text": [
      "Episode 1200/11000 - Total Reward: -13288.979864849964, Epsilon: 0.99\n"
     ]
    },
    {
     "name": "stderr",
     "output_type": "stream",
     "text": [
      "evaluating results per episode ...:  15%|█▍        | 1602/11000 [01:49<09:09, 17.11it/s]"
     ]
    },
    {
     "name": "stdout",
     "output_type": "stream",
     "text": [
      "Episode 1600/11000 - Total Reward: -17451.530251320004, Epsilon: 0.99\n"
     ]
    },
    {
     "name": "stderr",
     "output_type": "stream",
     "text": [
      "evaluating results per episode ...:  18%|█▊        | 2003/11000 [02:17<07:20, 20.42it/s]"
     ]
    },
    {
     "name": "stdout",
     "output_type": "stream",
     "text": [
      "Episode 2000/11000 - Total Reward: -19019.02489482, Epsilon: 0.99\n"
     ]
    },
    {
     "name": "stderr",
     "output_type": "stream",
     "text": [
      "evaluating results per episode ...:  22%|██▏       | 2402/11000 [02:46<11:42, 12.24it/s]"
     ]
    },
    {
     "name": "stdout",
     "output_type": "stream",
     "text": [
      "Episode 2400/11000 - Total Reward: -12191.409114939994, Epsilon: 0.99\n"
     ]
    },
    {
     "name": "stderr",
     "output_type": "stream",
     "text": [
      "evaluating results per episode ...:  25%|██▌       | 2803/11000 [03:15<09:02, 15.12it/s]"
     ]
    },
    {
     "name": "stdout",
     "output_type": "stream",
     "text": [
      "Episode 2800/11000 - Total Reward: -2029.6355102699372, Epsilon: 0.99\n"
     ]
    },
    {
     "name": "stderr",
     "output_type": "stream",
     "text": [
      "evaluating results per episode ...:  29%|██▉       | 3202/11000 [03:43<10:46, 12.07it/s]"
     ]
    },
    {
     "name": "stdout",
     "output_type": "stream",
     "text": [
      "Episode 3200/11000 - Total Reward: -12126.39547588, Epsilon: 0.99\n"
     ]
    },
    {
     "name": "stderr",
     "output_type": "stream",
     "text": [
      "evaluating results per episode ...:  33%|███▎      | 3602/11000 [04:13<07:33, 16.32it/s]"
     ]
    },
    {
     "name": "stdout",
     "output_type": "stream",
     "text": [
      "Episode 3600/11000 - Total Reward: -15571.876507109995, Epsilon: 0.99\n"
     ]
    },
    {
     "name": "stderr",
     "output_type": "stream",
     "text": [
      "evaluating results per episode ...:  36%|███▋      | 4003/11000 [04:42<07:39, 15.23it/s]"
     ]
    },
    {
     "name": "stdout",
     "output_type": "stream",
     "text": [
      "Episode 4000/11000 - Total Reward: -15899.594813679993, Epsilon: 0.99\n"
     ]
    },
    {
     "name": "stderr",
     "output_type": "stream",
     "text": [
      "evaluating results per episode ...:  40%|████      | 4402/11000 [05:11<08:14, 13.34it/s]"
     ]
    },
    {
     "name": "stdout",
     "output_type": "stream",
     "text": [
      "Episode 4400/11000 - Total Reward: -18722.542551069997, Epsilon: 0.99\n"
     ]
    },
    {
     "name": "stderr",
     "output_type": "stream",
     "text": [
      "evaluating results per episode ...:  44%|████▎     | 4802/11000 [05:37<06:35, 15.67it/s]"
     ]
    },
    {
     "name": "stdout",
     "output_type": "stream",
     "text": [
      "Episode 4800/11000 - Total Reward: -13820.445671009948, Epsilon: 0.99\n"
     ]
    },
    {
     "name": "stderr",
     "output_type": "stream",
     "text": [
      "evaluating results per episode ...:  47%|████▋     | 5202/11000 [06:04<07:54, 12.22it/s]"
     ]
    },
    {
     "name": "stdout",
     "output_type": "stream",
     "text": [
      "Episode 5200/11000 - Total Reward: -13430.042245079949, Epsilon: 0.99\n"
     ]
    },
    {
     "name": "stderr",
     "output_type": "stream",
     "text": [
      "evaluating results per episode ...:  51%|█████     | 5602/11000 [06:32<06:25, 14.01it/s]"
     ]
    },
    {
     "name": "stdout",
     "output_type": "stream",
     "text": [
      "Episode 5600/11000 - Total Reward: -2994.9227503899374, Epsilon: 0.99\n"
     ]
    },
    {
     "name": "stderr",
     "output_type": "stream",
     "text": [
      "evaluating results per episode ...:  55%|█████▍    | 6005/11000 [07:00<06:05, 13.67it/s]"
     ]
    },
    {
     "name": "stdout",
     "output_type": "stream",
     "text": [
      "Episode 6000/11000 - Total Reward: -18305.009874529987, Epsilon: 0.99\n"
     ]
    },
    {
     "name": "stderr",
     "output_type": "stream",
     "text": [
      "evaluating results per episode ...:  58%|█████▊    | 6404/11000 [07:26<05:10, 14.78it/s]"
     ]
    },
    {
     "name": "stdout",
     "output_type": "stream",
     "text": [
      "Episode 6400/11000 - Total Reward: -1053.7838184899865, Epsilon: 0.99\n"
     ]
    },
    {
     "name": "stderr",
     "output_type": "stream",
     "text": [
      "evaluating results per episode ...:  62%|██████▏   | 6804/11000 [07:54<07:59,  8.76it/s]"
     ]
    },
    {
     "name": "stdout",
     "output_type": "stream",
     "text": [
      "Episode 6800/11000 - Total Reward: -9123.932868010066, Epsilon: 0.99\n"
     ]
    },
    {
     "name": "stderr",
     "output_type": "stream",
     "text": [
      "evaluating results per episode ...:  65%|██████▌   | 7203/11000 [08:23<04:10, 15.17it/s]"
     ]
    },
    {
     "name": "stdout",
     "output_type": "stream",
     "text": [
      "Episode 7200/11000 - Total Reward: -2463.99600991997, Epsilon: 0.99\n"
     ]
    },
    {
     "name": "stderr",
     "output_type": "stream",
     "text": [
      "evaluating results per episode ...:  69%|██████▉   | 7604/11000 [08:51<02:53, 19.62it/s]"
     ]
    },
    {
     "name": "stdout",
     "output_type": "stream",
     "text": [
      "Episode 7600/11000 - Total Reward: -12282.443041899995, Epsilon: 0.99\n"
     ]
    },
    {
     "name": "stderr",
     "output_type": "stream",
     "text": [
      "evaluating results per episode ...:  73%|███████▎  | 8002/11000 [09:20<04:34, 10.92it/s]"
     ]
    },
    {
     "name": "stdout",
     "output_type": "stream",
     "text": [
      "Episode 8000/11000 - Total Reward: -766.4089097700102, Epsilon: 0.99\n"
     ]
    },
    {
     "name": "stderr",
     "output_type": "stream",
     "text": [
      "evaluating results per episode ...:  76%|███████▋  | 8407/11000 [09:49<02:48, 15.35it/s]"
     ]
    },
    {
     "name": "stdout",
     "output_type": "stream",
     "text": [
      "Episode 8400/11000 - Total Reward: -1944.3973785799271, Epsilon: 0.99\n"
     ]
    },
    {
     "name": "stderr",
     "output_type": "stream",
     "text": [
      "evaluating results per episode ...:  80%|████████  | 8804/11000 [10:16<02:06, 17.30it/s]"
     ]
    },
    {
     "name": "stdout",
     "output_type": "stream",
     "text": [
      "Episode 8800/11000 - Total Reward: -19031.67555602, Epsilon: 0.99\n"
     ]
    },
    {
     "name": "stderr",
     "output_type": "stream",
     "text": [
      "evaluating results per episode ...:  84%|████████▎ | 9202/11000 [10:43<02:10, 13.81it/s]"
     ]
    },
    {
     "name": "stdout",
     "output_type": "stream",
     "text": [
      "Episode 9200/11000 - Total Reward: -18441.43112846999, Epsilon: 0.99\n"
     ]
    },
    {
     "name": "stderr",
     "output_type": "stream",
     "text": [
      "evaluating results per episode ...:  87%|████████▋ | 9603/11000 [11:12<01:24, 16.58it/s]"
     ]
    },
    {
     "name": "stdout",
     "output_type": "stream",
     "text": [
      "Episode 9600/11000 - Total Reward: -12368.84414415001, Epsilon: 0.99\n"
     ]
    },
    {
     "name": "stderr",
     "output_type": "stream",
     "text": [
      "evaluating results per episode ...:  91%|█████████ | 10003/11000 [11:41<01:16, 12.99it/s]"
     ]
    },
    {
     "name": "stdout",
     "output_type": "stream",
     "text": [
      "Episode 10000/11000 - Total Reward: -17792.900248199996, Epsilon: 0.99\n"
     ]
    },
    {
     "name": "stderr",
     "output_type": "stream",
     "text": [
      "evaluating results per episode ...:  95%|█████████▍| 10404/11000 [12:09<00:36, 16.51it/s]"
     ]
    },
    {
     "name": "stdout",
     "output_type": "stream",
     "text": [
      "Episode 10400/11000 - Total Reward: -599.9407400600181, Epsilon: 0.99\n"
     ]
    },
    {
     "name": "stderr",
     "output_type": "stream",
     "text": [
      "evaluating results per episode ...:  98%|█████████▊| 10803/11000 [12:37<00:15, 12.94it/s]"
     ]
    },
    {
     "name": "stdout",
     "output_type": "stream",
     "text": [
      "Episode 10800/11000 - Total Reward: -12473.802626130011, Epsilon: 0.99\n"
     ]
    },
    {
     "name": "stderr",
     "output_type": "stream",
     "text": [
      "evaluating results per episode ...: 100%|██████████| 11000/11000 [12:52<00:00, 14.24it/s]\n"
     ]
    },
    {
     "data": {
      "image/png": "[encoded data removed]",
      "text/plain": [
       "<Figure size 640x480 with 1 Axes>"
      ]
     },
     "metadata": {},
     "output_type": "display_data"
    }
   ],
   "source": [
    "\n",
    "# Set random seed for reproducibility and train the loop\n",
    "np.random.seed(42)\n",
    "random.seed(42)\n",
    "# Initialize a list to store rewards per episode\n",
    "rewards_per_episode = []\n",
    "\n",
    "for episode in tqdm(range(n_episodes), desc=\"evaluating results per episode ...\"):\n",
    "    current_state = np.random.randint(0, n_states)  # Random initial state\n",
    "    total_reward = 0  # Initialize total reward for the current episode\n",
    "\n",
    "    while current_state < n_states - 1:\n",
    "        action = choose_action(current_state, epsilon)\n",
    "        \n",
    "        next_state = current_state + 1  # This depends on your environment logic\n",
    "        reward = rewards[next_state]\n",
    "\n",
    "        best_next_action = np.argmax(q_table[next_state])\n",
    "        q_table[current_state, action] += alpha * (\n",
    "            reward + gamma * q_table[next_state, best_next_action] - q_table[current_state, action]\n",
    "        )\n",
    "        \n",
    "        total_reward += reward  # Accumulate reward for the current episode\n",
    "        current_state = next_state  # Move to next state\n",
    "\n",
    "    rewards_per_episode.append(total_reward)  # Store the total reward for the current episode\n",
    "\n",
    "    # Decay epsilon\n",
    "    epsilon = max(min_epsilon, epsilon * decay_rate)\n",
    "\n",
    "    # Optional: Log progress\n",
    "    if episode % 400 == 0:  # Adjust logging frequency as needed\n",
    "        print(f\"Episode {episode}/{n_episodes} - Total Reward: {total_reward}, Epsilon: {epsilon}\")\n",
    "\n",
    "# Example: Save the Q-table\n",
    "np.save(\"bids_q_table.npy\", q_table)\n",
    "\n",
    "# Example: Plotting the rewards\n",
    "import matplotlib.pyplot as plt\n",
    "\n",
    "plt.plot(rewards_per_episode)\n",
    "plt.xlabel('Episode')\n",
    "plt.ylabel('Reward')\n",
    "plt.title('Rewards per Episode')\n",
    "plt.show()\n",
    "\n"
   ]
  },
  {
   "cell_type": "code",
   "execution_count": 307,
   "metadata": {},
   "outputs": [],
   "source": [
    "def load_q_table(file_path):\n",
    "    return np.load(file_path)\n",
    "\n",
    "def load_state_index_mapping(file_path):\n",
    "    return np.load(file_path, allow_pickle=True).item()\n",
    "\n",
    "loaded_state_to_index = load_state_index_mapping(file_path=\"bids_state_to_index.npy\")\n",
    "loaded_qtable = load_q_table(file_path=\"bids_q_table.npy\")"
   ]
  },
  {
   "cell_type": "code",
   "execution_count": 308,
   "metadata": {},
   "outputs": [],
   "source": [
    "#state = (row['open'], row['high'], row['ema-26'], row['ema-12'], row['low'], \\\n",
    "#                 row['mean-grad-hist'], row['close'], row['volume'], row['sma-25'], \\\n",
    "#                 row['long_jcrosk'], row['short_kdj'], row['sma-compare'], row['is_short'])\n",
    "\n",
    "def prep_state(\n",
    "                ask: float, bid: float, sma_compare: int, is_short: int\n",
    "            ):\n",
    "    state = np.array([[ask, bid, sma_compare, is_short]])\n",
    "    if not np.all(np.isfinite(state)):\n",
    "        state = np.nan_to_num(state, nan=0.0, posinf=0.0, neginf=0.0)\n",
    "    return state\n"
   ]
  },
  {
   "cell_type": "code",
   "execution_count": 309,
   "metadata": {},
   "outputs": [],
   "source": [
    "\n",
    "def predict_action(state, q_table, state_to_index, action_mapping, default_action: str = None):\n",
    "    state_tuple = tuple(state.flatten())\n",
    "\n",
    "    state_index = state_to_index.get(state_tuple, -1)\n",
    "    #state_index = loaded_state_to_index.get(state_tuple, -1)\n",
    "    if state_index != -1:\n",
    "        try:\n",
    "            q_values = q_table[state_index]\n",
    "        except ValueError as e:\n",
    "            print(e)\n",
    "            #return default_action\n",
    "    else:\n",
    "        state_tuples = list(state_to_index.keys())\n",
    "        kdtree = KDTree(state_tuples)\n",
    "        distance, index = kdtree.query(state.flatten())\n",
    "        nearest_state_tuple = state_tuples[index]\n",
    "        q_values = loaded_qtable[state_to_index[nearest_state_tuple]]\n",
    "    \n",
    "    #q_values = q_table[state_index]\n",
    "    return [action for action, index in action_mapping.items() if index == np.argmax(q_values)][0]"
   ]
  },
  {
   "cell_type": "code",
   "execution_count": 310,
   "metadata": {},
   "outputs": [],
   "source": [
    "# Predict an entire range\n",
    "def predict_range(df: DataFrame = train_data) -> DataFrame:\n",
    "    for idx, row in df.iterrows():\n",
    "        state = row[['ask','bid','sma-compare', 'is_short']].values\n",
    "        #q_table = loaded_qtable\n",
    "        #state_to_index = loaded_state_to_index\n",
    "        #action_mapping = {\"go_long\": 0, \"go_short\": 1, \"do_nothing\": 2}\n",
    "        action = predict_action(state, q_table, state_to_index, action_mapping)\n",
    "        df.loc[idx, \"predicted_action\"] = action\n",
    "    return df"
   ]
  },
  {
   "cell_type": "code",
   "execution_count": 311,
   "metadata": {},
   "outputs": [],
   "source": [
    "train_data = predict_range(train_data)"
   ]
  },
  {
   "cell_type": "code",
   "execution_count": 312,
   "metadata": {},
   "outputs": [
    {
     "data": {
      "text/plain": [
       "predicted_action\n",
       "go_long       22566\n",
       "go_short        200\n",
       "do_nothing      134\n",
       "Name: count, dtype: int64"
      ]
     },
     "execution_count": 312,
     "metadata": {},
     "output_type": "execute_result"
    }
   ],
   "source": [
    "train_data['predicted_action'].value_counts()"
   ]
  },
  {
   "cell_type": "code",
   "execution_count": 313,
   "metadata": {},
   "outputs": [
    {
     "data": {
      "text/plain": [
       "is_short\n",
       "1    20493\n",
       "0      939\n",
       "Name: count, dtype: int64"
      ]
     },
     "execution_count": 313,
     "metadata": {},
     "output_type": "execute_result"
    }
   ],
   "source": [
    "m = train_data[(train_data['predicted_action'] == 'go_long') & (train_data['reward'] > 0)]\n",
    "m['is_short'].value_counts()"
   ]
  },
  {
   "cell_type": "code",
   "execution_count": 314,
   "metadata": {},
   "outputs": [
    {
     "name": "stdout",
     "output_type": "stream",
     "text": [
      "939\n",
      "20493\n"
     ]
    }
   ],
   "source": [
    "longs = dict(m['is_short'].value_counts().items()).get(0)\n",
    "print(longs)\n",
    "shorts = dict(m['is_short'].value_counts().items()).get(1)\n",
    "print(shorts)"
   ]
  },
  {
   "cell_type": "code",
   "execution_count": 315,
   "metadata": {},
   "outputs": [
    {
     "name": "stdout",
     "output_type": "stream",
     "text": [
      "Processed state 0/22899\n",
      "Current Predicted Reward: 0\n",
      "Current Actual Reward: -10.39031099\n",
      "Processed state 100/22899\n",
      "Current Predicted Reward: -5.940811860000018\n",
      "Current Actual Reward: -81.90489316999994\n",
      "Processed state 200/22899\n",
      "Current Predicted Reward: 26.133953569999985\n",
      "Current Actual Reward: -4.461696309999955\n",
      "Processed state 300/22899\n",
      "Current Predicted Reward: 78.09301181999997\n",
      "Current Actual Reward: 110.30025739\n",
      "Processed state 400/22899\n",
      "Current Predicted Reward: 124.36028403\n",
      "Current Actual Reward: 214.67899305000003\n",
      "Processed state 500/22899\n",
      "Current Predicted Reward: 161.24423028000007\n",
      "Current Actual Reward: 363.77701687999996\n",
      "Processed state 600/22899\n",
      "Current Predicted Reward: 183.1689004600001\n",
      "Current Actual Reward: 471.99834889999977\n",
      "Processed state 700/22899\n",
      "Current Predicted Reward: 183.1689004600001\n",
      "Current Actual Reward: 570.2997075199997\n",
      "Processed state 800/22899\n",
      "Current Predicted Reward: 183.1689004600001\n",
      "Current Actual Reward: 637.4957714699999\n",
      "Processed state 900/22899\n",
      "Current Predicted Reward: 183.1689004600001\n",
      "Current Actual Reward: 695.62739606\n",
      "Processed state 1000/22899\n",
      "Current Predicted Reward: 183.1689004600001\n",
      "Current Actual Reward: 792.4393774100005\n",
      "Processed state 1100/22899\n",
      "Current Predicted Reward: 183.1689004600001\n",
      "Current Actual Reward: 879.2184595300005\n",
      "Processed state 1200/22899\n",
      "Current Predicted Reward: 183.1689004600001\n",
      "Current Actual Reward: 1041.58390391\n",
      "Processed state 1300/22899\n",
      "Current Predicted Reward: 183.1689004600001\n",
      "Current Actual Reward: 1151.4030746899994\n",
      "Processed state 1400/22899\n",
      "Current Predicted Reward: 183.1689004600001\n",
      "Current Actual Reward: 1308.1557709899998\n",
      "Processed state 1500/22899\n",
      "Current Predicted Reward: 183.1689004600001\n",
      "Current Actual Reward: 1396.7334484400003\n",
      "Processed state 1600/22899\n",
      "Current Predicted Reward: 183.1689004600001\n",
      "Current Actual Reward: 1534.5798843400005\n",
      "Processed state 1700/22899\n",
      "Current Predicted Reward: 183.1689004600001\n",
      "Current Actual Reward: 1598.372620270001\n",
      "Processed state 1800/22899\n",
      "Current Predicted Reward: 183.1689004600001\n",
      "Current Actual Reward: 1653.0295273900026\n",
      "Processed state 1900/22899\n",
      "Current Predicted Reward: 183.1689004600001\n",
      "Current Actual Reward: 1724.7969678400018\n",
      "Processed state 2000/22899\n",
      "Current Predicted Reward: 183.1689004600001\n",
      "Current Actual Reward: 1821.6023596300015\n",
      "Processed state 2100/22899\n",
      "Current Predicted Reward: 183.1689004600001\n",
      "Current Actual Reward: 1900.7122174200003\n",
      "Processed state 2200/22899\n",
      "Current Predicted Reward: 183.1689004600001\n",
      "Current Actual Reward: 1984.1215909699995\n",
      "Processed state 2300/22899\n",
      "Current Predicted Reward: 183.1689004600001\n",
      "Current Actual Reward: 2067.6357071800003\n",
      "Processed state 2400/22899\n",
      "Current Predicted Reward: 183.1689004600001\n",
      "Current Actual Reward: 2159.68708223\n",
      "Processed state 2500/22899\n",
      "Current Predicted Reward: 183.1689004600001\n",
      "Current Actual Reward: 2233.503833669999\n",
      "Processed state 2600/22899\n",
      "Current Predicted Reward: 183.1689004600001\n",
      "Current Actual Reward: 2317.073714149999\n",
      "Processed state 2700/22899\n",
      "Current Predicted Reward: 183.1689004600001\n",
      "Current Actual Reward: 2445.562074049999\n",
      "Processed state 2800/22899\n",
      "Current Predicted Reward: 183.1689004600001\n",
      "Current Actual Reward: 2537.48825332\n",
      "Processed state 2900/22899\n",
      "Current Predicted Reward: 183.1689004600001\n",
      "Current Actual Reward: 2648.12030767\n",
      "Processed state 3000/22899\n",
      "Current Predicted Reward: 183.1689004600001\n",
      "Current Actual Reward: 2774.9528054499992\n",
      "Processed state 3100/22899\n",
      "Current Predicted Reward: 183.1689004600001\n",
      "Current Actual Reward: 2830.93775001\n",
      "Processed state 3200/22899\n",
      "Current Predicted Reward: 183.1689004600001\n",
      "Current Actual Reward: 2901.8431385100016\n",
      "Processed state 3300/22899\n",
      "Current Predicted Reward: 183.1689004600001\n",
      "Current Actual Reward: 2997.855574570003\n",
      "Processed state 3400/22899\n",
      "Current Predicted Reward: 183.1689004600001\n",
      "Current Actual Reward: 3144.752176100002\n",
      "Processed state 3500/22899\n",
      "Current Predicted Reward: 183.1689004600001\n",
      "Current Actual Reward: 3277.669070410002\n",
      "Processed state 3600/22899\n",
      "Current Predicted Reward: 183.1689004600001\n",
      "Current Actual Reward: 3386.1147913600016\n",
      "Processed state 3700/22899\n",
      "Current Predicted Reward: 183.1689004600001\n",
      "Current Actual Reward: 3517.742525620001\n",
      "Processed state 3800/22899\n",
      "Current Predicted Reward: 183.1689004600001\n",
      "Current Actual Reward: 3599.350870100002\n",
      "Processed state 3900/22899\n",
      "Current Predicted Reward: 183.1689004600001\n",
      "Current Actual Reward: 3678.145861030001\n",
      "Processed state 4000/22899\n",
      "Current Predicted Reward: 183.1689004600001\n",
      "Current Actual Reward: 3788.059950990001\n",
      "Processed state 4100/22899\n",
      "Current Predicted Reward: 183.1689004600001\n",
      "Current Actual Reward: 3877.10157793\n",
      "Processed state 4200/22899\n",
      "Current Predicted Reward: 183.1689004600001\n",
      "Current Actual Reward: 3967.793021269998\n",
      "Processed state 4300/22899\n",
      "Current Predicted Reward: 183.1689004600001\n",
      "Current Actual Reward: 4024.459989019995\n",
      "Processed state 4400/22899\n",
      "Current Predicted Reward: 183.1689004600001\n",
      "Current Actual Reward: 4096.419247309995\n",
      "Processed state 4500/22899\n",
      "Current Predicted Reward: 183.1689004600001\n",
      "Current Actual Reward: 4198.342792249991\n",
      "Processed state 4600/22899\n",
      "Current Predicted Reward: 183.1689004600001\n",
      "Current Actual Reward: 4297.321301859992\n",
      "Processed state 4700/22899\n",
      "Current Predicted Reward: 183.1689004600001\n",
      "Current Actual Reward: 4385.063990819987\n",
      "Processed state 4800/22899\n",
      "Current Predicted Reward: 183.1689004600001\n",
      "Current Actual Reward: 4483.834634759988\n",
      "Processed state 4900/22899\n",
      "Current Predicted Reward: 183.1689004600001\n",
      "Current Actual Reward: 4658.229808939991\n",
      "Processed state 5000/22899\n",
      "Current Predicted Reward: 183.1689004600001\n",
      "Current Actual Reward: 4741.830495639989\n",
      "Processed state 5100/22899\n",
      "Current Predicted Reward: 183.1689004600001\n",
      "Current Actual Reward: 4828.124403719984\n",
      "Processed state 5200/22899\n",
      "Current Predicted Reward: 183.1689004600001\n",
      "Current Actual Reward: 4892.730245539985\n",
      "Processed state 5300/22899\n",
      "Current Predicted Reward: 183.1689004600001\n",
      "Current Actual Reward: 5030.118325889986\n",
      "Processed state 5400/22899\n",
      "Current Predicted Reward: 183.1689004600001\n",
      "Current Actual Reward: 5123.556735719986\n",
      "Processed state 5500/22899\n",
      "Current Predicted Reward: 183.1689004600001\n",
      "Current Actual Reward: 5226.395809989987\n",
      "Processed state 5600/22899\n",
      "Current Predicted Reward: 183.1689004600001\n",
      "Current Actual Reward: 5318.224821799984\n",
      "Processed state 5700/22899\n",
      "Current Predicted Reward: 183.1689004600001\n",
      "Current Actual Reward: 5405.637970659986\n",
      "Processed state 5800/22899\n",
      "Current Predicted Reward: 183.1689004600001\n",
      "Current Actual Reward: 5571.567947839989\n",
      "Processed state 5900/22899\n",
      "Current Predicted Reward: 183.1689004600001\n",
      "Current Actual Reward: 5694.4156559599905\n",
      "Processed state 6000/22899\n",
      "Current Predicted Reward: 183.1689004600001\n",
      "Current Actual Reward: 5806.555927389988\n",
      "Processed state 6100/22899\n",
      "Current Predicted Reward: 183.1689004600001\n",
      "Current Actual Reward: 5925.0108526099875\n",
      "Processed state 6200/22899\n",
      "Current Predicted Reward: 183.1689004600001\n",
      "Current Actual Reward: 6019.687641579988\n",
      "Processed state 6300/22899\n",
      "Current Predicted Reward: 183.1689004600001\n",
      "Current Actual Reward: 6115.307262039989\n",
      "Processed state 6400/22899\n",
      "Current Predicted Reward: 183.1689004600001\n",
      "Current Actual Reward: 6226.141644299988\n",
      "Processed state 6500/22899\n",
      "Current Predicted Reward: 183.1689004600001\n",
      "Current Actual Reward: 6327.695120329987\n",
      "Processed state 6600/22899\n",
      "Current Predicted Reward: 183.1689004600001\n",
      "Current Actual Reward: 6415.894830029983\n",
      "Processed state 6700/22899\n",
      "Current Predicted Reward: 183.1689004600001\n",
      "Current Actual Reward: 6540.34610588998\n",
      "Processed state 6800/22899\n",
      "Current Predicted Reward: 183.1689004600001\n",
      "Current Actual Reward: 6671.309282719984\n",
      "Processed state 6900/22899\n",
      "Current Predicted Reward: 183.1689004600001\n",
      "Current Actual Reward: 6771.880631369985\n",
      "Processed state 7000/22899\n",
      "Current Predicted Reward: 183.1689004600001\n",
      "Current Actual Reward: 6881.164678089988\n",
      "Processed state 7100/22899\n",
      "Current Predicted Reward: 183.1689004600001\n",
      "Current Actual Reward: 7026.051390459987\n",
      "Processed state 7200/22899\n",
      "Current Predicted Reward: 183.1689004600001\n",
      "Current Actual Reward: 7184.56560935998\n",
      "Processed state 7300/22899\n",
      "Current Predicted Reward: 183.1689004600001\n",
      "Current Actual Reward: 7312.13989434998\n",
      "Processed state 7400/22899\n",
      "Current Predicted Reward: 183.1689004600001\n",
      "Current Actual Reward: 7439.585381099978\n",
      "Processed state 7500/22899\n",
      "Current Predicted Reward: 183.1689004600001\n",
      "Current Actual Reward: 7571.358641609978\n",
      "Processed state 7600/22899\n",
      "Current Predicted Reward: 183.1689004600001\n",
      "Current Actual Reward: 7691.91905675998\n",
      "Processed state 7700/22899\n",
      "Current Predicted Reward: 183.1689004600001\n",
      "Current Actual Reward: 7797.43163434998\n",
      "Processed state 7800/22899\n",
      "Current Predicted Reward: 183.1689004600001\n",
      "Current Actual Reward: 7956.168603939984\n",
      "Processed state 7900/22899\n",
      "Current Predicted Reward: 204.48711069000007\n",
      "Current Actual Reward: 8099.668914639982\n",
      "Processed state 8000/22899\n",
      "Current Predicted Reward: 204.48711069000007\n",
      "Current Actual Reward: 8252.282403719984\n",
      "Processed state 8100/22899\n",
      "Current Predicted Reward: 204.48711069000007\n",
      "Current Actual Reward: 8349.986677889983\n",
      "Processed state 8200/22899\n",
      "Current Predicted Reward: 204.48711069000007\n",
      "Current Actual Reward: 8474.14465822998\n",
      "Processed state 8300/22899\n",
      "Current Predicted Reward: 204.48711069000007\n",
      "Current Actual Reward: 8639.438004319984\n",
      "Processed state 8400/22899\n",
      "Current Predicted Reward: 204.48711069000007\n",
      "Current Actual Reward: 8782.808391649984\n",
      "Processed state 8500/22899\n",
      "Current Predicted Reward: 204.48711069000007\n",
      "Current Actual Reward: 8873.942496379987\n",
      "Processed state 8600/22899\n",
      "Current Predicted Reward: 204.48711069000007\n",
      "Current Actual Reward: 8973.062750759986\n",
      "Processed state 8700/22899\n",
      "Current Predicted Reward: 204.48711069000007\n",
      "Current Actual Reward: 9076.625343249985\n",
      "Processed state 8800/22899\n",
      "Current Predicted Reward: 204.48711069000007\n",
      "Current Actual Reward: 9177.761007359975\n",
      "Processed state 8900/22899\n",
      "Current Predicted Reward: 204.48711069000007\n",
      "Current Actual Reward: 9266.204703529975\n",
      "Processed state 9000/22899\n",
      "Current Predicted Reward: 204.48711069000007\n",
      "Current Actual Reward: 9334.31876781998\n",
      "Processed state 9100/22899\n",
      "Current Predicted Reward: 204.48711069000007\n",
      "Current Actual Reward: 9440.463339979982\n",
      "Processed state 9200/22899\n",
      "Current Predicted Reward: 204.48711069000007\n",
      "Current Actual Reward: 9527.026796519978\n",
      "Processed state 9300/22899\n",
      "Current Predicted Reward: 204.48711069000007\n",
      "Current Actual Reward: 9641.055508529973\n",
      "Processed state 9400/22899\n",
      "Current Predicted Reward: 204.48711069000007\n",
      "Current Actual Reward: 9776.643582399967\n",
      "Processed state 9500/22899\n",
      "Current Predicted Reward: 204.48711069000007\n",
      "Current Actual Reward: 9853.518636189967\n",
      "Processed state 9600/22899\n",
      "Current Predicted Reward: 204.48711069000007\n",
      "Current Actual Reward: 9938.48202026998\n",
      "Processed state 9700/22899\n",
      "Current Predicted Reward: 204.48711069000007\n",
      "Current Actual Reward: 10003.235451849985\n",
      "Processed state 9800/22899\n",
      "Current Predicted Reward: 204.48711069000007\n",
      "Current Actual Reward: 10086.188850649987\n",
      "Processed state 9900/22899\n",
      "Current Predicted Reward: 204.48711069000007\n",
      "Current Actual Reward: 10187.165526719995\n",
      "Processed state 10000/22899\n",
      "Current Predicted Reward: 204.48711069000007\n",
      "Current Actual Reward: 10257.240875169993\n",
      "Processed state 10100/22899\n",
      "Current Predicted Reward: 204.48711069000007\n",
      "Current Actual Reward: 10324.512911409987\n",
      "Processed state 10200/22899\n",
      "Current Predicted Reward: 204.48711069000007\n",
      "Current Actual Reward: 10423.258591189984\n",
      "Processed state 10300/22899\n",
      "Current Predicted Reward: 204.48711069000007\n",
      "Current Actual Reward: 10523.25740134998\n",
      "Processed state 10400/22899\n",
      "Current Predicted Reward: 204.48711069000007\n",
      "Current Actual Reward: 10617.222293989978\n",
      "Processed state 10500/22899\n",
      "Current Predicted Reward: 204.48711069000007\n",
      "Current Actual Reward: 10730.67217813998\n",
      "Processed state 10600/22899\n",
      "Current Predicted Reward: 204.48711069000007\n",
      "Current Actual Reward: 10808.987619259975\n",
      "Processed state 10700/22899\n",
      "Current Predicted Reward: 204.48711069000007\n",
      "Current Actual Reward: 10906.238093739978\n",
      "Processed state 10800/22899\n",
      "Current Predicted Reward: 204.48711069000007\n",
      "Current Actual Reward: 11000.512348399967\n",
      "Processed state 10900/22899\n",
      "Current Predicted Reward: 204.48711069000007\n",
      "Current Actual Reward: 11128.783970509972\n",
      "Processed state 11000/22899\n",
      "Current Predicted Reward: 204.48711069000007\n",
      "Current Actual Reward: 11208.191918529965\n",
      "Processed state 11100/22899\n",
      "Current Predicted Reward: 204.48711069000007\n",
      "Current Actual Reward: 11288.152613239969\n",
      "Processed state 11200/22899\n",
      "Current Predicted Reward: 204.48711069000007\n",
      "Current Actual Reward: 11389.285306879976\n",
      "Processed state 11300/22899\n",
      "Current Predicted Reward: 204.48711069000007\n",
      "Current Actual Reward: 11484.196128769963\n",
      "Processed state 11400/22899\n",
      "Current Predicted Reward: 204.48711069000007\n",
      "Current Actual Reward: 11602.675768849966\n",
      "Processed state 11500/22899\n",
      "Current Predicted Reward: 204.48711069000007\n",
      "Current Actual Reward: 11667.58999319997\n",
      "Processed state 11600/22899\n",
      "Current Predicted Reward: 204.48711069000007\n",
      "Current Actual Reward: 11755.453787909972\n",
      "Processed state 11700/22899\n",
      "Current Predicted Reward: 204.48711069000007\n",
      "Current Actual Reward: 11824.223123709973\n",
      "Processed state 11800/22899\n",
      "Current Predicted Reward: 204.48711069000007\n",
      "Current Actual Reward: 11904.529550949976\n",
      "Processed state 11900/22899\n",
      "Current Predicted Reward: 204.48711069000007\n",
      "Current Actual Reward: 11988.890354249968\n",
      "Processed state 12000/22899\n",
      "Current Predicted Reward: 204.48711069000007\n",
      "Current Actual Reward: 12071.899658869968\n",
      "Processed state 12100/22899\n",
      "Current Predicted Reward: 204.48711069000007\n",
      "Current Actual Reward: 12205.216334529972\n",
      "Processed state 12200/22899\n",
      "Current Predicted Reward: 204.48711069000007\n",
      "Current Actual Reward: 12286.468520239972\n",
      "Processed state 12300/22899\n",
      "Current Predicted Reward: 204.48711069000007\n",
      "Current Actual Reward: 12362.69611665998\n",
      "Processed state 12400/22899\n",
      "Current Predicted Reward: 204.48711069000007\n",
      "Current Actual Reward: 12439.829830979981\n",
      "Processed state 12500/22899\n",
      "Current Predicted Reward: 204.48711069000007\n",
      "Current Actual Reward: 12529.394290559985\n",
      "Processed state 12600/22899\n",
      "Current Predicted Reward: 204.48711069000007\n",
      "Current Actual Reward: 12618.865874649993\n",
      "Processed state 12700/22899\n",
      "Current Predicted Reward: 204.48711069000007\n",
      "Current Actual Reward: 12705.556684979992\n",
      "Processed state 12800/22899\n",
      "Current Predicted Reward: 204.48711069000007\n",
      "Current Actual Reward: 12794.217594519994\n",
      "Processed state 12900/22899\n",
      "Current Predicted Reward: 204.48711069000007\n",
      "Current Actual Reward: 12872.097415490001\n",
      "Processed state 13000/22899\n",
      "Current Predicted Reward: 204.48711069000007\n",
      "Current Actual Reward: 12947.547719569999\n",
      "Processed state 13100/22899\n",
      "Current Predicted Reward: 204.48711069000007\n",
      "Current Actual Reward: 13066.025672309994\n",
      "Processed state 13200/22899\n",
      "Current Predicted Reward: 204.48711069000007\n",
      "Current Actual Reward: 13159.418955139992\n",
      "Processed state 13300/22899\n",
      "Current Predicted Reward: 204.48711069000007\n",
      "Current Actual Reward: 13258.761811449996\n",
      "Processed state 13400/22899\n",
      "Current Predicted Reward: 204.48711069000007\n",
      "Current Actual Reward: 13341.771214199987\n",
      "Processed state 13500/22899\n",
      "Current Predicted Reward: 204.48711069000007\n",
      "Current Actual Reward: 13415.756617499994\n",
      "Processed state 13600/22899\n",
      "Current Predicted Reward: 204.48711069000007\n",
      "Current Actual Reward: 13484.741895549989\n",
      "Processed state 13700/22899\n",
      "Current Predicted Reward: 204.48711069000007\n",
      "Current Actual Reward: 13537.150073269988\n",
      "Processed state 13800/22899\n",
      "Current Predicted Reward: 204.48711069000007\n",
      "Current Actual Reward: 13593.537243849982\n",
      "Processed state 13900/22899\n",
      "Current Predicted Reward: 204.48711069000007\n",
      "Current Actual Reward: 13669.99868239998\n",
      "Processed state 14000/22899\n",
      "Current Predicted Reward: 204.48711069000007\n",
      "Current Actual Reward: 13754.748059459987\n",
      "Processed state 14100/22899\n",
      "Current Predicted Reward: 204.48711069000007\n",
      "Current Actual Reward: 13864.343574789984\n",
      "Processed state 14200/22899\n",
      "Current Predicted Reward: 204.48711069000007\n",
      "Current Actual Reward: 13953.533351999995\n",
      "Processed state 14300/22899\n",
      "Current Predicted Reward: 204.48711069000007\n",
      "Current Actual Reward: 14137.083413609991\n",
      "Processed state 14400/22899\n",
      "Current Predicted Reward: 204.48711069000007\n",
      "Current Actual Reward: 14242.218593919997\n",
      "Processed state 14500/22899\n",
      "Current Predicted Reward: 204.48711069000007\n",
      "Current Actual Reward: 14311.771203519995\n",
      "Processed state 14600/22899\n",
      "Current Predicted Reward: 204.48711069000007\n",
      "Current Actual Reward: 14414.416705589987\n",
      "Processed state 14700/22899\n",
      "Current Predicted Reward: 204.48711069000007\n",
      "Current Actual Reward: 14501.474735249985\n",
      "Processed state 14800/22899\n",
      "Current Predicted Reward: 204.48711069000007\n",
      "Current Actual Reward: 14612.38590819999\n",
      "Processed state 14900/22899\n",
      "Current Predicted Reward: 204.48711069000007\n",
      "Current Actual Reward: 14725.564637989992\n",
      "Processed state 15000/22899\n",
      "Current Predicted Reward: 204.48711069000007\n",
      "Current Actual Reward: 14835.53220228999\n",
      "Processed state 15100/22899\n",
      "Current Predicted Reward: 204.48711069000007\n",
      "Current Actual Reward: 14930.399309339999\n",
      "Processed state 15200/22899\n",
      "Current Predicted Reward: 204.48711069000007\n",
      "Current Actual Reward: 14997.53251766999\n",
      "Processed state 15300/22899\n",
      "Current Predicted Reward: 204.48711069000007\n",
      "Current Actual Reward: 15065.84646246999\n",
      "Processed state 15400/22899\n",
      "Current Predicted Reward: 204.48711069000007\n",
      "Current Actual Reward: 15144.762568379989\n",
      "Processed state 15500/22899\n",
      "Current Predicted Reward: 204.48711069000007\n",
      "Current Actual Reward: 15304.681079249978\n",
      "Processed state 15600/22899\n",
      "Current Predicted Reward: 210.10858530000007\n",
      "Current Actual Reward: 15424.508539579982\n",
      "Processed state 15700/22899\n",
      "Current Predicted Reward: 274.0603891399999\n",
      "Current Actual Reward: 15526.225183289976\n",
      "Processed state 15800/22899\n",
      "Current Predicted Reward: 274.0603891399999\n",
      "Current Actual Reward: 15640.212959479983\n",
      "Processed state 15900/22899\n",
      "Current Predicted Reward: 274.0603891399999\n",
      "Current Actual Reward: 15733.945079589977\n",
      "Processed state 16000/22899\n",
      "Current Predicted Reward: 274.98510983999995\n",
      "Current Actual Reward: 15833.08312375997\n",
      "Processed state 16100/22899\n",
      "Current Predicted Reward: 274.98510983999995\n",
      "Current Actual Reward: 15955.984147279969\n",
      "Processed state 16200/22899\n",
      "Current Predicted Reward: 362.0592736099997\n",
      "Current Actual Reward: 16078.337906159973\n",
      "Processed state 16300/22899\n",
      "Current Predicted Reward: 482.8325651499999\n",
      "Current Actual Reward: 16208.613642229979\n",
      "Processed state 16400/22899\n",
      "Current Predicted Reward: 482.8325651499999\n",
      "Current Actual Reward: 16289.924421989985\n",
      "Processed state 16500/22899\n",
      "Current Predicted Reward: 524.8586616599998\n",
      "Current Actual Reward: 16383.422688669976\n",
      "Processed state 16600/22899\n",
      "Current Predicted Reward: 624.9998484299999\n",
      "Current Actual Reward: 16483.563875439988\n",
      "Processed state 16700/22899\n",
      "Current Predicted Reward: 710.4635207000001\n",
      "Current Actual Reward: 16569.027547709993\n",
      "Processed state 16800/22899\n",
      "Current Predicted Reward: 772.6907864800002\n",
      "Current Actual Reward: 16631.254813489984\n",
      "Processed state 16900/22899\n",
      "Current Predicted Reward: 774.24224674\n",
      "Current Actual Reward: 16700.947513369985\n",
      "Processed state 17000/22899\n",
      "Current Predicted Reward: 774.24224674\n",
      "Current Actual Reward: 16774.747922259983\n",
      "Processed state 17100/22899\n",
      "Current Predicted Reward: 774.24224674\n",
      "Current Actual Reward: 16862.245556709975\n",
      "Processed state 17200/22899\n",
      "Current Predicted Reward: 774.24224674\n",
      "Current Actual Reward: 16959.754319589974\n",
      "Processed state 17300/22899\n",
      "Current Predicted Reward: 774.24224674\n",
      "Current Actual Reward: 17043.332072949957\n",
      "Processed state 17400/22899\n",
      "Current Predicted Reward: 774.24224674\n",
      "Current Actual Reward: 17101.29713256995\n",
      "Processed state 17500/22899\n",
      "Current Predicted Reward: 774.24224674\n",
      "Current Actual Reward: 17179.582563979944\n",
      "Processed state 17600/22899\n",
      "Current Predicted Reward: 774.24224674\n",
      "Current Actual Reward: 17247.009137689944\n",
      "Processed state 17700/22899\n",
      "Current Predicted Reward: 774.24224674\n",
      "Current Actual Reward: 17333.867032299946\n",
      "Processed state 17800/22899\n",
      "Current Predicted Reward: 774.24224674\n",
      "Current Actual Reward: 17426.70390686994\n",
      "Processed state 17900/22899\n",
      "Current Predicted Reward: 774.24224674\n",
      "Current Actual Reward: 17527.017386369946\n",
      "Processed state 18000/22899\n",
      "Current Predicted Reward: 774.24224674\n",
      "Current Actual Reward: 17602.970205289927\n",
      "Processed state 18100/22899\n",
      "Current Predicted Reward: 774.24224674\n",
      "Current Actual Reward: 17710.262149179936\n",
      "Processed state 18200/22899\n",
      "Current Predicted Reward: 774.24224674\n",
      "Current Actual Reward: 17795.74580788994\n",
      "Processed state 18300/22899\n",
      "Current Predicted Reward: 774.24224674\n",
      "Current Actual Reward: 17874.459496739946\n",
      "Processed state 18400/22899\n",
      "Current Predicted Reward: 774.24224674\n",
      "Current Actual Reward: 17954.841832439957\n",
      "Processed state 18500/22899\n",
      "Current Predicted Reward: 774.24224674\n",
      "Current Actual Reward: 18083.08579876995\n",
      "Processed state 18600/22899\n",
      "Current Predicted Reward: 774.24224674\n",
      "Current Actual Reward: 18197.94486708995\n",
      "Processed state 18700/22899\n",
      "Current Predicted Reward: 774.24224674\n",
      "Current Actual Reward: 18261.709794789953\n",
      "Processed state 18800/22899\n",
      "Current Predicted Reward: 774.24224674\n",
      "Current Actual Reward: 18363.123436389953\n",
      "Processed state 18900/22899\n",
      "Current Predicted Reward: 774.24224674\n",
      "Current Actual Reward: 18499.25197252996\n",
      "Processed state 19000/22899\n",
      "Current Predicted Reward: 774.24224674\n",
      "Current Actual Reward: 18619.78032710996\n",
      "Processed state 19100/22899\n",
      "Current Predicted Reward: 774.24224674\n",
      "Current Actual Reward: 18723.489835109947\n",
      "Processed state 19200/22899\n",
      "Current Predicted Reward: 774.24224674\n",
      "Current Actual Reward: 18828.822764759945\n",
      "Processed state 19300/22899\n",
      "Current Predicted Reward: 774.24224674\n",
      "Current Actual Reward: 18943.90035163993\n",
      "Processed state 19400/22899\n",
      "Current Predicted Reward: 774.24224674\n",
      "Current Actual Reward: 19044.55369396994\n",
      "Processed state 19500/22899\n",
      "Current Predicted Reward: 819.9947942499997\n",
      "Current Actual Reward: 19105.173930189954\n",
      "Processed state 19600/22899\n",
      "Current Predicted Reward: 915.5862588999996\n",
      "Current Actual Reward: 19203.992849859962\n",
      "Processed state 19700/22899\n",
      "Current Predicted Reward: 1060.1653274100001\n",
      "Current Actual Reward: 19350.96688388995\n",
      "Processed state 19800/22899\n",
      "Current Predicted Reward: 1096.3001226499998\n",
      "Current Actual Reward: 19446.910935889973\n",
      "Processed state 19900/22899\n",
      "Current Predicted Reward: 1096.3001226499998\n",
      "Current Actual Reward: 19541.95860466998\n",
      "Processed state 20000/22899\n",
      "Current Predicted Reward: 1112.8326833099998\n",
      "Current Actual Reward: 19659.752699309985\n",
      "Processed state 20100/22899\n",
      "Current Predicted Reward: 1113.3604719599998\n",
      "Current Actual Reward: 19818.578203539986\n",
      "Processed state 20200/22899\n",
      "Current Predicted Reward: 1113.3604719599998\n",
      "Current Actual Reward: 19891.122407259983\n",
      "Processed state 20300/22899\n",
      "Current Predicted Reward: 1113.3604719599998\n",
      "Current Actual Reward: 19981.669158269997\n",
      "Processed state 20400/22899\n",
      "Current Predicted Reward: 1113.3604719599998\n",
      "Current Actual Reward: 20066.622775040003\n",
      "Processed state 20500/22899\n",
      "Current Predicted Reward: 1135.05598662\n",
      "Current Actual Reward: 20147.667303879985\n",
      "Processed state 20600/22899\n",
      "Current Predicted Reward: 1238.8125250700002\n",
      "Current Actual Reward: 20271.217536039996\n",
      "Processed state 20700/22899\n",
      "Current Predicted Reward: 1238.8125250700002\n",
      "Current Actual Reward: 20367.400430700003\n",
      "Processed state 20800/22899\n",
      "Current Predicted Reward: 1238.8125250700002\n",
      "Current Actual Reward: 20467.01446086002\n",
      "Processed state 20900/22899\n",
      "Current Predicted Reward: 1238.8125250700002\n",
      "Current Actual Reward: 20540.390066880016\n",
      "Processed state 21000/22899\n",
      "Current Predicted Reward: 1238.8125250700002\n",
      "Current Actual Reward: 20679.988097890015\n",
      "Processed state 21100/22899\n",
      "Current Predicted Reward: 1238.8125250700002\n",
      "Current Actual Reward: 20765.635198090007\n",
      "Processed state 21200/22899\n",
      "Current Predicted Reward: 1238.8125250700002\n",
      "Current Actual Reward: 20861.443863260007\n",
      "Processed state 21300/22899\n",
      "Current Predicted Reward: 1238.8125250700002\n",
      "Current Actual Reward: 21009.044626920007\n",
      "Processed state 21400/22899\n",
      "Current Predicted Reward: 1238.8125250700002\n",
      "Current Actual Reward: 21098.18182647\n",
      "Processed state 21500/22899\n",
      "Current Predicted Reward: 1238.8125250700002\n",
      "Current Actual Reward: 21208.37230316001\n",
      "Processed state 21600/22899\n",
      "Current Predicted Reward: 1238.8125250700002\n",
      "Current Actual Reward: 21296.47309595999\n",
      "Processed state 21700/22899\n",
      "Current Predicted Reward: 1238.8125250700002\n",
      "Current Actual Reward: 21415.28326297\n",
      "Processed state 21800/22899\n",
      "Current Predicted Reward: 1238.8125250700002\n",
      "Current Actual Reward: 21521.247188459998\n",
      "Processed state 21900/22899\n",
      "Current Predicted Reward: 1238.8125250700002\n",
      "Current Actual Reward: 21606.992860389993\n",
      "Processed state 22000/22899\n",
      "Current Predicted Reward: 1238.8125250700002\n",
      "Current Actual Reward: 20934.75751559001\n",
      "Processed state 22100/22899\n",
      "Current Predicted Reward: 1238.8125250700002\n",
      "Current Actual Reward: 18605.22106048001\n",
      "Processed state 22200/22899\n",
      "Current Predicted Reward: 1238.8125250700002\n",
      "Current Actual Reward: 16282.763332920022\n",
      "Processed state 22300/22899\n",
      "Current Predicted Reward: 1238.8125250700002\n",
      "Current Actual Reward: 13925.448045290012\n",
      "Processed state 22400/22899\n",
      "Current Predicted Reward: 948.9392502000001\n",
      "Current Actual Reward: 11534.18148028001\n",
      "Processed state 22500/22899\n",
      "Current Predicted Reward: 617.8449536900001\n",
      "Current Actual Reward: 9189.03086853001\n",
      "Processed state 22600/22899\n",
      "Current Predicted Reward: 278.9423453400001\n",
      "Current Actual Reward: 6768.662787210007\n",
      "Processed state 22700/22899\n",
      "Current Predicted Reward: 278.9423453400001\n",
      "Current Actual Reward: 4352.82627804001\n",
      "Processed state 22800/22899\n",
      "Current Predicted Reward: 278.9423453400001\n",
      "Current Actual Reward: 1960.60263143001\n",
      "Cumulative Predicted Reward: -42.00502896999993\n",
      "Cumulative Actual Reward: -407.70252593998924\n",
      "Prediction Efficiency: 89.70%\n"
     ]
    }
   ],
   "source": [
    "# Performance measures\n",
    "# Initialize cumulative rewards\n",
    "cumulative_predicted_reward = 0\n",
    "cumulative_actual_reward = 0\n",
    "#n_states = states.shape[0]\n",
    "#q_table = loaded_qtable\n",
    "# Iterate through states to calculate rewards\n",
    "for state_index in range(n_states - 1):\n",
    "    # Predicted action from Q-table\n",
    "    predicted_action = np.argmax(q_table[state_index])  # Best action for the current state\n",
    "    # Actual action from the ground truth\n",
    "    actual_action = train_data[\"action_num\"].iloc[state_index]\n",
    "\n",
    "    # Get reward for predicted action only if it matches the actual action\n",
    "    if predicted_action == actual_action:\n",
    "        predicted_reward = rewards[state_index + 1]  # Reward for the correct prediction\n",
    "        cumulative_predicted_reward += predicted_reward\n",
    "\n",
    "    # Get actual reward for the ground truth action\n",
    "    actual_reward = rewards[state_index + 1]\n",
    "    cumulative_actual_reward += actual_reward\n",
    "\n",
    "    # Optional: Log progress\n",
    "    if state_index % 100 == 0:  # Adjust logging frequency as needed\n",
    "        print(f\"Processed state {state_index}/{n_states - 1}\")\n",
    "        print(f\"Current Predicted Reward: {cumulative_predicted_reward}\")\n",
    "        print(f\"Current Actual Reward: {cumulative_actual_reward}\")\n",
    "\n",
    "# Print results\n",
    "print(f\"Cumulative Predicted Reward: {cumulative_predicted_reward}\")\n",
    "print(f\"Cumulative Actual Reward: {cumulative_actual_reward}\")\n",
    "\n",
    "# Optionally calculate efficiency\n",
    "efficiency = (\n",
    "    ((cumulative_predicted_reward - cumulative_actual_reward) / abs(cumulative_actual_reward)) * 100\n",
    "    if cumulative_actual_reward != 0\n",
    "    else 0\n",
    ")\n",
    "print(f\"Prediction Efficiency: {efficiency:.2f}%\")\n",
    "\n"
   ]
  },
  {
   "cell_type": "code",
   "execution_count": 316,
   "metadata": {},
   "outputs": [
    {
     "name": "stdout",
     "output_type": "stream",
     "text": [
      "Accuracy: 5.49%\n"
     ]
    }
   ],
   "source": [
    "# Accuracy\n",
    "correct_predictions = 0\n",
    "for state_index in range(n_states):\n",
    "    predicted_action = np.argmax(q_table[state_index])  # Predicted action\n",
    "    actual_action = train_data[\"action_num\"].iloc[state_index]  # Actual action\n",
    "    if predicted_action == actual_action:\n",
    "        correct_predictions += 1\n",
    "\n",
    "accuracy = correct_predictions / n_states\n",
    "print(f\"Accuracy: {accuracy * 100:.2f}%\")"
   ]
  },
  {
   "cell_type": "code",
   "execution_count": 317,
   "metadata": {},
   "outputs": [
    {
     "name": "stdout",
     "output_type": "stream",
     "text": [
      "Confusion Matrix:\n",
      "[[ 1059     1     1]\n",
      " [21507   199   133]\n",
      " [    0     0     0]]\n"
     ]
    }
   ],
   "source": [
    "# Confusion matrix\n",
    "y_true = train_data[\"action_num\"]  # Actual actions\n",
    "y_pred = [np.argmax(q_table[state_index]) for state_index in range(n_states)]  # Predicted actions\n",
    "\n",
    "cm = confusion_matrix(y_true, y_pred)\n",
    "print(\"Confusion Matrix:\")\n",
    "print(cm)"
   ]
  },
  {
   "cell_type": "code",
   "execution_count": 318,
   "metadata": {},
   "outputs": [],
   "source": [
    "def confusion_accuracy(conf_matrix, n_states):\n",
    "    # True Positives (TP): Diagonal elements of the confusion matrix\n",
    "    TP = conf_matrix[0][0] + conf_matrix[1][1] + conf_matrix[2][2]\n",
    "    # **True Positives**: 16 (class 0), 0 (class 1), 0 (class 2)\n",
    "    return TP*100/n_states"
   ]
  },
  {
   "cell_type": "code",
   "execution_count": 319,
   "metadata": {},
   "outputs": [],
   "source": [
    "#con_acc = confusion_accuracy(cm, n_states=n_states)\n",
    "#print(f\"confusion accuracy: {con_acc:.2f}%\")"
   ]
  },
  {
   "cell_type": "code",
   "execution_count": 320,
   "metadata": {},
   "outputs": [
    {
     "data": {
      "text/plain": [
       "is_short\n",
       "1    21897\n",
       "0     1003\n",
       "Name: count, dtype: int64"
      ]
     },
     "execution_count": 320,
     "metadata": {},
     "output_type": "execute_result"
    }
   ],
   "source": [
    "df0['is_short'].value_counts()"
   ]
  },
  {
   "cell_type": "code",
   "execution_count": 321,
   "metadata": {},
   "outputs": [],
   "source": [
    "def action_reward(action: str, is_short: int):\n",
    "    m = train_data[(train_data['predicted_action'] == f'{action}') & (train_data['is_short'] == is_short)]\n",
    "    counts = m['is_short'].value_counts()\n",
    "    total_reward = m['reward'].cumsum()[-1:].values[0]\n",
    "    wins = len(m[m['reward'] > 0])\n",
    "    losses = len(m[m['reward'] <= 0])\n",
    "    return {\n",
    "        'counts': counts.get(is_short),\n",
    "        'total reward': total_reward,\n",
    "        'winrate': f'{wins * 100 / (losses + wins):.2f}%',\n",
    "        'per trade profit': m[m['reward'] > 0]['reward'].sum() / wins,\n",
    "        'per trade loss': m[m['reward'] <= 0]['reward'].sum() / losses\n",
    "    }"
   ]
  },
  {
   "cell_type": "code",
   "execution_count": 322,
   "metadata": {},
   "outputs": [
    {
     "data": {
      "text/plain": [
       "{'counts': 1002,\n",
       " 'total reward': -44.0996075499998,\n",
       " 'winrate': '93.71%',\n",
       " 'per trade profit': 1.137017633312034,\n",
       " 'per trade loss': -17.646970876666664}"
      ]
     },
     "execution_count": 322,
     "metadata": {},
     "output_type": "execute_result"
    }
   ],
   "source": [
    "action_reward('go_long', 0)"
   ]
  },
  {
   "cell_type": "code",
   "execution_count": 323,
   "metadata": {},
   "outputs": [
    {
     "name": "stdout",
     "output_type": "stream",
     "text": [
      "go_long 0: {'counts': 1002, 'total reward': -44.0996075499998, 'winrate': '93.71%', 'per trade profit': 1.137017633312034, 'per trade loss': -17.646970876666664}\n",
      "go_long 1: {'counts': 21564, 'total reward': -628.0213629899955, 'winrate': '95.03%', 'per trade profit': 0.9995474176172352, 'per trade loss': -19.712181692082165}\n",
      "go_short 0: {'counts': 1, 'total reward': -3.60169813, 'winrate': '0.00%', 'per trade profit': nan, 'per trade loss': -3.60169813}\n",
      "go_short 1: {'counts': 199, 'total reward': 114.64950858000007, 'winrate': '95.98%', 'per trade profit': 1.0214986905235603, 'per trade loss': -10.057092663750002}\n",
      "index 0 is out of bounds for axis 0 with size 0\n",
      "do_nothing 1: {'counts': 134, 'total reward': 141.91113903000007, 'winrate': '97.76%', 'per trade profit': 1.2791417797709923, 'per trade loss': -8.552144706666667}\n"
     ]
    },
    {
     "name": "stderr",
     "output_type": "stream",
     "text": [
      "/tmp/ipykernel_3167762/3005952004.py:11: RuntimeWarning: invalid value encountered in scalar divide\n",
      "  'per trade profit': m[m['reward'] > 0]['reward'].sum() / wins,\n"
     ]
    }
   ],
   "source": [
    "\n",
    "dirs = [0,1]\n",
    "for action in action_mapping.keys():\n",
    "    for is_short in dirs:\n",
    "        try:\n",
    "            print(f'{action} {is_short}: {action_reward(action, is_short)}')\n",
    "        except IndexError as e:\n",
    "            print(e)\n",
    "            \n"
   ]
  },
  {
   "cell_type": "code",
   "execution_count": 324,
   "metadata": {},
   "outputs": [
    {
     "data": {
      "image/png": "[encoded data removed]",
      "text/plain": [
       "<Figure size 640x480 with 1 Axes>"
      ]
     },
     "metadata": {},
     "output_type": "display_data"
    }
   ],
   "source": [
    "import matplotlib.pyplot as plt\n",
    "\n",
    "# Assuming you have a list of rewards for each episode\n",
    "#rewards_per_episode = [...]  # Populate this with your actual data\n",
    "\n",
    "plt.plot(rewards_per_episode)\n",
    "plt.xlabel('Episode')\n",
    "plt.ylabel('Reward')\n",
    "plt.title('Rewards per Episode')\n",
    "plt.show()\n"
   ]
  },
  {
   "cell_type": "code",
   "execution_count": 325,
   "metadata": {},
   "outputs": [],
   "source": [
    "# create corrected action\n",
    "def correct_action(row):\n",
    "    if row['predicted_action'] == 'go_long' and row['is_short'] == 1 and row['reward'] > 0:\n",
    "        return 'go_short'\n",
    "    if row['predicted_action'] == 'go_short' and row['is_short'] == 0 and row['reward'] > 0:\n",
    "        return 'go_long'\n",
    "    if row['predicted_action'] == 'do_nothing' and row['is_short'] == 1 and row['reward'] > 0:\n",
    "        return 'go_short'\n",
    "    if row['predicted_action'] == 'do_nothing' and row['is_short'] == 0 and row['reward'] > 0:\n",
    "        return 'go_long'\n",
    "    return row['predicted_action']\n",
    "\n",
    "def refiner_action(version: str, data: DataFrame = None) -> DataFrame:\n",
    "    data['refined-action'] = data.apply(lambda x: correct_action(x), axis=1)\n",
    "    # Validation: Ensure we're fixing the 751 misclassified entries\n",
    "    misclassified = data[\n",
    "        (data['predicted_action'] == 'go_long') & \n",
    "        (data['refined-action'] == 'go_short')\n",
    "    ]\n",
    "    # Add this after applying refined-action\n",
    "    confusion_matrix = pd.crosstab(\n",
    "        data['refined-action'], \n",
    "        data['predicted_action'],  # Assuming you have ground truth column\n",
    "        rownames=['refined'],\n",
    "        colnames=['predicted']\n",
    "    )\n",
    "    print(\"Updated Confusion Matrix:\")\n",
    "    print(confusion_matrix) \n",
    "    print(f\"Corrected {len(misclassified)} go_long->go_short misclassifications\")\n",
    "    filename = f'../spreadsheets/rlhf_bid_{version}_refined.csv'\n",
    "    data.to_csv(filename, index=False)\n",
    "    return data"
   ]
  },
  {
   "cell_type": "code",
   "execution_count": 326,
   "metadata": {},
   "outputs": [],
   "source": [
    "base_dir = '/home/defi/Desktop/portfolio/projects/python/pipeline_defi/'\n",
    "#new_data = pd.read_csv('../spreadsheets/rlhf_small_154nlp.csv') \n",
    "def refine_file(version: str, file) -> DataFrame:\n",
    "    filename = f'{base_dir}{file}.csv'\n",
    "    print(filename)\n",
    "    df = pd.read_csv(filename)\n",
    "    #new_data = prep_data(df0.copy()) if newdf0.empty else prep_data(newdf0.copy())\n",
    "    new_data = prep_data(df)   \n",
    "    print(new_data.columns)\n",
    "    new_train_data = refiner_action(version=version, data=new_data)\n",
    "\n",
    "    #new_data = df0.copy()\n",
    "    print(new_train_data.columns)\n",
    "\n",
    "    new_train_data['nlpreds'] = new_train_data['predicted_action']\n",
    "    #new_train_data['predicted_action'] = new_train_data['predicted_action']\n",
    "    return new_train_data"
   ]
  },
  {
   "cell_type": "code",
   "execution_count": 327,
   "metadata": {},
   "outputs": [
    {
     "name": "stdout",
     "output_type": "stream",
     "text": [
      "/home/defi/Desktop/portfolio/projects/python/pipeline_defi/lean_df_154nlp.csv\n",
      "Index(['open', 'high', 'ema-26', 'ema-12', 'low', 'mean-grad-hist', 'close',\n",
      "       'volume', 'sma-25', 'long_jcrosk', 'short_kdj', 'sma-compare', 'ask',\n",
      "       'bid', 'is_short', 'predicted_action', 'reward'],\n",
      "      dtype='object')\n",
      "Updated Confusion Matrix:\n",
      "predicted   do_nothing  go_long  go_short\n",
      "refined                                  \n",
      "do_nothing          12        0         0\n",
      "go_long              1      356         0\n",
      "go_short             1      197         4\n",
      "Corrected 197 go_long->go_short misclassifications\n",
      "Index(['open', 'high', 'ema-26', 'ema-12', 'low', 'mean-grad-hist', 'close',\n",
      "       'volume', 'sma-25', 'long_jcrosk', 'short_kdj', 'sma-compare', 'ask',\n",
      "       'bid', 'is_short', 'predicted_action', 'reward', 'refined-action'],\n",
      "      dtype='object')\n"
     ]
    }
   ],
   "source": [
    "newdf0 = refine_file('154nlp', 'lean_df_154nlp')"
   ]
  },
  {
   "cell_type": "code",
   "execution_count": 328,
   "metadata": {},
   "outputs": [
    {
     "data": {
      "text/plain": [
       "'\\ndef train_q_learning(alpha, gamma, epsilon, min_epsilon, decay_rate, n_episodes, n_states, n_actions, rewards):\\n    q_table = np.zeros((n_states, n_actions))\\n    rewards_per_episode = []\\n\\n    for episode in range(n_episodes):\\n        current_state = np.random.randint(0, n_states)\\n        total_reward = 0\\n\\n        while current_state < n_states - 1:\\n            if np.random.uniform(0, 1) < epsilon:\\n                action = np.random.randint(0, n_actions)\\n            else:\\n                action = np.argmax(q_table[current_state])\\n\\n            next_state = current_state + 1  # Adjust based on environment logic\\n            reward = rewards[next_state]\\n\\n            best_next_action = np.argmax(q_table[next_state])\\n            q_table[current_state, action] += alpha * (\\n                reward + gamma * q_table[next_state, best_next_action] - q_table[current_state, action]\\n            )\\n\\n            total_reward += reward\\n            current_state = next_state\\n\\n        rewards_per_episode.append(total_reward)\\n        epsilon = max(min_epsilon, epsilon * decay_rate) # default min_epsilon = 0.01\\n\\n    return q_table, rewards_per_episode\\n'"
      ]
     },
     "execution_count": 328,
     "metadata": {},
     "output_type": "execute_result"
    }
   ],
   "source": [
    "# Tuning\n",
    "'''\n",
    "def train_q_learning(alpha, gamma, epsilon, min_epsilon, decay_rate, n_episodes, n_states, n_actions, rewards):\n",
    "    q_table = np.zeros((n_states, n_actions))\n",
    "    rewards_per_episode = []\n",
    "\n",
    "    for episode in range(n_episodes):\n",
    "        current_state = np.random.randint(0, n_states)\n",
    "        total_reward = 0\n",
    "\n",
    "        while current_state < n_states - 1:\n",
    "            if np.random.uniform(0, 1) < epsilon:\n",
    "                action = np.random.randint(0, n_actions)\n",
    "            else:\n",
    "                action = np.argmax(q_table[current_state])\n",
    "\n",
    "            next_state = current_state + 1  # Adjust based on environment logic\n",
    "            reward = rewards[next_state]\n",
    "\n",
    "            best_next_action = np.argmax(q_table[next_state])\n",
    "            q_table[current_state, action] += alpha * (\n",
    "                reward + gamma * q_table[next_state, best_next_action] - q_table[current_state, action]\n",
    "            )\n",
    "\n",
    "            total_reward += reward\n",
    "            current_state = next_state\n",
    "\n",
    "        rewards_per_episode.append(total_reward)\n",
    "        epsilon = max(min_epsilon, epsilon * decay_rate) # default min_epsilon = 0.01\n",
    "\n",
    "    return q_table, rewards_per_episode\n",
    "'''"
   ]
  },
  {
   "cell_type": "code",
   "execution_count": 329,
   "metadata": {},
   "outputs": [],
   "source": [
    "\n",
    "def evaluate_q_learning_reward_weighted(q_table, n_states, train_data, rewards):\n",
    "    correct_predictions = 0\n",
    "    total_reward = 0\n",
    "    reward_weighted_accuracy = []\n",
    "\n",
    "    # Add tqdm for progress visualization\n",
    "    for state_index in tqdm(range(n_states), desc=\"Evaluating States\"):\n",
    "        predicted_action = np.argmax(q_table[state_index])  # Predicted action\n",
    "        actual_action = train_data[\"action_num\"].iloc[state_index]  # Actual action\n",
    "        reward = rewards[state_index]  # Reward for the action\n",
    "\n",
    "        if predicted_action == actual_action:\n",
    "            correct_predictions += 1\n",
    "            total_reward += reward\n",
    "\n",
    "        accuracy = correct_predictions / (state_index + 1)\n",
    "        reward_weighted_accuracy.append(total_reward / (state_index + 1))\n",
    "\n",
    "        # Optional: Log progress\n",
    "        if state_index % 100 == 0:\n",
    "            print(f\"Processed state {state_index}/{n_states} - Accuracy: {accuracy * 100:.2f}%, Reward-weighted Accuracy: {reward_weighted_accuracy[-1]}\")\n",
    "\n",
    "    final_reward_weighted_accuracy = total_reward / n_states\n",
    "    return final_reward_weighted_accuracy * 100\n",
    "\n"
   ]
  },
  {
   "cell_type": "code",
   "execution_count": 330,
   "metadata": {},
   "outputs": [
    {
     "data": {
      "text/plain": [
       "'\\ndef random_search_reward_weighted(n_iter, param_grid, n_states, n_actions, rewards, train_data):\\n    best_params = None\\n    best_reward_weighted_accuracy = float(\\'-inf\\')\\n\\n    for _ in tqdm(range(n_iter), desc=\"Searching for params ...\"):\\n        alpha = random.choice(param_grid[\\'alpha\\'])\\n        gamma = random.choice(param_grid[\\'gamma\\'])\\n        epsilon = random.choice(param_grid[\\'epsilon\\'])\\n        min_epsilon = random.choice(param_grid[\\'decay_rate\\'])\\n        decay_rate = random.choice(param_grid[\\'decay_rate\\'])\\n        n_episodes = random.choice(param_grid[\\'n_episodes\\'])\\n\\n        q_table, _ = train_q_learning(alpha, gamma, epsilon, min_epsilon, decay_rate, n_episodes, n_states, n_actions, rewards)\\n        reward_weighted_accuracy = evaluate_q_learning_reward_weighted(q_table, n_states, train_data, rewards)\\n\\n        if reward_weighted_accuracy > best_reward_weighted_accuracy:\\n            best_reward_weighted_accuracy = reward_weighted_accuracy\\n            best_params = (alpha, gamma, epsilon, min_epsilon, decay_rate, n_episodes)\\n\\n        print(f\"Iteration Reward-weighted Accuracy: {reward_weighted_accuracy:.2f}%, Best Reward-weighted Accuracy: {best_reward_weighted_accuracy:.2f}%\")\\n\\n    return best_params, best_reward_weighted_accuracy\\n\\n# Define the parameter grid\\nparam_grid = {\\n    \\'alpha\\': [0.01, 0.05, 0.1, 0.2, 0.25, 0.3, 0.5, 0.7, 0.9, 1],\\n    \\'gamma\\': [0.75, 0.85, 0.9, 0.95, 0.99],\\n    \\'epsilon\\': [1.0, 0.5, 0.1, 0.05, 0.01, 0.005],\\n    \\'min_epsilon\\': [0.05, 0.01, 0.005, 0.001, 0.001],\\n    \\'decay_rate\\': [0.95, 0.99, 0.995, 0.997, 0.999],\\n    \\'n_episodes\\': [1500, 4000,6000, 8000, 9000, 10000, 11000, 12000]\\n}\\n\\n# Perform Random Search\\nbest_params, best_reward_weighted_accuracy = random_search_reward_weighted(50, param_grid, n_states, n_actions, rewards, train_data)\\nprint(f\"Best Hyperparameters: {best_params}\")\\nprint(f\"Best Reward-weighted Accuracy: {best_reward_weighted_accuracy:.2f}%\")\\n\\n'"
      ]
     },
     "execution_count": 330,
     "metadata": {},
     "output_type": "execute_result"
    }
   ],
   "source": [
    "'''\n",
    "def random_search_reward_weighted(n_iter, param_grid, n_states, n_actions, rewards, train_data):\n",
    "    best_params = None\n",
    "    best_reward_weighted_accuracy = float('-inf')\n",
    "\n",
    "    for _ in tqdm(range(n_iter), desc=\"Searching for params ...\"):\n",
    "        alpha = random.choice(param_grid['alpha'])\n",
    "        gamma = random.choice(param_grid['gamma'])\n",
    "        epsilon = random.choice(param_grid['epsilon'])\n",
    "        min_epsilon = random.choice(param_grid['decay_rate'])\n",
    "        decay_rate = random.choice(param_grid['decay_rate'])\n",
    "        n_episodes = random.choice(param_grid['n_episodes'])\n",
    "\n",
    "        q_table, _ = train_q_learning(alpha, gamma, epsilon, min_epsilon, decay_rate, n_episodes, n_states, n_actions, rewards)\n",
    "        reward_weighted_accuracy = evaluate_q_learning_reward_weighted(q_table, n_states, train_data, rewards)\n",
    "\n",
    "        if reward_weighted_accuracy > best_reward_weighted_accuracy:\n",
    "            best_reward_weighted_accuracy = reward_weighted_accuracy\n",
    "            best_params = (alpha, gamma, epsilon, min_epsilon, decay_rate, n_episodes)\n",
    "\n",
    "        print(f\"Iteration Reward-weighted Accuracy: {reward_weighted_accuracy:.2f}%, Best Reward-weighted Accuracy: {best_reward_weighted_accuracy:.2f}%\")\n",
    "\n",
    "    return best_params, best_reward_weighted_accuracy\n",
    "\n",
    "# Define the parameter grid\n",
    "param_grid = {\n",
    "    'alpha': [0.01, 0.05, 0.1, 0.2, 0.25, 0.3, 0.5, 0.7, 0.9, 1],\n",
    "    'gamma': [0.75, 0.85, 0.9, 0.95, 0.99],\n",
    "    'epsilon': [1.0, 0.5, 0.1, 0.05, 0.01, 0.005],\n",
    "    'min_epsilon': [0.05, 0.01, 0.005, 0.001, 0.001],\n",
    "    'decay_rate': [0.95, 0.99, 0.995, 0.997, 0.999],\n",
    "    'n_episodes': [1500, 4000,6000, 8000, 9000, 10000, 11000, 12000]\n",
    "}\n",
    "\n",
    "# Perform Random Search\n",
    "best_params, best_reward_weighted_accuracy = random_search_reward_weighted(50, param_grid, n_states, n_actions, rewards, train_data)\n",
    "print(f\"Best Hyperparameters: {best_params}\")\n",
    "print(f\"Best Reward-weighted Accuracy: {best_reward_weighted_accuracy:.2f}%\")\n",
    "\n",
    "'''"
   ]
  },
  {
   "cell_type": "code",
   "execution_count": 331,
   "metadata": {},
   "outputs": [],
   "source": [
    "def evaluate_q_learning_prediction_efficiency(q_table, n_states, train_data, rewards):\n",
    "    # Initialize cumulative rewards\n",
    "    cumulative_predicted_reward = 0\n",
    "    cumulative_actual_reward = 0\n",
    "\n",
    "    # Iterate through states to calculate rewards\n",
    "    for state_index in range(n_states - 1):\n",
    "        # Predicted action from Q-table\n",
    "        predicted_action = np.argmax(q_table[state_index])  # Best action for the current state\n",
    "        # Actual action from the ground truth\n",
    "        actual_action = train_data[\"action_num\"].iloc[state_index]\n",
    "\n",
    "        # Get reward for predicted action only if it matches the actual action\n",
    "        if predicted_action == actual_action:\n",
    "            predicted_reward = rewards[state_index + 1]  # Reward for the correct prediction\n",
    "            cumulative_predicted_reward += predicted_reward\n",
    "\n",
    "        # Get actual reward for the ground truth action\n",
    "        actual_reward = rewards[state_index + 1]\n",
    "        cumulative_actual_reward += actual_reward\n",
    "    return cumulative_predicted_reward"
   ]
  },
  {
   "cell_type": "code",
   "execution_count": null,
   "metadata": {},
   "outputs": [],
   "source": []
  },
  {
   "cell_type": "code",
   "execution_count": 332,
   "metadata": {},
   "outputs": [
    {
     "data": {
      "text/plain": [
       "'\\ntrain_data = newdf0\\ndef random_search_prediction_efficiency(n_iter, param_grid, n_states, n_actions, rewards, train_data):\\n    best_params = None\\n    best_cumulative_pred_reward = float(\\'-inf\\')\\n\\n    for _ in tqdm(range(n_iter), desc=\"Searching for params ...\"):\\n        alpha = random.choice(param_grid[\\'alpha\\'])\\n        gamma = random.choice(param_grid[\\'gamma\\'])\\n        epsilon = random.choice(param_grid[\\'epsilon\\'])\\n        min_epsilon = random.choice(param_grid[\\'decay_rate\\'])\\n        decay_rate = random.choice(param_grid[\\'decay_rate\\'])\\n        n_episodes = random.choice(param_grid[\\'n_episodes\\'])\\n\\n        q_table, _ = train_q_learning(alpha, gamma, epsilon, min_epsilon, decay_rate, n_episodes, n_states, n_actions, rewards)\\n        cumulative_pred_reward = evaluate_q_learning_prediction_efficiency(q_table, n_states, train_data, rewards)\\n\\n        if cumulative_pred_reward > best_cumulative_pred_reward:\\n            best_cumulative_pred_reward = cumulative_pred_reward\\n            best_params = (alpha, gamma, epsilon, min_epsilon, decay_rate, n_episodes)\\n\\n        print(f\"Iteration cumulative predicted reward: {cumulative_pred_reward:.2f}%, Best cumulative predicted reward: {best_cumulative_pred_reward:.2f}%\")\\n\\n    return best_params, best_cumulative_pred_reward\\n\\n# Define the parameter grid\\nparam_grid = {\\n    \\'alpha\\': [0.001, 0.005, 0.01, 0.05, 0.1, 0.2, 0.25, 0.3, 0.5, 0.7, 0.9, 1],\\n    \\'gamma\\': [0.75, 0.85, 0.9, 0.95, 0.99],\\n    \\'epsilon\\': [1.0, 0.5, 0.1, 0.05, 0.01, 0.005],\\n    \\'min_epsilon\\': [0.05, 0.01, 0.005, 0.001, 0.001],\\n    \\'decay_rate\\': [0.95, 0.99, 0.995, 0.997, 0.999],\\n    \\'n_episodes\\': [1500, 4000,6000, 8000, 9000, 10000, 11000, 12000, 14000, 16000, 18000, 20000, 22000, 24000, 26000, 28000, 30000]\\n}\\n# 1500, 4000,6000, 8000, 9000, 10000, 11000, \\n# Perform Random Search\\nbest_params, best_cumulative_pred_reward = random_search_prediction_efficiency(50, param_grid, n_states, n_actions, rewards, train_data)\\nprint(f\"Best Hyperparameters: {best_params}\")\\nprint(f\"Best cumulative predicted reward: {best_cumulative_pred_reward:.2f}%\")\\n'"
      ]
     },
     "execution_count": 332,
     "metadata": {},
     "output_type": "execute_result"
    }
   ],
   "source": [
    "'''\n",
    "train_data = newdf0\n",
    "def random_search_prediction_efficiency(n_iter, param_grid, n_states, n_actions, rewards, train_data):\n",
    "    best_params = None\n",
    "    best_cumulative_pred_reward = float('-inf')\n",
    "\n",
    "    for _ in tqdm(range(n_iter), desc=\"Searching for params ...\"):\n",
    "        alpha = random.choice(param_grid['alpha'])\n",
    "        gamma = random.choice(param_grid['gamma'])\n",
    "        epsilon = random.choice(param_grid['epsilon'])\n",
    "        min_epsilon = random.choice(param_grid['decay_rate'])\n",
    "        decay_rate = random.choice(param_grid['decay_rate'])\n",
    "        n_episodes = random.choice(param_grid['n_episodes'])\n",
    "\n",
    "        q_table, _ = train_q_learning(alpha, gamma, epsilon, min_epsilon, decay_rate, n_episodes, n_states, n_actions, rewards)\n",
    "        cumulative_pred_reward = evaluate_q_learning_prediction_efficiency(q_table, n_states, train_data, rewards)\n",
    "\n",
    "        if cumulative_pred_reward > best_cumulative_pred_reward:\n",
    "            best_cumulative_pred_reward = cumulative_pred_reward\n",
    "            best_params = (alpha, gamma, epsilon, min_epsilon, decay_rate, n_episodes)\n",
    "\n",
    "        print(f\"Iteration cumulative predicted reward: {cumulative_pred_reward:.2f}%, Best cumulative predicted reward: {best_cumulative_pred_reward:.2f}%\")\n",
    "\n",
    "    return best_params, best_cumulative_pred_reward\n",
    "\n",
    "# Define the parameter grid\n",
    "param_grid = {\n",
    "    'alpha': [0.001, 0.005, 0.01, 0.05, 0.1, 0.2, 0.25, 0.3, 0.5, 0.7, 0.9, 1],\n",
    "    'gamma': [0.75, 0.85, 0.9, 0.95, 0.99],\n",
    "    'epsilon': [1.0, 0.5, 0.1, 0.05, 0.01, 0.005],\n",
    "    'min_epsilon': [0.05, 0.01, 0.005, 0.001, 0.001],\n",
    "    'decay_rate': [0.95, 0.99, 0.995, 0.997, 0.999],\n",
    "    'n_episodes': [1500, 4000,6000, 8000, 9000, 10000, 11000, 12000, 14000, 16000, 18000, 20000, 22000, 24000, 26000, 28000, 30000]\n",
    "}\n",
    "# 1500, 4000,6000, 8000, 9000, 10000, 11000, \n",
    "# Perform Random Search\n",
    "best_params, best_cumulative_pred_reward = random_search_prediction_efficiency(50, param_grid, n_states, n_actions, rewards, train_data)\n",
    "print(f\"Best Hyperparameters: {best_params}\")\n",
    "print(f\"Best cumulative predicted reward: {best_cumulative_pred_reward:.2f}%\")\n",
    "'''"
   ]
  },
  {
   "cell_type": "code",
   "execution_count": 333,
   "metadata": {},
   "outputs": [],
   "source": [
    "colsa = ['ask','bid','sma-compare','is_short','predicted_action','reward']\n",
    "learn_df = train_data[colsa]"
   ]
  },
  {
   "cell_type": "code",
   "execution_count": 334,
   "metadata": {},
   "outputs": [],
   "source": [
    "def split_action(action: str):\n",
    "    return ' '.join(action.split('_'))"
   ]
  },
  {
   "cell_type": "code",
   "execution_count": 335,
   "metadata": {},
   "outputs": [],
   "source": [
    "#learn_df.loc[:,['predicted_action']] = learn_df['predicted_action'] #.apply(split_action)"
   ]
  },
  {
   "cell_type": "code",
   "execution_count": 336,
   "metadata": {},
   "outputs": [
    {
     "data": {
      "text/html": [
       "<div>\n",
       "<style scoped>\n",
       "    .dataframe tbody tr th:only-of-type {\n",
       "        vertical-align: middle;\n",
       "    }\n",
       "\n",
       "    .dataframe tbody tr th {\n",
       "        vertical-align: top;\n",
       "    }\n",
       "\n",
       "    .dataframe thead th {\n",
       "        text-align: right;\n",
       "    }\n",
       "</style>\n",
       "<table border=\"1\" class=\"dataframe\">\n",
       "  <thead>\n",
       "    <tr style=\"text-align: right;\">\n",
       "      <th></th>\n",
       "      <th>ask</th>\n",
       "      <th>bid</th>\n",
       "      <th>sma-compare</th>\n",
       "      <th>is_short</th>\n",
       "      <th>predicted_action</th>\n",
       "      <th>reward</th>\n",
       "    </tr>\n",
       "  </thead>\n",
       "  <tbody>\n",
       "    <tr>\n",
       "      <th>0</th>\n",
       "      <td>1.795012e+05</td>\n",
       "      <td>1.791188e+05</td>\n",
       "      <td>0</td>\n",
       "      <td>1</td>\n",
       "      <td>go_long</td>\n",
       "      <td>-11.459495</td>\n",
       "    </tr>\n",
       "    <tr>\n",
       "      <th>1</th>\n",
       "      <td>8.733907e+02</td>\n",
       "      <td>8.777623e+02</td>\n",
       "      <td>0</td>\n",
       "      <td>1</td>\n",
       "      <td>go_long</td>\n",
       "      <td>-10.390311</td>\n",
       "    </tr>\n",
       "    <tr>\n",
       "      <th>2</th>\n",
       "      <td>5.999426e+03</td>\n",
       "      <td>6.110315e+03</td>\n",
       "      <td>0</td>\n",
       "      <td>1</td>\n",
       "      <td>go_long</td>\n",
       "      <td>-8.635224</td>\n",
       "    </tr>\n",
       "    <tr>\n",
       "      <th>3</th>\n",
       "      <td>3.582064e+08</td>\n",
       "      <td>3.530371e+08</td>\n",
       "      <td>0</td>\n",
       "      <td>0</td>\n",
       "      <td>go_long</td>\n",
       "      <td>-6.819206</td>\n",
       "    </tr>\n",
       "    <tr>\n",
       "      <th>4</th>\n",
       "      <td>1.275311e+05</td>\n",
       "      <td>1.296819e+05</td>\n",
       "      <td>1</td>\n",
       "      <td>1</td>\n",
       "      <td>go_short</td>\n",
       "      <td>-9.058079</td>\n",
       "    </tr>\n",
       "  </tbody>\n",
       "</table>\n",
       "</div>"
      ],
      "text/plain": [
       "            ask           bid  sma-compare  is_short predicted_action  \\\n",
       "0  1.795012e+05  1.791188e+05            0         1          go_long   \n",
       "1  8.733907e+02  8.777623e+02            0         1          go_long   \n",
       "2  5.999426e+03  6.110315e+03            0         1          go_long   \n",
       "3  3.582064e+08  3.530371e+08            0         0          go_long   \n",
       "4  1.275311e+05  1.296819e+05            1         1         go_short   \n",
       "\n",
       "      reward  \n",
       "0 -11.459495  \n",
       "1 -10.390311  \n",
       "2  -8.635224  \n",
       "3  -6.819206  \n",
       "4  -9.058079  "
      ]
     },
     "execution_count": 336,
     "metadata": {},
     "output_type": "execute_result"
    }
   ],
   "source": [
    "learn_df.head()"
   ]
  },
  {
   "cell_type": "code",
   "execution_count": 337,
   "metadata": {},
   "outputs": [],
   "source": [
    "#learn_df.to_csv('/home/defi/Desktop/portfolio/projects/python/pipeline_defi/lean_df.csv', index=False)"
   ]
  }
 ],
 "metadata": {
  "kernelspec": {
   "display_name": ".venv",
   "language": "python",
   "name": "python3"
  },
  "language_info": {
   "codemirror_mode": {
    "name": "ipython",
    "version": 3
   },
   "file_extension": ".py",
   "mimetype": "text/x-python",
   "name": "python",
   "nbconvert_exporter": "python",
   "pygments_lexer": "ipython3",
   "version": "3.10.4"
  }
 },
 "nbformat": 4,
 "nbformat_minor": 2
}
